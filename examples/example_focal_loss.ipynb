{
 "cells": [
  {
   "cell_type": "markdown",
   "source": "This notebook demonstrate and test the usage of focal loss reusing functions of `src.train_classifier.py`",
   "metadata": {
    "collapsed": false
   },
   "id": "4be8a28dd8adfb78"
  },
  {
   "cell_type": "code",
   "source": [
    "from src import config\n",
    "from src.train_classifier import load_data, RANDOM_STATE, FocalBinaryLoss, split_data, build_model\n",
    "import numpy as np"
   ],
   "metadata": {
    "collapsed": false,
    "ExecuteTime": {
     "end_time": "2024-09-23T09:20:04.015127Z",
     "start_time": "2024-09-23T09:20:04.011750Z"
    }
   },
   "id": "initial_id",
   "outputs": [],
   "execution_count": 14
  },
  {
   "cell_type": "markdown",
   "source": [
    "## Load data and split into X and y datasets"
   ],
   "metadata": {
    "collapsed": false
   },
   "id": "9caf822285302851"
  },
  {
   "cell_type": "code",
   "id": "cf3981b8661f180",
   "metadata": {
    "ExecuteTime": {
     "end_time": "2024-09-23T09:02:19.127998Z",
     "start_time": "2024-09-23T09:02:18.598480Z"
    }
   },
   "source": [
    "# Load your data here\n",
    "X, y, category_names = load_data(config.path_database)\n",
    "X.head()"
   ],
   "outputs": [
    {
     "name": "stdout",
     "output_type": "stream",
     "text": [
      "Loading data...\n",
      "Number of message records found 26179\n",
      " 35 categories found: ['related', 'request', 'offer', 'aid_related', 'medical_help', 'medical_products', 'search_and_rescue', 'security', 'military', 'water', 'food', 'shelter', 'clothing', 'money', 'missing_people', 'refugees', 'death', 'other_aid', 'infrastructure_related', 'transport', 'buildings', 'electricity', 'tools', 'hospitals', 'shops', 'aid_centers', 'other_infrastructure', 'weather_related', 'floods', 'storm', 'fire', 'earthquake', 'cold', 'other_weather', 'direct_report']\n",
      "Shape X: (26179, 2)\n",
      "Shape y: (26179, 35)\n"
     ]
    },
    {
     "data": {
      "text/plain": [
       "                                              message   genre\n",
       "id                                                           \n",
       "2   Weather update - a cold front from Cuba that c...  direct\n",
       "7             Is the Hurricane over or is it not over  direct\n",
       "8                     Looking for someone but no name  direct\n",
       "9   UN reports Leogane 80-90 destroyed. Only Hospi...  direct\n",
       "12  says: west side of Haiti, rest of the country ...  direct"
      ],
      "text/html": [
       "<div>\n",
       "<style scoped>\n",
       "    .dataframe tbody tr th:only-of-type {\n",
       "        vertical-align: middle;\n",
       "    }\n",
       "\n",
       "    .dataframe tbody tr th {\n",
       "        vertical-align: top;\n",
       "    }\n",
       "\n",
       "    .dataframe thead th {\n",
       "        text-align: right;\n",
       "    }\n",
       "</style>\n",
       "<table border=\"1\" class=\"dataframe\">\n",
       "  <thead>\n",
       "    <tr style=\"text-align: right;\">\n",
       "      <th></th>\n",
       "      <th>message</th>\n",
       "      <th>genre</th>\n",
       "    </tr>\n",
       "    <tr>\n",
       "      <th>id</th>\n",
       "      <th></th>\n",
       "      <th></th>\n",
       "    </tr>\n",
       "  </thead>\n",
       "  <tbody>\n",
       "    <tr>\n",
       "      <th>2</th>\n",
       "      <td>Weather update - a cold front from Cuba that c...</td>\n",
       "      <td>direct</td>\n",
       "    </tr>\n",
       "    <tr>\n",
       "      <th>7</th>\n",
       "      <td>Is the Hurricane over or is it not over</td>\n",
       "      <td>direct</td>\n",
       "    </tr>\n",
       "    <tr>\n",
       "      <th>8</th>\n",
       "      <td>Looking for someone but no name</td>\n",
       "      <td>direct</td>\n",
       "    </tr>\n",
       "    <tr>\n",
       "      <th>9</th>\n",
       "      <td>UN reports Leogane 80-90 destroyed. Only Hospi...</td>\n",
       "      <td>direct</td>\n",
       "    </tr>\n",
       "    <tr>\n",
       "      <th>12</th>\n",
       "      <td>says: west side of Haiti, rest of the country ...</td>\n",
       "      <td>direct</td>\n",
       "    </tr>\n",
       "  </tbody>\n",
       "</table>\n",
       "</div>"
      ]
     },
     "execution_count": 2,
     "metadata": {},
     "output_type": "execute_result"
    }
   ],
   "execution_count": 2
  },
  {
   "cell_type": "markdown",
   "source": [
    "## Instantiate the class"
   ],
   "metadata": {
    "collapsed": false
   },
   "id": "ad9d8fc9557d2898"
  },
  {
   "cell_type": "code",
   "id": "3e5575b38ec71a30",
   "metadata": {
    "ExecuteTime": {
     "end_time": "2024-09-23T09:03:50.258616Z",
     "start_time": "2024-09-23T09:03:50.254173Z"
    }
   },
   "source": [
    "focal_loss = FocalBinaryLoss(gamma=10)\n",
    "focal_loss.gamma"
   ],
   "outputs": [
    {
     "data": {
      "text/plain": [
       "10"
      ]
     },
     "execution_count": 5,
     "metadata": {},
     "output_type": "execute_result"
    }
   ],
   "execution_count": 5
  },
  {
   "cell_type": "markdown",
   "source": "## Split, train and predict model",
   "metadata": {
    "collapsed": false
   },
   "id": "4cc89b4bc5c32b4"
  },
  {
   "cell_type": "code",
   "id": "b4f6e31202b25fed",
   "metadata": {
    "ExecuteTime": {
     "end_time": "2024-09-23T09:14:41.608048Z",
     "start_time": "2024-09-23T09:07:04.345045Z"
    }
   },
   "source": [
    "model = build_model()\n",
    "X_train, y_train, X_val, y_val, X_test, y_test = split_data(X, y, random_state=RANDOM_STATE)\n",
    "model.fit(X_train, y_train)\n",
    "y_pred = model.predict(X_test)"
   ],
   "outputs": [
    {
     "name": "stdout",
     "output_type": "stream",
     "text": [
      "Total records: X(26179, 2):y(26179, 35)\n",
      "Train shape: X(17452, 2):y(17452, 35)\n",
      "Validation shape: X(4363, 2):y(4363, 35)\n",
      "Test shape: X(4364, 2):y(4364, 35)\n",
      "Training shapes before augmentation: (17452, 2) (17452, 35)\n",
      "Imbalanced labels: ['offer', 'security', 'clothing', 'missing_people', 'tools', 'hospitals', 'shops', 'aid_centers', 'fire']\n",
      "Minority samples: (1395, 2) (1395, 35)\n",
      "Training shapes after augmentation: (30815, 2) (30815, 35)\n",
      "[ColumnTransformer] ....... (1 of 3) Processing one_hot, total=   0.0s\n",
      "[ColumnTransformer] . (2 of 3) Processing starting_verb, total=  46.3s\n",
      "[ColumnTransformer] ..... (3 of 3) Processing text_vect, total= 2.0min\n",
      "[Pipeline] ...... (step 1 of 2) Processing preprocessor, total= 2.8min\n",
      "[Pipeline] ............... (step 2 of 2) Processing clf, total= 4.0min\n"
     ]
    }
   ],
   "execution_count": 8
  },
  {
   "cell_type": "code",
   "source": "y_pred[:5]",
   "metadata": {
    "collapsed": false,
    "ExecuteTime": {
     "end_time": "2024-09-23T09:14:41.620777Z",
     "start_time": "2024-09-23T09:14:41.614366Z"
    }
   },
   "id": "f842634b22033f08",
   "outputs": [
    {
     "data": {
      "text/plain": [
       "array([[0., 0., 0., 0., 0., 0., 0., 0., 0., 0., 0., 0., 0., 0., 0., 0.,\n",
       "        0., 0., 0., 0., 0., 0., 0., 0., 0., 0., 0., 0., 0., 0., 0., 0.,\n",
       "        0., 0., 0.],\n",
       "       [1., 1., 0., 1., 0., 0., 0., 0., 0., 1., 1., 1., 1., 0., 0., 0.,\n",
       "        0., 0., 0., 0., 0., 0., 0., 0., 0., 0., 0., 0., 0., 0., 0., 0.,\n",
       "        0., 0., 1.],\n",
       "       [1., 0., 0., 0., 0., 0., 0., 0., 0., 0., 0., 0., 0., 0., 0., 0.,\n",
       "        0., 0., 0., 0., 0., 0., 0., 0., 0., 0., 0., 0., 0., 0., 0., 0.,\n",
       "        0., 0., 0.],\n",
       "       [1., 1., 0., 1., 0., 0., 0., 0., 0., 1., 1., 0., 0., 0., 0., 0.,\n",
       "        0., 0., 0., 0., 0., 0., 0., 0., 0., 0., 0., 0., 0., 0., 0., 0.,\n",
       "        0., 0., 1.],\n",
       "       [1., 0., 0., 1., 0., 0., 0., 0., 0., 0., 0., 0., 0., 0., 0., 0.,\n",
       "        0., 0., 0., 0., 0., 0., 0., 0., 0., 0., 0., 0., 0., 0., 0., 0.,\n",
       "        0., 0., 0.]])"
      ]
     },
     "execution_count": 9,
     "metadata": {},
     "output_type": "execute_result"
    }
   ],
   "execution_count": 9
  },
  {
   "metadata": {
    "ExecuteTime": {
     "end_time": "2024-09-23T09:16:36.312298Z",
     "start_time": "2024-09-23T09:16:36.307549Z"
    }
   },
   "cell_type": "code",
   "source": "type(y_pred)",
   "id": "9236e41b73245aa9",
   "outputs": [
    {
     "data": {
      "text/plain": [
       "numpy.ndarray"
      ]
     },
     "execution_count": 10,
     "metadata": {},
     "output_type": "execute_result"
    }
   ],
   "execution_count": 10
  },
  {
   "metadata": {
    "ExecuteTime": {
     "end_time": "2024-09-23T09:16:58.702463Z",
     "start_time": "2024-09-23T09:16:58.697009Z"
    }
   },
   "cell_type": "code",
   "source": "type(y_test)",
   "id": "eed3d89fdc69729",
   "outputs": [
    {
     "data": {
      "text/plain": [
       "pandas.core.frame.DataFrame"
      ]
     },
     "execution_count": 11,
     "metadata": {},
     "output_type": "execute_result"
    }
   ],
   "execution_count": 11
  },
  {
   "cell_type": "markdown",
   "source": "## Calculating the focal loss for different gamma",
   "metadata": {
    "collapsed": false
   },
   "id": "697b3185c9ad55bf"
  },
  {
   "metadata": {
    "ExecuteTime": {
     "end_time": "2024-09-23T09:25:57.738076Z",
     "start_time": "2024-09-23T09:25:57.692383Z"
    }
   },
   "cell_type": "code",
   "source": [
    "for fl in [1, 2, 5, 6, 7, 8, 9, 10, 20]:\n",
    "    focal_loss = FocalBinaryLoss(gamma=fl)  \n",
    "    loss = focal_loss.focal_binary_cross_entropy(y_pred, np.array(y_test))\n",
    "    print('Focal loss with gamma {} is {}'.format(fl, loss))"
   ],
   "id": "8078a5dcd3615ded",
   "outputs": [
    {
     "name": "stdout",
     "output_type": "stream",
     "text": [
      "Focal loss with gamma 1 is 1488.270975843912\n",
      "Focal loss with gamma 2 is 748.9352974434116\n",
      "Focal loss with gamma 5 is 100.16223133317654\n",
      "Focal loss with gamma 6 is 52.432590490146346\n",
      "Focal loss with gamma 7 is 27.943814758788744\n",
      "Focal loss with gamma 8 is 15.237098882081522\n",
      "Focal loss with gamma 9 is 8.544089992423912\n",
      "Focal loss with gamma 10 is 4.948833800331088\n",
      "Focal loss with gamma 20 is 0.09612400133964835\n"
     ]
    }
   ],
   "execution_count": 25
  },
  {
   "metadata": {},
   "cell_type": "code",
   "outputs": [],
   "execution_count": null,
   "source": "",
   "id": "9db0357b3dd910ae"
  }
 ],
 "metadata": {
  "kernelspec": {
   "display_name": "Python [conda env:disaster_pipeline] *",
   "language": "python",
   "name": "conda-env-disaster_pipeline-py"
  },
  "language_info": {
   "codemirror_mode": {
    "name": "ipython",
    "version": 3
   },
   "file_extension": ".py",
   "mimetype": "text/x-python",
   "name": "python",
   "nbconvert_exporter": "python",
   "pygments_lexer": "ipython3",
   "version": "3.9.19"
  }
 },
 "nbformat": 4,
 "nbformat_minor": 5
}

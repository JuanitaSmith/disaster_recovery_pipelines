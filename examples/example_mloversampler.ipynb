{
 "cells": [
  {
   "cell_type": "markdown",
   "source": [
    "This notebook demonstrate the usage of this class"
   ],
   "metadata": {
    "collapsed": false
   },
   "id": "4be8a28dd8adfb78"
  },
  {
   "cell_type": "code",
   "execution_count": 1,
   "outputs": [],
   "source": [
    "from src.mloversampler import MLOverSampling\n",
    "from src import config\n",
    "from sqlalchemy import create_engine\n",
    "import pandas as pd"
   ],
   "metadata": {
    "collapsed": false,
    "ExecuteTime": {
     "end_time": "2024-08-24T13:00:20.588983Z",
     "start_time": "2024-08-24T13:00:20.387131Z"
    }
   },
   "id": "initial_id"
  },
  {
   "cell_type": "markdown",
   "source": [
    "## Load data and split into X and y datasets"
   ],
   "metadata": {
    "collapsed": false
   },
   "id": "9caf822285302851"
  },
  {
   "cell_type": "code",
   "execution_count": 3,
   "id": "cf3981b8661f180",
   "metadata": {
    "ExecuteTime": {
     "end_time": "2024-08-24T13:00:24.033016Z",
     "start_time": "2024-08-24T13:00:23.603180Z"
    }
   },
   "outputs": [
    {
     "data": {
      "text/plain": "                                              message   genre  related  \\\nid                                                                       \n2   Weather update - a cold front from Cuba that c...  direct        1   \n7             Is the Hurricane over or is it not over  direct        1   \n8                     Looking for someone but no name  direct        1   \n9   UN reports Leogane 80-90 destroyed. Only Hospi...  direct        1   \n12  says: west side of Haiti, rest of the country ...  direct        1   \n\n    request  offer  aid_related  medical_help  medical_products  \\\nid                                                                \n2         0      0            0             0                 0   \n7         0      0            1             0                 0   \n8         0      0            0             0                 0   \n9         1      0            1             0                 1   \n12        0      0            0             0                 0   \n\n    search_and_rescue  security  ...  aid_centers  other_infrastructure  \\\nid                               ...                                      \n2                   0         0  ...            0                     0   \n7                   0         0  ...            0                     0   \n8                   0         0  ...            0                     0   \n9                   0         0  ...            0                     0   \n12                  0         0  ...            0                     0   \n\n    weather_related  floods  storm  fire  earthquake  cold  other_weather  \\\nid                                                                          \n2                 0       0      0     0           0     0              0   \n7                 1       0      1     0           0     0              0   \n8                 0       0      0     0           0     0              0   \n9                 0       0      0     0           0     0              0   \n12                0       0      0     0           0     0              0   \n\n    direct_report  \nid                 \n2               0  \n7               0  \n8               0  \n9               0  \n12              0  \n\n[5 rows x 37 columns]",
      "text/html": "<div>\n<style scoped>\n    .dataframe tbody tr th:only-of-type {\n        vertical-align: middle;\n    }\n\n    .dataframe tbody tr th {\n        vertical-align: top;\n    }\n\n    .dataframe thead th {\n        text-align: right;\n    }\n</style>\n<table border=\"1\" class=\"dataframe\">\n  <thead>\n    <tr style=\"text-align: right;\">\n      <th></th>\n      <th>message</th>\n      <th>genre</th>\n      <th>related</th>\n      <th>request</th>\n      <th>offer</th>\n      <th>aid_related</th>\n      <th>medical_help</th>\n      <th>medical_products</th>\n      <th>search_and_rescue</th>\n      <th>security</th>\n      <th>...</th>\n      <th>aid_centers</th>\n      <th>other_infrastructure</th>\n      <th>weather_related</th>\n      <th>floods</th>\n      <th>storm</th>\n      <th>fire</th>\n      <th>earthquake</th>\n      <th>cold</th>\n      <th>other_weather</th>\n      <th>direct_report</th>\n    </tr>\n    <tr>\n      <th>id</th>\n      <th></th>\n      <th></th>\n      <th></th>\n      <th></th>\n      <th></th>\n      <th></th>\n      <th></th>\n      <th></th>\n      <th></th>\n      <th></th>\n      <th></th>\n      <th></th>\n      <th></th>\n      <th></th>\n      <th></th>\n      <th></th>\n      <th></th>\n      <th></th>\n      <th></th>\n      <th></th>\n      <th></th>\n    </tr>\n  </thead>\n  <tbody>\n    <tr>\n      <th>2</th>\n      <td>Weather update - a cold front from Cuba that c...</td>\n      <td>direct</td>\n      <td>1</td>\n      <td>0</td>\n      <td>0</td>\n      <td>0</td>\n      <td>0</td>\n      <td>0</td>\n      <td>0</td>\n      <td>0</td>\n      <td>...</td>\n      <td>0</td>\n      <td>0</td>\n      <td>0</td>\n      <td>0</td>\n      <td>0</td>\n      <td>0</td>\n      <td>0</td>\n      <td>0</td>\n      <td>0</td>\n      <td>0</td>\n    </tr>\n    <tr>\n      <th>7</th>\n      <td>Is the Hurricane over or is it not over</td>\n      <td>direct</td>\n      <td>1</td>\n      <td>0</td>\n      <td>0</td>\n      <td>1</td>\n      <td>0</td>\n      <td>0</td>\n      <td>0</td>\n      <td>0</td>\n      <td>...</td>\n      <td>0</td>\n      <td>0</td>\n      <td>1</td>\n      <td>0</td>\n      <td>1</td>\n      <td>0</td>\n      <td>0</td>\n      <td>0</td>\n      <td>0</td>\n      <td>0</td>\n    </tr>\n    <tr>\n      <th>8</th>\n      <td>Looking for someone but no name</td>\n      <td>direct</td>\n      <td>1</td>\n      <td>0</td>\n      <td>0</td>\n      <td>0</td>\n      <td>0</td>\n      <td>0</td>\n      <td>0</td>\n      <td>0</td>\n      <td>...</td>\n      <td>0</td>\n      <td>0</td>\n      <td>0</td>\n      <td>0</td>\n      <td>0</td>\n      <td>0</td>\n      <td>0</td>\n      <td>0</td>\n      <td>0</td>\n      <td>0</td>\n    </tr>\n    <tr>\n      <th>9</th>\n      <td>UN reports Leogane 80-90 destroyed. Only Hospi...</td>\n      <td>direct</td>\n      <td>1</td>\n      <td>1</td>\n      <td>0</td>\n      <td>1</td>\n      <td>0</td>\n      <td>1</td>\n      <td>0</td>\n      <td>0</td>\n      <td>...</td>\n      <td>0</td>\n      <td>0</td>\n      <td>0</td>\n      <td>0</td>\n      <td>0</td>\n      <td>0</td>\n      <td>0</td>\n      <td>0</td>\n      <td>0</td>\n      <td>0</td>\n    </tr>\n    <tr>\n      <th>12</th>\n      <td>says: west side of Haiti, rest of the country ...</td>\n      <td>direct</td>\n      <td>1</td>\n      <td>0</td>\n      <td>0</td>\n      <td>0</td>\n      <td>0</td>\n      <td>0</td>\n      <td>0</td>\n      <td>0</td>\n      <td>...</td>\n      <td>0</td>\n      <td>0</td>\n      <td>0</td>\n      <td>0</td>\n      <td>0</td>\n      <td>0</td>\n      <td>0</td>\n      <td>0</td>\n      <td>0</td>\n      <td>0</td>\n    </tr>\n  </tbody>\n</table>\n<p>5 rows × 37 columns</p>\n</div>"
     },
     "execution_count": 3,
     "metadata": {},
     "output_type": "execute_result"
    }
   ],
   "source": [
    "# Load your data here\n",
    "engine = create_engine(config.path_database)\n",
    "conn = engine.connect()\n",
    "df = pd.read_sql('select * from messages', con=conn, index_col='id')\n",
    "df.head()"
   ]
  },
  {
   "cell_type": "code",
   "execution_count": 4,
   "outputs": [
    {
     "data": {
      "text/plain": "    related  request  offer  aid_related  medical_help  medical_products  \\\nid                                                                         \n2         1        0      0            0             0                 0   \n7         1        0      0            1             0                 0   \n8         1        0      0            0             0                 0   \n9         1        1      0            1             0                 1   \n12        1        0      0            0             0                 0   \n\n    search_and_rescue  security  military  water  ...  aid_centers  \\\nid                                                ...                \n2                   0         0         0      0  ...            0   \n7                   0         0         0      0  ...            0   \n8                   0         0         0      0  ...            0   \n9                   0         0         0      0  ...            0   \n12                  0         0         0      0  ...            0   \n\n    other_infrastructure  weather_related  floods  storm  fire  earthquake  \\\nid                                                                           \n2                      0                0       0      0     0           0   \n7                      0                1       0      1     0           0   \n8                      0                0       0      0     0           0   \n9                      0                0       0      0     0           0   \n12                     0                0       0      0     0           0   \n\n    cold  other_weather  direct_report  \nid                                      \n2      0              0              0  \n7      0              0              0  \n8      0              0              0  \n9      0              0              0  \n12     0              0              0  \n\n[5 rows x 35 columns]",
      "text/html": "<div>\n<style scoped>\n    .dataframe tbody tr th:only-of-type {\n        vertical-align: middle;\n    }\n\n    .dataframe tbody tr th {\n        vertical-align: top;\n    }\n\n    .dataframe thead th {\n        text-align: right;\n    }\n</style>\n<table border=\"1\" class=\"dataframe\">\n  <thead>\n    <tr style=\"text-align: right;\">\n      <th></th>\n      <th>related</th>\n      <th>request</th>\n      <th>offer</th>\n      <th>aid_related</th>\n      <th>medical_help</th>\n      <th>medical_products</th>\n      <th>search_and_rescue</th>\n      <th>security</th>\n      <th>military</th>\n      <th>water</th>\n      <th>...</th>\n      <th>aid_centers</th>\n      <th>other_infrastructure</th>\n      <th>weather_related</th>\n      <th>floods</th>\n      <th>storm</th>\n      <th>fire</th>\n      <th>earthquake</th>\n      <th>cold</th>\n      <th>other_weather</th>\n      <th>direct_report</th>\n    </tr>\n    <tr>\n      <th>id</th>\n      <th></th>\n      <th></th>\n      <th></th>\n      <th></th>\n      <th></th>\n      <th></th>\n      <th></th>\n      <th></th>\n      <th></th>\n      <th></th>\n      <th></th>\n      <th></th>\n      <th></th>\n      <th></th>\n      <th></th>\n      <th></th>\n      <th></th>\n      <th></th>\n      <th></th>\n      <th></th>\n      <th></th>\n    </tr>\n  </thead>\n  <tbody>\n    <tr>\n      <th>2</th>\n      <td>1</td>\n      <td>0</td>\n      <td>0</td>\n      <td>0</td>\n      <td>0</td>\n      <td>0</td>\n      <td>0</td>\n      <td>0</td>\n      <td>0</td>\n      <td>0</td>\n      <td>...</td>\n      <td>0</td>\n      <td>0</td>\n      <td>0</td>\n      <td>0</td>\n      <td>0</td>\n      <td>0</td>\n      <td>0</td>\n      <td>0</td>\n      <td>0</td>\n      <td>0</td>\n    </tr>\n    <tr>\n      <th>7</th>\n      <td>1</td>\n      <td>0</td>\n      <td>0</td>\n      <td>1</td>\n      <td>0</td>\n      <td>0</td>\n      <td>0</td>\n      <td>0</td>\n      <td>0</td>\n      <td>0</td>\n      <td>...</td>\n      <td>0</td>\n      <td>0</td>\n      <td>1</td>\n      <td>0</td>\n      <td>1</td>\n      <td>0</td>\n      <td>0</td>\n      <td>0</td>\n      <td>0</td>\n      <td>0</td>\n    </tr>\n    <tr>\n      <th>8</th>\n      <td>1</td>\n      <td>0</td>\n      <td>0</td>\n      <td>0</td>\n      <td>0</td>\n      <td>0</td>\n      <td>0</td>\n      <td>0</td>\n      <td>0</td>\n      <td>0</td>\n      <td>...</td>\n      <td>0</td>\n      <td>0</td>\n      <td>0</td>\n      <td>0</td>\n      <td>0</td>\n      <td>0</td>\n      <td>0</td>\n      <td>0</td>\n      <td>0</td>\n      <td>0</td>\n    </tr>\n    <tr>\n      <th>9</th>\n      <td>1</td>\n      <td>1</td>\n      <td>0</td>\n      <td>1</td>\n      <td>0</td>\n      <td>1</td>\n      <td>0</td>\n      <td>0</td>\n      <td>0</td>\n      <td>0</td>\n      <td>...</td>\n      <td>0</td>\n      <td>0</td>\n      <td>0</td>\n      <td>0</td>\n      <td>0</td>\n      <td>0</td>\n      <td>0</td>\n      <td>0</td>\n      <td>0</td>\n      <td>0</td>\n    </tr>\n    <tr>\n      <th>12</th>\n      <td>1</td>\n      <td>0</td>\n      <td>0</td>\n      <td>0</td>\n      <td>0</td>\n      <td>0</td>\n      <td>0</td>\n      <td>0</td>\n      <td>0</td>\n      <td>0</td>\n      <td>...</td>\n      <td>0</td>\n      <td>0</td>\n      <td>0</td>\n      <td>0</td>\n      <td>0</td>\n      <td>0</td>\n      <td>0</td>\n      <td>0</td>\n      <td>0</td>\n      <td>0</td>\n    </tr>\n  </tbody>\n</table>\n<p>5 rows × 35 columns</p>\n</div>"
     },
     "execution_count": 4,
     "metadata": {},
     "output_type": "execute_result"
    }
   ],
   "source": [
    "# create X and y datasets\n",
    "y = df.iloc[:, 2:]\n",
    "y.head()"
   ],
   "metadata": {
    "collapsed": false,
    "ExecuteTime": {
     "end_time": "2024-08-24T13:00:31.606116Z",
     "start_time": "2024-08-24T13:00:31.543609Z"
    }
   },
   "id": "3a47be05bf31d68c"
  },
  {
   "cell_type": "code",
   "execution_count": 5,
   "outputs": [
    {
     "data": {
      "text/plain": "['related',\n 'request',\n 'offer',\n 'aid_related',\n 'medical_help',\n 'medical_products',\n 'search_and_rescue',\n 'security',\n 'military',\n 'water',\n 'food',\n 'shelter',\n 'clothing',\n 'money',\n 'missing_people',\n 'refugees',\n 'death',\n 'other_aid',\n 'infrastructure_related',\n 'transport',\n 'buildings',\n 'electricity',\n 'tools',\n 'hospitals',\n 'shops',\n 'aid_centers',\n 'other_infrastructure',\n 'weather_related',\n 'floods',\n 'storm',\n 'fire',\n 'earthquake',\n 'cold',\n 'other_weather',\n 'direct_report']"
     },
     "execution_count": 5,
     "metadata": {},
     "output_type": "execute_result"
    }
   ],
   "source": [
    "# list of all the classes\n",
    "list(y.columns)"
   ],
   "metadata": {
    "collapsed": false,
    "ExecuteTime": {
     "end_time": "2024-08-24T13:00:33.380527Z",
     "start_time": "2024-08-24T13:00:32.419938Z"
    }
   },
   "id": "453d18f538c06b4c"
  },
  {
   "cell_type": "code",
   "execution_count": 6,
   "outputs": [],
   "source": [
    "X = df[['message']]"
   ],
   "metadata": {
    "collapsed": false,
    "ExecuteTime": {
     "end_time": "2024-08-24T13:00:33.441172Z",
     "start_time": "2024-08-24T13:00:33.235810Z"
    }
   },
   "id": "504a0f4b60fa7c54"
  },
  {
   "cell_type": "markdown",
   "source": [
    "## Instantiate the class"
   ],
   "metadata": {
    "collapsed": false
   },
   "id": "ad9d8fc9557d2898"
  },
  {
   "cell_type": "code",
   "execution_count": 7,
   "id": "3e5575b38ec71a30",
   "metadata": {
    "ExecuteTime": {
     "end_time": "2024-08-24T13:00:34.769716Z",
     "start_time": "2024-08-24T13:00:34.728206Z"
    }
   },
   "outputs": [],
   "source": [
    "ml = MLOverSampling()"
   ]
  },
  {
   "cell_type": "markdown",
   "source": [
    "## Demonstrating usage of tail_labels\n",
    "This function return a list of the minority samples with mean in 20% percentile"
   ],
   "metadata": {
    "collapsed": false
   },
   "id": "4cc89b4bc5c32b4"
  },
  {
   "cell_type": "code",
   "execution_count": 8,
   "id": "b4f6e31202b25fed",
   "metadata": {
    "ExecuteTime": {
     "end_time": "2024-08-24T13:00:36.114821Z",
     "start_time": "2024-08-24T13:00:36.055598Z"
    }
   },
   "outputs": [
    {
     "data": {
      "text/plain": "['offer',\n 'security',\n 'clothing',\n 'missing_people',\n 'tools',\n 'hospitals',\n 'shops',\n 'aid_centers',\n 'fire']"
     },
     "execution_count": 8,
     "metadata": {},
     "output_type": "execute_result"
    }
   ],
   "source": [
    "tail_labels = ml.get_tail_labels(y)\n",
    "tail_labels"
   ]
  },
  {
   "cell_type": "code",
   "execution_count": 8,
   "outputs": [],
   "source": [],
   "metadata": {
    "collapsed": false,
    "ExecuteTime": {
     "end_time": "2024-08-24T13:00:37.312902Z",
     "start_time": "2024-08-24T13:00:36.814662Z"
    }
   },
   "id": "f842634b22033f08"
  },
  {
   "cell_type": "code",
   "execution_count": 8,
   "outputs": [],
   "source": [],
   "metadata": {
    "collapsed": false,
    "ExecuteTime": {
     "end_time": "2024-08-24T13:00:37.450795Z",
     "start_time": "2024-08-24T13:00:37.341124Z"
    }
   },
   "id": "155ebc22ed9c9873"
  },
  {
   "cell_type": "markdown",
   "source": [
    "## Demonstrating usage of sample_ratio's\n",
    "This function return a series with the factor indicating level of imbalance of each class\n",
    "Classes that are not underrepresented have a factor 1 by default"
   ],
   "metadata": {
    "collapsed": false
   },
   "id": "697b3185c9ad55bf"
  },
  {
   "cell_type": "code",
   "execution_count": 9,
   "outputs": [
    {
     "data": {
      "text/plain": "offer                     21.0\nshops                     20.0\ntools                     15.0\nhospitals                  9.0\nfire                       9.0\nmissing_people             8.0\naid_centers                8.0\nsecurity                   6.0\nclothing                   6.0\nrelated                    1.0\nother_infrastructure       1.0\nfloods                     1.0\nweather_related            1.0\nbuildings                  1.0\nstorm                      1.0\nearthquake                 1.0\ncold                       1.0\nother_weather              1.0\nelectricity                1.0\nother_aid                  1.0\ntransport                  1.0\ninfrastructure_related     1.0\nrequest                    1.0\ndeath                      1.0\nrefugees                   1.0\nmoney                      1.0\nshelter                    1.0\nfood                       1.0\nwater                      1.0\nmilitary                   1.0\nsearch_and_rescue          1.0\nmedical_products           1.0\nmedical_help               1.0\naid_related                1.0\ndirect_report              1.0\ndtype: float64"
     },
     "execution_count": 9,
     "metadata": {},
     "output_type": "execute_result"
    }
   ],
   "source": [
    "sample_ratios = ml.get_sample_ratio(y)\n",
    "sample_ratios"
   ],
   "metadata": {
    "collapsed": false,
    "ExecuteTime": {
     "end_time": "2024-08-24T13:00:39.805991Z",
     "start_time": "2024-08-24T13:00:39.266435Z"
    }
   },
   "id": "303a958e10610739"
  },
  {
   "cell_type": "markdown",
   "source": [
    "## Demonstrating usage of minority_oversampling\n",
    "Duplicate each record in minority classes with the calculated ratio\n",
    "e.g. class 'offer' are duplicated 21 times, whilst class 'related' with ratio = 1 are not duplicated"
   ],
   "metadata": {
    "collapsed": false
   },
   "id": "8dcd90e63d885df7"
  },
  {
   "cell_type": "code",
   "execution_count": 10,
   "outputs": [
    {
     "name": "stdout",
     "output_type": "stream",
     "text": [
      "Imbalanced labels: ['offer', 'security', 'clothing', 'missing_people', 'tools', 'hospitals', 'shops', 'aid_centers', 'fire']\n",
      "Minority samples: (2069, 1) (2069, 35)\n",
      "X and y shape before: (26179, 1) - (26179, 35)\n",
      "X and y Shape after: (45977, 1) - (45977, 35)\n"
     ]
    }
   ],
   "source": [
    "X_new, y_new, tail_labels = ml.minority_oversampling(X, y)\n",
    "print('X and y shape before: {} - {}'.format(X.shape, y.shape))\n",
    "print('X and y Shape after: {} - {}'.format(X_new.shape, y_new.shape))\n",
    "      "
   ],
   "metadata": {
    "collapsed": false,
    "ExecuteTime": {
     "end_time": "2024-08-24T13:00:45.268749Z",
     "start_time": "2024-08-24T13:00:41.080240Z"
    }
   },
   "id": "8ce21da253a48111"
  },
  {
   "cell_type": "code",
   "execution_count": null,
   "outputs": [],
   "source": [
    "# minority class duplication\n",
    "minority_records_before = len(y[y['offer'] == 1])\n",
    "minority_records_after = len(y_new[y_new['offer'] == 1])\n",
    "print('Label `OFFER`: Before {}, After {}'.format(minority_records_before, minority_records_after))"
   ],
   "metadata": {
    "collapsed": false,
    "ExecuteTime": {
     "start_time": "2024-08-24T12:57:17.172721Z"
    }
   },
   "id": "e1a6eed9b32a24de"
  },
  {
   "cell_type": "code",
   "execution_count": null,
   "outputs": [],
   "source": [
    "# over represented class duplication\n",
    "minority_records_before = len(y[y['related'] == 1])\n",
    "minority_records_after = len(y_new[y_new['related'] == 1])\n",
    "print('Label `RELATED`: Before {}, After {}'.format(minority_records_before, minority_records_after))"
   ],
   "metadata": {
    "collapsed": false,
    "ExecuteTime": {
     "start_time": "2024-08-24T12:57:17.173940Z"
    }
   },
   "id": "d43d4d3016de49cf"
  },
  {
   "cell_type": "code",
   "execution_count": null,
   "outputs": [],
   "source": [],
   "metadata": {
    "collapsed": false,
    "ExecuteTime": {
     "start_time": "2024-08-24T12:57:17.175155Z"
    }
   },
   "id": "80c41910d6fbe7f7"
  }
 ],
 "metadata": {
  "kernelspec": {
   "display_name": "Python [conda env:disaster_pipeline] *",
   "language": "python",
   "name": "conda-env-disaster_pipeline-py"
  },
  "language_info": {
   "codemirror_mode": {
    "name": "ipython",
    "version": 3
   },
   "file_extension": ".py",
   "mimetype": "text/x-python",
   "name": "python",
   "nbconvert_exporter": "python",
   "pygments_lexer": "ipython3",
   "version": "3.9.19"
  }
 },
 "nbformat": 4,
 "nbformat_minor": 5
}

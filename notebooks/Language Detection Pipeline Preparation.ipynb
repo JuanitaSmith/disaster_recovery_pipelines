{
 "cells": [
  {
   "cell_type": "markdown",
   "metadata": {},
   "source": [
    "# Language Detection Pipeline Preparation\n",
    "\n",
    "During ETL pipeline preparation, some messages were not in English.\n",
    "Experiment with CHATGPT to detect the language of each message and translate it to English\n",
    "\n",
    "Note: CHATGPT is a paid service, and takes a long time to translate.\n",
    "Just for general experimentation, only a sample of the data will be converted\n",
    "Completed translations will be stored in json format in `../data/translations/batch_job_results_results.jsonl` and also written to SQLITE database as `message_language`\n",
    "\n",
    "Finally, messages database will be updated with improved translated messages."
   ]
  },
  {
   "cell_type": "markdown",
   "source": [
    "### 1. Import libraries and load datasets"
   ],
   "metadata": {
    "collapsed": false
   }
  },
  {
   "cell_type": "code",
   "execution_count": 1,
   "metadata": {
    "ExecuteTime": {
     "end_time": "2024-09-03T14:54:43.524202Z",
     "start_time": "2024-09-03T14:54:40.390094Z"
    }
   },
   "outputs": [],
   "source": [
    "# import libraries\n",
    "import pandas as pd\n",
    "from sqlalchemy import create_engine\n",
    "import os\n",
    "from openai import OpenAI\n",
    "import json\n",
    "import numpy as np\n",
    "import time\n",
    "from src import config\n",
    "\n",
    "import logging\n",
    "logger = logging.getLogger(__name__)\n",
    "\n",
    "# environment settings\n",
    "pd.set_option('display.max_column', 400)\n",
    "pd.set_option('display.max_colwidth', 400)"
   ]
  },
  {
   "cell_type": "code",
   "execution_count": 2,
   "outputs": [],
   "source": [
    "import src.config\n",
    "import importlib\n",
    "importlib.reload(src.config)\n",
    "from src import config"
   ],
   "metadata": {
    "collapsed": false,
    "ExecuteTime": {
     "end_time": "2024-09-03T14:54:43.524470Z",
     "start_time": "2024-09-03T14:54:41.011117Z"
    }
   }
  },
  {
   "cell_type": "code",
   "execution_count": 3,
   "outputs": [],
   "source": [
    "# activate logging\n",
    "logging.basicConfig(filename=config.path_log_translation,\n",
    "                    format='%(asctime)s %(levelname)-8s %(message)s',\n",
    "                    filemode='w',\n",
    "                    level=logging.INFO,\n",
    "                    datefmt='%Y-%m-%d %H:%M:%S')"
   ],
   "metadata": {
    "collapsed": false,
    "ExecuteTime": {
     "end_time": "2024-09-03T14:54:43.524635Z",
     "start_time": "2024-09-03T14:54:41.016078Z"
    }
   }
  },
  {
   "cell_type": "code",
   "execution_count": 4,
   "metadata": {
    "ExecuteTime": {
     "end_time": "2024-09-03T14:54:43.532415Z",
     "start_time": "2024-09-03T14:54:41.020435Z"
    }
   },
   "outputs": [
    {
     "data": {
      "text/plain": "                                                                                                 message  \\\nid                                                                                                         \n2                                     Weather update - a cold front from Cuba that could pass over Haiti   \n7                                                                Is the Hurricane over or is it not over   \n8                                                                        Looking for someone but no name   \n9   UN reports Leogane 80-90 destroyed. Only Hospital St. Croix functioning. Needs supplies desperately.   \n12                                       says: west side of Haiti, rest of the country today and tonight   \n\n     genre  related  request  offer  aid_related  medical_help  \\\nid                                                               \n2   direct        1        0      0            0             0   \n7   direct        1        0      0            1             0   \n8   direct        1        0      0            0             0   \n9   direct        1        1      0            1             0   \n12  direct        1        0      0            0             0   \n\n    medical_products  search_and_rescue  security  military  water  food  \\\nid                                                                         \n2                  0                  0         0         0      0     0   \n7                  0                  0         0         0      0     0   \n8                  0                  0         0         0      0     0   \n9                  1                  0         0         0      0     0   \n12                 0                  0         0         0      0     0   \n\n    shelter  clothing  money  missing_people  refugees  death  other_aid  \\\nid                                                                         \n2         0         0      0               0         0      0          0   \n7         0         0      0               0         0      0          1   \n8         0         0      0               0         0      0          0   \n9         0         0      0               0         0      0          1   \n12        0         0      0               0         0      0          0   \n\n    infrastructure_related  transport  buildings  electricity  tools  \\\nid                                                                     \n2                        0          0          0            0      0   \n7                        0          0          0            0      0   \n8                        0          0          0            0      0   \n9                        1          0          1            0      0   \n12                       0          0          0            0      0   \n\n    hospitals  shops  aid_centers  other_infrastructure  weather_related  \\\nid                                                                         \n2           0      0            0                     0                0   \n7           0      0            0                     0                1   \n8           0      0            0                     0                0   \n9           1      0            0                     0                0   \n12          0      0            0                     0                0   \n\n    floods  storm  fire  earthquake  cold  other_weather  direct_report  \nid                                                                       \n2        0      0     0           0     0              0              0  \n7        0      1     0           0     0              0              0  \n8        0      0     0           0     0              0              0  \n9        0      0     0           0     0              0              0  \n12       0      0     0           0     0              0              0  ",
      "text/html": "<div>\n<style scoped>\n    .dataframe tbody tr th:only-of-type {\n        vertical-align: middle;\n    }\n\n    .dataframe tbody tr th {\n        vertical-align: top;\n    }\n\n    .dataframe thead th {\n        text-align: right;\n    }\n</style>\n<table border=\"1\" class=\"dataframe\">\n  <thead>\n    <tr style=\"text-align: right;\">\n      <th></th>\n      <th>message</th>\n      <th>genre</th>\n      <th>related</th>\n      <th>request</th>\n      <th>offer</th>\n      <th>aid_related</th>\n      <th>medical_help</th>\n      <th>medical_products</th>\n      <th>search_and_rescue</th>\n      <th>security</th>\n      <th>military</th>\n      <th>water</th>\n      <th>food</th>\n      <th>shelter</th>\n      <th>clothing</th>\n      <th>money</th>\n      <th>missing_people</th>\n      <th>refugees</th>\n      <th>death</th>\n      <th>other_aid</th>\n      <th>infrastructure_related</th>\n      <th>transport</th>\n      <th>buildings</th>\n      <th>electricity</th>\n      <th>tools</th>\n      <th>hospitals</th>\n      <th>shops</th>\n      <th>aid_centers</th>\n      <th>other_infrastructure</th>\n      <th>weather_related</th>\n      <th>floods</th>\n      <th>storm</th>\n      <th>fire</th>\n      <th>earthquake</th>\n      <th>cold</th>\n      <th>other_weather</th>\n      <th>direct_report</th>\n    </tr>\n    <tr>\n      <th>id</th>\n      <th></th>\n      <th></th>\n      <th></th>\n      <th></th>\n      <th></th>\n      <th></th>\n      <th></th>\n      <th></th>\n      <th></th>\n      <th></th>\n      <th></th>\n      <th></th>\n      <th></th>\n      <th></th>\n      <th></th>\n      <th></th>\n      <th></th>\n      <th></th>\n      <th></th>\n      <th></th>\n      <th></th>\n      <th></th>\n      <th></th>\n      <th></th>\n      <th></th>\n      <th></th>\n      <th></th>\n      <th></th>\n      <th></th>\n      <th></th>\n      <th></th>\n      <th></th>\n      <th></th>\n      <th></th>\n      <th></th>\n      <th></th>\n      <th></th>\n    </tr>\n  </thead>\n  <tbody>\n    <tr>\n      <th>2</th>\n      <td>Weather update - a cold front from Cuba that could pass over Haiti</td>\n      <td>direct</td>\n      <td>1</td>\n      <td>0</td>\n      <td>0</td>\n      <td>0</td>\n      <td>0</td>\n      <td>0</td>\n      <td>0</td>\n      <td>0</td>\n      <td>0</td>\n      <td>0</td>\n      <td>0</td>\n      <td>0</td>\n      <td>0</td>\n      <td>0</td>\n      <td>0</td>\n      <td>0</td>\n      <td>0</td>\n      <td>0</td>\n      <td>0</td>\n      <td>0</td>\n      <td>0</td>\n      <td>0</td>\n      <td>0</td>\n      <td>0</td>\n      <td>0</td>\n      <td>0</td>\n      <td>0</td>\n      <td>0</td>\n      <td>0</td>\n      <td>0</td>\n      <td>0</td>\n      <td>0</td>\n      <td>0</td>\n      <td>0</td>\n      <td>0</td>\n    </tr>\n    <tr>\n      <th>7</th>\n      <td>Is the Hurricane over or is it not over</td>\n      <td>direct</td>\n      <td>1</td>\n      <td>0</td>\n      <td>0</td>\n      <td>1</td>\n      <td>0</td>\n      <td>0</td>\n      <td>0</td>\n      <td>0</td>\n      <td>0</td>\n      <td>0</td>\n      <td>0</td>\n      <td>0</td>\n      <td>0</td>\n      <td>0</td>\n      <td>0</td>\n      <td>0</td>\n      <td>0</td>\n      <td>1</td>\n      <td>0</td>\n      <td>0</td>\n      <td>0</td>\n      <td>0</td>\n      <td>0</td>\n      <td>0</td>\n      <td>0</td>\n      <td>0</td>\n      <td>0</td>\n      <td>1</td>\n      <td>0</td>\n      <td>1</td>\n      <td>0</td>\n      <td>0</td>\n      <td>0</td>\n      <td>0</td>\n      <td>0</td>\n    </tr>\n    <tr>\n      <th>8</th>\n      <td>Looking for someone but no name</td>\n      <td>direct</td>\n      <td>1</td>\n      <td>0</td>\n      <td>0</td>\n      <td>0</td>\n      <td>0</td>\n      <td>0</td>\n      <td>0</td>\n      <td>0</td>\n      <td>0</td>\n      <td>0</td>\n      <td>0</td>\n      <td>0</td>\n      <td>0</td>\n      <td>0</td>\n      <td>0</td>\n      <td>0</td>\n      <td>0</td>\n      <td>0</td>\n      <td>0</td>\n      <td>0</td>\n      <td>0</td>\n      <td>0</td>\n      <td>0</td>\n      <td>0</td>\n      <td>0</td>\n      <td>0</td>\n      <td>0</td>\n      <td>0</td>\n      <td>0</td>\n      <td>0</td>\n      <td>0</td>\n      <td>0</td>\n      <td>0</td>\n      <td>0</td>\n      <td>0</td>\n    </tr>\n    <tr>\n      <th>9</th>\n      <td>UN reports Leogane 80-90 destroyed. Only Hospital St. Croix functioning. Needs supplies desperately.</td>\n      <td>direct</td>\n      <td>1</td>\n      <td>1</td>\n      <td>0</td>\n      <td>1</td>\n      <td>0</td>\n      <td>1</td>\n      <td>0</td>\n      <td>0</td>\n      <td>0</td>\n      <td>0</td>\n      <td>0</td>\n      <td>0</td>\n      <td>0</td>\n      <td>0</td>\n      <td>0</td>\n      <td>0</td>\n      <td>0</td>\n      <td>1</td>\n      <td>1</td>\n      <td>0</td>\n      <td>1</td>\n      <td>0</td>\n      <td>0</td>\n      <td>1</td>\n      <td>0</td>\n      <td>0</td>\n      <td>0</td>\n      <td>0</td>\n      <td>0</td>\n      <td>0</td>\n      <td>0</td>\n      <td>0</td>\n      <td>0</td>\n      <td>0</td>\n      <td>0</td>\n    </tr>\n    <tr>\n      <th>12</th>\n      <td>says: west side of Haiti, rest of the country today and tonight</td>\n      <td>direct</td>\n      <td>1</td>\n      <td>0</td>\n      <td>0</td>\n      <td>0</td>\n      <td>0</td>\n      <td>0</td>\n      <td>0</td>\n      <td>0</td>\n      <td>0</td>\n      <td>0</td>\n      <td>0</td>\n      <td>0</td>\n      <td>0</td>\n      <td>0</td>\n      <td>0</td>\n      <td>0</td>\n      <td>0</td>\n      <td>0</td>\n      <td>0</td>\n      <td>0</td>\n      <td>0</td>\n      <td>0</td>\n      <td>0</td>\n      <td>0</td>\n      <td>0</td>\n      <td>0</td>\n      <td>0</td>\n      <td>0</td>\n      <td>0</td>\n      <td>0</td>\n      <td>0</td>\n      <td>0</td>\n      <td>0</td>\n      <td>0</td>\n      <td>0</td>\n    </tr>\n  </tbody>\n</table>\n</div>"
     },
     "execution_count": 4,
     "metadata": {},
     "output_type": "execute_result"
    }
   ],
   "source": [
    "# load data from database created during ETL pipeline preparation\n",
    "engine = create_engine(config.path_database)\n",
    "conn = engine.connect()\n",
    "df = pd.read_sql('select * from messages', con=conn, index_col='id')\n",
    "df.head()"
   ]
  },
  {
   "cell_type": "code",
   "execution_count": 5,
   "metadata": {
    "ExecuteTime": {
     "end_time": "2024-09-03T14:54:43.532716Z",
     "start_time": "2024-09-03T14:54:41.619301Z"
    }
   },
   "outputs": [
    {
     "name": "stdout",
     "output_type": "stream",
     "text": [
      "<class 'pandas.core.frame.DataFrame'>\n",
      "Index: 26179 entries, 2 to 30265\n",
      "Data columns (total 37 columns):\n",
      " #   Column                  Non-Null Count  Dtype \n",
      "---  ------                  --------------  ----- \n",
      " 0   message                 26179 non-null  object\n",
      " 1   genre                   26179 non-null  object\n",
      " 2   related                 26179 non-null  int64 \n",
      " 3   request                 26179 non-null  int64 \n",
      " 4   offer                   26179 non-null  int64 \n",
      " 5   aid_related             26179 non-null  int64 \n",
      " 6   medical_help            26179 non-null  int64 \n",
      " 7   medical_products        26179 non-null  int64 \n",
      " 8   search_and_rescue       26179 non-null  int64 \n",
      " 9   security                26179 non-null  int64 \n",
      " 10  military                26179 non-null  int64 \n",
      " 11  water                   26179 non-null  int64 \n",
      " 12  food                    26179 non-null  int64 \n",
      " 13  shelter                 26179 non-null  int64 \n",
      " 14  clothing                26179 non-null  int64 \n",
      " 15  money                   26179 non-null  int64 \n",
      " 16  missing_people          26179 non-null  int64 \n",
      " 17  refugees                26179 non-null  int64 \n",
      " 18  death                   26179 non-null  int64 \n",
      " 19  other_aid               26179 non-null  int64 \n",
      " 20  infrastructure_related  26179 non-null  int64 \n",
      " 21  transport               26179 non-null  int64 \n",
      " 22  buildings               26179 non-null  int64 \n",
      " 23  electricity             26179 non-null  int64 \n",
      " 24  tools                   26179 non-null  int64 \n",
      " 25  hospitals               26179 non-null  int64 \n",
      " 26  shops                   26179 non-null  int64 \n",
      " 27  aid_centers             26179 non-null  int64 \n",
      " 28  other_infrastructure    26179 non-null  int64 \n",
      " 29  weather_related         26179 non-null  int64 \n",
      " 30  floods                  26179 non-null  int64 \n",
      " 31  storm                   26179 non-null  int64 \n",
      " 32  fire                    26179 non-null  int64 \n",
      " 33  earthquake              26179 non-null  int64 \n",
      " 34  cold                    26179 non-null  int64 \n",
      " 35  other_weather           26179 non-null  int64 \n",
      " 36  direct_report           26179 non-null  int64 \n",
      "dtypes: int64(35), object(2)\n",
      "memory usage: 7.6+ MB\n"
     ]
    }
   ],
   "source": [
    "df.info()"
   ]
  },
  {
   "cell_type": "code",
   "execution_count": 6,
   "outputs": [
    {
     "data": {
      "text/plain": "(15400, 2)"
     },
     "execution_count": 6,
     "metadata": {},
     "output_type": "execute_result"
    }
   ],
   "source": [
    "# try to read message where language detection was already executed\n",
    "df_language = pd.DataFrame()\n",
    "try:\n",
    "    df_language = pd.read_sql('select * from message_language',\n",
    "                              con=conn,\n",
    "                              index_col='id',\n",
    "                              dtype={'is_english': 'boolean'})\n",
    "finally:\n",
    "    pass\n",
    "\n",
    "df_language.shape"
   ],
   "metadata": {
    "collapsed": false,
    "ExecuteTime": {
     "end_time": "2024-09-03T14:54:43.533343Z",
     "start_time": "2024-09-03T14:54:41.634102Z"
    }
   }
  },
  {
   "cell_type": "code",
   "execution_count": 7,
   "outputs": [
    {
     "name": "stdout",
     "output_type": "stream",
     "text": [
      "<class 'pandas.core.frame.DataFrame'>\n",
      "Index: 15400 entries, 2 to 18213\n",
      "Data columns (total 2 columns):\n",
      " #   Column       Non-Null Count  Dtype  \n",
      "---  ------       --------------  -----  \n",
      " 0   is_english   15400 non-null  boolean\n",
      " 1   translation  15400 non-null  object \n",
      "dtypes: boolean(1), object(1)\n",
      "memory usage: 270.7+ KB\n"
     ]
    }
   ],
   "source": [
    "df_language.info()"
   ],
   "metadata": {
    "collapsed": false,
    "ExecuteTime": {
     "end_time": "2024-09-03T14:54:43.533554Z",
     "start_time": "2024-09-03T14:54:41.678594Z"
    }
   }
  },
  {
   "cell_type": "code",
   "execution_count": 8,
   "outputs": [
    {
     "data": {
      "text/plain": "     is_english  \\\nid                \n146       False   \n176       False   \n342       False   \n383       False   \n399       False   \n\n                                                                                                                                                                                       translation  \nid                                                                                                                                                                                                  \n146                                                                                                In the Saint Etienne area, the road to Jacmel is blocked, it is very difficult to get to Jacmel  \n176                                                                                                                         In what field would you need me to speak Creole, French, half English?  \n342                             I need some food. Thanks for your understanding. (Translator's note: are we getting the full messages? Most of them appear to be bits of sentences, like this one)  \n383  I need help in Creole. Contact me quickly, quickly via SMS or call, it's urgent. It is very important because today I'm going to do what I have to do over the barriers, I'm already waiting.  \n399                                                                                                                                  Don't know what to do about the staff routing part at the end  ",
      "text/html": "<div>\n<style scoped>\n    .dataframe tbody tr th:only-of-type {\n        vertical-align: middle;\n    }\n\n    .dataframe tbody tr th {\n        vertical-align: top;\n    }\n\n    .dataframe thead th {\n        text-align: right;\n    }\n</style>\n<table border=\"1\" class=\"dataframe\">\n  <thead>\n    <tr style=\"text-align: right;\">\n      <th></th>\n      <th>is_english</th>\n      <th>translation</th>\n    </tr>\n    <tr>\n      <th>id</th>\n      <th></th>\n      <th></th>\n    </tr>\n  </thead>\n  <tbody>\n    <tr>\n      <th>146</th>\n      <td>False</td>\n      <td>In the Saint Etienne area, the road to Jacmel is blocked, it is very difficult to get to Jacmel</td>\n    </tr>\n    <tr>\n      <th>176</th>\n      <td>False</td>\n      <td>In what field would you need me to speak Creole, French, half English?</td>\n    </tr>\n    <tr>\n      <th>342</th>\n      <td>False</td>\n      <td>I need some food. Thanks for your understanding. (Translator's note: are we getting the full messages? Most of them appear to be bits of sentences, like this one)</td>\n    </tr>\n    <tr>\n      <th>383</th>\n      <td>False</td>\n      <td>I need help in Creole. Contact me quickly, quickly via SMS or call, it's urgent. It is very important because today I'm going to do what I have to do over the barriers, I'm already waiting.</td>\n    </tr>\n    <tr>\n      <th>399</th>\n      <td>False</td>\n      <td>Don't know what to do about the staff routing part at the end</td>\n    </tr>\n  </tbody>\n</table>\n</div>"
     },
     "execution_count": 8,
     "metadata": {},
     "output_type": "execute_result"
    }
   ],
   "source": [
    "df_language[df_language['is_english'] == False][:5]"
   ],
   "metadata": {
    "collapsed": false,
    "ExecuteTime": {
     "end_time": "2024-09-03T14:54:43.533897Z",
     "start_time": "2024-09-03T14:54:41.689177Z"
    }
   }
  },
  {
   "cell_type": "code",
   "execution_count": 8,
   "outputs": [],
   "source": [],
   "metadata": {
    "collapsed": false,
    "ExecuteTime": {
     "end_time": "2024-09-03T14:54:43.534012Z",
     "start_time": "2024-09-03T14:54:41.694510Z"
    }
   }
  },
  {
   "cell_type": "markdown",
   "source": [
    "### 2. Set API key and connect to OPENAI"
   ],
   "metadata": {
    "collapsed": false
   }
  },
  {
   "cell_type": "code",
   "execution_count": 9,
   "metadata": {
    "ExecuteTime": {
     "end_time": "2024-09-03T14:54:43.534114Z",
     "start_time": "2024-09-03T14:54:41.701751Z"
    }
   },
   "outputs": [],
   "source": [
    "# Setting the API key to use OPEN AI models\n",
    "openai_api_key = os.environ.get('OPENAI_API_KEY')\n",
    "client = OpenAI(api_key=openai_api_key)"
   ]
  },
  {
   "cell_type": "markdown",
   "source": [
    "### 3. Build the API logic in realtime\n",
    "\n",
    "Detect if messages are in English, and if not, translate them to English"
   ],
   "metadata": {
    "collapsed": false
   }
  },
  {
   "cell_type": "code",
   "execution_count": 10,
   "outputs": [
    {
     "data": {
      "text/plain": "                                                                                                                                                                                                                                                                                                                                          message  \\\nid                                                                                                                                                                                                                                                                                                                                                  \n18214                                                                                                                                                        Télécoms Sans Frontières is also a working group member of the United Nations emergency telecoms body (WGET) and a member of the International Council of Voluntary Agencies (ICVA).   \n18215                                                                                                                                                                                                                           UNICEF is complementing DFID's contribution with =A31,150,000 from its own resources and voluntary contributions.   \n18216  The Government of Iran has indicated that it will support a number of significant road construction projects inside Afghanistan, including from Islam Qala to Herat and from Milak (on the Iranian-Nimroz border) to Dilaram city (the latter route will shorten the transportation of goods from Bandar Abbas to Kandahar by some 700km.)   \n18217                                                                                                                                          Though the population of these islands is relatively small, children in Samoa and Tonga are at risk of respiratory disease, measles and tetanus, as vaccination rates in many communities are low.   \n18218                                                                                                                                                                                     With widespread crop failure and food price hikes, the situation will become extremely serious unless emergency measures are put in place immediately.\"   \n\n      genre  related  request  offer  aid_related  medical_help  \\\nid                                                                \n18214  news        1        0      0            0             0   \n18215  news        1        0      0            1             0   \n18216  news        0        0      0            0             0   \n18217  news        0        0      0            0             0   \n18218  news        1        1      0            1             0   \n\n       medical_products  search_and_rescue  security  military  water  food  \\\nid                                                                            \n18214                 0                  0         0         0      0     0   \n18215                 0                  0         0         0      0     0   \n18216                 0                  0         0         0      0     0   \n18217                 0                  0         0         0      0     0   \n18218                 0                  0         0         0      0     0   \n\n       shelter  clothing  money  missing_people  refugees  death  other_aid  \\\nid                                                                            \n18214        0         0      0               0         0      0          0   \n18215        0         0      1               0         0      0          0   \n18216        0         0      0               0         0      0          0   \n18217        0         0      0               0         0      0          0   \n18218        0         0      0               0         0      0          1   \n\n       infrastructure_related  transport  buildings  electricity  tools  \\\nid                                                                        \n18214                       0          0          0            0      0   \n18215                       0          0          0            0      0   \n18216                       0          0          0            0      0   \n18217                       0          0          0            0      0   \n18218                       0          0          0            0      0   \n\n       hospitals  shops  aid_centers  other_infrastructure  weather_related  \\\nid                                                                            \n18214          0      0            0                     0                0   \n18215          0      0            0                     0                0   \n18216          0      0            0                     0                0   \n18217          0      0            0                     0                0   \n18218          0      0            0                     0                0   \n\n       floods  storm  fire  earthquake  cold  other_weather  direct_report  \\\nid                                                                           \n18214       0      0     0           0     0              0              0   \n18215       0      0     0           0     0              0              0   \n18216       0      0     0           0     0              0              0   \n18217       0      0     0           0     0              0              0   \n18218       0      0     0           0     0              0              0   \n\n       is_english translation     _merge  \nid                                        \n18214        <NA>         NaN  left_only  \n18215        <NA>         NaN  left_only  \n18216        <NA>         NaN  left_only  \n18217        <NA>         NaN  left_only  \n18218        <NA>         NaN  left_only  ",
      "text/html": "<div>\n<style scoped>\n    .dataframe tbody tr th:only-of-type {\n        vertical-align: middle;\n    }\n\n    .dataframe tbody tr th {\n        vertical-align: top;\n    }\n\n    .dataframe thead th {\n        text-align: right;\n    }\n</style>\n<table border=\"1\" class=\"dataframe\">\n  <thead>\n    <tr style=\"text-align: right;\">\n      <th></th>\n      <th>message</th>\n      <th>genre</th>\n      <th>related</th>\n      <th>request</th>\n      <th>offer</th>\n      <th>aid_related</th>\n      <th>medical_help</th>\n      <th>medical_products</th>\n      <th>search_and_rescue</th>\n      <th>security</th>\n      <th>military</th>\n      <th>water</th>\n      <th>food</th>\n      <th>shelter</th>\n      <th>clothing</th>\n      <th>money</th>\n      <th>missing_people</th>\n      <th>refugees</th>\n      <th>death</th>\n      <th>other_aid</th>\n      <th>infrastructure_related</th>\n      <th>transport</th>\n      <th>buildings</th>\n      <th>electricity</th>\n      <th>tools</th>\n      <th>hospitals</th>\n      <th>shops</th>\n      <th>aid_centers</th>\n      <th>other_infrastructure</th>\n      <th>weather_related</th>\n      <th>floods</th>\n      <th>storm</th>\n      <th>fire</th>\n      <th>earthquake</th>\n      <th>cold</th>\n      <th>other_weather</th>\n      <th>direct_report</th>\n      <th>is_english</th>\n      <th>translation</th>\n      <th>_merge</th>\n    </tr>\n    <tr>\n      <th>id</th>\n      <th></th>\n      <th></th>\n      <th></th>\n      <th></th>\n      <th></th>\n      <th></th>\n      <th></th>\n      <th></th>\n      <th></th>\n      <th></th>\n      <th></th>\n      <th></th>\n      <th></th>\n      <th></th>\n      <th></th>\n      <th></th>\n      <th></th>\n      <th></th>\n      <th></th>\n      <th></th>\n      <th></th>\n      <th></th>\n      <th></th>\n      <th></th>\n      <th></th>\n      <th></th>\n      <th></th>\n      <th></th>\n      <th></th>\n      <th></th>\n      <th></th>\n      <th></th>\n      <th></th>\n      <th></th>\n      <th></th>\n      <th></th>\n      <th></th>\n      <th></th>\n      <th></th>\n      <th></th>\n    </tr>\n  </thead>\n  <tbody>\n    <tr>\n      <th>18214</th>\n      <td>Télécoms Sans Frontières is also a working group member of the United Nations emergency telecoms body (WGET) and a member of the International Council of Voluntary Agencies (ICVA).</td>\n      <td>news</td>\n      <td>1</td>\n      <td>0</td>\n      <td>0</td>\n      <td>0</td>\n      <td>0</td>\n      <td>0</td>\n      <td>0</td>\n      <td>0</td>\n      <td>0</td>\n      <td>0</td>\n      <td>0</td>\n      <td>0</td>\n      <td>0</td>\n      <td>0</td>\n      <td>0</td>\n      <td>0</td>\n      <td>0</td>\n      <td>0</td>\n      <td>0</td>\n      <td>0</td>\n      <td>0</td>\n      <td>0</td>\n      <td>0</td>\n      <td>0</td>\n      <td>0</td>\n      <td>0</td>\n      <td>0</td>\n      <td>0</td>\n      <td>0</td>\n      <td>0</td>\n      <td>0</td>\n      <td>0</td>\n      <td>0</td>\n      <td>0</td>\n      <td>0</td>\n      <td>&lt;NA&gt;</td>\n      <td>NaN</td>\n      <td>left_only</td>\n    </tr>\n    <tr>\n      <th>18215</th>\n      <td>UNICEF is complementing DFID's contribution with =A31,150,000 from its own resources and voluntary contributions.</td>\n      <td>news</td>\n      <td>1</td>\n      <td>0</td>\n      <td>0</td>\n      <td>1</td>\n      <td>0</td>\n      <td>0</td>\n      <td>0</td>\n      <td>0</td>\n      <td>0</td>\n      <td>0</td>\n      <td>0</td>\n      <td>0</td>\n      <td>0</td>\n      <td>1</td>\n      <td>0</td>\n      <td>0</td>\n      <td>0</td>\n      <td>0</td>\n      <td>0</td>\n      <td>0</td>\n      <td>0</td>\n      <td>0</td>\n      <td>0</td>\n      <td>0</td>\n      <td>0</td>\n      <td>0</td>\n      <td>0</td>\n      <td>0</td>\n      <td>0</td>\n      <td>0</td>\n      <td>0</td>\n      <td>0</td>\n      <td>0</td>\n      <td>0</td>\n      <td>0</td>\n      <td>&lt;NA&gt;</td>\n      <td>NaN</td>\n      <td>left_only</td>\n    </tr>\n    <tr>\n      <th>18216</th>\n      <td>The Government of Iran has indicated that it will support a number of significant road construction projects inside Afghanistan, including from Islam Qala to Herat and from Milak (on the Iranian-Nimroz border) to Dilaram city (the latter route will shorten the transportation of goods from Bandar Abbas to Kandahar by some 700km.)</td>\n      <td>news</td>\n      <td>0</td>\n      <td>0</td>\n      <td>0</td>\n      <td>0</td>\n      <td>0</td>\n      <td>0</td>\n      <td>0</td>\n      <td>0</td>\n      <td>0</td>\n      <td>0</td>\n      <td>0</td>\n      <td>0</td>\n      <td>0</td>\n      <td>0</td>\n      <td>0</td>\n      <td>0</td>\n      <td>0</td>\n      <td>0</td>\n      <td>0</td>\n      <td>0</td>\n      <td>0</td>\n      <td>0</td>\n      <td>0</td>\n      <td>0</td>\n      <td>0</td>\n      <td>0</td>\n      <td>0</td>\n      <td>0</td>\n      <td>0</td>\n      <td>0</td>\n      <td>0</td>\n      <td>0</td>\n      <td>0</td>\n      <td>0</td>\n      <td>0</td>\n      <td>&lt;NA&gt;</td>\n      <td>NaN</td>\n      <td>left_only</td>\n    </tr>\n    <tr>\n      <th>18217</th>\n      <td>Though the population of these islands is relatively small, children in Samoa and Tonga are at risk of respiratory disease, measles and tetanus, as vaccination rates in many communities are low.</td>\n      <td>news</td>\n      <td>0</td>\n      <td>0</td>\n      <td>0</td>\n      <td>0</td>\n      <td>0</td>\n      <td>0</td>\n      <td>0</td>\n      <td>0</td>\n      <td>0</td>\n      <td>0</td>\n      <td>0</td>\n      <td>0</td>\n      <td>0</td>\n      <td>0</td>\n      <td>0</td>\n      <td>0</td>\n      <td>0</td>\n      <td>0</td>\n      <td>0</td>\n      <td>0</td>\n      <td>0</td>\n      <td>0</td>\n      <td>0</td>\n      <td>0</td>\n      <td>0</td>\n      <td>0</td>\n      <td>0</td>\n      <td>0</td>\n      <td>0</td>\n      <td>0</td>\n      <td>0</td>\n      <td>0</td>\n      <td>0</td>\n      <td>0</td>\n      <td>0</td>\n      <td>&lt;NA&gt;</td>\n      <td>NaN</td>\n      <td>left_only</td>\n    </tr>\n    <tr>\n      <th>18218</th>\n      <td>With widespread crop failure and food price hikes, the situation will become extremely serious unless emergency measures are put in place immediately.\"</td>\n      <td>news</td>\n      <td>1</td>\n      <td>1</td>\n      <td>0</td>\n      <td>1</td>\n      <td>0</td>\n      <td>0</td>\n      <td>0</td>\n      <td>0</td>\n      <td>0</td>\n      <td>0</td>\n      <td>0</td>\n      <td>0</td>\n      <td>0</td>\n      <td>0</td>\n      <td>0</td>\n      <td>0</td>\n      <td>0</td>\n      <td>1</td>\n      <td>0</td>\n      <td>0</td>\n      <td>0</td>\n      <td>0</td>\n      <td>0</td>\n      <td>0</td>\n      <td>0</td>\n      <td>0</td>\n      <td>0</td>\n      <td>0</td>\n      <td>0</td>\n      <td>0</td>\n      <td>0</td>\n      <td>0</td>\n      <td>0</td>\n      <td>0</td>\n      <td>0</td>\n      <td>&lt;NA&gt;</td>\n      <td>NaN</td>\n      <td>left_only</td>\n    </tr>\n  </tbody>\n</table>\n</div>"
     },
     "execution_count": 10,
     "metadata": {},
     "output_type": "execute_result"
    }
   ],
   "source": [
    "# Identify messages that was not the checked for language yet\n",
    "df_remaining = df.merge(df_language, on='id', how='left', indicator=True)\n",
    "df_remaining = df_remaining[df_remaining['_merge'] == \"left_only\"]\n",
    "df_remaining.head()"
   ],
   "metadata": {
    "collapsed": false,
    "ExecuteTime": {
     "end_time": "2024-09-03T14:54:43.535354Z",
     "start_time": "2024-09-03T14:54:41.730644Z"
    }
   }
  },
  {
   "cell_type": "code",
   "execution_count": 11,
   "outputs": [
    {
     "data": {
      "text/plain": "(10779, 40)"
     },
     "execution_count": 11,
     "metadata": {},
     "output_type": "execute_result"
    }
   ],
   "source": [
    "df_remaining.shape"
   ],
   "metadata": {
    "collapsed": false,
    "ExecuteTime": {
     "end_time": "2024-09-03T14:54:43.535576Z",
     "start_time": "2024-09-03T14:54:41.772810Z"
    }
   }
  },
  {
   "cell_type": "markdown",
   "source": [
    "# Build OPENAI API request\n",
    "Testing OPENAI response to see if it's working for a few messages first"
   ],
   "metadata": {
    "collapsed": false
   }
  },
  {
   "cell_type": "code",
   "execution_count": 12,
   "outputs": [],
   "source": [
    "system_prompt = \"\"\" \n",
    "  You will be provided with text about disaster responses.\n",
    "  Step 1: Detect of the text is in English. Return options 'True' if the sentence is in English or 'False' if the sentence is not in English as isEnglish boolean variable\n",
    "  Step 2: If sentence is not in English, translate it to English and return as text in json format\n",
    "  \n",
    "  Example: 'I need food' // isEnglish: True\n",
    "  Example2: 'Vandaag is het zonnig'' // isEnglish: False, Translation: 'Today it is Sunny'\n",
    "  \"\"\""
   ],
   "metadata": {
    "collapsed": false,
    "ExecuteTime": {
     "end_time": "2024-09-03T14:54:43.535680Z",
     "start_time": "2024-09-03T14:54:41.778570Z"
    }
   }
  },
  {
   "cell_type": "code",
   "execution_count": 13,
   "outputs": [
    {
     "name": "stdout",
     "output_type": "stream",
     "text": [
      "{18214: '```json\\n{\\n  \"isEnglish\": False,\\n  \"Translation\": \"Today it is sunny\"\\n}\\n```', 18215: '```json\\n{\\n  \"isEnglish\": False,\\n  \"Translation\": \"Today it is sunny\"\\n}\\n```'}\n"
     ]
    }
   ],
   "source": [
    "# testing OPENAI response to see if it's working for a few messages first\n",
    "# detect if all texts are in English, and if not translate them\n",
    "mydict = {}\n",
    "\n",
    "for idx, text in df_remaining['message'][:2].items():\n",
    "\n",
    "  response = client.chat.completions.create(\n",
    "    model=\"gpt-4o\",\n",
    "    messages=[\n",
    "      {\n",
    "        \"role\": \"system\",\n",
    "        \"content\": system_prompt,\n",
    "        \"temperature\":0.1,\n",
    "        \"response_format\": {\n",
    "              \"type\": \"json_object\"\n",
    "          },   \n",
    "      },\n",
    "      {\n",
    "        \"role\": \"user\",\n",
    "        # \"content\": text,\n",
    "        \"content\": 'Vandaag is het zonnig'   \n",
    "        # \"content\": 'I love Wilson and Maya' ,\n",
    "      }\n",
    "    ],\n",
    "    temperature=0.1,\n",
    "    top_p=1\n",
    "  )\n",
    "\n",
    "  mydict[idx] = response.choices[0].message.content\n",
    "  \n",
    "print(mydict)"
   ],
   "metadata": {
    "collapsed": false,
    "ExecuteTime": {
     "end_time": "2024-09-03T14:54:43.962191Z",
     "start_time": "2024-09-03T14:54:41.823542Z"
    }
   }
  },
  {
   "cell_type": "code",
   "execution_count": 13,
   "outputs": [],
   "source": [],
   "metadata": {
    "collapsed": false,
    "ExecuteTime": {
     "end_time": "2024-09-03T14:54:43.962404Z",
     "start_time": "2024-09-03T14:54:43.810274Z"
    }
   }
  },
  {
   "cell_type": "markdown",
   "source": [
    "### 4. Once we are happy with API response, let's kick off translation in BATCHES\n",
    "Create multiple batch jobs on open ai platform, which will complete within 24hours. \n",
    "Due to limitations on openai, only 90000 tokens can be processed in a single batch\n",
    "Running API requests are significantly cheaper but takes longer\n",
    "\n",
    "**Important:**\n",
    "The message id will be become the index, and is the main identifier of the translation"
   ],
   "metadata": {
    "collapsed": false
   }
  },
  {
   "cell_type": "code",
   "execution_count": 14,
   "outputs": [
    {
     "name": "stdout",
     "output_type": "stream",
     "text": [
      "Batch submitted batch_9KmEZ7TTk0dUIORNsdQoI26d for records 0-400\n",
      "Waiting for batch to start, go to sleep 5 minutes\n"
     ]
    },
    {
     "ename": "KeyboardInterrupt",
     "evalue": "",
     "output_type": "error",
     "traceback": [
      "\u001B[0;31m---------------------------------------------------------------------------\u001B[0m",
      "\u001B[0;31mKeyboardInterrupt\u001B[0m                         Traceback (most recent call last)",
      "Cell \u001B[0;32mIn[14], line 62\u001B[0m\n\u001B[1;32m     60\u001B[0m \u001B[38;5;66;03m# Check status of batch job running on openai platform\u001B[39;00m\n\u001B[1;32m     61\u001B[0m \u001B[38;5;28mprint\u001B[39m(\u001B[38;5;124m'\u001B[39m\u001B[38;5;124mWaiting for batch to start, go to sleep 5 minutes\u001B[39m\u001B[38;5;124m'\u001B[39m)\n\u001B[0;32m---> 62\u001B[0m \u001B[43mtime\u001B[49m\u001B[38;5;241;43m.\u001B[39;49m\u001B[43msleep\u001B[49m\u001B[43m(\u001B[49m\u001B[38;5;241;43m300\u001B[39;49m\u001B[43m)\u001B[49m\n\u001B[1;32m     63\u001B[0m batch_job \u001B[38;5;241m=\u001B[39m client\u001B[38;5;241m.\u001B[39mbatches\u001B[38;5;241m.\u001B[39mretrieve(batch_job\u001B[38;5;241m.\u001B[39mid)\n\u001B[1;32m     64\u001B[0m \u001B[38;5;28mprint\u001B[39m(\u001B[38;5;124m'\u001B[39m\u001B[38;5;124mBatch \u001B[39m\u001B[38;5;132;01m{}\u001B[39;00m\u001B[38;5;124m\"\u001B[39m\u001B[38;5;124m status \u001B[39m\u001B[38;5;132;01m{}\u001B[39;00m\u001B[38;5;124m'\u001B[39m\u001B[38;5;241m.\u001B[39mformat(batch_job\u001B[38;5;241m.\u001B[39mid, batch_job\u001B[38;5;241m.\u001B[39mstatus))\n",
      "\u001B[0;31mKeyboardInterrupt\u001B[0m: "
     ]
    }
   ],
   "source": [
    "# Creating an array of json tasks for the next 2000 texts messages\n",
    "start = 0\n",
    "end = 2000\n",
    "interval = 400\n",
    "next = start + interval\n",
    "\n",
    "while next <= end:\n",
    "    \n",
    "    # create an array of json tasks for each batch job\n",
    "    tasks = []\n",
    "    for index, text in df_remaining['message'][start:next].items():\n",
    "    \n",
    "        task = {\n",
    "            \"custom_id\": f\"task-{index}\",\n",
    "            \"method\":\"POST\",\n",
    "            \"url\":\"/v1/chat/completions\",\n",
    "            \"body\": {\n",
    "              # This is what you would have in your Chat Completions API call\n",
    "              \"model\":\"gpt-4-turbo\",\n",
    "              \"temperature\":0.1,\n",
    "              \"response_format\": {\n",
    "                  \"type\": \"json_object\"\n",
    "              },\n",
    "              \"messages\": [\n",
    "                {\n",
    "                  \"role\": \"system\",\n",
    "                  \"content\": system_prompt,\n",
    "                },\n",
    "                {\n",
    "                  \"role\": \"user\",\n",
    "                  \"content\": text,\n",
    "                },\n",
    "              ]\n",
    "            }\n",
    "          }\n",
    "        \n",
    "        tasks.append(task)\n",
    "        \n",
    "    # create json file and save it locally\n",
    "    with open(config.path_translation_json_batchjob, 'w') as file:\n",
    "        for obj in tasks:\n",
    "            file.write(json.dumps(obj) + '\\n') \n",
    "            \n",
    "    # Uploading json file to openai platform\n",
    "    batch_file = client.files.create(\n",
    "        file=open(config.path_translation_json_batchjob, 'rb'),\n",
    "        purpose='batch'\n",
    "    )    \n",
    "    \n",
    "    # Creating the batch job on openai\n",
    "    batch_job = client.batches.create(\n",
    "        input_file_id=batch_file.id,\n",
    "        endpoint=\"/v1/chat/completions\",\n",
    "        completion_window=\"24h\"\n",
    "    )    \n",
    "    \n",
    "    print('Batch submitted {} for records {}-{}'.format(batch_job.id, start, next))\n",
    "    logger.info('Batch submitted {} for records {}-{}'.format(batch_job.id, start, next))\n",
    "    \n",
    "    # Check status of batch job running on openai platform\n",
    "    print('Waiting for batch to start, go to sleep 5 minutes')\n",
    "    time.sleep(300)\n",
    "    batch_job = client.batches.retrieve(batch_job.id)\n",
    "    print('Batch {}\" status {}'.format(batch_job.id, batch_job.status))\n",
    "    logger.info('Batch {}\" status {}'.format(batch_job.id, batch_job.status))\n",
    "    \n",
    "    # wait for batch to complete before starting the next batch job. (CHATGPT does not allow multiple batches to run in parallel)\n",
    "    while batch_job.status in ['in_progress', 'validating', 'finalizing']:\n",
    "        print('Batch {} still running - going to sleep for 5 minutes'.format(batch_job.id))\n",
    "        logger.info('Batch {} still running - going to sleep for 5 minutes'.format(batch_job.id))\n",
    "        time.sleep(300)\n",
    "        batch_job = client.batches.retrieve(batch_job.id)\n",
    "    \n",
    "    # when batch is completed, set counters to kick off the next batch job of 400 requests   \n",
    "    if not batch_job.status == 'failed':\n",
    "        start = start + interval\n",
    "        next = next + interval"
   ],
   "metadata": {
    "collapsed": false,
    "ExecuteTime": {
     "end_time": "2024-09-03T14:57:57.182581Z",
     "start_time": "2024-09-03T14:54:43.815653Z"
    }
   }
  },
  {
   "cell_type": "markdown",
   "source": [
    "### 5. Load and Analyze API results"
   ],
   "metadata": {
    "collapsed": false
   }
  },
  {
   "cell_type": "code",
   "execution_count": null,
   "outputs": [],
   "source": [
    "# get all batch jobs that were submitted from openai\n",
    "# batch_jobs = []\n",
    "batch_jobs = client.batches.list(limit=100)\n",
    "print('Number of batch jobs retrieved: {}'.format(len(batch_jobs.data)))"
   ],
   "metadata": {
    "collapsed": false,
    "ExecuteTime": {
     "start_time": "2024-09-03T14:57:57.174854Z"
    }
   }
  },
  {
   "cell_type": "code",
   "execution_count": null,
   "outputs": [],
   "source": [
    "# select batches to process\n",
    "batches = []\n",
    "for batch in batch_jobs.data:\n",
    "   if ((batch.status == 'completed') & \n",
    "        (batch.request_counts.failed == 0) & \n",
    "        (batch.request_counts.total > 10)):\n",
    "            batches.append(batch.id)\n",
    "            print(batch.id, batch.status, batch.request_counts.completed, batch.request_counts.failed) "
   ],
   "metadata": {
    "collapsed": false,
    "ExecuteTime": {
     "start_time": "2024-09-03T14:57:57.177914Z"
    }
   }
  },
  {
   "cell_type": "code",
   "execution_count": null,
   "outputs": [],
   "source": [
    "# Download batch content from OPENAI and consolidate all api results locally into a json file\n",
    "# OPENAI will delete files from batches after 30 days, so we might not be able to retrieve old content\n",
    "# file batch_job_resuts will still contain all those old details so don't delete it, just append\n",
    "\n",
    "# first clear the file if it exists\n",
    "# open(config.path_translation_json_batchjob_result, 'w').close()\n",
    "\n",
    "# append contents of all batches to local json results file\n",
    "for batch in batches:\n",
    "    batch_job = client.batches.retrieve(batch) \n",
    "    try:        \n",
    "        result = client.files.content(batch_job.output_file_id).content\n",
    "        with open(config.path_translation_json_batchjob_result, 'ab') as file:\n",
    "            file.write(result)   \n",
    "    except:\n",
    "        # print('Batch file {} output already deleted on openai'.format(batch))\n",
    "        logger.info('Batch file {} output already deleted on openai'.format(batch))\n",
    "        "
   ],
   "metadata": {
    "collapsed": false,
    "ExecuteTime": {
     "start_time": "2024-09-03T14:57:57.180360Z"
    }
   }
  },
  {
   "cell_type": "code",
   "execution_count": null,
   "outputs": [],
   "source": [
    "# Loading all json api data from locally saved json file\n",
    "results = []\n",
    "with open(config.path_translation_json_batchjob_result, 'r') as file:\n",
    "    for line in file:\n",
    "        # Parsing the JSON string into a dict and appending to the list of results\n",
    "        json_object = json.loads(line.replace('\\n', '').strip())\n",
    "        results.append(json_object)"
   ],
   "metadata": {
    "collapsed": false,
    "ExecuteTime": {
     "end_time": "2024-09-03T14:57:57.185449Z",
     "start_time": "2024-09-03T14:57:57.182850Z"
    }
   }
  },
  {
   "cell_type": "code",
   "execution_count": null,
   "outputs": [],
   "source": [
    "# Reading only the first results as a test if API worked\n",
    "for res in results[100:106]:\n",
    "    task_id = res['custom_id']\n",
    "    # Getting index from task id\n",
    "    index = task_id.split('-')[-1]\n",
    "    result = res['response']['body']['choices'][0]['message']['content']\n",
    "    movie = df.loc[int(index)]\n",
    "    description = movie['message']\n",
    "    # title = movie['Series_Title']\n",
    "    print(f\"\\nMESSAGE: {index}-{description}\\n\\nRESULT: {result}\")\n",
    "    print(\"\\n----------------------------\\n\")"
   ],
   "metadata": {
    "collapsed": false,
    "ExecuteTime": {
     "end_time": "2024-09-03T14:57:57.185652Z",
     "start_time": "2024-09-03T14:57:57.185595Z"
    }
   }
  },
  {
   "cell_type": "markdown",
   "source": [
    "### 6. Load API results into dataframe\n",
    "The API return 2 responses we are interested in:\n",
    "1) A Boolean variable isEnglish to indicate of the message are in English or not\n",
    "2) A translation in English if the message was in another language\n",
    "\n",
    "Save both these responses in a separate dictionary and create a dataframe with 2 columns:\n",
    "- is_english\n",
    "- translation"
   ],
   "metadata": {
    "collapsed": false
   }
  },
  {
   "cell_type": "code",
   "execution_count": null,
   "outputs": [],
   "source": [
    "# Load all responses into a dictionaries\n",
    "isEnglishs = {}\n",
    "translatedTexts = {}\n",
    "\n",
    "for res in results:\n",
    "    task_id = res['custom_id']\n",
    "    # Get unique message id from task id\n",
    "    index = int(task_id.split('-')[-1])\n",
    "    # get response content and strip of new line indicators\n",
    "    result = res['response']['body']['choices'][0]['message']['content']\n",
    "    result = result.replace('\\n', '').strip()\n",
    "    result = result.replace('\\t', '').strip()\n",
    "    # get original message\n",
    "    df_tmp = df.loc[index]\n",
    "    description = df_tmp['message']\n",
    "    translation = ''\n",
    "    isEnglish = ''\n",
    "\n",
    "    try:\n",
    "        dict_object = json.loads(result)\n",
    "        # isEnglish = bool(dict_object['isEnglish'])\n",
    "        isEnglish = dict_object['isEnglish']\n",
    "    except:\n",
    "        pass\n",
    "\n",
    "    try:\n",
    "        translation = dict_object['Translation']       \n",
    "    except:\n",
    "        pass\n",
    "    \n",
    "    isEnglishs[index] = isEnglish\n",
    "    translatedTexts[index] = translation\n",
    "    "
   ],
   "metadata": {
    "collapsed": false,
    "ExecuteTime": {
     "start_time": "2024-09-03T14:57:57.187643Z"
    }
   }
  },
  {
   "cell_type": "code",
   "execution_count": null,
   "outputs": [],
   "source": [
    "results[0]"
   ],
   "metadata": {
    "collapsed": false,
    "ExecuteTime": {
     "end_time": "2024-09-03T14:57:57.233028Z",
     "start_time": "2024-09-03T14:57:57.190400Z"
    }
   }
  },
  {
   "cell_type": "markdown",
   "source": [
    "## Clean translations and save to database"
   ],
   "metadata": {
    "collapsed": false
   }
  },
  {
   "cell_type": "code",
   "execution_count": null,
   "outputs": [],
   "source": [
    "# create dataframe\n",
    "data = {'is_english': isEnglishs,\n",
    "        'translation': translatedTexts}\n",
    "\n",
    "df_translation = pd.DataFrame.from_dict(data,\n",
    "                                         orient='columns',\n",
    "                                         )\n",
    "df_translation.index.name = 'id'\n",
    "df_translation.head()"
   ],
   "metadata": {
    "collapsed": false,
    "ExecuteTime": {
     "start_time": "2024-09-03T14:57:57.192944Z"
    }
   }
  },
  {
   "cell_type": "code",
   "execution_count": null,
   "outputs": [],
   "source": [
    "df_translation.shape"
   ],
   "metadata": {
    "collapsed": false,
    "ExecuteTime": {
     "start_time": "2024-09-03T14:57:57.196782Z"
    }
   }
  },
  {
   "cell_type": "code",
   "execution_count": null,
   "outputs": [],
   "source": [
    "# Add message for analysis\n",
    "df_translated_enhanced = df_translation.merge(df[['message']], on='id', how='inner')\n",
    "df_translated_enhanced.head()"
   ],
   "metadata": {
    "collapsed": false,
    "ExecuteTime": {
     "start_time": "2024-09-03T14:57:57.199804Z"
    }
   }
  },
  {
   "cell_type": "code",
   "execution_count": null,
   "outputs": [],
   "source": [
    "df_translated_enhanced.shape"
   ],
   "metadata": {
    "collapsed": false,
    "ExecuteTime": {
     "start_time": "2024-09-03T14:57:57.203016Z"
    }
   }
  },
  {
   "cell_type": "code",
   "execution_count": null,
   "outputs": [],
   "source": [
    "df_translated_enhanced.is_english.value_counts()"
   ],
   "metadata": {
    "collapsed": false,
    "ExecuteTime": {
     "start_time": "2024-09-03T14:57:57.205631Z"
    }
   }
  },
  {
   "cell_type": "code",
   "execution_count": null,
   "outputs": [],
   "source": [
    "df_translated_enhanced.info()"
   ],
   "metadata": {
    "collapsed": false,
    "ExecuteTime": {
     "start_time": "2024-09-03T14:57:57.208244Z"
    }
   }
  },
  {
   "cell_type": "code",
   "execution_count": null,
   "outputs": [],
   "source": [
    "# remove spaces\n",
    "df_translated_enhanced['is_english'] = df_translated_enhanced['is_english'].map(lambda x: str(x).replace(' ', '').capitalize())\n",
    "df_translated_enhanced.is_english.value_counts()"
   ],
   "metadata": {
    "collapsed": false,
    "ExecuteTime": {
     "start_time": "2024-09-03T14:57:57.211012Z"
    }
   }
  },
  {
   "cell_type": "code",
   "execution_count": null,
   "outputs": [],
   "source": [
    "df_translated_enhanced.info()"
   ],
   "metadata": {
    "collapsed": false,
    "ExecuteTime": {
     "start_time": "2024-09-03T14:57:57.213694Z"
    }
   }
  },
  {
   "cell_type": "code",
   "execution_count": null,
   "outputs": [],
   "source": [
    "# convert to boolean\n",
    "df_translated_enhanced['is_english'] = df_translated_enhanced['is_english'].map(lambda x: True if str(x) == 'True' else False)\n",
    "    \n",
    "# df_translated_enhanced['is_english'] = np.where(df_translated_enhanced['is_english'].str.contains('True'), True, False)"
   ],
   "metadata": {
    "collapsed": false,
    "ExecuteTime": {
     "start_time": "2024-09-03T14:57:57.216928Z"
    }
   }
  },
  {
   "cell_type": "code",
   "execution_count": null,
   "outputs": [],
   "source": [
    "df_translated_enhanced.is_english.value_counts()"
   ],
   "metadata": {
    "collapsed": false,
    "ExecuteTime": {
     "start_time": "2024-09-03T14:57:57.220076Z"
    }
   }
  },
  {
   "cell_type": "code",
   "execution_count": null,
   "outputs": [],
   "source": [
    "df_translated_enhanced.info()"
   ],
   "metadata": {
    "collapsed": false,
    "ExecuteTime": {
     "start_time": "2024-09-03T14:57:57.223137Z"
    }
   }
  },
  {
   "cell_type": "code",
   "execution_count": null,
   "outputs": [],
   "source": [
    "# how many texts were not in English ?\n",
    "print('Messages not in English:', len(df_translated_enhanced[df_translated_enhanced.is_english == False]))\n",
    "df_translated_enhanced[df_translated_enhanced.is_english == False].sample(10)"
   ],
   "metadata": {
    "collapsed": false,
    "ExecuteTime": {
     "start_time": "2024-09-03T14:57:57.225708Z"
    }
   }
  },
  {
   "cell_type": "code",
   "execution_count": null,
   "outputs": [],
   "source": [
    "funny_texts = [\n",
    "    'The text provided does not contain any recognizable language or meaningful content.',\n",
    "    'This SMS is from another language.',\n",
    "    'It is not necessary to translate this message because this message is sentimental.',\n",
    "    'NOTES: I cannot translate this message because it is not complete.',\n",
    "    'NOTES: this person wants to translate two words',\n",
    "    'I already translated this one.',\n",
    "    'NOTES: I already translated the message is not important to translate.'\n",
    "]\n",
    "\n",
    "df_translated_enhanced[df_translated_enhanced['translation'].isin(funny_texts)]"
   ],
   "metadata": {
    "collapsed": false,
    "ExecuteTime": {
     "start_time": "2024-09-03T14:57:57.228337Z"
    }
   }
  },
  {
   "cell_type": "code",
   "execution_count": null,
   "outputs": [],
   "source": [
    "# if text is not marked as English ,but no translation was given, set the language back to English\n",
    "error_index  = df_translated_enhanced[(df_translated_enhanced['is_english'] == False) & \n",
    "                                      (df_translated_enhanced['translation'].map(lambda x: len(x) == 0))].index\n",
    "len(error_index)"
   ],
   "metadata": {
    "collapsed": false,
    "ExecuteTime": {
     "start_time": "2024-09-03T14:57:57.231178Z"
    }
   }
  },
  {
   "cell_type": "code",
   "execution_count": null,
   "outputs": [],
   "source": [
    "df_translated_enhanced.loc[error_index]"
   ],
   "metadata": {
    "collapsed": false,
    "ExecuteTime": {
     "end_time": "2024-09-03T14:57:57.375601Z",
     "start_time": "2024-09-03T14:57:57.234163Z"
    }
   }
  },
  {
   "cell_type": "code",
   "execution_count": null,
   "outputs": [],
   "source": [
    "# do we have duplicates ?\n",
    "df_translated_enhanced.duplicated().sum()"
   ],
   "metadata": {
    "collapsed": false,
    "ExecuteTime": {
     "start_time": "2024-09-03T14:57:57.236764Z"
    }
   }
  },
  {
   "cell_type": "code",
   "execution_count": null,
   "outputs": [],
   "source": [
    "# drop duplicated translations if it exists\n",
    "df_translated_enhanced =  df_translated_enhanced[~df_translated_enhanced.index.duplicated(keep='first')]\n",
    "df_translated_enhanced.shape"
   ],
   "metadata": {
    "collapsed": false,
    "ExecuteTime": {
     "start_time": "2024-09-03T14:57:57.238994Z"
    }
   }
  },
  {
   "cell_type": "code",
   "execution_count": null,
   "outputs": [],
   "source": [
    "df_translated_enhanced = df_translated_enhanced.sort_index()\n",
    "df_translated_enhanced.head()"
   ],
   "metadata": {
    "collapsed": false,
    "ExecuteTime": {
     "start_time": "2024-09-03T14:57:57.240303Z"
    }
   }
  },
  {
   "cell_type": "markdown",
   "source": [
    "### 8. Save the dataset to sqlite database."
   ],
   "metadata": {
    "collapsed": false
   }
  },
  {
   "cell_type": "code",
   "execution_count": null,
   "outputs": [],
   "source": [
    "df_translated_enhanced.info()"
   ],
   "metadata": {
    "collapsed": false,
    "ExecuteTime": {
     "start_time": "2024-09-03T14:57:57.242406Z"
    }
   }
  },
  {
   "cell_type": "code",
   "execution_count": null,
   "outputs": [],
   "source": [
    "# make sure is_english contain only values True and False\n",
    "print(df_translated_enhanced.is_english.unique())"
   ],
   "metadata": {
    "collapsed": false,
    "ExecuteTime": {
     "start_time": "2024-09-03T14:57:57.245052Z"
    }
   }
  },
  {
   "cell_type": "code",
   "execution_count": null,
   "outputs": [],
   "source": [
    "# save to csv file\n",
    "\n",
    "df_translation.to_csv(config.path_log_translation)"
   ],
   "metadata": {
    "collapsed": false,
    "ExecuteTime": {
     "start_time": "2024-09-03T14:57:57.246437Z"
    }
   }
  },
  {
   "cell_type": "code",
   "execution_count": null,
   "outputs": [],
   "source": [
    "# Drop tmp column before we save it\n",
    "df_translated_enhanced.drop(['message'], inplace=True, axis=1)\n",
    "df_translated_enhanced.info()"
   ],
   "metadata": {
    "collapsed": false,
    "ExecuteTime": {
     "start_time": "2024-09-03T14:57:57.248015Z"
    }
   }
  },
  {
   "cell_type": "code",
   "execution_count": null,
   "outputs": [],
   "source": [
    "# add to existing sqlite database\n",
    "df_translated_enhanced.to_sql('message_language', engine, index=True, if_exists='replace')"
   ],
   "metadata": {
    "collapsed": false,
    "ExecuteTime": {
     "start_time": "2024-09-03T14:57:57.249383Z"
    }
   }
  },
  {
   "cell_type": "markdown",
   "source": [
    "### 9. Update messages dataset with translations and update SQLITE database"
   ],
   "metadata": {
    "collapsed": false
   }
  },
  {
   "cell_type": "code",
   "execution_count": null,
   "outputs": [],
   "source": [
    "# load cleaned message data from database\n",
    "engine = create_engine(config.path_database)\n",
    "conn = engine.connect()\n",
    "df = pd.read_sql('select * from messages', con=conn, index_col='id')\n",
    "df.head()"
   ],
   "metadata": {
    "collapsed": false,
    "ExecuteTime": {
     "start_time": "2024-09-03T14:57:57.250756Z"
    }
   }
  },
  {
   "cell_type": "code",
   "execution_count": null,
   "outputs": [],
   "source": [
    "df.info()"
   ],
   "metadata": {
    "collapsed": false,
    "ExecuteTime": {
     "start_time": "2024-09-03T14:57:57.252250Z"
    }
   }
  },
  {
   "cell_type": "code",
   "execution_count": null,
   "outputs": [],
   "source": [
    "# read message language detection and translation to English, if it exists\n",
    "df_language = pd.DataFrame()\n",
    "try:\n",
    "    df_language = pd.read_sql('select * from message_language',\n",
    "                              con=conn,\n",
    "                              index_col='id',\n",
    "                              dtype={'is_english': 'boolean'}\n",
    "                              )\n",
    "finally:\n",
    "    pass\n",
    "\n",
    "df_language.info()"
   ],
   "metadata": {
    "collapsed": false,
    "ExecuteTime": {
     "start_time": "2024-09-03T14:57:57.253589Z"
    }
   }
  },
  {
   "cell_type": "code",
   "execution_count": null,
   "outputs": [],
   "source": [
    "df_language.sort_index().head()"
   ],
   "metadata": {
    "collapsed": false,
    "ExecuteTime": {
     "start_time": "2024-09-03T14:57:57.255153Z"
    }
   }
  },
  {
   "cell_type": "code",
   "execution_count": null,
   "outputs": [],
   "source": [
    "# merge dataframes\n",
    "if len(df_language) > 0:\n",
    "    df = df.merge(df_language, on='id', how='left' )\n",
    "    \n",
    "df.head()"
   ],
   "metadata": {
    "collapsed": false,
    "ExecuteTime": {
     "start_time": "2024-09-03T14:57:57.256997Z"
    }
   }
  },
  {
   "cell_type": "code",
   "execution_count": null,
   "outputs": [],
   "source": [
    "df['original_message'] = df['message']"
   ],
   "metadata": {
    "collapsed": false,
    "ExecuteTime": {
     "start_time": "2024-09-03T14:57:57.258272Z"
    }
   }
  },
  {
   "cell_type": "code",
   "execution_count": null,
   "outputs": [],
   "source": [
    "df.is_english.value_counts(dropna=False)"
   ],
   "metadata": {
    "collapsed": false,
    "ExecuteTime": {
     "start_time": "2024-09-03T14:57:57.259742Z"
    }
   }
  },
  {
   "cell_type": "code",
   "execution_count": null,
   "outputs": [],
   "source": [
    "# For messages with no translation or language detection, set is_english = True\n",
    "df['is_english'] = np.where(df['is_english'].isna(), True, df['is_english'])\n",
    "df.is_english.value_counts(dropna=False)"
   ],
   "metadata": {
    "collapsed": false,
    "ExecuteTime": {
     "start_time": "2024-09-03T14:57:57.260983Z"
    }
   }
  },
  {
   "cell_type": "code",
   "execution_count": null,
   "outputs": [],
   "source": [
    "# display some translations\n",
    "df[df['is_english'] == False][['original_message', 'is_english', 'translation']].head(5)"
   ],
   "metadata": {
    "collapsed": false,
    "ExecuteTime": {
     "start_time": "2024-09-03T14:57:57.262283Z"
    }
   }
  },
  {
   "cell_type": "code",
   "execution_count": null,
   "outputs": [],
   "source": [
    "# replace message with translation, if message is flagged as not being in English\n",
    "df['message'] =  np.where((df['is_english'] == False) & (~df['translation'].isnull()),\n",
    "                           df['translation'],\n",
    "                           df['original_message'])"
   ],
   "metadata": {
    "collapsed": false,
    "ExecuteTime": {
     "start_time": "2024-09-03T14:57:57.263538Z"
    }
   }
  },
  {
   "cell_type": "code",
   "execution_count": null,
   "outputs": [],
   "source": [
    "# make sure messages already in English are untouched\n",
    "cols = ['original_message', 'is_english', 'translation', 'message']\n",
    "df[df['is_english'] == True][cols].sample(5)"
   ],
   "metadata": {
    "collapsed": false,
    "ExecuteTime": {
     "start_time": "2024-09-03T14:57:57.264904Z"
    }
   }
  },
  {
   "cell_type": "code",
   "execution_count": null,
   "outputs": [],
   "source": [
    "# check that messages not in English were replaced\n",
    "df[df['is_english'] == False][cols].sample(10)"
   ],
   "metadata": {
    "collapsed": false,
    "ExecuteTime": {
     "start_time": "2024-09-03T14:57:57.266283Z"
    }
   }
  },
  {
   "cell_type": "code",
   "execution_count": null,
   "outputs": [],
   "source": [
    "# finally lets drop the columns we no longer need\n",
    "df = df.drop(['original_message', 'is_english', 'translation'], axis=1)"
   ],
   "metadata": {
    "collapsed": false,
    "ExecuteTime": {
     "start_time": "2024-09-03T14:57:57.267909Z"
    }
   }
  },
  {
   "cell_type": "code",
   "execution_count": null,
   "outputs": [],
   "source": [
    "df.info()"
   ],
   "metadata": {
    "collapsed": false,
    "ExecuteTime": {
     "start_time": "2024-09-03T14:57:57.269587Z"
    }
   }
  },
  {
   "cell_type": "code",
   "execution_count": null,
   "outputs": [],
   "source": [
    "df.to_sql('messages', engine, index=True, if_exists='replace')"
   ],
   "metadata": {
    "collapsed": false,
    "ExecuteTime": {
     "start_time": "2024-09-03T14:57:57.271495Z"
    }
   }
  }
 ],
 "metadata": {
  "kernelspec": {
   "display_name": "Python [conda env:disaster_pipeline] *",
   "language": "python",
   "name": "conda-env-disaster_pipeline-py"
  },
  "language_info": {
   "codemirror_mode": {
    "name": "ipython",
    "version": 3
   },
   "file_extension": ".py",
   "mimetype": "text/x-python",
   "name": "python",
   "nbconvert_exporter": "python",
   "pygments_lexer": "ipython3",
   "version": "3.9.19"
  }
 },
 "nbformat": 4,
 "nbformat_minor": 2
}

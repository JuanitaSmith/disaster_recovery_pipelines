{
 "cells": [
  {
   "cell_type": "markdown",
   "metadata": {},
   "source": [
    "# Language Detection Pipeline Preparation\n",
    "\n",
    "During ETL pipeline preparation, some messages were not in English.\n",
    "Experiment with CHATGPT to detect the language of each message and translate it to English\n",
    "\n",
    "Note: CHATGPT is a paid service, and takes a long time to translate."
   ]
  },
  {
   "cell_type": "markdown",
   "source": [
    "### 1. Import libraries and load datasets"
   ],
   "metadata": {
    "collapsed": false
   }
  },
  {
   "cell_type": "code",
   "execution_count": 1,
   "metadata": {
    "ExecuteTime": {
     "end_time": "2024-05-07T10:34:21.088220Z",
     "start_time": "2024-05-07T10:34:19.838331Z"
    }
   },
   "outputs": [],
   "source": [
    "# import libraries\n",
    "import pandas as pd\n",
    "from sqlalchemy import create_engine\n",
    "import os\n",
    "from openai import OpenAI\n",
    "import json\n",
    "import numpy as np\n",
    "import time\n",
    "import logging\n",
    "logger = logging.getLogger(__name__)\n",
    "\n",
    "# environment settings\n",
    "pd.set_option('display.max_column', 400)\n",
    "pd.set_option('display.max_colwidth', 400)"
   ]
  },
  {
   "cell_type": "code",
   "execution_count": 2,
   "outputs": [],
   "source": [
    "\n",
    "FILE_LOG = '../data/disaster_response.log'\n",
    "\n",
    "# activate logging\n",
    "logging.basicConfig(filename=FILE_LOG, filemode='a', level=logging.INFO)"
   ],
   "metadata": {
    "collapsed": false,
    "ExecuteTime": {
     "end_time": "2024-05-07T10:34:21.106138Z",
     "start_time": "2024-05-07T10:34:21.089047Z"
    }
   }
  },
  {
   "cell_type": "code",
   "execution_count": 3,
   "metadata": {
    "ExecuteTime": {
     "end_time": "2024-05-07T10:34:28.543135Z",
     "start_time": "2024-05-07T10:34:27.743870Z"
    }
   },
   "outputs": [
    {
     "data": {
      "text/plain": "                                                                                                 message  \\\nid                                                                                                         \n2                                     Weather update - a cold front from Cuba that could pass over Haiti   \n7                                                                Is the Hurricane over or is it not over   \n8                                                                        Looking for someone but no name   \n9   UN reports Leogane 80-90 destroyed. Only Hospital St. Croix functioning. Needs supplies desperately.   \n12                                       says: west side of Haiti, rest of the country today and tonight   \n\n     genre  related  request  offer  aid_related  medical_help  \\\nid                                                               \n2   direct        1        0      0            0             0   \n7   direct        1        0      0            1             0   \n8   direct        1        0      0            0             0   \n9   direct        1        1      0            1             0   \n12  direct        1        0      0            0             0   \n\n    medical_products  search_and_rescue  security  military  child_alone  \\\nid                                                                         \n2                  0                  0         0         0            0   \n7                  0                  0         0         0            0   \n8                  0                  0         0         0            0   \n9                  1                  0         0         0            0   \n12                 0                  0         0         0            0   \n\n    water  food  shelter  clothing  money  missing_people  refugees  death  \\\nid                                                                           \n2       0     0        0         0      0               0         0      0   \n7       0     0        0         0      0               0         0      0   \n8       0     0        0         0      0               0         0      0   \n9       0     0        0         0      0               0         0      0   \n12      0     0        0         0      0               0         0      0   \n\n    other_aid  infrastructure_related  transport  buildings  electricity  \\\nid                                                                         \n2           0                       0          0          0            0   \n7           1                       0          0          0            0   \n8           0                       0          0          0            0   \n9           1                       1          0          1            0   \n12          0                       0          0          0            0   \n\n    tools  hospitals  shops  aid_centers  other_infrastructure  \\\nid                                                               \n2       0          0      0            0                     0   \n7       0          0      0            0                     0   \n8       0          0      0            0                     0   \n9       0          1      0            0                     0   \n12      0          0      0            0                     0   \n\n    weather_related  floods  storm  fire  earthquake  cold  other_weather  \\\nid                                                                          \n2                 0       0      0     0           0     0              0   \n7                 1       0      1     0           0     0              0   \n8                 0       0      0     0           0     0              0   \n9                 0       0      0     0           0     0              0   \n12                0       0      0     0           0     0              0   \n\n    direct_report  \nid                 \n2               0  \n7               0  \n8               0  \n9               0  \n12              0  ",
      "text/html": "<div>\n<style scoped>\n    .dataframe tbody tr th:only-of-type {\n        vertical-align: middle;\n    }\n\n    .dataframe tbody tr th {\n        vertical-align: top;\n    }\n\n    .dataframe thead th {\n        text-align: right;\n    }\n</style>\n<table border=\"1\" class=\"dataframe\">\n  <thead>\n    <tr style=\"text-align: right;\">\n      <th></th>\n      <th>message</th>\n      <th>genre</th>\n      <th>related</th>\n      <th>request</th>\n      <th>offer</th>\n      <th>aid_related</th>\n      <th>medical_help</th>\n      <th>medical_products</th>\n      <th>search_and_rescue</th>\n      <th>security</th>\n      <th>military</th>\n      <th>child_alone</th>\n      <th>water</th>\n      <th>food</th>\n      <th>shelter</th>\n      <th>clothing</th>\n      <th>money</th>\n      <th>missing_people</th>\n      <th>refugees</th>\n      <th>death</th>\n      <th>other_aid</th>\n      <th>infrastructure_related</th>\n      <th>transport</th>\n      <th>buildings</th>\n      <th>electricity</th>\n      <th>tools</th>\n      <th>hospitals</th>\n      <th>shops</th>\n      <th>aid_centers</th>\n      <th>other_infrastructure</th>\n      <th>weather_related</th>\n      <th>floods</th>\n      <th>storm</th>\n      <th>fire</th>\n      <th>earthquake</th>\n      <th>cold</th>\n      <th>other_weather</th>\n      <th>direct_report</th>\n    </tr>\n    <tr>\n      <th>id</th>\n      <th></th>\n      <th></th>\n      <th></th>\n      <th></th>\n      <th></th>\n      <th></th>\n      <th></th>\n      <th></th>\n      <th></th>\n      <th></th>\n      <th></th>\n      <th></th>\n      <th></th>\n      <th></th>\n      <th></th>\n      <th></th>\n      <th></th>\n      <th></th>\n      <th></th>\n      <th></th>\n      <th></th>\n      <th></th>\n      <th></th>\n      <th></th>\n      <th></th>\n      <th></th>\n      <th></th>\n      <th></th>\n      <th></th>\n      <th></th>\n      <th></th>\n      <th></th>\n      <th></th>\n      <th></th>\n      <th></th>\n      <th></th>\n      <th></th>\n      <th></th>\n    </tr>\n  </thead>\n  <tbody>\n    <tr>\n      <th>2</th>\n      <td>Weather update - a cold front from Cuba that could pass over Haiti</td>\n      <td>direct</td>\n      <td>1</td>\n      <td>0</td>\n      <td>0</td>\n      <td>0</td>\n      <td>0</td>\n      <td>0</td>\n      <td>0</td>\n      <td>0</td>\n      <td>0</td>\n      <td>0</td>\n      <td>0</td>\n      <td>0</td>\n      <td>0</td>\n      <td>0</td>\n      <td>0</td>\n      <td>0</td>\n      <td>0</td>\n      <td>0</td>\n      <td>0</td>\n      <td>0</td>\n      <td>0</td>\n      <td>0</td>\n      <td>0</td>\n      <td>0</td>\n      <td>0</td>\n      <td>0</td>\n      <td>0</td>\n      <td>0</td>\n      <td>0</td>\n      <td>0</td>\n      <td>0</td>\n      <td>0</td>\n      <td>0</td>\n      <td>0</td>\n      <td>0</td>\n      <td>0</td>\n    </tr>\n    <tr>\n      <th>7</th>\n      <td>Is the Hurricane over or is it not over</td>\n      <td>direct</td>\n      <td>1</td>\n      <td>0</td>\n      <td>0</td>\n      <td>1</td>\n      <td>0</td>\n      <td>0</td>\n      <td>0</td>\n      <td>0</td>\n      <td>0</td>\n      <td>0</td>\n      <td>0</td>\n      <td>0</td>\n      <td>0</td>\n      <td>0</td>\n      <td>0</td>\n      <td>0</td>\n      <td>0</td>\n      <td>0</td>\n      <td>1</td>\n      <td>0</td>\n      <td>0</td>\n      <td>0</td>\n      <td>0</td>\n      <td>0</td>\n      <td>0</td>\n      <td>0</td>\n      <td>0</td>\n      <td>0</td>\n      <td>1</td>\n      <td>0</td>\n      <td>1</td>\n      <td>0</td>\n      <td>0</td>\n      <td>0</td>\n      <td>0</td>\n      <td>0</td>\n    </tr>\n    <tr>\n      <th>8</th>\n      <td>Looking for someone but no name</td>\n      <td>direct</td>\n      <td>1</td>\n      <td>0</td>\n      <td>0</td>\n      <td>0</td>\n      <td>0</td>\n      <td>0</td>\n      <td>0</td>\n      <td>0</td>\n      <td>0</td>\n      <td>0</td>\n      <td>0</td>\n      <td>0</td>\n      <td>0</td>\n      <td>0</td>\n      <td>0</td>\n      <td>0</td>\n      <td>0</td>\n      <td>0</td>\n      <td>0</td>\n      <td>0</td>\n      <td>0</td>\n      <td>0</td>\n      <td>0</td>\n      <td>0</td>\n      <td>0</td>\n      <td>0</td>\n      <td>0</td>\n      <td>0</td>\n      <td>0</td>\n      <td>0</td>\n      <td>0</td>\n      <td>0</td>\n      <td>0</td>\n      <td>0</td>\n      <td>0</td>\n      <td>0</td>\n    </tr>\n    <tr>\n      <th>9</th>\n      <td>UN reports Leogane 80-90 destroyed. Only Hospital St. Croix functioning. Needs supplies desperately.</td>\n      <td>direct</td>\n      <td>1</td>\n      <td>1</td>\n      <td>0</td>\n      <td>1</td>\n      <td>0</td>\n      <td>1</td>\n      <td>0</td>\n      <td>0</td>\n      <td>0</td>\n      <td>0</td>\n      <td>0</td>\n      <td>0</td>\n      <td>0</td>\n      <td>0</td>\n      <td>0</td>\n      <td>0</td>\n      <td>0</td>\n      <td>0</td>\n      <td>1</td>\n      <td>1</td>\n      <td>0</td>\n      <td>1</td>\n      <td>0</td>\n      <td>0</td>\n      <td>1</td>\n      <td>0</td>\n      <td>0</td>\n      <td>0</td>\n      <td>0</td>\n      <td>0</td>\n      <td>0</td>\n      <td>0</td>\n      <td>0</td>\n      <td>0</td>\n      <td>0</td>\n      <td>0</td>\n    </tr>\n    <tr>\n      <th>12</th>\n      <td>says: west side of Haiti, rest of the country today and tonight</td>\n      <td>direct</td>\n      <td>1</td>\n      <td>0</td>\n      <td>0</td>\n      <td>0</td>\n      <td>0</td>\n      <td>0</td>\n      <td>0</td>\n      <td>0</td>\n      <td>0</td>\n      <td>0</td>\n      <td>0</td>\n      <td>0</td>\n      <td>0</td>\n      <td>0</td>\n      <td>0</td>\n      <td>0</td>\n      <td>0</td>\n      <td>0</td>\n      <td>0</td>\n      <td>0</td>\n      <td>0</td>\n      <td>0</td>\n      <td>0</td>\n      <td>0</td>\n      <td>0</td>\n      <td>0</td>\n      <td>0</td>\n      <td>0</td>\n      <td>0</td>\n      <td>0</td>\n      <td>0</td>\n      <td>0</td>\n      <td>0</td>\n      <td>0</td>\n      <td>0</td>\n      <td>0</td>\n    </tr>\n  </tbody>\n</table>\n</div>"
     },
     "execution_count": 3,
     "metadata": {},
     "output_type": "execute_result"
    }
   ],
   "source": [
    "# load data from database created during ETL pipeline preparation\n",
    "engine = create_engine('sqlite:///../data/DisasterResponse.db')\n",
    "conn = engine.connect()\n",
    "df = pd.read_sql('select * from messages', con=conn, index_col='id')\n",
    "df.head()"
   ]
  },
  {
   "cell_type": "code",
   "execution_count": 3,
   "metadata": {
    "ExecuteTime": {
     "end_time": "2024-05-06T13:03:40.123588Z",
     "start_time": "2024-05-06T13:03:40.101797Z"
    }
   },
   "outputs": [
    {
     "name": "stdout",
     "output_type": "stream",
     "text": [
      "<class 'pandas.core.frame.DataFrame'>\n",
      "Index: 25991 entries, 2 to 30265\n",
      "Data columns (total 38 columns):\n",
      " #   Column                  Non-Null Count  Dtype \n",
      "---  ------                  --------------  ----- \n",
      " 0   message                 25991 non-null  object\n",
      " 1   genre                   25991 non-null  object\n",
      " 2   related                 25991 non-null  int64 \n",
      " 3   request                 25991 non-null  int64 \n",
      " 4   offer                   25991 non-null  int64 \n",
      " 5   aid_related             25991 non-null  int64 \n",
      " 6   medical_help            25991 non-null  int64 \n",
      " 7   medical_products        25991 non-null  int64 \n",
      " 8   search_and_rescue       25991 non-null  int64 \n",
      " 9   security                25991 non-null  int64 \n",
      " 10  military                25991 non-null  int64 \n",
      " 11  child_alone             25991 non-null  int64 \n",
      " 12  water                   25991 non-null  int64 \n",
      " 13  food                    25991 non-null  int64 \n",
      " 14  shelter                 25991 non-null  int64 \n",
      " 15  clothing                25991 non-null  int64 \n",
      " 16  money                   25991 non-null  int64 \n",
      " 17  missing_people          25991 non-null  int64 \n",
      " 18  refugees                25991 non-null  int64 \n",
      " 19  death                   25991 non-null  int64 \n",
      " 20  other_aid               25991 non-null  int64 \n",
      " 21  infrastructure_related  25991 non-null  int64 \n",
      " 22  transport               25991 non-null  int64 \n",
      " 23  buildings               25991 non-null  int64 \n",
      " 24  electricity             25991 non-null  int64 \n",
      " 25  tools                   25991 non-null  int64 \n",
      " 26  hospitals               25991 non-null  int64 \n",
      " 27  shops                   25991 non-null  int64 \n",
      " 28  aid_centers             25991 non-null  int64 \n",
      " 29  other_infrastructure    25991 non-null  int64 \n",
      " 30  weather_related         25991 non-null  int64 \n",
      " 31  floods                  25991 non-null  int64 \n",
      " 32  storm                   25991 non-null  int64 \n",
      " 33  fire                    25991 non-null  int64 \n",
      " 34  earthquake              25991 non-null  int64 \n",
      " 35  cold                    25991 non-null  int64 \n",
      " 36  other_weather           25991 non-null  int64 \n",
      " 37  direct_report           25991 non-null  int64 \n",
      "dtypes: int64(36), object(2)\n",
      "memory usage: 7.7+ MB\n"
     ]
    }
   ],
   "source": [
    "df.info()"
   ]
  },
  {
   "cell_type": "code",
   "execution_count": 91,
   "outputs": [
    {
     "data": {
      "text/plain": "(7400, 2)"
     },
     "execution_count": 91,
     "metadata": {},
     "output_type": "execute_result"
    }
   ],
   "source": [
    "# try to read message where language detection was already executed\n",
    "df_language = pd.DataFrame()\n",
    "try:\n",
    "    df_language = pd.read_sql('select * from message_language',\n",
    "                              con=conn,\n",
    "                              index_col='id',\n",
    "                              dtype={'is_english': 'boolean'})\n",
    "finally:\n",
    "    pass\n",
    "\n",
    "df_language.shape"
   ],
   "metadata": {
    "collapsed": false,
    "ExecuteTime": {
     "end_time": "2024-05-07T13:35:36.566898Z",
     "start_time": "2024-05-07T13:35:36.503912Z"
    }
   }
  },
  {
   "cell_type": "markdown",
   "source": [
    "### 2. Set API key and connect to OPENAI"
   ],
   "metadata": {
    "collapsed": false
   }
  },
  {
   "cell_type": "code",
   "execution_count": 4,
   "metadata": {
    "ExecuteTime": {
     "end_time": "2024-05-07T10:34:50.941948Z",
     "start_time": "2024-05-07T10:34:50.897317Z"
    }
   },
   "outputs": [],
   "source": [
    "# Setting the API key to use OPEN AI models\n",
    "openai_api_key = os.environ.get('OPENAI_API_KEY')\n",
    "client = OpenAI(api_key=openai_api_key)"
   ]
  },
  {
   "cell_type": "markdown",
   "source": [
    "### 3. Build the API logic in realtime\n",
    "\n",
    "Detect if messages are in English, and if not, translate them to English"
   ],
   "metadata": {
    "collapsed": false
   }
  },
  {
   "cell_type": "code",
   "execution_count": 92,
   "outputs": [
    {
     "data": {
      "text/plain": "                                                                                                                       message  \\\nid                                                                                                                               \n8402                                                                               i would like to know what is the risk now?    \n8403                                                                     Please! give me some informations on the earthquake.    \n8404                                                                                what's about the MMS. how is fonctioning?    \n8405  i am a victim of the earthquake, i would like to have some informations on all. thanks cause you inform the population!    \n8406                                                                                        Are we able in area thimo street?    \n\n       genre  related  request  offer  aid_related  medical_help  \\\nid                                                                 \n8402  direct        0        0      0            0             0   \n8403  direct        1        1      0            1             1   \n8404  direct        1        0      0            0             0   \n8405  direct        1        1      0            1             0   \n8406  direct        1        0      0            0             0   \n\n      medical_products  search_and_rescue  security  military  child_alone  \\\nid                                                                           \n8402                 0                  0         0         0            0   \n8403                 0                  0         0         0            0   \n8404                 0                  0         0         0            0   \n8405                 0                  0         0         0            0   \n8406                 0                  0         0         0            0   \n\n      water  food  shelter  clothing  money  missing_people  refugees  death  \\\nid                                                                             \n8402      0     0        0         0      0               0         0      0   \n8403      0     0        0         0      0               0         0      0   \n8404      0     0        0         0      0               0         0      0   \n8405      0     0        0         0      0               0         0      0   \n8406      0     0        0         0      0               0         0      0   \n\n      other_aid  infrastructure_related  transport  buildings  electricity  \\\nid                                                                           \n8402          0                       0          0          0            0   \n8403          1                       0          1          0            0   \n8404          0                       0          0          0            0   \n8405          1                       0          0          0            0   \n8406          0                       0          0          0            0   \n\n      tools  hospitals  shops  aid_centers  other_infrastructure  \\\nid                                                                 \n8402      0          0      0            0                     0   \n8403      0          0      0            0                     0   \n8404      0          0      0            0                     0   \n8405      0          0      0            0                     0   \n8406      0          0      0            0                     0   \n\n      weather_related  floods  storm  fire  earthquake  cold  other_weather  \\\nid                                                                            \n8402                0       0      0     0           0     0              0   \n8403                1       1      0     0           1     0              0   \n8404                0       0      0     0           0     0              0   \n8405                1       0      0     0           1     0              0   \n8406                0       0      0     0           0     0              0   \n\n      direct_report  is_english translation     _merge  \nid                                                      \n8402              0        <NA>         NaN  left_only  \n8403              0        <NA>         NaN  left_only  \n8404              0        <NA>         NaN  left_only  \n8405              0        <NA>         NaN  left_only  \n8406              0        <NA>         NaN  left_only  ",
      "text/html": "<div>\n<style scoped>\n    .dataframe tbody tr th:only-of-type {\n        vertical-align: middle;\n    }\n\n    .dataframe tbody tr th {\n        vertical-align: top;\n    }\n\n    .dataframe thead th {\n        text-align: right;\n    }\n</style>\n<table border=\"1\" class=\"dataframe\">\n  <thead>\n    <tr style=\"text-align: right;\">\n      <th></th>\n      <th>message</th>\n      <th>genre</th>\n      <th>related</th>\n      <th>request</th>\n      <th>offer</th>\n      <th>aid_related</th>\n      <th>medical_help</th>\n      <th>medical_products</th>\n      <th>search_and_rescue</th>\n      <th>security</th>\n      <th>military</th>\n      <th>child_alone</th>\n      <th>water</th>\n      <th>food</th>\n      <th>shelter</th>\n      <th>clothing</th>\n      <th>money</th>\n      <th>missing_people</th>\n      <th>refugees</th>\n      <th>death</th>\n      <th>other_aid</th>\n      <th>infrastructure_related</th>\n      <th>transport</th>\n      <th>buildings</th>\n      <th>electricity</th>\n      <th>tools</th>\n      <th>hospitals</th>\n      <th>shops</th>\n      <th>aid_centers</th>\n      <th>other_infrastructure</th>\n      <th>weather_related</th>\n      <th>floods</th>\n      <th>storm</th>\n      <th>fire</th>\n      <th>earthquake</th>\n      <th>cold</th>\n      <th>other_weather</th>\n      <th>direct_report</th>\n      <th>is_english</th>\n      <th>translation</th>\n      <th>_merge</th>\n    </tr>\n    <tr>\n      <th>id</th>\n      <th></th>\n      <th></th>\n      <th></th>\n      <th></th>\n      <th></th>\n      <th></th>\n      <th></th>\n      <th></th>\n      <th></th>\n      <th></th>\n      <th></th>\n      <th></th>\n      <th></th>\n      <th></th>\n      <th></th>\n      <th></th>\n      <th></th>\n      <th></th>\n      <th></th>\n      <th></th>\n      <th></th>\n      <th></th>\n      <th></th>\n      <th></th>\n      <th></th>\n      <th></th>\n      <th></th>\n      <th></th>\n      <th></th>\n      <th></th>\n      <th></th>\n      <th></th>\n      <th></th>\n      <th></th>\n      <th></th>\n      <th></th>\n      <th></th>\n      <th></th>\n      <th></th>\n      <th></th>\n      <th></th>\n    </tr>\n  </thead>\n  <tbody>\n    <tr>\n      <th>8402</th>\n      <td>i would like to know what is the risk now?</td>\n      <td>direct</td>\n      <td>0</td>\n      <td>0</td>\n      <td>0</td>\n      <td>0</td>\n      <td>0</td>\n      <td>0</td>\n      <td>0</td>\n      <td>0</td>\n      <td>0</td>\n      <td>0</td>\n      <td>0</td>\n      <td>0</td>\n      <td>0</td>\n      <td>0</td>\n      <td>0</td>\n      <td>0</td>\n      <td>0</td>\n      <td>0</td>\n      <td>0</td>\n      <td>0</td>\n      <td>0</td>\n      <td>0</td>\n      <td>0</td>\n      <td>0</td>\n      <td>0</td>\n      <td>0</td>\n      <td>0</td>\n      <td>0</td>\n      <td>0</td>\n      <td>0</td>\n      <td>0</td>\n      <td>0</td>\n      <td>0</td>\n      <td>0</td>\n      <td>0</td>\n      <td>0</td>\n      <td>&lt;NA&gt;</td>\n      <td>NaN</td>\n      <td>left_only</td>\n    </tr>\n    <tr>\n      <th>8403</th>\n      <td>Please! give me some informations on the earthquake.</td>\n      <td>direct</td>\n      <td>1</td>\n      <td>1</td>\n      <td>0</td>\n      <td>1</td>\n      <td>1</td>\n      <td>0</td>\n      <td>0</td>\n      <td>0</td>\n      <td>0</td>\n      <td>0</td>\n      <td>0</td>\n      <td>0</td>\n      <td>0</td>\n      <td>0</td>\n      <td>0</td>\n      <td>0</td>\n      <td>0</td>\n      <td>0</td>\n      <td>1</td>\n      <td>0</td>\n      <td>1</td>\n      <td>0</td>\n      <td>0</td>\n      <td>0</td>\n      <td>0</td>\n      <td>0</td>\n      <td>0</td>\n      <td>0</td>\n      <td>1</td>\n      <td>1</td>\n      <td>0</td>\n      <td>0</td>\n      <td>1</td>\n      <td>0</td>\n      <td>0</td>\n      <td>0</td>\n      <td>&lt;NA&gt;</td>\n      <td>NaN</td>\n      <td>left_only</td>\n    </tr>\n    <tr>\n      <th>8404</th>\n      <td>what's about the MMS. how is fonctioning?</td>\n      <td>direct</td>\n      <td>1</td>\n      <td>0</td>\n      <td>0</td>\n      <td>0</td>\n      <td>0</td>\n      <td>0</td>\n      <td>0</td>\n      <td>0</td>\n      <td>0</td>\n      <td>0</td>\n      <td>0</td>\n      <td>0</td>\n      <td>0</td>\n      <td>0</td>\n      <td>0</td>\n      <td>0</td>\n      <td>0</td>\n      <td>0</td>\n      <td>0</td>\n      <td>0</td>\n      <td>0</td>\n      <td>0</td>\n      <td>0</td>\n      <td>0</td>\n      <td>0</td>\n      <td>0</td>\n      <td>0</td>\n      <td>0</td>\n      <td>0</td>\n      <td>0</td>\n      <td>0</td>\n      <td>0</td>\n      <td>0</td>\n      <td>0</td>\n      <td>0</td>\n      <td>0</td>\n      <td>&lt;NA&gt;</td>\n      <td>NaN</td>\n      <td>left_only</td>\n    </tr>\n    <tr>\n      <th>8405</th>\n      <td>i am a victim of the earthquake, i would like to have some informations on all. thanks cause you inform the population!</td>\n      <td>direct</td>\n      <td>1</td>\n      <td>1</td>\n      <td>0</td>\n      <td>1</td>\n      <td>0</td>\n      <td>0</td>\n      <td>0</td>\n      <td>0</td>\n      <td>0</td>\n      <td>0</td>\n      <td>0</td>\n      <td>0</td>\n      <td>0</td>\n      <td>0</td>\n      <td>0</td>\n      <td>0</td>\n      <td>0</td>\n      <td>0</td>\n      <td>1</td>\n      <td>0</td>\n      <td>0</td>\n      <td>0</td>\n      <td>0</td>\n      <td>0</td>\n      <td>0</td>\n      <td>0</td>\n      <td>0</td>\n      <td>0</td>\n      <td>1</td>\n      <td>0</td>\n      <td>0</td>\n      <td>0</td>\n      <td>1</td>\n      <td>0</td>\n      <td>0</td>\n      <td>0</td>\n      <td>&lt;NA&gt;</td>\n      <td>NaN</td>\n      <td>left_only</td>\n    </tr>\n    <tr>\n      <th>8406</th>\n      <td>Are we able in area thimo street?</td>\n      <td>direct</td>\n      <td>1</td>\n      <td>0</td>\n      <td>0</td>\n      <td>0</td>\n      <td>0</td>\n      <td>0</td>\n      <td>0</td>\n      <td>0</td>\n      <td>0</td>\n      <td>0</td>\n      <td>0</td>\n      <td>0</td>\n      <td>0</td>\n      <td>0</td>\n      <td>0</td>\n      <td>0</td>\n      <td>0</td>\n      <td>0</td>\n      <td>0</td>\n      <td>0</td>\n      <td>0</td>\n      <td>0</td>\n      <td>0</td>\n      <td>0</td>\n      <td>0</td>\n      <td>0</td>\n      <td>0</td>\n      <td>0</td>\n      <td>0</td>\n      <td>0</td>\n      <td>0</td>\n      <td>0</td>\n      <td>0</td>\n      <td>0</td>\n      <td>0</td>\n      <td>0</td>\n      <td>&lt;NA&gt;</td>\n      <td>NaN</td>\n      <td>left_only</td>\n    </tr>\n  </tbody>\n</table>\n</div>"
     },
     "execution_count": 92,
     "metadata": {},
     "output_type": "execute_result"
    }
   ],
   "source": [
    "# Identify messages that was not the checked for language yet\n",
    "df_remaining = df.merge(df_language, on='id', how='left', indicator=True)\n",
    "df_remaining = df_remaining[df_remaining['_merge'] == \"left_only\"]\n",
    "df_remaining.head()"
   ],
   "metadata": {
    "collapsed": false,
    "ExecuteTime": {
     "end_time": "2024-05-07T13:36:33.258178Z",
     "start_time": "2024-05-07T13:36:33.193035Z"
    }
   }
  },
  {
   "cell_type": "code",
   "execution_count": 90,
   "outputs": [
    {
     "data": {
      "text/plain": "(18591, 41)"
     },
     "execution_count": 90,
     "metadata": {},
     "output_type": "execute_result"
    }
   ],
   "source": [
    "df_remaining.shape"
   ],
   "metadata": {
    "collapsed": false,
    "ExecuteTime": {
     "end_time": "2024-05-07T13:34:15.184984Z",
     "start_time": "2024-05-07T13:34:15.142978Z"
    }
   }
  },
  {
   "cell_type": "code",
   "execution_count": 94,
   "outputs": [],
   "source": [
    "#  build API request\n",
    "\n",
    "system_prompt = \"\"\" \n",
    "  You will be provided with text about disaster responses.\n",
    "  Step 1: Detect of the text is in English. Return options 'True' if the sentence is in English or 'False' if the sentence is not in English as isEnglish boolean variable\n",
    "  Step 2: If sentence is not in English, translate it to English and return as text in json format\n",
    "  \n",
    "  Example: 'I need food' // isEnglish: True\n",
    "  Example2: 'Vandaag is het zonnig'' // isEnglish: False, Translation: 'Today it is Sunny'\n",
    "  \"\"\""
   ],
   "metadata": {
    "collapsed": false,
    "ExecuteTime": {
     "end_time": "2024-05-07T13:37:12.434607Z",
     "start_time": "2024-05-07T13:37:12.423374Z"
    }
   }
  },
  {
   "cell_type": "code",
   "execution_count": 95,
   "outputs": [
    {
     "name": "stdout",
     "output_type": "stream",
     "text": [
      "{8402: '{\\n  \"isEnglish\": true\\n}', 8403: '{\\n  \"isEnglish\": true\\n}'}\n"
     ]
    }
   ],
   "source": [
    "# detect if all texts are in English, and if not translate them\n",
    "mydict = {}\n",
    "\n",
    "for idx, text in df_remaining['message'][:2].items():\n",
    "\n",
    "  response = client.chat.completions.create(\n",
    "    model=\"gpt-4-turbo\",\n",
    "    messages=[\n",
    "      {\n",
    "        \"role\": \"system\",\n",
    "        \"content\": system_prompt,\n",
    "        \"temperature\":0.1,\n",
    "        \"response_format\": {\n",
    "              \"type\": \"json_object\"\n",
    "          },   \n",
    "      },\n",
    "      {\n",
    "        \"role\": \"user\",\n",
    "        \"content\": text,\n",
    "        # \"content\": 'Vandaag is het zonnig'   \n",
    "        # \"content\": 'I love Wilson and Maya' ,\n",
    "      }\n",
    "    ],\n",
    "    temperature=0.1,\n",
    "    top_p=1\n",
    "  )\n",
    "\n",
    "  mydict[idx] = response.choices[0].message.content\n",
    "  \n",
    "print(mydict)"
   ],
   "metadata": {
    "collapsed": false,
    "ExecuteTime": {
     "end_time": "2024-05-07T13:37:17.543497Z",
     "start_time": "2024-05-07T13:37:13.321025Z"
    }
   }
  },
  {
   "cell_type": "code",
   "execution_count": null,
   "outputs": [],
   "source": [],
   "metadata": {
    "collapsed": false
   }
  },
  {
   "cell_type": "markdown",
   "source": [
    "### 4. Once we are happy with API response, let's kick off translation in BATCHES\n",
    "Create multiple batch jobs on open ai platform, which will complete within 24hours. \n",
    "Due to limitations on openai, only 90000 tokens can be processed in a single batch\n",
    "Running API requests are significantly cheaper\n",
    "\n",
    "**Important:**\n",
    "The message id will be become the index, and the main identifier of the translation"
   ],
   "metadata": {
    "collapsed": false
   }
  },
  {
   "cell_type": "code",
   "execution_count": 96,
   "outputs": [
    {
     "name": "stdout",
     "output_type": "stream",
     "text": [
      "Batch submitted batch_Imhp4fh818IA6KjL5qrwfKiY for records 0-400\n",
      "Waiting for batch to start, go to sleep 5 minutes\n",
      "Batch batch_Imhp4fh818IA6KjL5qrwfKiY\" status in_progress\n",
      "Batch batch_Imhp4fh818IA6KjL5qrwfKiY still running - going to sleep for 5 minutes\n",
      "Batch batch_Imhp4fh818IA6KjL5qrwfKiY still running - going to sleep for 5 minutes\n",
      "Batch batch_Imhp4fh818IA6KjL5qrwfKiY still running - going to sleep for 5 minutes\n",
      "Batch submitted batch_M9BDpbaETfirAieZCPVJFV1U for records 400-800\n",
      "Waiting for batch to start, go to sleep 5 minutes\n",
      "Batch batch_M9BDpbaETfirAieZCPVJFV1U\" status validating\n",
      "Batch batch_M9BDpbaETfirAieZCPVJFV1U still running - going to sleep for 5 minutes\n",
      "Batch batch_M9BDpbaETfirAieZCPVJFV1U still running - going to sleep for 5 minutes\n",
      "Batch batch_M9BDpbaETfirAieZCPVJFV1U still running - going to sleep for 5 minutes\n",
      "Batch batch_M9BDpbaETfirAieZCPVJFV1U still running - going to sleep for 5 minutes\n",
      "Batch batch_M9BDpbaETfirAieZCPVJFV1U still running - going to sleep for 5 minutes\n",
      "Batch batch_M9BDpbaETfirAieZCPVJFV1U still running - going to sleep for 5 minutes\n",
      "Batch batch_M9BDpbaETfirAieZCPVJFV1U still running - going to sleep for 5 minutes\n",
      "Batch batch_M9BDpbaETfirAieZCPVJFV1U still running - going to sleep for 5 minutes\n",
      "Batch batch_M9BDpbaETfirAieZCPVJFV1U still running - going to sleep for 5 minutes\n",
      "Batch batch_M9BDpbaETfirAieZCPVJFV1U still running - going to sleep for 5 minutes\n",
      "Batch batch_M9BDpbaETfirAieZCPVJFV1U still running - going to sleep for 5 minutes\n",
      "Batch batch_M9BDpbaETfirAieZCPVJFV1U still running - going to sleep for 5 minutes\n"
     ]
    },
    {
     "ename": "KeyboardInterrupt",
     "evalue": "",
     "output_type": "error",
     "traceback": [
      "\u001B[0;31m---------------------------------------------------------------------------\u001B[0m",
      "\u001B[0;31mKeyboardInterrupt\u001B[0m                         Traceback (most recent call last)",
      "Cell \u001B[0;32mIn[96], line 72\u001B[0m\n\u001B[1;32m     70\u001B[0m     \u001B[38;5;28mprint\u001B[39m(\u001B[38;5;124m'\u001B[39m\u001B[38;5;124mBatch \u001B[39m\u001B[38;5;132;01m{}\u001B[39;00m\u001B[38;5;124m still running - going to sleep for 5 minutes\u001B[39m\u001B[38;5;124m'\u001B[39m\u001B[38;5;241m.\u001B[39mformat(batch_job\u001B[38;5;241m.\u001B[39mid))\n\u001B[1;32m     71\u001B[0m     logger\u001B[38;5;241m.\u001B[39minfo(\u001B[38;5;124m'\u001B[39m\u001B[38;5;124mBatch \u001B[39m\u001B[38;5;132;01m{}\u001B[39;00m\u001B[38;5;124m still running - going to sleep for 5 minutes\u001B[39m\u001B[38;5;124m'\u001B[39m\u001B[38;5;241m.\u001B[39mformat(batch_job\u001B[38;5;241m.\u001B[39mid))\n\u001B[0;32m---> 72\u001B[0m     \u001B[43mtime\u001B[49m\u001B[38;5;241;43m.\u001B[39;49m\u001B[43msleep\u001B[49m\u001B[43m(\u001B[49m\u001B[38;5;241;43m300\u001B[39;49m\u001B[43m)\u001B[49m\n\u001B[1;32m     73\u001B[0m     batch_job \u001B[38;5;241m=\u001B[39m client\u001B[38;5;241m.\u001B[39mbatches\u001B[38;5;241m.\u001B[39mretrieve(batch_job\u001B[38;5;241m.\u001B[39mid)\n\u001B[1;32m     75\u001B[0m \u001B[38;5;66;03m# when batch is completed, set counters to kick off the next batch job of 400 requests   \u001B[39;00m\n",
      "\u001B[0;31mKeyboardInterrupt\u001B[0m: "
     ]
    }
   ],
   "source": [
    "# Creating an array of json tasks\n",
    "start = 0\n",
    "end = 2000\n",
    "interval = 400\n",
    "next = start + interval\n",
    "\n",
    "while next <= end:\n",
    "    \n",
    "    # create an array of json tasks for each batch job\n",
    "    tasks = []\n",
    "    for index, text in df_remaining['message'][start:next].items():\n",
    "    \n",
    "        task = {\n",
    "            \"custom_id\": f\"task-{index}\",\n",
    "            \"method\":\"POST\",\n",
    "            \"url\":\"/v1/chat/completions\",\n",
    "            \"body\": {\n",
    "              # This is what you would have in your Chat Completions API call\n",
    "              \"model\":\"gpt-4-turbo\",\n",
    "              \"temperature\":0.1,\n",
    "              \"response_format\": {\n",
    "                  \"type\": \"json_object\"\n",
    "              },\n",
    "              \"messages\": [\n",
    "                {\n",
    "                  \"role\": \"system\",\n",
    "                  \"content\": system_prompt,\n",
    "                },\n",
    "                {\n",
    "                  \"role\": \"user\",\n",
    "                  \"content\": text,\n",
    "                },\n",
    "              ]\n",
    "            }\n",
    "          }\n",
    "        \n",
    "        tasks.append(task)\n",
    "        \n",
    "    # create json file and save it locally\n",
    "    file_name = '../data/batch_tasks_language_detection.jsonl'\n",
    "    with open(file_name, 'w') as file:\n",
    "        for obj in tasks:\n",
    "            file.write(json.dumps(obj) + '\\n') \n",
    "            \n",
    "    # Uploading json file to openai platform\n",
    "    batch_file = client.files.create(\n",
    "        file=open(file_name, 'rb'),\n",
    "        purpose='batch'\n",
    "    )    \n",
    "    \n",
    "    # Creating the batch job on openai\n",
    "    batch_job = client.batches.create(\n",
    "        input_file_id=batch_file.id,\n",
    "        endpoint=\"/v1/chat/completions\",\n",
    "        completion_window=\"24h\"\n",
    "    )    \n",
    "    \n",
    "    print('Batch submitted {} for records {}-{}'.format(batch_job.id, start, next))\n",
    "    logger.info('Batch submitted {} for records {}-{}'.format(batch_job.id, start, next))\n",
    "    \n",
    "    # Check status of batch job running on openai platform\n",
    "    print('Waiting for batch to start, go to sleep 5 minutes')\n",
    "    time.sleep(300)\n",
    "    batch_job = client.batches.retrieve(batch_job.id)\n",
    "    print('Batch {}\" status {}'.format(batch_job.id, batch_job.status))\n",
    "    logger.info('Batch {}\" status {}'.format(batch_job.id, batch_job.status))\n",
    "    \n",
    "    # wait for batch to complete before we kick-off the next one. (CHATGPT does not allow multiple batches to run in parallel)\n",
    "    while batch_job.status in ['in_progress', 'validating', 'finalizing']:\n",
    "        print('Batch {} still running - going to sleep for 5 minutes'.format(batch_job.id))\n",
    "        logger.info('Batch {} still running - going to sleep for 5 minutes'.format(batch_job.id))\n",
    "        time.sleep(300)\n",
    "        batch_job = client.batches.retrieve(batch_job.id)\n",
    "    \n",
    "    # when batch is completed, set counters to kick off the next batch job of 400 requests   \n",
    "    if not batch_job.status == 'failed':\n",
    "        start = start + interval\n",
    "        next = next + interval"
   ],
   "metadata": {
    "collapsed": false,
    "ExecuteTime": {
     "end_time": "2024-05-07T15:02:26.637869Z",
     "start_time": "2024-05-07T13:38:32.622074Z"
    }
   }
  },
  {
   "cell_type": "markdown",
   "source": [
    "### 5. Load and Analyze API results"
   ],
   "metadata": {
    "collapsed": false
   }
  },
  {
   "cell_type": "code",
   "execution_count": 69,
   "outputs": [
    {
     "name": "stdout",
     "output_type": "stream",
     "text": [
      "Number of batch jobs retrieved: 38\n"
     ]
    }
   ],
   "source": [
    "# get all batch jobs submitted\n",
    "# batch_jobs = []\n",
    "batch_jobs = client.batches.list(limit=50)\n",
    "print('Number of batch jobs retrieved: {}'.format(len(batch_jobs.data)))"
   ],
   "metadata": {
    "collapsed": false,
    "ExecuteTime": {
     "end_time": "2024-05-07T13:25:18.422038Z",
     "start_time": "2024-05-07T13:25:15.958826Z"
    }
   }
  },
  {
   "cell_type": "code",
   "execution_count": 70,
   "outputs": [
    {
     "name": "stdout",
     "output_type": "stream",
     "text": [
      "batch_2wmLLLqQ3nbO1ZMRAC6CwTUO completed 400 0\n",
      "batch_Y9hCYBUvywsgXQoXElUjDQdG completed 400 0\n",
      "batch_8VCSy1nlUHmindP0ckvPMoho completed 400 0\n",
      "batch_4YKT54RLg499gRNq1VpxSBo8 completed 400 0\n",
      "batch_GPsZnrwAKDWoUjMGc2DSXXEJ completed 400 0\n",
      "batch_BjMJ9PULO5B0655woDVpFslG completed 400 0\n",
      "batch_iwqth7dekh1soFXPXnVA8CCb completed 400 0\n",
      "batch_uwBMs2PlUGnsrKxyFmj4AlEw completed 400 0\n",
      "batch_Kb2dneP8T29DCjmar5bmfNhn completed 400 0\n",
      "batch_RAkUvY7A7NrdPGm9vLJHOyNw completed 400 0\n",
      "batch_Iq8pgeY9m18NDwdhnNUAxpgM completed 400 0\n",
      "batch_TL3SgoBTml4UDQwGEUI97yFy completed 400 0\n",
      "batch_Rej5cNzg3s3FCtQflGaqKCmM completed 400 0\n",
      "batch_YUOxLO01Ny4jzPPMx3Ein1xe completed 400 0\n",
      "batch_crNgtuzYlK5mg9uGEebAJmjW completed 400 0\n",
      "batch_zCZ4m0VAz84739yYtGfFqzXJ completed 400 0\n",
      "batch_ArS1VoOwV1mIc2HubhZcOr6S completed 400 0\n",
      "batch_ka3NBYVcss7JKMnUgtZ4nPTe completed 300 0\n",
      "batch_rSDdkrv1MVxcidR8122xh7Bd completed 300 0\n",
      "batch_2wmLLLqQ3nbO1ZMRAC6CwTUO completed 400 0\n",
      "batch_Y9hCYBUvywsgXQoXElUjDQdG completed 400 0\n",
      "batch_8VCSy1nlUHmindP0ckvPMoho completed 400 0\n",
      "batch_4YKT54RLg499gRNq1VpxSBo8 completed 400 0\n",
      "batch_GPsZnrwAKDWoUjMGc2DSXXEJ completed 400 0\n",
      "batch_BjMJ9PULO5B0655woDVpFslG completed 400 0\n",
      "batch_iwqth7dekh1soFXPXnVA8CCb completed 400 0\n",
      "batch_uwBMs2PlUGnsrKxyFmj4AlEw completed 400 0\n",
      "batch_Kb2dneP8T29DCjmar5bmfNhn completed 400 0\n",
      "batch_RAkUvY7A7NrdPGm9vLJHOyNw completed 400 0\n",
      "batch_Iq8pgeY9m18NDwdhnNUAxpgM completed 400 0\n",
      "batch_TL3SgoBTml4UDQwGEUI97yFy completed 400 0\n",
      "batch_Rej5cNzg3s3FCtQflGaqKCmM completed 400 0\n",
      "batch_YUOxLO01Ny4jzPPMx3Ein1xe completed 400 0\n",
      "batch_crNgtuzYlK5mg9uGEebAJmjW completed 400 0\n",
      "batch_zCZ4m0VAz84739yYtGfFqzXJ completed 400 0\n",
      "batch_ArS1VoOwV1mIc2HubhZcOr6S completed 400 0\n",
      "batch_ka3NBYVcss7JKMnUgtZ4nPTe completed 300 0\n",
      "batch_rSDdkrv1MVxcidR8122xh7Bd completed 300 0\n"
     ]
    }
   ],
   "source": [
    "# select batches to process\n",
    "batches = []\n",
    "for batch in batch_jobs.data:\n",
    "   if ((batch.status == 'completed') & \n",
    "        (batch.request_counts.failed == 0) & \n",
    "        (batch.request_counts.total > 10)):\n",
    "            batches.append(batch.id)\n",
    "            print(batch.id, batch.status, batch.request_counts.completed, batch.request_counts.failed) "
   ],
   "metadata": {
    "collapsed": false,
    "ExecuteTime": {
     "end_time": "2024-05-07T13:25:24.763020Z",
     "start_time": "2024-05-07T13:25:24.736176Z"
    }
   }
  },
  {
   "cell_type": "code",
   "execution_count": 71,
   "outputs": [],
   "source": [
    "# Writing api results locally as json file\n",
    "result_file_name = '../data/batch_job_results.jsonl'\n",
    "# first clear the file if it exist\n",
    "open(result_file_name, 'w').close()\n",
    "\n",
    "# append contents of all batches to local json results file\n",
    "for batch in batches:\n",
    "    batch_job = client.batches.retrieve(batch) \n",
    "    result = client.files.content(batch_job.output_file_id).content\n",
    "    with open(result_file_name, 'ab') as file:\n",
    "        file.write(result)    "
   ],
   "metadata": {
    "collapsed": false,
    "ExecuteTime": {
     "end_time": "2024-05-07T13:26:26.873928Z",
     "start_time": "2024-05-07T13:25:40.023765Z"
    }
   }
  },
  {
   "cell_type": "code",
   "execution_count": 72,
   "outputs": [],
   "source": [
    "# Loading json api data from locally saved file\n",
    "results = []\n",
    "with open(result_file_name, 'r') as file:\n",
    "    for line in file:\n",
    "        # Parsing the JSON string into a dict and appending to the list of results\n",
    "        json_object = json.loads(line.replace('\\n', '').strip())\n",
    "        results.append(json_object)"
   ],
   "metadata": {
    "collapsed": false,
    "ExecuteTime": {
     "end_time": "2024-05-07T13:26:31.369998Z",
     "start_time": "2024-05-07T13:26:31.118399Z"
    }
   }
  },
  {
   "cell_type": "code",
   "execution_count": 73,
   "outputs": [
    {
     "name": "stdout",
     "output_type": "stream",
     "text": [
      "\n",
      "MESSAGE: 8084-Darling, I love you even if you once had forgot, you make me suffer I do not relax so that you understand me. Thank you \n",
      "\n",
      "RESULT: {\n",
      "  \"isEnglish\": true\n",
      "}\n",
      "\n",
      "----------------------------\n",
      "\n",
      "\n",
      "MESSAGE: 8085-what must we do when don't feel good we'd like to get about of our mind \n",
      "\n",
      "RESULT: {\n",
      "  \"isEnglish\": true\n",
      "}\n",
      "\n",
      "----------------------------\n",
      "\n",
      "\n",
      "MESSAGE: 8086-Need help in Corail department Grand'Anse. \n",
      "\n",
      "RESULT: {\n",
      "  \"isEnglish\": true\n",
      "}\n",
      "\n",
      "----------------------------\n",
      "\n",
      "\n",
      "MESSAGE: 8087-Can you give me a stock market of studies in the communication domain? While hoping your response, receive my greetings the better ones \n",
      "\n",
      "RESULT: {\n",
      "  \"isEnglish\": true\n",
      "}\n",
      "\n",
      "----------------------------\n",
      "\n",
      "\n",
      "MESSAGE: 8088-Information requiere about of the earthquake. \n",
      "\n",
      "RESULT: {\n",
      "  \"isEnglish\": true\n",
      "}\n",
      "\n",
      "----------------------------\n",
      "\n",
      "\n",
      "MESSAGE: 8089-I'm hungry,I don't have food to eat,I don't have home,clothes, I count on your supports and help,thank you so much. \n",
      "\n",
      "RESULT: {\n",
      "  \"isEnglish\": true\n",
      "}\n",
      "\n",
      "----------------------------\n"
     ]
    }
   ],
   "source": [
    "# Reading only the first results as a test if API worked\n",
    "for res in results[100:106]:\n",
    "    task_id = res['custom_id']\n",
    "    # Getting index from task id\n",
    "    index = task_id.split('-')[-1]\n",
    "    result = res['response']['body']['choices'][0]['message']['content']\n",
    "    movie = df.loc[int(index)]\n",
    "    description = movie['message']\n",
    "    # title = movie['Series_Title']\n",
    "    print(f\"\\nMESSAGE: {index}-{description}\\n\\nRESULT: {result}\")\n",
    "    print(\"\\n----------------------------\\n\")"
   ],
   "metadata": {
    "collapsed": false,
    "ExecuteTime": {
     "end_time": "2024-05-07T13:26:33.096989Z",
     "start_time": "2024-05-07T13:26:33.067395Z"
    }
   }
  },
  {
   "cell_type": "markdown",
   "source": [
    "### 6. Load API results into dataframe\n",
    "The API return 2 responses we are interested in:\n",
    "1) A Boolean variable isEnglish to indicate of the message are in English or not\n",
    "2) A translation in English if the message was in another language\n",
    "\n",
    "Save both these responses in a seperate dictionary and create a dataframe with 2 columns:\n",
    "- is_english\n",
    "- translation"
   ],
   "metadata": {
    "collapsed": false
   }
  },
  {
   "cell_type": "code",
   "execution_count": 74,
   "outputs": [],
   "source": [
    "# Load all responses into a dictionaries\n",
    "isEnglishs = {}\n",
    "translatedTexts = {}\n",
    "\n",
    "for res in results:\n",
    "    task_id = res['custom_id']\n",
    "    # Get unique message id from task id\n",
    "    index = int(task_id.split('-')[-1])\n",
    "    # get response content and strip of new line indicators\n",
    "    result = res['response']['body']['choices'][0]['message']['content']\n",
    "    result = result.replace('\\n', '').strip()\n",
    "    result = result.replace('\\t', '').strip()\n",
    "    # get original message\n",
    "    df_tmp = df_remaining.loc[index]\n",
    "    description = df_tmp['message']\n",
    "    translation = ''\n",
    "    isEnglish = ''\n",
    "\n",
    "    try:\n",
    "        dict_object = json.loads(result)\n",
    "        isEnglish = bool(dict_object['isEnglish'])\n",
    "    except:\n",
    "        pass\n",
    "\n",
    "    try:\n",
    "        translation = dict_object['Translation']       \n",
    "    except:\n",
    "        pass\n",
    "    \n",
    "    isEnglishs[index] = isEnglish\n",
    "    translatedTexts[index] = translation\n",
    "    "
   ],
   "metadata": {
    "collapsed": false,
    "ExecuteTime": {
     "end_time": "2024-05-07T13:26:40.975740Z",
     "start_time": "2024-05-07T13:26:40.080270Z"
    }
   }
  },
  {
   "cell_type": "code",
   "execution_count": 75,
   "outputs": [
    {
     "data": {
      "text/plain": "      is_english translation\nid                          \n7976        True            \n7977        True            \n7978        True            \n7979        True            \n7980        True            ",
      "text/html": "<div>\n<style scoped>\n    .dataframe tbody tr th:only-of-type {\n        vertical-align: middle;\n    }\n\n    .dataframe tbody tr th {\n        vertical-align: top;\n    }\n\n    .dataframe thead th {\n        text-align: right;\n    }\n</style>\n<table border=\"1\" class=\"dataframe\">\n  <thead>\n    <tr style=\"text-align: right;\">\n      <th></th>\n      <th>is_english</th>\n      <th>translation</th>\n    </tr>\n    <tr>\n      <th>id</th>\n      <th></th>\n      <th></th>\n    </tr>\n  </thead>\n  <tbody>\n    <tr>\n      <th>7976</th>\n      <td>True</td>\n      <td></td>\n    </tr>\n    <tr>\n      <th>7977</th>\n      <td>True</td>\n      <td></td>\n    </tr>\n    <tr>\n      <th>7978</th>\n      <td>True</td>\n      <td></td>\n    </tr>\n    <tr>\n      <th>7979</th>\n      <td>True</td>\n      <td></td>\n    </tr>\n    <tr>\n      <th>7980</th>\n      <td>True</td>\n      <td></td>\n    </tr>\n  </tbody>\n</table>\n</div>"
     },
     "execution_count": 75,
     "metadata": {},
     "output_type": "execute_result"
    }
   ],
   "source": [
    "# create dataframe\n",
    "data = {'is_english': isEnglishs,\n",
    "        'translation': translatedTexts}\n",
    "\n",
    "df_translation = pd.DataFrame.from_dict(data,\n",
    "                                         orient='columns',\n",
    "                                         )\n",
    "df_translation.index.name = 'id'\n",
    "df_translation.head()"
   ],
   "metadata": {
    "collapsed": false,
    "ExecuteTime": {
     "end_time": "2024-05-07T13:26:42.530851Z",
     "start_time": "2024-05-07T13:26:42.523788Z"
    }
   }
  },
  {
   "cell_type": "code",
   "execution_count": 76,
   "outputs": [
    {
     "data": {
      "text/plain": "(7400, 2)"
     },
     "execution_count": 76,
     "metadata": {},
     "output_type": "execute_result"
    }
   ],
   "source": [
    "df_translation.shape"
   ],
   "metadata": {
    "collapsed": false,
    "ExecuteTime": {
     "end_time": "2024-05-07T13:26:43.974927Z",
     "start_time": "2024-05-07T13:26:43.938881Z"
    }
   }
  },
  {
   "cell_type": "code",
   "execution_count": 77,
   "outputs": [
    {
     "data": {
      "text/plain": "      is_english translation  \\\nid                             \n7976        True               \n7977        True               \n7978        True               \n7979        True               \n7980        True               \n\n                                                                                                                                                            message  \nid                                                                                                                                                                   \n7976                                                                                                                  MAY GOD BLESS HAITI,CHILY AND CHINA. THANK'S   \n7977                                                                          We in Canada turjo quote, we need food, water and tents. count on your participation   \n7978                                                                                                                Thank you for all the information you gave me.   \n7979  We geet,the organisation for the good work for all haitian people:We that living in la sous tijo,for the city of canada we need some aids i think you could.   \n7980                                                                                                                             FLOOD AT CAYES. HELP US EMERGENCY   ",
      "text/html": "<div>\n<style scoped>\n    .dataframe tbody tr th:only-of-type {\n        vertical-align: middle;\n    }\n\n    .dataframe tbody tr th {\n        vertical-align: top;\n    }\n\n    .dataframe thead th {\n        text-align: right;\n    }\n</style>\n<table border=\"1\" class=\"dataframe\">\n  <thead>\n    <tr style=\"text-align: right;\">\n      <th></th>\n      <th>is_english</th>\n      <th>translation</th>\n      <th>message</th>\n    </tr>\n    <tr>\n      <th>id</th>\n      <th></th>\n      <th></th>\n      <th></th>\n    </tr>\n  </thead>\n  <tbody>\n    <tr>\n      <th>7976</th>\n      <td>True</td>\n      <td></td>\n      <td>MAY GOD BLESS HAITI,CHILY AND CHINA. THANK'S</td>\n    </tr>\n    <tr>\n      <th>7977</th>\n      <td>True</td>\n      <td></td>\n      <td>We in Canada turjo quote, we need food, water and tents. count on your participation</td>\n    </tr>\n    <tr>\n      <th>7978</th>\n      <td>True</td>\n      <td></td>\n      <td>Thank you for all the information you gave me.</td>\n    </tr>\n    <tr>\n      <th>7979</th>\n      <td>True</td>\n      <td></td>\n      <td>We geet,the organisation for the good work for all haitian people:We that living in la sous tijo,for the city of canada we need some aids i think you could.</td>\n    </tr>\n    <tr>\n      <th>7980</th>\n      <td>True</td>\n      <td></td>\n      <td>FLOOD AT CAYES. HELP US EMERGENCY</td>\n    </tr>\n  </tbody>\n</table>\n</div>"
     },
     "execution_count": 77,
     "metadata": {},
     "output_type": "execute_result"
    }
   ],
   "source": [
    "# Add message for analysis\n",
    "df_translated_tmp = df_translation.merge(df_remaining[['message']], on='id', how='inner')\n",
    "df_translated_tmp.head()"
   ],
   "metadata": {
    "collapsed": false,
    "ExecuteTime": {
     "end_time": "2024-05-07T13:26:45.450734Z",
     "start_time": "2024-05-07T13:26:45.431072Z"
    }
   }
  },
  {
   "cell_type": "code",
   "execution_count": 78,
   "outputs": [
    {
     "name": "stdout",
     "output_type": "stream",
     "text": [
      "Messages not in English: 71\n"
     ]
    },
    {
     "data": {
      "text/plain": "      is_english  \\\nid                 \n8067       False   \n8099       False   \n7578       False   \n7652       False   \n7700       False   \n7768       False   \n7874       False   \n7260       False   \n7369       False   \n7397       False   \n\n                                                                                                                          translation  \\\nid                                                                                                                                      \n8067  Don't you know when the faculty of human sciences will be reopening? When will they start to bring the students back to school?   \n8099                                                                                                       I need to live.com flags18   \n7578                                Signeneau, we didn't get anything at all. I would like to know if people in Signeneau don't (...)   \n7652                                                                                          There is need at Tabarre 52 B # 20 help   \n7700                                                                                                                     I understand   \n7768                                                                                  The Creole sentences are not written very well.   \n7874     The provided text appears to contain non-English characters or symbols that do not form a coherent sentence in any language.   \n7260     Help them when it is not white that you give us will find it there if needed for children in the tent yet found prela neret.   \n7369                                                                                     Ms. Coq Philomene: Desermithe (Petion-Ville)   \n7397                                                                                                  Do something for us NGO, answer   \n\n                                                                                                                            message  \nid                                                                                                                                   \n8067    Don't you know when fakilte syans imen (FASCH) will be reoperning? when will they start to do the students back to school?   \n8099                                                                                                 R judesan2live.com banderas18   \n7578                              Signeneau, we didn't get anything at all. I would like to know if people in Signeneau don't (..)   \n7652                                                                             There is besion of l' has tabarre 52 B # 20 helps   \n7700                                                                                                              paklascencion##s   \n7768                                                                                  The Creole sentences do not write very well.   \n7874                                                                                           What do those words mean:siw ba y#?   \n7260  help them when it is not white that you give us will find it there if needed for children in the tent yet found prela neret.   \n7369                                                                                   Mme Coq Philomene: Desermithe (Ption-Ville)   \n7397                                                                                             Make something for us ONG, answer   ",
      "text/html": "<div>\n<style scoped>\n    .dataframe tbody tr th:only-of-type {\n        vertical-align: middle;\n    }\n\n    .dataframe tbody tr th {\n        vertical-align: top;\n    }\n\n    .dataframe thead th {\n        text-align: right;\n    }\n</style>\n<table border=\"1\" class=\"dataframe\">\n  <thead>\n    <tr style=\"text-align: right;\">\n      <th></th>\n      <th>is_english</th>\n      <th>translation</th>\n      <th>message</th>\n    </tr>\n    <tr>\n      <th>id</th>\n      <th></th>\n      <th></th>\n      <th></th>\n    </tr>\n  </thead>\n  <tbody>\n    <tr>\n      <th>8067</th>\n      <td>False</td>\n      <td>Don't you know when the faculty of human sciences will be reopening? When will they start to bring the students back to school?</td>\n      <td>Don't you know when fakilte syans imen (FASCH) will be reoperning? when will they start to do the students back to school?</td>\n    </tr>\n    <tr>\n      <th>8099</th>\n      <td>False</td>\n      <td>I need to live.com flags18</td>\n      <td>R judesan2live.com banderas18</td>\n    </tr>\n    <tr>\n      <th>7578</th>\n      <td>False</td>\n      <td>Signeneau, we didn't get anything at all. I would like to know if people in Signeneau don't (...)</td>\n      <td>Signeneau, we didn't get anything at all. I would like to know if people in Signeneau don't (..)</td>\n    </tr>\n    <tr>\n      <th>7652</th>\n      <td>False</td>\n      <td>There is need at Tabarre 52 B # 20 help</td>\n      <td>There is besion of l' has tabarre 52 B # 20 helps</td>\n    </tr>\n    <tr>\n      <th>7700</th>\n      <td>False</td>\n      <td>I understand</td>\n      <td>paklascencion##s</td>\n    </tr>\n    <tr>\n      <th>7768</th>\n      <td>False</td>\n      <td>The Creole sentences are not written very well.</td>\n      <td>The Creole sentences do not write very well.</td>\n    </tr>\n    <tr>\n      <th>7874</th>\n      <td>False</td>\n      <td>The provided text appears to contain non-English characters or symbols that do not form a coherent sentence in any language.</td>\n      <td>What do those words mean:siw ba y#?</td>\n    </tr>\n    <tr>\n      <th>7260</th>\n      <td>False</td>\n      <td>Help them when it is not white that you give us will find it there if needed for children in the tent yet found prela neret.</td>\n      <td>help them when it is not white that you give us will find it there if needed for children in the tent yet found prela neret.</td>\n    </tr>\n    <tr>\n      <th>7369</th>\n      <td>False</td>\n      <td>Ms. Coq Philomene: Desermithe (Petion-Ville)</td>\n      <td>Mme Coq Philomene: Desermithe (Ption-Ville)</td>\n    </tr>\n    <tr>\n      <th>7397</th>\n      <td>False</td>\n      <td>Do something for us NGO, answer</td>\n      <td>Make something for us ONG, answer</td>\n    </tr>\n  </tbody>\n</table>\n</div>"
     },
     "execution_count": 78,
     "metadata": {},
     "output_type": "execute_result"
    }
   ],
   "source": [
    "# how many texts were not in English ?\n",
    "print('Messages not in English:', len(df_translated_tmp[df_translated_tmp.is_english == False]))\n",
    "df_translated_tmp[df_translated_tmp.is_english == False][:10]"
   ],
   "metadata": {
    "collapsed": false,
    "ExecuteTime": {
     "end_time": "2024-05-07T13:26:49.509019Z",
     "start_time": "2024-05-07T13:26:49.477352Z"
    }
   }
  },
  {
   "cell_type": "code",
   "execution_count": 79,
   "outputs": [
    {
     "data": {
      "text/plain": "(7400, 2)"
     },
     "execution_count": 79,
     "metadata": {},
     "output_type": "execute_result"
    }
   ],
   "source": [
    "# drop duplicated translations if it exist\n",
    "df_translation =  df_translation[~df_translation.index.duplicated(keep='first')]\n",
    "df_translation.shape"
   ],
   "metadata": {
    "collapsed": false,
    "ExecuteTime": {
     "end_time": "2024-05-07T13:26:54.720787Z",
     "start_time": "2024-05-07T13:26:54.716765Z"
    }
   }
  },
  {
   "cell_type": "markdown",
   "source": [
    "### 8. Save the dataset to sqlite database."
   ],
   "metadata": {
    "collapsed": false
   }
  },
  {
   "cell_type": "code",
   "execution_count": 80,
   "outputs": [
    {
     "name": "stdout",
     "output_type": "stream",
     "text": [
      "<class 'pandas.core.frame.DataFrame'>\n",
      "Index: 7400 entries, 7976 to 369\n",
      "Data columns (total 2 columns):\n",
      " #   Column       Non-Null Count  Dtype \n",
      "---  ------       --------------  ----- \n",
      " 0   is_english   7400 non-null   bool  \n",
      " 1   translation  7400 non-null   object\n",
      "dtypes: bool(1), object(1)\n",
      "memory usage: 380.9+ KB\n"
     ]
    }
   ],
   "source": [
    "df_translation.info()"
   ],
   "metadata": {
    "collapsed": false,
    "ExecuteTime": {
     "end_time": "2024-05-07T13:27:04.153256Z",
     "start_time": "2024-05-07T13:27:04.124803Z"
    }
   }
  },
  {
   "cell_type": "code",
   "execution_count": 82,
   "outputs": [
    {
     "name": "stdout",
     "output_type": "stream",
     "text": [
      "[ True False]\n"
     ]
    }
   ],
   "source": [
    "# make sure is_english contain only values True and False\n",
    "print(df_translation.is_english.unique())"
   ],
   "metadata": {
    "collapsed": false,
    "ExecuteTime": {
     "end_time": "2024-05-07T13:27:35.017134Z",
     "start_time": "2024-05-07T13:27:35.000229Z"
    }
   }
  },
  {
   "cell_type": "code",
   "execution_count": 83,
   "outputs": [],
   "source": [
    "# save to csv file\n",
    "df_translation.to_csv('../data/translations.csv')"
   ],
   "metadata": {
    "collapsed": false,
    "ExecuteTime": {
     "end_time": "2024-05-07T13:27:36.470250Z",
     "start_time": "2024-05-07T13:27:36.439820Z"
    }
   }
  },
  {
   "cell_type": "code",
   "execution_count": 84,
   "outputs": [
    {
     "data": {
      "text/plain": "7400"
     },
     "execution_count": 84,
     "metadata": {},
     "output_type": "execute_result"
    }
   ],
   "source": [
    "# add to existing sqlite database\n",
    "df_translation.to_sql('message_language', engine, index=True, if_exists='replace')"
   ],
   "metadata": {
    "collapsed": false,
    "ExecuteTime": {
     "end_time": "2024-05-07T13:27:38.630720Z",
     "start_time": "2024-05-07T13:27:38.521597Z"
    }
   }
  },
  {
   "cell_type": "code",
   "execution_count": null,
   "outputs": [],
   "source": [],
   "metadata": {
    "collapsed": false
   }
  }
 ],
 "metadata": {
  "kernelspec": {
   "display_name": "Python [conda env:disaster_pipeline] *",
   "language": "python",
   "name": "conda-env-disaster_pipeline-py"
  },
  "language_info": {
   "codemirror_mode": {
    "name": "ipython",
    "version": 3
   },
   "file_extension": ".py",
   "mimetype": "text/x-python",
   "name": "python",
   "nbconvert_exporter": "python",
   "pygments_lexer": "ipython3",
   "version": "3.9.19"
  }
 },
 "nbformat": 4,
 "nbformat_minor": 2
}

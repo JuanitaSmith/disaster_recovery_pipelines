{
 "cells": [
  {
   "cell_type": "markdown",
   "metadata": {},
   "source": [
    "# Language Detection Pipeline Preparation\n",
    "\n",
    "During ETL pipeline preparation, some messages were not in English.\n",
    "Experiment with CHATGPT to detect the language of each message and translate it to English\n",
    "\n",
    "Note: CHATGPT is a paid service, and takes a long time to translate."
   ]
  },
  {
   "cell_type": "markdown",
   "source": [
    "### 1. Import libraries and load datasets"
   ],
   "metadata": {
    "collapsed": false
   }
  },
  {
   "cell_type": "code",
   "execution_count": 162,
   "metadata": {
    "ExecuteTime": {
     "end_time": "2024-05-06T19:02:36.394418Z",
     "start_time": "2024-05-06T19:02:36.379005Z"
    }
   },
   "outputs": [],
   "source": [
    "# import libraries\n",
    "import pandas as pd\n",
    "from sqlalchemy import create_engine\n",
    "import os\n",
    "from openai import OpenAI\n",
    "import json\n",
    "import numpy as np\n",
    "import time\n",
    "\n",
    "# environment settings\n",
    "pd.set_option('display.max_column', 400)\n",
    "pd.set_option('display.max_colwidth', 400)"
   ]
  },
  {
   "cell_type": "code",
   "execution_count": 2,
   "metadata": {
    "ExecuteTime": {
     "end_time": "2024-05-06T13:03:36.633911Z",
     "start_time": "2024-05-06T13:03:36.031896Z"
    }
   },
   "outputs": [
    {
     "data": {
      "text/plain": "                                                                                                 message  \\\nid                                                                                                         \n2                                     Weather update - a cold front from Cuba that could pass over Haiti   \n7                                                                Is the Hurricane over or is it not over   \n8                                                                        Looking for someone but no name   \n9   UN reports Leogane 80-90 destroyed. Only Hospital St. Croix functioning. Needs supplies desperately.   \n12                                       says: west side of Haiti, rest of the country today and tonight   \n\n     genre  related  request  offer  aid_related  medical_help  \\\nid                                                               \n2   direct        1        0      0            0             0   \n7   direct        1        0      0            1             0   \n8   direct        1        0      0            0             0   \n9   direct        1        1      0            1             0   \n12  direct        1        0      0            0             0   \n\n    medical_products  search_and_rescue  security  military  child_alone  \\\nid                                                                         \n2                  0                  0         0         0            0   \n7                  0                  0         0         0            0   \n8                  0                  0         0         0            0   \n9                  1                  0         0         0            0   \n12                 0                  0         0         0            0   \n\n    water  food  shelter  clothing  money  missing_people  refugees  death  \\\nid                                                                           \n2       0     0        0         0      0               0         0      0   \n7       0     0        0         0      0               0         0      0   \n8       0     0        0         0      0               0         0      0   \n9       0     0        0         0      0               0         0      0   \n12      0     0        0         0      0               0         0      0   \n\n    other_aid  infrastructure_related  transport  buildings  electricity  \\\nid                                                                         \n2           0                       0          0          0            0   \n7           1                       0          0          0            0   \n8           0                       0          0          0            0   \n9           1                       1          0          1            0   \n12          0                       0          0          0            0   \n\n    tools  hospitals  shops  aid_centers  other_infrastructure  \\\nid                                                               \n2       0          0      0            0                     0   \n7       0          0      0            0                     0   \n8       0          0      0            0                     0   \n9       0          1      0            0                     0   \n12      0          0      0            0                     0   \n\n    weather_related  floods  storm  fire  earthquake  cold  other_weather  \\\nid                                                                          \n2                 0       0      0     0           0     0              0   \n7                 1       0      1     0           0     0              0   \n8                 0       0      0     0           0     0              0   \n9                 0       0      0     0           0     0              0   \n12                0       0      0     0           0     0              0   \n\n    direct_report  \nid                 \n2               0  \n7               0  \n8               0  \n9               0  \n12              0  ",
      "text/html": "<div>\n<style scoped>\n    .dataframe tbody tr th:only-of-type {\n        vertical-align: middle;\n    }\n\n    .dataframe tbody tr th {\n        vertical-align: top;\n    }\n\n    .dataframe thead th {\n        text-align: right;\n    }\n</style>\n<table border=\"1\" class=\"dataframe\">\n  <thead>\n    <tr style=\"text-align: right;\">\n      <th></th>\n      <th>message</th>\n      <th>genre</th>\n      <th>related</th>\n      <th>request</th>\n      <th>offer</th>\n      <th>aid_related</th>\n      <th>medical_help</th>\n      <th>medical_products</th>\n      <th>search_and_rescue</th>\n      <th>security</th>\n      <th>military</th>\n      <th>child_alone</th>\n      <th>water</th>\n      <th>food</th>\n      <th>shelter</th>\n      <th>clothing</th>\n      <th>money</th>\n      <th>missing_people</th>\n      <th>refugees</th>\n      <th>death</th>\n      <th>other_aid</th>\n      <th>infrastructure_related</th>\n      <th>transport</th>\n      <th>buildings</th>\n      <th>electricity</th>\n      <th>tools</th>\n      <th>hospitals</th>\n      <th>shops</th>\n      <th>aid_centers</th>\n      <th>other_infrastructure</th>\n      <th>weather_related</th>\n      <th>floods</th>\n      <th>storm</th>\n      <th>fire</th>\n      <th>earthquake</th>\n      <th>cold</th>\n      <th>other_weather</th>\n      <th>direct_report</th>\n    </tr>\n    <tr>\n      <th>id</th>\n      <th></th>\n      <th></th>\n      <th></th>\n      <th></th>\n      <th></th>\n      <th></th>\n      <th></th>\n      <th></th>\n      <th></th>\n      <th></th>\n      <th></th>\n      <th></th>\n      <th></th>\n      <th></th>\n      <th></th>\n      <th></th>\n      <th></th>\n      <th></th>\n      <th></th>\n      <th></th>\n      <th></th>\n      <th></th>\n      <th></th>\n      <th></th>\n      <th></th>\n      <th></th>\n      <th></th>\n      <th></th>\n      <th></th>\n      <th></th>\n      <th></th>\n      <th></th>\n      <th></th>\n      <th></th>\n      <th></th>\n      <th></th>\n      <th></th>\n      <th></th>\n    </tr>\n  </thead>\n  <tbody>\n    <tr>\n      <th>2</th>\n      <td>Weather update - a cold front from Cuba that could pass over Haiti</td>\n      <td>direct</td>\n      <td>1</td>\n      <td>0</td>\n      <td>0</td>\n      <td>0</td>\n      <td>0</td>\n      <td>0</td>\n      <td>0</td>\n      <td>0</td>\n      <td>0</td>\n      <td>0</td>\n      <td>0</td>\n      <td>0</td>\n      <td>0</td>\n      <td>0</td>\n      <td>0</td>\n      <td>0</td>\n      <td>0</td>\n      <td>0</td>\n      <td>0</td>\n      <td>0</td>\n      <td>0</td>\n      <td>0</td>\n      <td>0</td>\n      <td>0</td>\n      <td>0</td>\n      <td>0</td>\n      <td>0</td>\n      <td>0</td>\n      <td>0</td>\n      <td>0</td>\n      <td>0</td>\n      <td>0</td>\n      <td>0</td>\n      <td>0</td>\n      <td>0</td>\n      <td>0</td>\n    </tr>\n    <tr>\n      <th>7</th>\n      <td>Is the Hurricane over or is it not over</td>\n      <td>direct</td>\n      <td>1</td>\n      <td>0</td>\n      <td>0</td>\n      <td>1</td>\n      <td>0</td>\n      <td>0</td>\n      <td>0</td>\n      <td>0</td>\n      <td>0</td>\n      <td>0</td>\n      <td>0</td>\n      <td>0</td>\n      <td>0</td>\n      <td>0</td>\n      <td>0</td>\n      <td>0</td>\n      <td>0</td>\n      <td>0</td>\n      <td>1</td>\n      <td>0</td>\n      <td>0</td>\n      <td>0</td>\n      <td>0</td>\n      <td>0</td>\n      <td>0</td>\n      <td>0</td>\n      <td>0</td>\n      <td>0</td>\n      <td>1</td>\n      <td>0</td>\n      <td>1</td>\n      <td>0</td>\n      <td>0</td>\n      <td>0</td>\n      <td>0</td>\n      <td>0</td>\n    </tr>\n    <tr>\n      <th>8</th>\n      <td>Looking for someone but no name</td>\n      <td>direct</td>\n      <td>1</td>\n      <td>0</td>\n      <td>0</td>\n      <td>0</td>\n      <td>0</td>\n      <td>0</td>\n      <td>0</td>\n      <td>0</td>\n      <td>0</td>\n      <td>0</td>\n      <td>0</td>\n      <td>0</td>\n      <td>0</td>\n      <td>0</td>\n      <td>0</td>\n      <td>0</td>\n      <td>0</td>\n      <td>0</td>\n      <td>0</td>\n      <td>0</td>\n      <td>0</td>\n      <td>0</td>\n      <td>0</td>\n      <td>0</td>\n      <td>0</td>\n      <td>0</td>\n      <td>0</td>\n      <td>0</td>\n      <td>0</td>\n      <td>0</td>\n      <td>0</td>\n      <td>0</td>\n      <td>0</td>\n      <td>0</td>\n      <td>0</td>\n      <td>0</td>\n    </tr>\n    <tr>\n      <th>9</th>\n      <td>UN reports Leogane 80-90 destroyed. Only Hospital St. Croix functioning. Needs supplies desperately.</td>\n      <td>direct</td>\n      <td>1</td>\n      <td>1</td>\n      <td>0</td>\n      <td>1</td>\n      <td>0</td>\n      <td>1</td>\n      <td>0</td>\n      <td>0</td>\n      <td>0</td>\n      <td>0</td>\n      <td>0</td>\n      <td>0</td>\n      <td>0</td>\n      <td>0</td>\n      <td>0</td>\n      <td>0</td>\n      <td>0</td>\n      <td>0</td>\n      <td>1</td>\n      <td>1</td>\n      <td>0</td>\n      <td>1</td>\n      <td>0</td>\n      <td>0</td>\n      <td>1</td>\n      <td>0</td>\n      <td>0</td>\n      <td>0</td>\n      <td>0</td>\n      <td>0</td>\n      <td>0</td>\n      <td>0</td>\n      <td>0</td>\n      <td>0</td>\n      <td>0</td>\n      <td>0</td>\n    </tr>\n    <tr>\n      <th>12</th>\n      <td>says: west side of Haiti, rest of the country today and tonight</td>\n      <td>direct</td>\n      <td>1</td>\n      <td>0</td>\n      <td>0</td>\n      <td>0</td>\n      <td>0</td>\n      <td>0</td>\n      <td>0</td>\n      <td>0</td>\n      <td>0</td>\n      <td>0</td>\n      <td>0</td>\n      <td>0</td>\n      <td>0</td>\n      <td>0</td>\n      <td>0</td>\n      <td>0</td>\n      <td>0</td>\n      <td>0</td>\n      <td>0</td>\n      <td>0</td>\n      <td>0</td>\n      <td>0</td>\n      <td>0</td>\n      <td>0</td>\n      <td>0</td>\n      <td>0</td>\n      <td>0</td>\n      <td>0</td>\n      <td>0</td>\n      <td>0</td>\n      <td>0</td>\n      <td>0</td>\n      <td>0</td>\n      <td>0</td>\n      <td>0</td>\n      <td>0</td>\n    </tr>\n  </tbody>\n</table>\n</div>"
     },
     "execution_count": 2,
     "metadata": {},
     "output_type": "execute_result"
    }
   ],
   "source": [
    "# load data from database created during ETL pipeline preparation\n",
    "engine = create_engine('sqlite:///../data/DisasterResponse.db')\n",
    "conn = engine.connect()\n",
    "df = pd.read_sql('select * from messages', con=conn, index_col='id')\n",
    "df.head()"
   ]
  },
  {
   "cell_type": "code",
   "execution_count": 3,
   "metadata": {
    "ExecuteTime": {
     "end_time": "2024-05-06T13:03:40.123588Z",
     "start_time": "2024-05-06T13:03:40.101797Z"
    }
   },
   "outputs": [
    {
     "name": "stdout",
     "output_type": "stream",
     "text": [
      "<class 'pandas.core.frame.DataFrame'>\n",
      "Index: 25991 entries, 2 to 30265\n",
      "Data columns (total 38 columns):\n",
      " #   Column                  Non-Null Count  Dtype \n",
      "---  ------                  --------------  ----- \n",
      " 0   message                 25991 non-null  object\n",
      " 1   genre                   25991 non-null  object\n",
      " 2   related                 25991 non-null  int64 \n",
      " 3   request                 25991 non-null  int64 \n",
      " 4   offer                   25991 non-null  int64 \n",
      " 5   aid_related             25991 non-null  int64 \n",
      " 6   medical_help            25991 non-null  int64 \n",
      " 7   medical_products        25991 non-null  int64 \n",
      " 8   search_and_rescue       25991 non-null  int64 \n",
      " 9   security                25991 non-null  int64 \n",
      " 10  military                25991 non-null  int64 \n",
      " 11  child_alone             25991 non-null  int64 \n",
      " 12  water                   25991 non-null  int64 \n",
      " 13  food                    25991 non-null  int64 \n",
      " 14  shelter                 25991 non-null  int64 \n",
      " 15  clothing                25991 non-null  int64 \n",
      " 16  money                   25991 non-null  int64 \n",
      " 17  missing_people          25991 non-null  int64 \n",
      " 18  refugees                25991 non-null  int64 \n",
      " 19  death                   25991 non-null  int64 \n",
      " 20  other_aid               25991 non-null  int64 \n",
      " 21  infrastructure_related  25991 non-null  int64 \n",
      " 22  transport               25991 non-null  int64 \n",
      " 23  buildings               25991 non-null  int64 \n",
      " 24  electricity             25991 non-null  int64 \n",
      " 25  tools                   25991 non-null  int64 \n",
      " 26  hospitals               25991 non-null  int64 \n",
      " 27  shops                   25991 non-null  int64 \n",
      " 28  aid_centers             25991 non-null  int64 \n",
      " 29  other_infrastructure    25991 non-null  int64 \n",
      " 30  weather_related         25991 non-null  int64 \n",
      " 31  floods                  25991 non-null  int64 \n",
      " 32  storm                   25991 non-null  int64 \n",
      " 33  fire                    25991 non-null  int64 \n",
      " 34  earthquake              25991 non-null  int64 \n",
      " 35  cold                    25991 non-null  int64 \n",
      " 36  other_weather           25991 non-null  int64 \n",
      " 37  direct_report           25991 non-null  int64 \n",
      "dtypes: int64(36), object(2)\n",
      "memory usage: 7.7+ MB\n"
     ]
    }
   ],
   "source": [
    "df.info()"
   ]
  },
  {
   "cell_type": "markdown",
   "source": [
    "### 2. Set API key and connect to OPENAI"
   ],
   "metadata": {
    "collapsed": false
   }
  },
  {
   "cell_type": "code",
   "execution_count": 4,
   "metadata": {
    "ExecuteTime": {
     "end_time": "2024-05-06T13:03:42.762975Z",
     "start_time": "2024-05-06T13:03:42.720903Z"
    }
   },
   "outputs": [],
   "source": [
    "# Setting the API key to use OPEN AI models\n",
    "openai_api_key = os.environ.get('OPENAI_API_KEY')\n",
    "client = OpenAI(api_key=openai_api_key)"
   ]
  },
  {
   "cell_type": "markdown",
   "source": [
    "### 3. Build the API logic in realtime\n",
    "\n",
    "Detect if messages are in English, and if not, translate them to English"
   ],
   "metadata": {
    "collapsed": false
   }
  },
  {
   "cell_type": "code",
   "execution_count": 6,
   "outputs": [],
   "source": [
    "#  build API request\n",
    "\n",
    "system_prompt = \"\"\" \n",
    "  You will be provided with text about disaster responses.\n",
    "  Step 1: Detect of the text is in English. Return options 'True' if the sentence is in English or 'False' if the sentence is not in English as isEnglish boolean variable\n",
    "  Step 2: If sentence is not in English, translate it to English and return as text in json format\n",
    "  \n",
    "  Example: 'I need food' // isEnglish: True\n",
    "  Example2: 'Vandaag is het zonnig'' // isEnglish: False, Translation: 'Today it is Sunny'\n",
    "  \"\"\""
   ],
   "metadata": {
    "collapsed": false,
    "ExecuteTime": {
     "end_time": "2024-05-06T13:04:25.637473Z",
     "start_time": "2024-05-06T13:04:25.623524Z"
    }
   }
  },
  {
   "cell_type": "code",
   "execution_count": 7,
   "outputs": [
    {
     "name": "stdout",
     "output_type": "stream",
     "text": [
      "{2: '{\\n  \"isEnglish\": true\\n}', 7: '{\\n  \"isEnglish\": true\\n}'}\n"
     ]
    }
   ],
   "source": [
    "# detect if all texts are in English, and if not translate them\n",
    "mydict = {}\n",
    "\n",
    "for idx, text in df['message'][:2].items():\n",
    "\n",
    "  response = client.chat.completions.create(\n",
    "    model=\"gpt-4-turbo\",\n",
    "    messages=[\n",
    "      {\n",
    "        \"role\": \"system\",\n",
    "        \"content\": system_prompt,\n",
    "        \"temperature\":0.1,\n",
    "        \"response_format\": {\n",
    "              \"type\": \"json_object\"\n",
    "          },   \n",
    "      },\n",
    "      {\n",
    "        \"role\": \"user\",\n",
    "        \"content\": text,\n",
    "        # \"content\": 'Vandaag is het zonnig'   \n",
    "        # \"content\": 'I love Wilson and Maya' ,\n",
    "      }\n",
    "    ],\n",
    "    temperature=0.1,\n",
    "    top_p=1\n",
    "  )\n",
    "\n",
    "  mydict[idx] = response.choices[0].message.content\n",
    "  \n",
    "print(mydict)"
   ],
   "metadata": {
    "collapsed": false,
    "ExecuteTime": {
     "end_time": "2024-05-06T13:04:34.949355Z",
     "start_time": "2024-05-06T13:04:30.789316Z"
    }
   }
  },
  {
   "cell_type": "code",
   "execution_count": null,
   "outputs": [],
   "source": [],
   "metadata": {
    "collapsed": false
   }
  },
  {
   "cell_type": "markdown",
   "source": [
    "### 4. Once we are happy with API response, let's kick off translation a single BATCH\n",
    "This will create a batch job on open ai platform, and will complete within 24hours. \n",
    "Running API requests are also significantly cheaper\n",
    "\n",
    "**Important:**\n",
    "The message id will be become the index, and the main identifier of the translation"
   ],
   "metadata": {
    "collapsed": false
   }
  },
  {
   "cell_type": "code",
   "execution_count": 99,
   "outputs": [],
   "source": [
    "# Creating an array of json tasks\n",
    "tasks = []\n",
    "for index, text in df['message'][start:next].items():\n",
    "\n",
    "    task = {\n",
    "        \"custom_id\": f\"task-{index}\",\n",
    "        \"method\":\"POST\",\n",
    "        \"url\":\"/v1/chat/completions\",\n",
    "        \"body\": {\n",
    "          # This is what you would have in your Chat Completions API call\n",
    "          \"model\":\"gpt-4-turbo\",\n",
    "          \"temperature\":0.1,\n",
    "          \"response_format\": {\n",
    "              \"type\": \"json_object\"\n",
    "          },\n",
    "          \"messages\": [\n",
    "            {\n",
    "              \"role\": \"system\",\n",
    "              \"content\": system_prompt,\n",
    "            },\n",
    "            {\n",
    "              \"role\": \"user\",\n",
    "              \"content\": text,\n",
    "            },\n",
    "          ]\n",
    "        }\n",
    "      }\n",
    "    \n",
    "    tasks.append(task)"
   ],
   "metadata": {
    "collapsed": false,
    "ExecuteTime": {
     "end_time": "2024-05-06T16:20:19.008408Z",
     "start_time": "2024-05-06T16:20:18.972239Z"
    }
   }
  },
  {
   "cell_type": "code",
   "execution_count": 101,
   "outputs": [],
   "source": [
    "# create json file and save it locally\n",
    "file_name = '../data/batch_tasks_language_detection.jsonl'\n",
    "with open(file_name, 'w') as file:\n",
    "    for obj in tasks:\n",
    "        file.write(json.dumps(obj) + '\\n')"
   ],
   "metadata": {
    "collapsed": false,
    "ExecuteTime": {
     "end_time": "2024-05-06T16:20:21.379514Z",
     "start_time": "2024-05-06T16:20:21.364527Z"
    }
   }
  },
  {
   "cell_type": "code",
   "execution_count": 102,
   "outputs": [
    {
     "name": "stdout",
     "output_type": "stream",
     "text": [
      "FileObject(id='file-mDoZYSaqtT50V0uVbB5WxSUc', bytes=329080, created_at=1715012424, filename='batch_tasks_language_detection.jsonl', object='file', purpose='batch', status='processed', status_details=None)\n"
     ]
    }
   ],
   "source": [
    "# Uploading json file to openai platform\n",
    "batch_file = client.files.create(\n",
    "    file=open(file_name, 'rb'),\n",
    "    purpose='batch'\n",
    ")\n",
    "\n",
    "print(batch_file)"
   ],
   "metadata": {
    "collapsed": false,
    "ExecuteTime": {
     "end_time": "2024-05-06T16:20:24.782333Z",
     "start_time": "2024-05-06T16:20:22.276790Z"
    }
   }
  },
  {
   "cell_type": "code",
   "execution_count": 103,
   "outputs": [],
   "source": [
    "# Creating the batch job on openai\n",
    "batch_job = client.batches.create(\n",
    "    input_file_id=batch_file.id,\n",
    "    endpoint=\"/v1/chat/completions\",\n",
    "    completion_window=\"24h\"\n",
    ")"
   ],
   "metadata": {
    "collapsed": false,
    "ExecuteTime": {
     "end_time": "2024-05-06T16:20:25.410468Z",
     "start_time": "2024-05-06T16:20:24.784639Z"
    }
   }
  },
  {
   "cell_type": "markdown",
   "source": [
    "### 5. Load and Analyze API results"
   ],
   "metadata": {
    "collapsed": false
   }
  },
  {
   "cell_type": "code",
   "execution_count": 160,
   "outputs": [
    {
     "name": "stdout",
     "output_type": "stream",
     "text": [
      "in_progress\n",
      "Batch(id='batch_crNgtuzYlK5mg9uGEebAJmjW', completion_window='24h', created_at=1715019010, endpoint='/v1/chat/completions', input_file_id='file-RnlLMvsjfChVTf5c3CCn4VzD', object='batch', status='in_progress', cancelled_at=None, cancelling_at=None, completed_at=None, error_file_id=None, errors=None, expired_at=None, expires_at=1715105410, failed_at=None, finalizing_at=None, in_progress_at=1715019057, metadata=None, output_file_id=None, request_counts=BatchRequestCounts(completed=0, failed=0, total=400))\n"
     ]
    }
   ],
   "source": [
    "# Check status of batch job running on openai platform\n",
    "# batch_job = client.batches.retrieve('batch_crNgtuzYlK5mg9uGEebAJmjW')\n",
    "batch_job = client.batches.retrieve(batch_job.id)\n",
    "print(batch_job.status)\n",
    "print(batch_job)"
   ],
   "metadata": {
    "collapsed": false,
    "ExecuteTime": {
     "end_time": "2024-05-06T18:14:46.091492Z",
     "start_time": "2024-05-06T18:14:44.770370Z"
    }
   }
  },
  {
   "cell_type": "code",
   "execution_count": 61,
   "outputs": [],
   "source": [
    "# Once batch job is completed, retrieve the results, get output or error filename and contents\n",
    "if not batch_job.output_file_id is None:\n",
    "    filename = batch_job.output_file_id\n",
    "elif not batch_job.error_file_id is None:\n",
    "    filename = batch_job.error_file_id\n",
    "result = client.files.content(filename).content"
   ],
   "metadata": {
    "collapsed": false,
    "ExecuteTime": {
     "end_time": "2024-05-06T13:20:55.987870Z",
     "start_time": "2024-05-06T13:20:55.051554Z"
    }
   }
  },
  {
   "cell_type": "code",
   "execution_count": 62,
   "outputs": [],
   "source": [
    "# Writing api results locally as json file\n",
    "result_file_name = '../data/batch_job_results.jsonl'\n",
    "\n",
    "with open(result_file_name, 'wb') as file:\n",
    "    file.write(result)"
   ],
   "metadata": {
    "collapsed": false,
    "ExecuteTime": {
     "end_time": "2024-05-06T13:20:58.001432Z",
     "start_time": "2024-05-06T13:20:57.985359Z"
    }
   }
  },
  {
   "cell_type": "code",
   "execution_count": 144,
   "outputs": [],
   "source": [
    "# Loading json api data from locally saved file\n",
    "results = []\n",
    "with open(result_file_name, 'r') as file:\n",
    "    for line in file:\n",
    "        # Parsing the JSON string into a dict and appending to the list of results\n",
    "        json_object = json.loads(line.replace('\\n', '').strip())\n",
    "        results.append(json_object)"
   ],
   "metadata": {
    "collapsed": false,
    "ExecuteTime": {
     "end_time": "2024-05-06T17:24:45.816756Z",
     "start_time": "2024-05-06T17:24:45.760129Z"
    }
   }
  },
  {
   "cell_type": "code",
   "execution_count": 145,
   "outputs": [
    {
     "name": "stdout",
     "output_type": "stream",
     "text": [
      "\n",
      "MESSAGE: 1336-Would there be a big response in 30 minutes again?\n",
      "\n",
      "RESULT: {\n",
      "  \"isEnglish\": true\n",
      "}\n",
      "\n",
      "----------------------------\n",
      "\n",
      "\n",
      "MESSAGE: 1337-Food distribution did not reach our area. We live in Paloma, rue Lemoine. .. please\n",
      "\n",
      "RESULT: {\n",
      "  \"isEnglish\": true\n",
      "}\n",
      "\n",
      "----------------------------\n",
      "\n",
      "\n",
      "MESSAGE: 1338-Is it true that there will be more earthquake tonight\n",
      "\n",
      "RESULT: {\n",
      "  \"isEnglish\": true\n",
      "}\n",
      "\n",
      "----------------------------\n",
      "\n",
      "\n",
      "MESSAGE: 1339-My father's work is destroyed and there are many of us in the house. We were destitute before the catastrophe. My mom never worked. Please help us.\n",
      "\n",
      "RESULT: {\n",
      "  \"isEnglish\": true\n",
      "}\n",
      "\n",
      "----------------------------\n",
      "\n",
      "\n",
      "MESSAGE: 1340-4636 please give me information about schools and universities functioning in Port au Prince. In what year do you for see reopening. I'll wait for your response.\n",
      "\n",
      "RESULT: {\n",
      "  \"isEnglish\": true\n",
      "}\n",
      "\n",
      "----------------------------\n",
      "\n",
      "\n",
      "MESSAGE: 1341-Can a citizen take steps to immigration to find a family if he/she is older than 18?\n",
      "\n",
      "RESULT: {\n",
      "  \"isEnglish\": true\n",
      "}\n",
      "\n",
      "----------------------------\n"
     ]
    }
   ],
   "source": [
    "# Reading only the first results as a test if API worked\n",
    "for res in results[100:106]:\n",
    "    task_id = res['custom_id']\n",
    "    # Getting index from task id\n",
    "    index = task_id.split('-')[-1]\n",
    "    result = res['response']['body']['choices'][0]['message']['content']\n",
    "    movie = df.loc[int(index)]\n",
    "    description = movie['message']\n",
    "    # title = movie['Series_Title']\n",
    "    print(f\"\\nMESSAGE: {index}-{description}\\n\\nRESULT: {result}\")\n",
    "    print(\"\\n----------------------------\\n\")"
   ],
   "metadata": {
    "collapsed": false,
    "ExecuteTime": {
     "end_time": "2024-05-06T17:25:14.442662Z",
     "start_time": "2024-05-06T17:25:14.416699Z"
    }
   }
  },
  {
   "cell_type": "markdown",
   "source": [
    "### 6. Load API results into dataframe\n",
    "The API return 2 responses we are interested in:\n",
    "1) A Boolean variable isEnglish to indicate of the message are in English or not\n",
    "2) A translation in English if the message was in another language\n",
    "\n",
    "Save both these responses in a seperate dictionary and create a dataframe with 2 columns:\n",
    "- is_english\n",
    "- translation"
   ],
   "metadata": {
    "collapsed": false
   }
  },
  {
   "cell_type": "code",
   "execution_count": 146,
   "outputs": [],
   "source": [
    "# Load all responses into a dictionaries\n",
    "isEnglishs = {}\n",
    "translatedTexts = {}\n",
    "\n",
    "for res in results:\n",
    "    task_id = res['custom_id']\n",
    "    # Get unique message id from task id\n",
    "    index = int(task_id.split('-')[-1])\n",
    "    # get response content and strip of new line indicators\n",
    "    result = res['response']['body']['choices'][0]['message']['content']\n",
    "    result = result.replace('\\n', '').strip()\n",
    "    result = result.replace('\\t', '').strip()\n",
    "    # get original message\n",
    "    df_tmp = df.loc[index]\n",
    "    description = df_tmp['message']\n",
    "    translation = ''\n",
    "    isEnglish = ''\n",
    "\n",
    "    try:\n",
    "        dict_object = json.loads(result)\n",
    "        isEnglish = dict_object['isEnglish']\n",
    "    except:\n",
    "        pass\n",
    "\n",
    "    try:\n",
    "        translation = dict_object['Translation']       \n",
    "    except:\n",
    "        pass\n",
    "    \n",
    "    isEnglishs[index] = isEnglish\n",
    "    translatedTexts[index] = translation\n",
    "    "
   ],
   "metadata": {
    "collapsed": false,
    "ExecuteTime": {
     "end_time": "2024-05-06T17:25:40.161504Z",
     "start_time": "2024-05-06T17:25:40.075158Z"
    }
   }
  },
  {
   "cell_type": "code",
   "execution_count": 147,
   "outputs": [
    {
     "data": {
      "text/plain": "      is_english translation\nid                          \n1216        True            \n1217        True            \n1218        True            \n1219        True            \n1220        True            \n...          ...         ...\n362         True            \n363         True            \n367         True            \n368         True            \n369         True            \n\n[1400 rows x 2 columns]",
      "text/html": "<div>\n<style scoped>\n    .dataframe tbody tr th:only-of-type {\n        vertical-align: middle;\n    }\n\n    .dataframe tbody tr th {\n        vertical-align: top;\n    }\n\n    .dataframe thead th {\n        text-align: right;\n    }\n</style>\n<table border=\"1\" class=\"dataframe\">\n  <thead>\n    <tr style=\"text-align: right;\">\n      <th></th>\n      <th>is_english</th>\n      <th>translation</th>\n    </tr>\n    <tr>\n      <th>id</th>\n      <th></th>\n      <th></th>\n    </tr>\n  </thead>\n  <tbody>\n    <tr>\n      <th>1216</th>\n      <td>True</td>\n      <td></td>\n    </tr>\n    <tr>\n      <th>1217</th>\n      <td>True</td>\n      <td></td>\n    </tr>\n    <tr>\n      <th>1218</th>\n      <td>True</td>\n      <td></td>\n    </tr>\n    <tr>\n      <th>1219</th>\n      <td>True</td>\n      <td></td>\n    </tr>\n    <tr>\n      <th>1220</th>\n      <td>True</td>\n      <td></td>\n    </tr>\n    <tr>\n      <th>...</th>\n      <td>...</td>\n      <td>...</td>\n    </tr>\n    <tr>\n      <th>362</th>\n      <td>True</td>\n      <td></td>\n    </tr>\n    <tr>\n      <th>363</th>\n      <td>True</td>\n      <td></td>\n    </tr>\n    <tr>\n      <th>367</th>\n      <td>True</td>\n      <td></td>\n    </tr>\n    <tr>\n      <th>368</th>\n      <td>True</td>\n      <td></td>\n    </tr>\n    <tr>\n      <th>369</th>\n      <td>True</td>\n      <td></td>\n    </tr>\n  </tbody>\n</table>\n<p>1400 rows × 2 columns</p>\n</div>"
     },
     "execution_count": 147,
     "metadata": {},
     "output_type": "execute_result"
    }
   ],
   "source": [
    "# create dataframe\n",
    "data = {'is_english': isEnglishs,\n",
    "        'translation': translatedTexts}\n",
    "\n",
    "df_translation = pd.DataFrame.from_dict(data,\n",
    "                                         orient='columns',\n",
    "                                         )\n",
    "df_translation.index.name = 'id'\n",
    "df_translation"
   ],
   "metadata": {
    "collapsed": false,
    "ExecuteTime": {
     "end_time": "2024-05-06T17:25:43.619971Z",
     "start_time": "2024-05-06T17:25:43.546124Z"
    }
   }
  },
  {
   "cell_type": "code",
   "execution_count": 148,
   "outputs": [
    {
     "data": {
      "text/plain": "      is_english translation  \\\nid                             \n1216        True               \n1217        True               \n1218        True               \n1219        True               \n1220        True               \n\n                                                                                                                                                         message  \nid                                                                                                                                                                \n1216                                                                                                                            but I'm going to pray with faith  \n1217                                                                                         If someone do not have access to internet Where can he bring his CV  \n1218  I thank you very much for your help. I want you to know that I am not from Port-au-Prince. I am from the city Des Cayes. I will give you my resume? very..  \n1219                                               Good Day, I am happy your desk accepted my message. I am a student, I would like to get a job, I am in misery  \n1220                                                                         We are near Savanne on the road to Jacmel. We need help we don't have food or water  ",
      "text/html": "<div>\n<style scoped>\n    .dataframe tbody tr th:only-of-type {\n        vertical-align: middle;\n    }\n\n    .dataframe tbody tr th {\n        vertical-align: top;\n    }\n\n    .dataframe thead th {\n        text-align: right;\n    }\n</style>\n<table border=\"1\" class=\"dataframe\">\n  <thead>\n    <tr style=\"text-align: right;\">\n      <th></th>\n      <th>is_english</th>\n      <th>translation</th>\n      <th>message</th>\n    </tr>\n    <tr>\n      <th>id</th>\n      <th></th>\n      <th></th>\n      <th></th>\n    </tr>\n  </thead>\n  <tbody>\n    <tr>\n      <th>1216</th>\n      <td>True</td>\n      <td></td>\n      <td>but I'm going to pray with faith</td>\n    </tr>\n    <tr>\n      <th>1217</th>\n      <td>True</td>\n      <td></td>\n      <td>If someone do not have access to internet Where can he bring his CV</td>\n    </tr>\n    <tr>\n      <th>1218</th>\n      <td>True</td>\n      <td></td>\n      <td>I thank you very much for your help. I want you to know that I am not from Port-au-Prince. I am from the city Des Cayes. I will give you my resume? very..</td>\n    </tr>\n    <tr>\n      <th>1219</th>\n      <td>True</td>\n      <td></td>\n      <td>Good Day, I am happy your desk accepted my message. I am a student, I would like to get a job, I am in misery</td>\n    </tr>\n    <tr>\n      <th>1220</th>\n      <td>True</td>\n      <td></td>\n      <td>We are near Savanne on the road to Jacmel. We need help we don't have food or water</td>\n    </tr>\n  </tbody>\n</table>\n</div>"
     },
     "execution_count": 148,
     "metadata": {},
     "output_type": "execute_result"
    }
   ],
   "source": [
    "# Add message for analysis\n",
    "df_translated_tmp = df_translation.merge(df[['message']], on='id')\n",
    "df_translated_tmp.head()"
   ],
   "metadata": {
    "collapsed": false,
    "ExecuteTime": {
     "end_time": "2024-05-06T17:25:46.723064Z",
     "start_time": "2024-05-06T17:25:46.648030Z"
    }
   }
  },
  {
   "cell_type": "code",
   "execution_count": 149,
   "outputs": [
    {
     "name": "stdout",
     "output_type": "stream",
     "text": [
      "Messages not in English: 20\n"
     ]
    },
    {
     "data": {
      "text/plain": "      is_english  \\\nid                 \n1244       False   \n1280       False   \n1342       False   \n1567       False   \n1569       False   \n1584       False   \n1605       False   \n796        False   \n869        False   \n992        False   \n\n                                                                                                                                                                                                                                                                                                                                                                                                        translation  \\\nid                                                                                                                                                                                                                                                                                                                                                                                                                    \n1244                                                                                                                                                                                                                                                                                                                                                                                                                  \n1280                                                                                                                                                                                                                                                                                                                                    I am in the small town of Gree in session. There's a bunch of people dying.   \n1342                                                                                                                                                                                                                                                                                     Things aren't good at all we ask you to send something Boulevard Royal Charles number 17, we need tents, food and medicine   \n1567                                                                                                                                                                                                                                                                                                                                              Can I find a job if I only passed level 1 of Business Management?   \n1569                                                                                                                                                                                                                                                                                                                               In the name of the youth in action from Croix des Missions, we are requesting...   \n1584                                                                                                         Okay everyone who is a victim. Peace to the people who have authority, they have organizations... who come to visit, bring what we need: water, medicine, shelter, electricity, send us a small message. Contact persons of Authority we need water, medications, all electricity, send small message.   \n1605                                                                                                                                                                                                                                                                                                                                                    I would like to know what you are saying for military site?   \n796   we need food, water, toilets and security forces need to be present when the distribution of goods happens. We are on the Plaza in Canape Vert ( Place Canape Vert ). Please bring tents. Please save us. We need food, water, toilets. Please come with security forces to ensure the smooth running of the distribution of these items. We are on the Canape Vert square. also bring tents. Please help us.   \n869                                                                                                                                                                                                                                                                                                                                Message received. Message received. Your message has gone to the INBOX MESSAGES.   \n992                                                                                                                                                                                                                                                                                                               Hello. .. I need to go to Canada, I only have my passport. How can you help me please? Thank you.   \n\n                                                                                                                                                                                                                                                                                                                                                                                                              message  \nid                                                                                                                                                                                                                                                                                                                                                                                                                     \n1244                                                                                                                                                                                                                                                                                                                                      I'm finished with my school. I was born June 29, 1980. I am a ??? ve ki be   \n1280                                                                                                                                                                                                                                                                                                                                 I am in commune gree in session peitit bouquin. There's a bunch of people dying.  \n1342                                                                                                                                                                                                                                                                                               Things aren't good at all we as you to send something B?l?s riy?l Charles no 17, we need tents, food and medicine   \n1567                                                                                                                                                                                                                                                                                                                             Can i find a job if i only passed level 1 of Gestion des Affaires (Business Gestion)  \n1569                                                                                                                                                                                                                                                                                                                                 in the name of the young in action from Croix des missions, we are sollic . ..    \n1584                                                                                                  ok tout le monde qui victime. paix pager gens y ont autority, y ont organisation. .. qui entre viens visiter emmener ce que nous avons besoin de l'eau, medicament, tant electricity, nous envoyer petit message. Contact persons of Authority we need water, medications, all electricity, send small message   \n1605                                                                                                                                                                                                                                                                                                                                                     i would like to know what you are saying for cite militaire?  \n796   we need food, water, toilets and security forces need to be present when the distribution of goods happens. We are on the Plaza in Canape Vert ( Place Canape Vert ). Please bring tents. Please save us. ( FRENCH ) Nous avons besoin de nourriture, d'eau, de WC. SVP venez avec les forces de securite pour garantir le bon droulement de la distribution de ces items. Nous sommes sur la place du Canap...  \n869                                                                                                                                                                                                                                                                                                                                                      Message received. Message recu. Mesaj ou ale BERIBHTEN INBOX  \n992                                                                                                                                                                                                                                                                                                              Bonjour. .. i need to go to canada, i only have my passport. How can you help me please. ? thank you  ",
      "text/html": "<div>\n<style scoped>\n    .dataframe tbody tr th:only-of-type {\n        vertical-align: middle;\n    }\n\n    .dataframe tbody tr th {\n        vertical-align: top;\n    }\n\n    .dataframe thead th {\n        text-align: right;\n    }\n</style>\n<table border=\"1\" class=\"dataframe\">\n  <thead>\n    <tr style=\"text-align: right;\">\n      <th></th>\n      <th>is_english</th>\n      <th>translation</th>\n      <th>message</th>\n    </tr>\n    <tr>\n      <th>id</th>\n      <th></th>\n      <th></th>\n      <th></th>\n    </tr>\n  </thead>\n  <tbody>\n    <tr>\n      <th>1244</th>\n      <td>False</td>\n      <td></td>\n      <td>I'm finished with my school. I was born June 29, 1980. I am a ??? ve ki be</td>\n    </tr>\n    <tr>\n      <th>1280</th>\n      <td>False</td>\n      <td>I am in the small town of Gree in session. There's a bunch of people dying.</td>\n      <td>I am in commune gree in session peitit bouquin. There's a bunch of people dying.</td>\n    </tr>\n    <tr>\n      <th>1342</th>\n      <td>False</td>\n      <td>Things aren't good at all we ask you to send something Boulevard Royal Charles number 17, we need tents, food and medicine</td>\n      <td>Things aren't good at all we as you to send something B?l?s riy?l Charles no 17, we need tents, food and medicine</td>\n    </tr>\n    <tr>\n      <th>1567</th>\n      <td>False</td>\n      <td>Can I find a job if I only passed level 1 of Business Management?</td>\n      <td>Can i find a job if i only passed level 1 of Gestion des Affaires (Business Gestion)</td>\n    </tr>\n    <tr>\n      <th>1569</th>\n      <td>False</td>\n      <td>In the name of the youth in action from Croix des Missions, we are requesting...</td>\n      <td>in the name of the young in action from Croix des missions, we are sollic . ..</td>\n    </tr>\n    <tr>\n      <th>1584</th>\n      <td>False</td>\n      <td>Okay everyone who is a victim. Peace to the people who have authority, they have organizations... who come to visit, bring what we need: water, medicine, shelter, electricity, send us a small message. Contact persons of Authority we need water, medications, all electricity, send small message.</td>\n      <td>ok tout le monde qui victime. paix pager gens y ont autority, y ont organisation. .. qui entre viens visiter emmener ce que nous avons besoin de l'eau, medicament, tant electricity, nous envoyer petit message. Contact persons of Authority we need water, medications, all electricity, send small message</td>\n    </tr>\n    <tr>\n      <th>1605</th>\n      <td>False</td>\n      <td>I would like to know what you are saying for military site?</td>\n      <td>i would like to know what you are saying for cite militaire?</td>\n    </tr>\n    <tr>\n      <th>796</th>\n      <td>False</td>\n      <td>we need food, water, toilets and security forces need to be present when the distribution of goods happens. We are on the Plaza in Canape Vert ( Place Canape Vert ). Please bring tents. Please save us. We need food, water, toilets. Please come with security forces to ensure the smooth running of the distribution of these items. We are on the Canape Vert square. also bring tents. Please help us.</td>\n      <td>we need food, water, toilets and security forces need to be present when the distribution of goods happens. We are on the Plaza in Canape Vert ( Place Canape Vert ). Please bring tents. Please save us. ( FRENCH ) Nous avons besoin de nourriture, d'eau, de WC. SVP venez avec les forces de securite pour garantir le bon droulement de la distribution de ces items. Nous sommes sur la place du Canap...</td>\n    </tr>\n    <tr>\n      <th>869</th>\n      <td>False</td>\n      <td>Message received. Message received. Your message has gone to the INBOX MESSAGES.</td>\n      <td>Message received. Message recu. Mesaj ou ale BERIBHTEN INBOX</td>\n    </tr>\n    <tr>\n      <th>992</th>\n      <td>False</td>\n      <td>Hello. .. I need to go to Canada, I only have my passport. How can you help me please? Thank you.</td>\n      <td>Bonjour. .. i need to go to canada, i only have my passport. How can you help me please. ? thank you</td>\n    </tr>\n  </tbody>\n</table>\n</div>"
     },
     "execution_count": 149,
     "metadata": {},
     "output_type": "execute_result"
    }
   ],
   "source": [
    "# how many texts were not in English ?\n",
    "print('Messages not in English:', len(df_translated_tmp[df_translated_tmp.is_english == False]))\n",
    "df_translated_tmp[df_translated_tmp.is_english == False][:10]"
   ],
   "metadata": {
    "collapsed": false,
    "ExecuteTime": {
     "end_time": "2024-05-06T17:25:56.780250Z",
     "start_time": "2024-05-06T17:25:56.721134Z"
    }
   }
  },
  {
   "cell_type": "code",
   "execution_count": 154,
   "outputs": [
    {
     "data": {
      "text/plain": "(1400, 2)"
     },
     "execution_count": 154,
     "metadata": {},
     "output_type": "execute_result"
    }
   ],
   "source": [
    "# drop duplicated translations if it exist\n",
    "df_translation =  df_translation[~df_translation.index.duplicated(keep='first')]\n",
    "df_translation.shape"
   ],
   "metadata": {
    "collapsed": false,
    "ExecuteTime": {
     "end_time": "2024-05-06T17:33:42.249784Z",
     "start_time": "2024-05-06T17:33:42.224752Z"
    }
   }
  },
  {
   "cell_type": "markdown",
   "source": [
    "### 8. Save the dataset to sqlite database."
   ],
   "metadata": {
    "collapsed": false
   }
  },
  {
   "cell_type": "code",
   "execution_count": 155,
   "outputs": [
    {
     "name": "stdout",
     "output_type": "stream",
     "text": [
      "<class 'pandas.core.frame.DataFrame'>\n",
      "Index: 1400 entries, 1216 to 369\n",
      "Data columns (total 2 columns):\n",
      " #   Column       Non-Null Count  Dtype \n",
      "---  ------       --------------  ----- \n",
      " 0   is_english   1400 non-null   bool  \n",
      " 1   translation  1400 non-null   object\n",
      "dtypes: bool(1), object(1)\n",
      "memory usage: 55.5+ KB\n"
     ]
    }
   ],
   "source": [
    "df_translation.info()"
   ],
   "metadata": {
    "collapsed": false,
    "ExecuteTime": {
     "end_time": "2024-05-06T17:33:47.578429Z",
     "start_time": "2024-05-06T17:33:47.511933Z"
    }
   }
  },
  {
   "cell_type": "code",
   "execution_count": 156,
   "outputs": [],
   "source": [
    "# save to csv file\n",
    "df_translation.to_csv('../data/translations.csv')"
   ],
   "metadata": {
    "collapsed": false,
    "ExecuteTime": {
     "end_time": "2024-05-06T17:33:51.916390Z",
     "start_time": "2024-05-06T17:33:51.900667Z"
    }
   }
  },
  {
   "cell_type": "code",
   "execution_count": 157,
   "outputs": [
    {
     "data": {
      "text/plain": "1400"
     },
     "execution_count": 157,
     "metadata": {},
     "output_type": "execute_result"
    }
   ],
   "source": [
    "# add to existing sqlite database\n",
    "df_translation.to_sql('message_language', engine, index=True, if_exists='replace')"
   ],
   "metadata": {
    "collapsed": false,
    "ExecuteTime": {
     "end_time": "2024-05-06T17:33:53.636429Z",
     "start_time": "2024-05-06T17:33:53.575977Z"
    }
   }
  },
  {
   "cell_type": "code",
   "execution_count": null,
   "outputs": [],
   "source": [],
   "metadata": {
    "collapsed": false
   }
  }
 ],
 "metadata": {
  "kernelspec": {
   "display_name": "Python [conda env:disaster_pipeline] *",
   "language": "python",
   "name": "conda-env-disaster_pipeline-py"
  },
  "language_info": {
   "codemirror_mode": {
    "name": "ipython",
    "version": 3
   },
   "file_extension": ".py",
   "mimetype": "text/x-python",
   "name": "python",
   "nbconvert_exporter": "python",
   "pygments_lexer": "ipython3",
   "version": "3.9.19"
  }
 },
 "nbformat": 4,
 "nbformat_minor": 2
}

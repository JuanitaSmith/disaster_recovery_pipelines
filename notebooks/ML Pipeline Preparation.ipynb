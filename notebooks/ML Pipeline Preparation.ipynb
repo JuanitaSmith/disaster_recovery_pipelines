{
 "cells": [
  {
   "cell_type": "markdown",
   "metadata": {},
   "source": [
    "# ML Pipeline Preparation\n",
    "Follow the instructions below to help you create your ML pipeline.\n",
    "### 1. Import libraries and load data from database.\n",
    "- Import Python libraries\n",
    "- Load dataset from database with [`read_sql_table`](https://pandas.pydata.org/pandas-docs/stable/generated/pandas.read_sql_table.html)\n",
    "- Define feature and target variables X and Y"
   ]
  },
  {
   "cell_type": "code",
   "execution_count": 1,
   "outputs": [
    {
     "name": "stderr",
     "output_type": "stream",
     "text": [
      "[nltk_data] Downloading package punkt to\n",
      "[nltk_data]     /Users/juanitasmith/nltk_data...\n",
      "[nltk_data]   Package punkt is already up-to-date!\n",
      "[nltk_data] Downloading package wordnet to\n",
      "[nltk_data]     /Users/juanitasmith/nltk_data...\n",
      "[nltk_data]   Package wordnet is already up-to-date!\n",
      "[nltk_data] Downloading package stopwords to\n",
      "[nltk_data]     /Users/juanitasmith/nltk_data...\n",
      "[nltk_data]   Package stopwords is already up-to-date!\n"
     ]
    },
    {
     "data": {
      "text/plain": "True"
     },
     "execution_count": 1,
     "metadata": {},
     "output_type": "execute_result"
    }
   ],
   "source": [
    "import nltk\n",
    "nltk.download(['punkt', 'wordnet', 'stopwords'])"
   ],
   "metadata": {
    "collapsed": false,
    "ExecuteTime": {
     "end_time": "2024-06-05T14:34:08.128964Z",
     "start_time": "2024-06-05T14:34:07.583404Z"
    }
   }
  },
  {
   "cell_type": "code",
   "execution_count": 2,
   "metadata": {
    "ExecuteTime": {
     "end_time": "2024-06-05T14:34:10.172444Z",
     "start_time": "2024-06-05T14:34:08.360807Z"
    }
   },
   "outputs": [
    {
     "name": "stdout",
     "output_type": "stream",
     "text": [
      "sagemaker.config INFO - Not applying SDK defaults from location: /Library/Application Support/sagemaker/config.yaml\n",
      "sagemaker.config INFO - Not applying SDK defaults from location: /Users/juanitasmith/Library/Application Support/sagemaker/config.yaml\n"
     ]
    }
   ],
   "source": [
    "# import libraries\n",
    "# %load_ext cudf.pandas\n",
    "import pandas as pd\n",
    "\n",
    "import sagemaker\n",
    "from sagemaker import image_uris\n",
    "from sagemaker.inputs import TrainingInput\n",
    "from sagemaker.tuner import IntegerParameter, ContinuousParameter, HyperparameterTuner\n",
    "from sagemaker.debugger import ProfilerConfig, DebuggerHookConfig, Rule, ProfilerRule, rule_configs, CollectionConfig\n",
    "from sagemaker.tuner import WarmStartConfig, WarmStartTypes\n",
    "import boto3\n",
    "\n",
    "import numpy as np\n",
    "from sqlalchemy import create_engine\n",
    "import matplotlib.pyplot as plt\n",
    "import seaborn as sns\n",
    "import os\n",
    "import re\n",
    "\n",
    "from nltk.tokenize import word_tokenize\n",
    "from nltk.stem import WordNetLemmatizer\n",
    "from nltk.corpus import stopwords\n",
    "\n",
    "from sklearn.metrics import confusion_matrix\n",
    "from sklearn.model_selection import train_test_split, GridSearchCV, StratifiedKFold, PredefinedSplit\n",
    "from sklearn.ensemble import RandomForestClassifier\n",
    "from sklearn.feature_extraction.text import CountVectorizer, TfidfTransformer\n",
    "from sklearn.multioutput import MultiOutputClassifier\n",
    "from sklearn.pipeline import Pipeline, FeatureUnion\n",
    "from sklearn.metrics import confusion_matrix, classification_report, roc_auc_score\n",
    "from sklearn.compose import ColumnTransformer\n",
    "from sklearn.preprocessing import OneHotEncoder, StandardScaler\n",
    "from sklearn.compose import make_column_selector\n",
    "from imblearn.over_sampling import SMOTEN, SMOTE, RandomOverSampler\n",
    "from mlsmote import MLSMOTE\n",
    "from sklearn.ensemble import RandomForestClassifier\n",
    "from iterstrat.ml_stratifiers import MultilabelStratifiedKFold, RepeatedMultilabelStratifiedKFold\n",
    "import xgboost as xgb\n",
    "from sklearn.base import BaseEstimator, TransformerMixin\n",
    "from tempfile import mkdtemp\n",
    "from shutil import rmtree\n",
    "\n",
    "from src.config import *\n",
    "from src.helper import *\n",
    "\n",
    "# from custom_transformer import StartingVerbExtractor\n",
    "\n",
    "# import logging\n",
    "# logger = logging.getLogger(__name__)\n",
    "\n",
    "# environment settings\n",
    "pd.set_option('display.max_column', 400)\n",
    "pd.set_option('display.max_colwidth', 400)\n",
    "pd.set_option(\"display.precision\", 300)"
   ]
  },
  {
   "cell_type": "code",
   "execution_count": 3,
   "outputs": [
    {
     "name": "stdout",
     "output_type": "stream",
     "text": [
      "1.34.82\n",
      "2.221.1\n"
     ]
    }
   ],
   "source": [
    "print(boto3.__version__)\n",
    "print(sagemaker.__version__)"
   ],
   "metadata": {
    "collapsed": false,
    "ExecuteTime": {
     "end_time": "2024-06-05T14:34:10.180771Z",
     "start_time": "2024-06-05T14:34:10.174049Z"
    }
   }
  },
  {
   "cell_type": "code",
   "execution_count": 4,
   "outputs": [
    {
     "name": "stdout",
     "output_type": "stream",
     "text": [
      "Bucket: sagemaker-eu-west-1-588541864162\n",
      "Region: eu-west-1\n",
      "S3 Output path: s3://sagemaker-eu-west-1-588541864162/disaster_pipeline/output\n",
      "S3 Training path: s3://sagemaker-eu-west-1-588541864162/disaster_pipeline/data/train/train\n",
      "S3 Validation path: s3://sagemaker-eu-west-1-588541864162/disaster_pipeline/data/train/validation\n",
      "S3 Testing path: s3://sagemaker-eu-west-1-588541864162/disaster_pipeline/data/test\n"
     ]
    }
   ],
   "source": [
    "# create sagemaker session\n",
    "sagemaker_session = sagemaker.Session()\n",
    "\n",
    "# assign sagemaker role\n",
    "# detect if notebook is running locally or in a cluster\n",
    "# a=os.popen('hostname').read()\n",
    "# if 'local' in a:\n",
    "#     print('Notebook is running locally')\n",
    "#     role = sagemaker_role \n",
    "# else:\n",
    "#     role = sagemaker.get_execution_role()\n",
    "#     print('Notebook is running on a cluster')\n",
    "\n",
    "# set default bucket\n",
    "bucket = sagemaker_session.default_bucket()\n",
    "print('Bucket: {}'.format(bucket))\n",
    "\n",
    "region = sagemaker_session.boto_region_name\n",
    "print('Region: {}'.format(region))\n",
    "\n",
    "output_path = 's3://{}/{}/output'.format(bucket, prefix)\n",
    "print('S3 Output path: {}'.format(output_path))\n",
    "\n",
    "# pointers to location of training, validation and testing datasets\n",
    "s3_path_train = 's3://{}/{}/{}'.format(bucket, prefix, path_train[3:])\n",
    "print('S3 Training path: {}'.format(s3_path_train))\n",
    "\n",
    "s3_path_validation = 's3://{}/{}/{}'.format(bucket, prefix, path_validation[3:])\n",
    "print('S3 Validation path: {}'.format(s3_path_validation))\n",
    "\n",
    "s3_path_test = 's3://{}/{}/{}'.format(bucket, prefix, path_test[3:])\n",
    "print('S3 Testing path: {}'.format(s3_path_test))"
   ],
   "metadata": {
    "collapsed": false,
    "ExecuteTime": {
     "end_time": "2024-06-05T14:34:11.256600Z",
     "start_time": "2024-06-05T14:34:10.188758Z"
    }
   }
  },
  {
   "cell_type": "code",
   "execution_count": 5,
   "outputs": [],
   "source": [
    "random_state = 88\n",
    "\n",
    "FILE_LOG = '../data/disaster_response.log'\n",
    "\n",
    "# activate logging\n",
    "# logging.basicConfig(filename=FILE_LOG, filemode='a', level=logging.INFO)"
   ],
   "metadata": {
    "collapsed": false,
    "ExecuteTime": {
     "end_time": "2024-06-05T14:34:11.283121Z",
     "start_time": "2024-06-05T14:34:11.258669Z"
    }
   }
  },
  {
   "cell_type": "code",
   "execution_count": 6,
   "metadata": {
    "ExecuteTime": {
     "end_time": "2024-06-05T14:34:11.738987Z",
     "start_time": "2024-06-05T14:34:11.262907Z"
    }
   },
   "outputs": [
    {
     "data": {
      "text/plain": "                                                                                                 message  \\\nid                                                                                                         \n2                                     Weather update - a cold front from Cuba that could pass over Haiti   \n7                                                                Is the Hurricane over or is it not over   \n8                                                                        Looking for someone but no name   \n9   UN reports Leogane 80-90 destroyed. Only Hospital St. Croix functioning. Needs supplies desperately.   \n12                                       says: west side of Haiti, rest of the country today and tonight   \n\n     genre  related  request  offer  aid_related  medical_help  \\\nid                                                               \n2   direct        1        0      0            0             0   \n7   direct        1        0      0            1             0   \n8   direct        1        0      0            0             0   \n9   direct        1        1      0            1             0   \n12  direct        1        0      0            0             0   \n\n    medical_products  search_and_rescue  security  military  water  food  \\\nid                                                                         \n2                  0                  0         0         0      0     0   \n7                  0                  0         0         0      0     0   \n8                  0                  0         0         0      0     0   \n9                  1                  0         0         0      0     0   \n12                 0                  0         0         0      0     0   \n\n    shelter  clothing  money  missing_people  refugees  death  other_aid  \\\nid                                                                         \n2         0         0      0               0         0      0          0   \n7         0         0      0               0         0      0          1   \n8         0         0      0               0         0      0          0   \n9         0         0      0               0         0      0          1   \n12        0         0      0               0         0      0          0   \n\n    infrastructure_related  transport  buildings  electricity  tools  \\\nid                                                                     \n2                        0          0          0            0      0   \n7                        0          0          0            0      0   \n8                        0          0          0            0      0   \n9                        1          0          1            0      0   \n12                       0          0          0            0      0   \n\n    hospitals  shops  aid_centers  other_infrastructure  weather_related  \\\nid                                                                         \n2           0      0            0                     0                0   \n7           0      0            0                     0                1   \n8           0      0            0                     0                0   \n9           1      0            0                     0                0   \n12          0      0            0                     0                0   \n\n    floods  storm  fire  earthquake  cold  other_weather  direct_report  \nid                                                                       \n2        0      0     0           0     0              0              0  \n7        0      1     0           0     0              0              0  \n8        0      0     0           0     0              0              0  \n9        0      0     0           0     0              0              0  \n12       0      0     0           0     0              0              0  ",
      "text/html": "<div>\n<style scoped>\n    .dataframe tbody tr th:only-of-type {\n        vertical-align: middle;\n    }\n\n    .dataframe tbody tr th {\n        vertical-align: top;\n    }\n\n    .dataframe thead th {\n        text-align: right;\n    }\n</style>\n<table border=\"1\" class=\"dataframe\">\n  <thead>\n    <tr style=\"text-align: right;\">\n      <th></th>\n      <th>message</th>\n      <th>genre</th>\n      <th>related</th>\n      <th>request</th>\n      <th>offer</th>\n      <th>aid_related</th>\n      <th>medical_help</th>\n      <th>medical_products</th>\n      <th>search_and_rescue</th>\n      <th>security</th>\n      <th>military</th>\n      <th>water</th>\n      <th>food</th>\n      <th>shelter</th>\n      <th>clothing</th>\n      <th>money</th>\n      <th>missing_people</th>\n      <th>refugees</th>\n      <th>death</th>\n      <th>other_aid</th>\n      <th>infrastructure_related</th>\n      <th>transport</th>\n      <th>buildings</th>\n      <th>electricity</th>\n      <th>tools</th>\n      <th>hospitals</th>\n      <th>shops</th>\n      <th>aid_centers</th>\n      <th>other_infrastructure</th>\n      <th>weather_related</th>\n      <th>floods</th>\n      <th>storm</th>\n      <th>fire</th>\n      <th>earthquake</th>\n      <th>cold</th>\n      <th>other_weather</th>\n      <th>direct_report</th>\n    </tr>\n    <tr>\n      <th>id</th>\n      <th></th>\n      <th></th>\n      <th></th>\n      <th></th>\n      <th></th>\n      <th></th>\n      <th></th>\n      <th></th>\n      <th></th>\n      <th></th>\n      <th></th>\n      <th></th>\n      <th></th>\n      <th></th>\n      <th></th>\n      <th></th>\n      <th></th>\n      <th></th>\n      <th></th>\n      <th></th>\n      <th></th>\n      <th></th>\n      <th></th>\n      <th></th>\n      <th></th>\n      <th></th>\n      <th></th>\n      <th></th>\n      <th></th>\n      <th></th>\n      <th></th>\n      <th></th>\n      <th></th>\n      <th></th>\n      <th></th>\n      <th></th>\n      <th></th>\n    </tr>\n  </thead>\n  <tbody>\n    <tr>\n      <th>2</th>\n      <td>Weather update - a cold front from Cuba that could pass over Haiti</td>\n      <td>direct</td>\n      <td>1</td>\n      <td>0</td>\n      <td>0</td>\n      <td>0</td>\n      <td>0</td>\n      <td>0</td>\n      <td>0</td>\n      <td>0</td>\n      <td>0</td>\n      <td>0</td>\n      <td>0</td>\n      <td>0</td>\n      <td>0</td>\n      <td>0</td>\n      <td>0</td>\n      <td>0</td>\n      <td>0</td>\n      <td>0</td>\n      <td>0</td>\n      <td>0</td>\n      <td>0</td>\n      <td>0</td>\n      <td>0</td>\n      <td>0</td>\n      <td>0</td>\n      <td>0</td>\n      <td>0</td>\n      <td>0</td>\n      <td>0</td>\n      <td>0</td>\n      <td>0</td>\n      <td>0</td>\n      <td>0</td>\n      <td>0</td>\n      <td>0</td>\n    </tr>\n    <tr>\n      <th>7</th>\n      <td>Is the Hurricane over or is it not over</td>\n      <td>direct</td>\n      <td>1</td>\n      <td>0</td>\n      <td>0</td>\n      <td>1</td>\n      <td>0</td>\n      <td>0</td>\n      <td>0</td>\n      <td>0</td>\n      <td>0</td>\n      <td>0</td>\n      <td>0</td>\n      <td>0</td>\n      <td>0</td>\n      <td>0</td>\n      <td>0</td>\n      <td>0</td>\n      <td>0</td>\n      <td>1</td>\n      <td>0</td>\n      <td>0</td>\n      <td>0</td>\n      <td>0</td>\n      <td>0</td>\n      <td>0</td>\n      <td>0</td>\n      <td>0</td>\n      <td>0</td>\n      <td>1</td>\n      <td>0</td>\n      <td>1</td>\n      <td>0</td>\n      <td>0</td>\n      <td>0</td>\n      <td>0</td>\n      <td>0</td>\n    </tr>\n    <tr>\n      <th>8</th>\n      <td>Looking for someone but no name</td>\n      <td>direct</td>\n      <td>1</td>\n      <td>0</td>\n      <td>0</td>\n      <td>0</td>\n      <td>0</td>\n      <td>0</td>\n      <td>0</td>\n      <td>0</td>\n      <td>0</td>\n      <td>0</td>\n      <td>0</td>\n      <td>0</td>\n      <td>0</td>\n      <td>0</td>\n      <td>0</td>\n      <td>0</td>\n      <td>0</td>\n      <td>0</td>\n      <td>0</td>\n      <td>0</td>\n      <td>0</td>\n      <td>0</td>\n      <td>0</td>\n      <td>0</td>\n      <td>0</td>\n      <td>0</td>\n      <td>0</td>\n      <td>0</td>\n      <td>0</td>\n      <td>0</td>\n      <td>0</td>\n      <td>0</td>\n      <td>0</td>\n      <td>0</td>\n      <td>0</td>\n    </tr>\n    <tr>\n      <th>9</th>\n      <td>UN reports Leogane 80-90 destroyed. Only Hospital St. Croix functioning. Needs supplies desperately.</td>\n      <td>direct</td>\n      <td>1</td>\n      <td>1</td>\n      <td>0</td>\n      <td>1</td>\n      <td>0</td>\n      <td>1</td>\n      <td>0</td>\n      <td>0</td>\n      <td>0</td>\n      <td>0</td>\n      <td>0</td>\n      <td>0</td>\n      <td>0</td>\n      <td>0</td>\n      <td>0</td>\n      <td>0</td>\n      <td>0</td>\n      <td>1</td>\n      <td>1</td>\n      <td>0</td>\n      <td>1</td>\n      <td>0</td>\n      <td>0</td>\n      <td>1</td>\n      <td>0</td>\n      <td>0</td>\n      <td>0</td>\n      <td>0</td>\n      <td>0</td>\n      <td>0</td>\n      <td>0</td>\n      <td>0</td>\n      <td>0</td>\n      <td>0</td>\n      <td>0</td>\n    </tr>\n    <tr>\n      <th>12</th>\n      <td>says: west side of Haiti, rest of the country today and tonight</td>\n      <td>direct</td>\n      <td>1</td>\n      <td>0</td>\n      <td>0</td>\n      <td>0</td>\n      <td>0</td>\n      <td>0</td>\n      <td>0</td>\n      <td>0</td>\n      <td>0</td>\n      <td>0</td>\n      <td>0</td>\n      <td>0</td>\n      <td>0</td>\n      <td>0</td>\n      <td>0</td>\n      <td>0</td>\n      <td>0</td>\n      <td>0</td>\n      <td>0</td>\n      <td>0</td>\n      <td>0</td>\n      <td>0</td>\n      <td>0</td>\n      <td>0</td>\n      <td>0</td>\n      <td>0</td>\n      <td>0</td>\n      <td>0</td>\n      <td>0</td>\n      <td>0</td>\n      <td>0</td>\n      <td>0</td>\n      <td>0</td>\n      <td>0</td>\n      <td>0</td>\n    </tr>\n  </tbody>\n</table>\n</div>"
     },
     "execution_count": 6,
     "metadata": {},
     "output_type": "execute_result"
    }
   ],
   "source": [
    "# load message data from database\n",
    "engine = create_engine('sqlite:///../data/DisasterResponse.db')\n",
    "conn = engine.connect()\n",
    "df = pd.read_sql('select * from messages', con=conn, index_col='id')\n",
    "df.head()"
   ]
  },
  {
   "cell_type": "code",
   "execution_count": 7,
   "metadata": {
    "ExecuteTime": {
     "end_time": "2024-06-05T14:34:11.760449Z",
     "start_time": "2024-06-05T14:34:11.742093Z"
    }
   },
   "outputs": [
    {
     "name": "stdout",
     "output_type": "stream",
     "text": [
      "<class 'pandas.core.frame.DataFrame'>\n",
      "Index: 25991 entries, 2 to 30265\n",
      "Data columns (total 37 columns):\n",
      " #   Column                  Non-Null Count  Dtype \n",
      "---  ------                  --------------  ----- \n",
      " 0   message                 25991 non-null  object\n",
      " 1   genre                   25991 non-null  object\n",
      " 2   related                 25991 non-null  int64 \n",
      " 3   request                 25991 non-null  int64 \n",
      " 4   offer                   25991 non-null  int64 \n",
      " 5   aid_related             25991 non-null  int64 \n",
      " 6   medical_help            25991 non-null  int64 \n",
      " 7   medical_products        25991 non-null  int64 \n",
      " 8   search_and_rescue       25991 non-null  int64 \n",
      " 9   security                25991 non-null  int64 \n",
      " 10  military                25991 non-null  int64 \n",
      " 11  water                   25991 non-null  int64 \n",
      " 12  food                    25991 non-null  int64 \n",
      " 13  shelter                 25991 non-null  int64 \n",
      " 14  clothing                25991 non-null  int64 \n",
      " 15  money                   25991 non-null  int64 \n",
      " 16  missing_people          25991 non-null  int64 \n",
      " 17  refugees                25991 non-null  int64 \n",
      " 18  death                   25991 non-null  int64 \n",
      " 19  other_aid               25991 non-null  int64 \n",
      " 20  infrastructure_related  25991 non-null  int64 \n",
      " 21  transport               25991 non-null  int64 \n",
      " 22  buildings               25991 non-null  int64 \n",
      " 23  electricity             25991 non-null  int64 \n",
      " 24  tools                   25991 non-null  int64 \n",
      " 25  hospitals               25991 non-null  int64 \n",
      " 26  shops                   25991 non-null  int64 \n",
      " 27  aid_centers             25991 non-null  int64 \n",
      " 28  other_infrastructure    25991 non-null  int64 \n",
      " 29  weather_related         25991 non-null  int64 \n",
      " 30  floods                  25991 non-null  int64 \n",
      " 31  storm                   25991 non-null  int64 \n",
      " 32  fire                    25991 non-null  int64 \n",
      " 33  earthquake              25991 non-null  int64 \n",
      " 34  cold                    25991 non-null  int64 \n",
      " 35  other_weather           25991 non-null  int64 \n",
      " 36  direct_report           25991 non-null  int64 \n",
      "dtypes: int64(35), object(2)\n",
      "memory usage: 7.5+ MB\n"
     ]
    }
   ],
   "source": [
    "df.info()"
   ]
  },
  {
   "cell_type": "code",
   "execution_count": 8,
   "outputs": [
    {
     "name": "stdout",
     "output_type": "stream",
     "text": [
      "<class 'pandas.core.frame.DataFrame'>\n",
      "Index: 7400 entries, 7976 to 369\n",
      "Data columns (total 2 columns):\n",
      " #   Column       Non-Null Count  Dtype  \n",
      "---  ------       --------------  -----  \n",
      " 0   is_english   7400 non-null   boolean\n",
      " 1   translation  7400 non-null   object \n",
      "dtypes: boolean(1), object(1)\n",
      "memory usage: 130.1+ KB\n"
     ]
    }
   ],
   "source": [
    "# try to read message language detection and translation, if it exist\n",
    "df_language = pd.DataFrame()\n",
    "try:\n",
    "    df_language = pd.read_sql('select * from message_language',\n",
    "                              con=conn,\n",
    "                              index_col='id',\n",
    "                              dtype={'is_english': 'boolean'}\n",
    "                              )\n",
    "finally:\n",
    "    pass\n",
    "\n",
    "# df_language[df_language['is_english'] == False].sample(5)\n",
    "df_language.info()"
   ],
   "metadata": {
    "collapsed": false,
    "ExecuteTime": {
     "end_time": "2024-06-05T14:34:12.339250Z",
     "start_time": "2024-06-05T14:34:12.306295Z"
    }
   }
  },
  {
   "cell_type": "code",
   "execution_count": 9,
   "outputs": [
    {
     "data": {
      "text/plain": "                                                                                                 message  \\\nid                                                                                                         \n2                                     Weather update - a cold front from Cuba that could pass over Haiti   \n7                                                                Is the Hurricane over or is it not over   \n8                                                                        Looking for someone but no name   \n9   UN reports Leogane 80-90 destroyed. Only Hospital St. Croix functioning. Needs supplies desperately.   \n12                                       says: west side of Haiti, rest of the country today and tonight   \n\n     genre  related  request  offer  aid_related  medical_help  \\\nid                                                               \n2   direct        1        0      0            0             0   \n7   direct        1        0      0            1             0   \n8   direct        1        0      0            0             0   \n9   direct        1        1      0            1             0   \n12  direct        1        0      0            0             0   \n\n    medical_products  search_and_rescue  security  military  water  food  \\\nid                                                                         \n2                  0                  0         0         0      0     0   \n7                  0                  0         0         0      0     0   \n8                  0                  0         0         0      0     0   \n9                  1                  0         0         0      0     0   \n12                 0                  0         0         0      0     0   \n\n    shelter  clothing  money  missing_people  refugees  death  other_aid  \\\nid                                                                         \n2         0         0      0               0         0      0          0   \n7         0         0      0               0         0      0          1   \n8         0         0      0               0         0      0          0   \n9         0         0      0               0         0      0          1   \n12        0         0      0               0         0      0          0   \n\n    infrastructure_related  transport  buildings  electricity  tools  \\\nid                                                                     \n2                        0          0          0            0      0   \n7                        0          0          0            0      0   \n8                        0          0          0            0      0   \n9                        1          0          1            0      0   \n12                       0          0          0            0      0   \n\n    hospitals  shops  aid_centers  other_infrastructure  weather_related  \\\nid                                                                         \n2           0      0            0                     0                0   \n7           0      0            0                     0                1   \n8           0      0            0                     0                0   \n9           1      0            0                     0                0   \n12          0      0            0                     0                0   \n\n    floods  storm  fire  earthquake  cold  other_weather  direct_report  \\\nid                                                                        \n2        0      0     0           0     0              0              0   \n7        0      1     0           0     0              0              0   \n8        0      0     0           0     0              0              0   \n9        0      0     0           0     0              0              0   \n12       0      0     0           0     0              0              0   \n\n    is_english translation  \nid                          \n2         True              \n7         True              \n8         True              \n9         True              \n12        True              ",
      "text/html": "<div>\n<style scoped>\n    .dataframe tbody tr th:only-of-type {\n        vertical-align: middle;\n    }\n\n    .dataframe tbody tr th {\n        vertical-align: top;\n    }\n\n    .dataframe thead th {\n        text-align: right;\n    }\n</style>\n<table border=\"1\" class=\"dataframe\">\n  <thead>\n    <tr style=\"text-align: right;\">\n      <th></th>\n      <th>message</th>\n      <th>genre</th>\n      <th>related</th>\n      <th>request</th>\n      <th>offer</th>\n      <th>aid_related</th>\n      <th>medical_help</th>\n      <th>medical_products</th>\n      <th>search_and_rescue</th>\n      <th>security</th>\n      <th>military</th>\n      <th>water</th>\n      <th>food</th>\n      <th>shelter</th>\n      <th>clothing</th>\n      <th>money</th>\n      <th>missing_people</th>\n      <th>refugees</th>\n      <th>death</th>\n      <th>other_aid</th>\n      <th>infrastructure_related</th>\n      <th>transport</th>\n      <th>buildings</th>\n      <th>electricity</th>\n      <th>tools</th>\n      <th>hospitals</th>\n      <th>shops</th>\n      <th>aid_centers</th>\n      <th>other_infrastructure</th>\n      <th>weather_related</th>\n      <th>floods</th>\n      <th>storm</th>\n      <th>fire</th>\n      <th>earthquake</th>\n      <th>cold</th>\n      <th>other_weather</th>\n      <th>direct_report</th>\n      <th>is_english</th>\n      <th>translation</th>\n    </tr>\n    <tr>\n      <th>id</th>\n      <th></th>\n      <th></th>\n      <th></th>\n      <th></th>\n      <th></th>\n      <th></th>\n      <th></th>\n      <th></th>\n      <th></th>\n      <th></th>\n      <th></th>\n      <th></th>\n      <th></th>\n      <th></th>\n      <th></th>\n      <th></th>\n      <th></th>\n      <th></th>\n      <th></th>\n      <th></th>\n      <th></th>\n      <th></th>\n      <th></th>\n      <th></th>\n      <th></th>\n      <th></th>\n      <th></th>\n      <th></th>\n      <th></th>\n      <th></th>\n      <th></th>\n      <th></th>\n      <th></th>\n      <th></th>\n      <th></th>\n      <th></th>\n      <th></th>\n      <th></th>\n      <th></th>\n    </tr>\n  </thead>\n  <tbody>\n    <tr>\n      <th>2</th>\n      <td>Weather update - a cold front from Cuba that could pass over Haiti</td>\n      <td>direct</td>\n      <td>1</td>\n      <td>0</td>\n      <td>0</td>\n      <td>0</td>\n      <td>0</td>\n      <td>0</td>\n      <td>0</td>\n      <td>0</td>\n      <td>0</td>\n      <td>0</td>\n      <td>0</td>\n      <td>0</td>\n      <td>0</td>\n      <td>0</td>\n      <td>0</td>\n      <td>0</td>\n      <td>0</td>\n      <td>0</td>\n      <td>0</td>\n      <td>0</td>\n      <td>0</td>\n      <td>0</td>\n      <td>0</td>\n      <td>0</td>\n      <td>0</td>\n      <td>0</td>\n      <td>0</td>\n      <td>0</td>\n      <td>0</td>\n      <td>0</td>\n      <td>0</td>\n      <td>0</td>\n      <td>0</td>\n      <td>0</td>\n      <td>0</td>\n      <td>True</td>\n      <td></td>\n    </tr>\n    <tr>\n      <th>7</th>\n      <td>Is the Hurricane over or is it not over</td>\n      <td>direct</td>\n      <td>1</td>\n      <td>0</td>\n      <td>0</td>\n      <td>1</td>\n      <td>0</td>\n      <td>0</td>\n      <td>0</td>\n      <td>0</td>\n      <td>0</td>\n      <td>0</td>\n      <td>0</td>\n      <td>0</td>\n      <td>0</td>\n      <td>0</td>\n      <td>0</td>\n      <td>0</td>\n      <td>0</td>\n      <td>1</td>\n      <td>0</td>\n      <td>0</td>\n      <td>0</td>\n      <td>0</td>\n      <td>0</td>\n      <td>0</td>\n      <td>0</td>\n      <td>0</td>\n      <td>0</td>\n      <td>1</td>\n      <td>0</td>\n      <td>1</td>\n      <td>0</td>\n      <td>0</td>\n      <td>0</td>\n      <td>0</td>\n      <td>0</td>\n      <td>True</td>\n      <td></td>\n    </tr>\n    <tr>\n      <th>8</th>\n      <td>Looking for someone but no name</td>\n      <td>direct</td>\n      <td>1</td>\n      <td>0</td>\n      <td>0</td>\n      <td>0</td>\n      <td>0</td>\n      <td>0</td>\n      <td>0</td>\n      <td>0</td>\n      <td>0</td>\n      <td>0</td>\n      <td>0</td>\n      <td>0</td>\n      <td>0</td>\n      <td>0</td>\n      <td>0</td>\n      <td>0</td>\n      <td>0</td>\n      <td>0</td>\n      <td>0</td>\n      <td>0</td>\n      <td>0</td>\n      <td>0</td>\n      <td>0</td>\n      <td>0</td>\n      <td>0</td>\n      <td>0</td>\n      <td>0</td>\n      <td>0</td>\n      <td>0</td>\n      <td>0</td>\n      <td>0</td>\n      <td>0</td>\n      <td>0</td>\n      <td>0</td>\n      <td>0</td>\n      <td>True</td>\n      <td></td>\n    </tr>\n    <tr>\n      <th>9</th>\n      <td>UN reports Leogane 80-90 destroyed. Only Hospital St. Croix functioning. Needs supplies desperately.</td>\n      <td>direct</td>\n      <td>1</td>\n      <td>1</td>\n      <td>0</td>\n      <td>1</td>\n      <td>0</td>\n      <td>1</td>\n      <td>0</td>\n      <td>0</td>\n      <td>0</td>\n      <td>0</td>\n      <td>0</td>\n      <td>0</td>\n      <td>0</td>\n      <td>0</td>\n      <td>0</td>\n      <td>0</td>\n      <td>0</td>\n      <td>1</td>\n      <td>1</td>\n      <td>0</td>\n      <td>1</td>\n      <td>0</td>\n      <td>0</td>\n      <td>1</td>\n      <td>0</td>\n      <td>0</td>\n      <td>0</td>\n      <td>0</td>\n      <td>0</td>\n      <td>0</td>\n      <td>0</td>\n      <td>0</td>\n      <td>0</td>\n      <td>0</td>\n      <td>0</td>\n      <td>True</td>\n      <td></td>\n    </tr>\n    <tr>\n      <th>12</th>\n      <td>says: west side of Haiti, rest of the country today and tonight</td>\n      <td>direct</td>\n      <td>1</td>\n      <td>0</td>\n      <td>0</td>\n      <td>0</td>\n      <td>0</td>\n      <td>0</td>\n      <td>0</td>\n      <td>0</td>\n      <td>0</td>\n      <td>0</td>\n      <td>0</td>\n      <td>0</td>\n      <td>0</td>\n      <td>0</td>\n      <td>0</td>\n      <td>0</td>\n      <td>0</td>\n      <td>0</td>\n      <td>0</td>\n      <td>0</td>\n      <td>0</td>\n      <td>0</td>\n      <td>0</td>\n      <td>0</td>\n      <td>0</td>\n      <td>0</td>\n      <td>0</td>\n      <td>0</td>\n      <td>0</td>\n      <td>0</td>\n      <td>0</td>\n      <td>0</td>\n      <td>0</td>\n      <td>0</td>\n      <td>0</td>\n      <td>True</td>\n      <td></td>\n    </tr>\n  </tbody>\n</table>\n</div>"
     },
     "execution_count": 9,
     "metadata": {},
     "output_type": "execute_result"
    }
   ],
   "source": [
    "# merge dataframes\n",
    "if len(df_language) > 0:\n",
    "    df = df.merge(df_language, on='id', how='left' )\n",
    "    \n",
    "df.head()"
   ],
   "metadata": {
    "collapsed": false,
    "ExecuteTime": {
     "end_time": "2024-06-05T14:34:12.754702Z",
     "start_time": "2024-06-05T14:34:12.429201Z"
    }
   }
  },
  {
   "cell_type": "code",
   "execution_count": 10,
   "outputs": [
    {
     "data": {
      "text/plain": "                                                                                                                                                                                                                 message  \\\nid                                                                                                                                                                                                                         \n30261                                                               The training demonstrated how to enhance micronutrient, protein and energy intake for meals using locally grown horticulture produce, rice and fish.   \n30262                                                                           A suitable candidate has been selected and OCHA Jakarta is currently working on her three month-contract starting on the 01st July 2005.   \n30263                                                                      Proshika, operating in Cox's Bazar municipality and 5 other unions, Ramu and Chokoria, assessment, 5 kg rice, 1,5 kg lentils to 700 families.   \n30264                    Some 2,000 women protesting against the conduct of the elections were teargassed as they tried to converge on the local electoral commission offices in the southern oil city of Port Harcourt.   \n30265  A radical shift in thinking came about as a result of this meeting, recognizing that HIV/AIDS is at the core of the humanitarian crisis and identifying the crisis itself as a function of the HIV/AIDS pandemic.   \n\n      genre  related  request  offer  aid_related  medical_help  \\\nid                                                                \n30261  news        0        0      0            0             0   \n30262  news        0        0      0            0             0   \n30263  news        1        0      0            0             0   \n30264  news        1        0      0            1             0   \n30265  news        1        0      0            0             0   \n\n       medical_products  search_and_rescue  security  military  water  food  \\\nid                                                                            \n30261                 0                  0         0         0      0     0   \n30262                 0                  0         0         0      0     0   \n30263                 0                  0         0         0      0     0   \n30264                 0                  0         0         1      0     0   \n30265                 0                  0         0         0      0     0   \n\n       shelter  clothing  money  missing_people  refugees  death  other_aid  \\\nid                                                                            \n30261        0         0      0               0         0      0          0   \n30262        0         0      0               0         0      0          0   \n30263        0         0      0               0         0      0          0   \n30264        0         0      0               0         0      0          0   \n30265        0         0      0               0         0      0          0   \n\n       infrastructure_related  transport  buildings  electricity  tools  \\\nid                                                                        \n30261                       0          0          0            0      0   \n30262                       0          0          0            0      0   \n30263                       0          0          0            0      0   \n30264                       0          0          0            0      0   \n30265                       0          0          0            0      0   \n\n       hospitals  shops  aid_centers  other_infrastructure  weather_related  \\\nid                                                                            \n30261          0      0            0                     0                0   \n30262          0      0            0                     0                0   \n30263          0      0            0                     0                0   \n30264          0      0            0                     0                0   \n30265          0      0            0                     0                0   \n\n       floods  storm  fire  earthquake  cold  other_weather  direct_report  \\\nid                                                                           \n30261       0      0     0           0     0              0              0   \n30262       0      0     0           0     0              0              0   \n30263       0      0     0           0     0              0              0   \n30264       0      0     0           0     0              0              0   \n30265       0      0     0           0     0              0              0   \n\n       is_english translation  \nid                             \n30261        <NA>         NaN  \n30262        <NA>         NaN  \n30263        <NA>         NaN  \n30264        <NA>         NaN  \n30265        <NA>         NaN  ",
      "text/html": "<div>\n<style scoped>\n    .dataframe tbody tr th:only-of-type {\n        vertical-align: middle;\n    }\n\n    .dataframe tbody tr th {\n        vertical-align: top;\n    }\n\n    .dataframe thead th {\n        text-align: right;\n    }\n</style>\n<table border=\"1\" class=\"dataframe\">\n  <thead>\n    <tr style=\"text-align: right;\">\n      <th></th>\n      <th>message</th>\n      <th>genre</th>\n      <th>related</th>\n      <th>request</th>\n      <th>offer</th>\n      <th>aid_related</th>\n      <th>medical_help</th>\n      <th>medical_products</th>\n      <th>search_and_rescue</th>\n      <th>security</th>\n      <th>military</th>\n      <th>water</th>\n      <th>food</th>\n      <th>shelter</th>\n      <th>clothing</th>\n      <th>money</th>\n      <th>missing_people</th>\n      <th>refugees</th>\n      <th>death</th>\n      <th>other_aid</th>\n      <th>infrastructure_related</th>\n      <th>transport</th>\n      <th>buildings</th>\n      <th>electricity</th>\n      <th>tools</th>\n      <th>hospitals</th>\n      <th>shops</th>\n      <th>aid_centers</th>\n      <th>other_infrastructure</th>\n      <th>weather_related</th>\n      <th>floods</th>\n      <th>storm</th>\n      <th>fire</th>\n      <th>earthquake</th>\n      <th>cold</th>\n      <th>other_weather</th>\n      <th>direct_report</th>\n      <th>is_english</th>\n      <th>translation</th>\n    </tr>\n    <tr>\n      <th>id</th>\n      <th></th>\n      <th></th>\n      <th></th>\n      <th></th>\n      <th></th>\n      <th></th>\n      <th></th>\n      <th></th>\n      <th></th>\n      <th></th>\n      <th></th>\n      <th></th>\n      <th></th>\n      <th></th>\n      <th></th>\n      <th></th>\n      <th></th>\n      <th></th>\n      <th></th>\n      <th></th>\n      <th></th>\n      <th></th>\n      <th></th>\n      <th></th>\n      <th></th>\n      <th></th>\n      <th></th>\n      <th></th>\n      <th></th>\n      <th></th>\n      <th></th>\n      <th></th>\n      <th></th>\n      <th></th>\n      <th></th>\n      <th></th>\n      <th></th>\n      <th></th>\n      <th></th>\n    </tr>\n  </thead>\n  <tbody>\n    <tr>\n      <th>30261</th>\n      <td>The training demonstrated how to enhance micronutrient, protein and energy intake for meals using locally grown horticulture produce, rice and fish.</td>\n      <td>news</td>\n      <td>0</td>\n      <td>0</td>\n      <td>0</td>\n      <td>0</td>\n      <td>0</td>\n      <td>0</td>\n      <td>0</td>\n      <td>0</td>\n      <td>0</td>\n      <td>0</td>\n      <td>0</td>\n      <td>0</td>\n      <td>0</td>\n      <td>0</td>\n      <td>0</td>\n      <td>0</td>\n      <td>0</td>\n      <td>0</td>\n      <td>0</td>\n      <td>0</td>\n      <td>0</td>\n      <td>0</td>\n      <td>0</td>\n      <td>0</td>\n      <td>0</td>\n      <td>0</td>\n      <td>0</td>\n      <td>0</td>\n      <td>0</td>\n      <td>0</td>\n      <td>0</td>\n      <td>0</td>\n      <td>0</td>\n      <td>0</td>\n      <td>0</td>\n      <td>&lt;NA&gt;</td>\n      <td>NaN</td>\n    </tr>\n    <tr>\n      <th>30262</th>\n      <td>A suitable candidate has been selected and OCHA Jakarta is currently working on her three month-contract starting on the 01st July 2005.</td>\n      <td>news</td>\n      <td>0</td>\n      <td>0</td>\n      <td>0</td>\n      <td>0</td>\n      <td>0</td>\n      <td>0</td>\n      <td>0</td>\n      <td>0</td>\n      <td>0</td>\n      <td>0</td>\n      <td>0</td>\n      <td>0</td>\n      <td>0</td>\n      <td>0</td>\n      <td>0</td>\n      <td>0</td>\n      <td>0</td>\n      <td>0</td>\n      <td>0</td>\n      <td>0</td>\n      <td>0</td>\n      <td>0</td>\n      <td>0</td>\n      <td>0</td>\n      <td>0</td>\n      <td>0</td>\n      <td>0</td>\n      <td>0</td>\n      <td>0</td>\n      <td>0</td>\n      <td>0</td>\n      <td>0</td>\n      <td>0</td>\n      <td>0</td>\n      <td>0</td>\n      <td>&lt;NA&gt;</td>\n      <td>NaN</td>\n    </tr>\n    <tr>\n      <th>30263</th>\n      <td>Proshika, operating in Cox's Bazar municipality and 5 other unions, Ramu and Chokoria, assessment, 5 kg rice, 1,5 kg lentils to 700 families.</td>\n      <td>news</td>\n      <td>1</td>\n      <td>0</td>\n      <td>0</td>\n      <td>0</td>\n      <td>0</td>\n      <td>0</td>\n      <td>0</td>\n      <td>0</td>\n      <td>0</td>\n      <td>0</td>\n      <td>0</td>\n      <td>0</td>\n      <td>0</td>\n      <td>0</td>\n      <td>0</td>\n      <td>0</td>\n      <td>0</td>\n      <td>0</td>\n      <td>0</td>\n      <td>0</td>\n      <td>0</td>\n      <td>0</td>\n      <td>0</td>\n      <td>0</td>\n      <td>0</td>\n      <td>0</td>\n      <td>0</td>\n      <td>0</td>\n      <td>0</td>\n      <td>0</td>\n      <td>0</td>\n      <td>0</td>\n      <td>0</td>\n      <td>0</td>\n      <td>0</td>\n      <td>&lt;NA&gt;</td>\n      <td>NaN</td>\n    </tr>\n    <tr>\n      <th>30264</th>\n      <td>Some 2,000 women protesting against the conduct of the elections were teargassed as they tried to converge on the local electoral commission offices in the southern oil city of Port Harcourt.</td>\n      <td>news</td>\n      <td>1</td>\n      <td>0</td>\n      <td>0</td>\n      <td>1</td>\n      <td>0</td>\n      <td>0</td>\n      <td>0</td>\n      <td>0</td>\n      <td>1</td>\n      <td>0</td>\n      <td>0</td>\n      <td>0</td>\n      <td>0</td>\n      <td>0</td>\n      <td>0</td>\n      <td>0</td>\n      <td>0</td>\n      <td>0</td>\n      <td>0</td>\n      <td>0</td>\n      <td>0</td>\n      <td>0</td>\n      <td>0</td>\n      <td>0</td>\n      <td>0</td>\n      <td>0</td>\n      <td>0</td>\n      <td>0</td>\n      <td>0</td>\n      <td>0</td>\n      <td>0</td>\n      <td>0</td>\n      <td>0</td>\n      <td>0</td>\n      <td>0</td>\n      <td>&lt;NA&gt;</td>\n      <td>NaN</td>\n    </tr>\n    <tr>\n      <th>30265</th>\n      <td>A radical shift in thinking came about as a result of this meeting, recognizing that HIV/AIDS is at the core of the humanitarian crisis and identifying the crisis itself as a function of the HIV/AIDS pandemic.</td>\n      <td>news</td>\n      <td>1</td>\n      <td>0</td>\n      <td>0</td>\n      <td>0</td>\n      <td>0</td>\n      <td>0</td>\n      <td>0</td>\n      <td>0</td>\n      <td>0</td>\n      <td>0</td>\n      <td>0</td>\n      <td>0</td>\n      <td>0</td>\n      <td>0</td>\n      <td>0</td>\n      <td>0</td>\n      <td>0</td>\n      <td>0</td>\n      <td>0</td>\n      <td>0</td>\n      <td>0</td>\n      <td>0</td>\n      <td>0</td>\n      <td>0</td>\n      <td>0</td>\n      <td>0</td>\n      <td>0</td>\n      <td>0</td>\n      <td>0</td>\n      <td>0</td>\n      <td>0</td>\n      <td>0</td>\n      <td>0</td>\n      <td>0</td>\n      <td>0</td>\n      <td>&lt;NA&gt;</td>\n      <td>NaN</td>\n    </tr>\n  </tbody>\n</table>\n</div>"
     },
     "execution_count": 10,
     "metadata": {},
     "output_type": "execute_result"
    }
   ],
   "source": [
    "df.tail()"
   ],
   "metadata": {
    "collapsed": false,
    "ExecuteTime": {
     "end_time": "2024-06-05T14:34:12.941642Z",
     "start_time": "2024-06-05T14:34:12.812265Z"
    }
   }
  },
  {
   "cell_type": "code",
   "execution_count": 11,
   "outputs": [
    {
     "data": {
      "text/plain": "                                                                                                                                                                          message  \\\nid                                                                                                                                                                                  \n176                                                                                                in what field would you need me to speak creole. French, half english, ( MW? )   \n342      Onere and some food. Thanks for your understanding. ( Translator's note : are we getting the full messages? Most of them appear to be bits of sentences, like this one )   \n383  K aTIS RAP CREOLE. CONTACT ME FAST. FAST VIA SMS OR CALL URGENT it is very very important because it today im gonna do wats I got to do over the bariers am allready waiting   \n399                                                                                                                  Don't know what to do about estaff touterene part at the end   \n508                                                                                             We are desperate for food and water. Our organization is Kole Zepol pou'n delivre   \n\n      genre  related  request  offer  aid_related  medical_help  \\\nid                                                                \n176  direct        0        0      0            0             0   \n342  direct        1        1      0            1             0   \n383  direct        0        0      0            0             0   \n399  direct        1        0      0            0             0   \n508  direct        1        1      0            1             0   \n\n     medical_products  search_and_rescue  security  military  water  food  \\\nid                                                                          \n176                 0                  0         0         0      0     0   \n342                 0                  0         0         0      0     1   \n383                 0                  0         0         0      0     0   \n399                 0                  0         0         0      0     0   \n508                 0                  0         0         0      1     1   \n\n     shelter  clothing  money  missing_people  refugees  death  other_aid  \\\nid                                                                          \n176        0         0      0               0         0      0          0   \n342        0         0      0               0         0      0          0   \n383        0         0      0               0         0      0          0   \n399        0         0      0               0         0      0          0   \n508        0         0      0               0         0      0          0   \n\n     infrastructure_related  transport  buildings  electricity  tools  \\\nid                                                                      \n176                       0          0          0            0      0   \n342                       0          0          0            0      0   \n383                       0          0          0            0      0   \n399                       0          0          0            0      0   \n508                       0          0          0            0      0   \n\n     hospitals  shops  aid_centers  other_infrastructure  weather_related  \\\nid                                                                          \n176          0      0            0                     0                0   \n342          0      0            0                     0                0   \n383          0      0            0                     0                0   \n399          0      0            0                     0                0   \n508          0      0            0                     0                0   \n\n     floods  storm  fire  earthquake  cold  other_weather  direct_report  \\\nid                                                                         \n176       0      0     0           0     0              0              0   \n342       0      0     0           0     0              0              1   \n383       0      0     0           0     0              0              0   \n399       0      0     0           0     0              0              0   \n508       0      0     0           0     0              0              0   \n\n    is_english  \\\nid               \n176      False   \n342      False   \n383      False   \n399      False   \n508      False   \n\n                                                                                                                                                                                       translation  \nid                                                                                                                                                                                                  \n176                                                                                                                         In what field would you need me to speak Creole, French, half English?  \n342                             I need some food. Thanks for your understanding. (Translator's note: are we getting the full messages? Most of them appear to be bits of sentences, like this one)  \n383  I need help in Creole. Contact me quickly, quickly via SMS or call, it's urgent. It is very important because today I'm going to do what I have to do over the barriers, I'm already waiting.  \n399                                                                                                                                  Don't know what to do about the staff routing part at the end  \n508                                                                                                                 We are desperate for food and water. Our organization is Kole Zepol to deliver  ",
      "text/html": "<div>\n<style scoped>\n    .dataframe tbody tr th:only-of-type {\n        vertical-align: middle;\n    }\n\n    .dataframe tbody tr th {\n        vertical-align: top;\n    }\n\n    .dataframe thead th {\n        text-align: right;\n    }\n</style>\n<table border=\"1\" class=\"dataframe\">\n  <thead>\n    <tr style=\"text-align: right;\">\n      <th></th>\n      <th>message</th>\n      <th>genre</th>\n      <th>related</th>\n      <th>request</th>\n      <th>offer</th>\n      <th>aid_related</th>\n      <th>medical_help</th>\n      <th>medical_products</th>\n      <th>search_and_rescue</th>\n      <th>security</th>\n      <th>military</th>\n      <th>water</th>\n      <th>food</th>\n      <th>shelter</th>\n      <th>clothing</th>\n      <th>money</th>\n      <th>missing_people</th>\n      <th>refugees</th>\n      <th>death</th>\n      <th>other_aid</th>\n      <th>infrastructure_related</th>\n      <th>transport</th>\n      <th>buildings</th>\n      <th>electricity</th>\n      <th>tools</th>\n      <th>hospitals</th>\n      <th>shops</th>\n      <th>aid_centers</th>\n      <th>other_infrastructure</th>\n      <th>weather_related</th>\n      <th>floods</th>\n      <th>storm</th>\n      <th>fire</th>\n      <th>earthquake</th>\n      <th>cold</th>\n      <th>other_weather</th>\n      <th>direct_report</th>\n      <th>is_english</th>\n      <th>translation</th>\n    </tr>\n    <tr>\n      <th>id</th>\n      <th></th>\n      <th></th>\n      <th></th>\n      <th></th>\n      <th></th>\n      <th></th>\n      <th></th>\n      <th></th>\n      <th></th>\n      <th></th>\n      <th></th>\n      <th></th>\n      <th></th>\n      <th></th>\n      <th></th>\n      <th></th>\n      <th></th>\n      <th></th>\n      <th></th>\n      <th></th>\n      <th></th>\n      <th></th>\n      <th></th>\n      <th></th>\n      <th></th>\n      <th></th>\n      <th></th>\n      <th></th>\n      <th></th>\n      <th></th>\n      <th></th>\n      <th></th>\n      <th></th>\n      <th></th>\n      <th></th>\n      <th></th>\n      <th></th>\n      <th></th>\n      <th></th>\n    </tr>\n  </thead>\n  <tbody>\n    <tr>\n      <th>176</th>\n      <td>in what field would you need me to speak creole. French, half english, ( MW? )</td>\n      <td>direct</td>\n      <td>0</td>\n      <td>0</td>\n      <td>0</td>\n      <td>0</td>\n      <td>0</td>\n      <td>0</td>\n      <td>0</td>\n      <td>0</td>\n      <td>0</td>\n      <td>0</td>\n      <td>0</td>\n      <td>0</td>\n      <td>0</td>\n      <td>0</td>\n      <td>0</td>\n      <td>0</td>\n      <td>0</td>\n      <td>0</td>\n      <td>0</td>\n      <td>0</td>\n      <td>0</td>\n      <td>0</td>\n      <td>0</td>\n      <td>0</td>\n      <td>0</td>\n      <td>0</td>\n      <td>0</td>\n      <td>0</td>\n      <td>0</td>\n      <td>0</td>\n      <td>0</td>\n      <td>0</td>\n      <td>0</td>\n      <td>0</td>\n      <td>0</td>\n      <td>False</td>\n      <td>In what field would you need me to speak Creole, French, half English?</td>\n    </tr>\n    <tr>\n      <th>342</th>\n      <td>Onere and some food. Thanks for your understanding. ( Translator's note : are we getting the full messages? Most of them appear to be bits of sentences, like this one )</td>\n      <td>direct</td>\n      <td>1</td>\n      <td>1</td>\n      <td>0</td>\n      <td>1</td>\n      <td>0</td>\n      <td>0</td>\n      <td>0</td>\n      <td>0</td>\n      <td>0</td>\n      <td>0</td>\n      <td>1</td>\n      <td>0</td>\n      <td>0</td>\n      <td>0</td>\n      <td>0</td>\n      <td>0</td>\n      <td>0</td>\n      <td>0</td>\n      <td>0</td>\n      <td>0</td>\n      <td>0</td>\n      <td>0</td>\n      <td>0</td>\n      <td>0</td>\n      <td>0</td>\n      <td>0</td>\n      <td>0</td>\n      <td>0</td>\n      <td>0</td>\n      <td>0</td>\n      <td>0</td>\n      <td>0</td>\n      <td>0</td>\n      <td>0</td>\n      <td>1</td>\n      <td>False</td>\n      <td>I need some food. Thanks for your understanding. (Translator's note: are we getting the full messages? Most of them appear to be bits of sentences, like this one)</td>\n    </tr>\n    <tr>\n      <th>383</th>\n      <td>K aTIS RAP CREOLE. CONTACT ME FAST. FAST VIA SMS OR CALL URGENT it is very very important because it today im gonna do wats I got to do over the bariers am allready waiting</td>\n      <td>direct</td>\n      <td>0</td>\n      <td>0</td>\n      <td>0</td>\n      <td>0</td>\n      <td>0</td>\n      <td>0</td>\n      <td>0</td>\n      <td>0</td>\n      <td>0</td>\n      <td>0</td>\n      <td>0</td>\n      <td>0</td>\n      <td>0</td>\n      <td>0</td>\n      <td>0</td>\n      <td>0</td>\n      <td>0</td>\n      <td>0</td>\n      <td>0</td>\n      <td>0</td>\n      <td>0</td>\n      <td>0</td>\n      <td>0</td>\n      <td>0</td>\n      <td>0</td>\n      <td>0</td>\n      <td>0</td>\n      <td>0</td>\n      <td>0</td>\n      <td>0</td>\n      <td>0</td>\n      <td>0</td>\n      <td>0</td>\n      <td>0</td>\n      <td>0</td>\n      <td>False</td>\n      <td>I need help in Creole. Contact me quickly, quickly via SMS or call, it's urgent. It is very important because today I'm going to do what I have to do over the barriers, I'm already waiting.</td>\n    </tr>\n    <tr>\n      <th>399</th>\n      <td>Don't know what to do about estaff touterene part at the end</td>\n      <td>direct</td>\n      <td>1</td>\n      <td>0</td>\n      <td>0</td>\n      <td>0</td>\n      <td>0</td>\n      <td>0</td>\n      <td>0</td>\n      <td>0</td>\n      <td>0</td>\n      <td>0</td>\n      <td>0</td>\n      <td>0</td>\n      <td>0</td>\n      <td>0</td>\n      <td>0</td>\n      <td>0</td>\n      <td>0</td>\n      <td>0</td>\n      <td>0</td>\n      <td>0</td>\n      <td>0</td>\n      <td>0</td>\n      <td>0</td>\n      <td>0</td>\n      <td>0</td>\n      <td>0</td>\n      <td>0</td>\n      <td>0</td>\n      <td>0</td>\n      <td>0</td>\n      <td>0</td>\n      <td>0</td>\n      <td>0</td>\n      <td>0</td>\n      <td>0</td>\n      <td>False</td>\n      <td>Don't know what to do about the staff routing part at the end</td>\n    </tr>\n    <tr>\n      <th>508</th>\n      <td>We are desperate for food and water. Our organization is Kole Zepol pou'n delivre</td>\n      <td>direct</td>\n      <td>1</td>\n      <td>1</td>\n      <td>0</td>\n      <td>1</td>\n      <td>0</td>\n      <td>0</td>\n      <td>0</td>\n      <td>0</td>\n      <td>0</td>\n      <td>1</td>\n      <td>1</td>\n      <td>0</td>\n      <td>0</td>\n      <td>0</td>\n      <td>0</td>\n      <td>0</td>\n      <td>0</td>\n      <td>0</td>\n      <td>0</td>\n      <td>0</td>\n      <td>0</td>\n      <td>0</td>\n      <td>0</td>\n      <td>0</td>\n      <td>0</td>\n      <td>0</td>\n      <td>0</td>\n      <td>0</td>\n      <td>0</td>\n      <td>0</td>\n      <td>0</td>\n      <td>0</td>\n      <td>0</td>\n      <td>0</td>\n      <td>0</td>\n      <td>False</td>\n      <td>We are desperate for food and water. Our organization is Kole Zepol to deliver</td>\n    </tr>\n  </tbody>\n</table>\n</div>"
     },
     "execution_count": 11,
     "metadata": {},
     "output_type": "execute_result"
    }
   ],
   "source": [
    "# For messages with no translation or language detection, set is_english = True\n",
    "df['is_english'] = np.where(df['is_english'].isnull(), True, df['is_english'])\n",
    "df[df['is_english'] == False][:5]\n"
   ],
   "metadata": {
    "collapsed": false,
    "ExecuteTime": {
     "end_time": "2024-06-05T14:34:13.538735Z",
     "start_time": "2024-06-05T14:34:13.422564Z"
    }
   }
  },
  {
   "cell_type": "code",
   "execution_count": 12,
   "outputs": [],
   "source": [
    "# replace message with translation if message if flagged as not being in English\n",
    "df['message_new'] =  np.where((df['is_english'] == False) & (~df['translation'].isnull()),\n",
    "                              df['translation'],\n",
    "                              df['message'])"
   ],
   "metadata": {
    "collapsed": false,
    "ExecuteTime": {
     "end_time": "2024-06-05T14:34:13.775108Z",
     "start_time": "2024-06-05T14:34:13.540481Z"
    }
   }
  },
  {
   "cell_type": "code",
   "execution_count": 13,
   "outputs": [
    {
     "data": {
      "text/plain": "                                                                                                                                                                                                   message  \\\nid                                                                                                                                                                                                           \n18441                        BEIJING, July 21 (AFP) - Some 250,000 people have been uprooted by pounding rains and devastating floods sweeping across China, as the death toll steadily climbed Wednesday.   \n21083  The launch of the vaccination campaign follows a tail-off in activity for the IOM medical team running the IOM/USAID triage tent for incoming wounded at Banda Aceh's Sultan Iskandar Muda Airbase.   \n17590                                                                                                                    * Planning for immediate, medium and long term rehabilitation and recovery action   \n28952      What has been gaining traction as a result is the largest extremist threat in the region's modern history: ISIS, self-proclaimed as the Islamic State, better known in the Arab world as Daesh.   \n9474                                                                                                                                               is canadian ambassy give students and touristic visa ?    \n\n        genre  related  request  offer  aid_related  medical_help  \\\nid                                                                  \n18441    news        1        0      0            1             0   \n21083    news        1        0      0            1             1   \n17590    news        0        0      0            0             0   \n28952    news        1        0      0            1             0   \n9474   direct        0        0      0            0             0   \n\n       medical_products  search_and_rescue  security  military  water  food  \\\nid                                                                            \n18441                 0                  0         0         0      0     0   \n21083                 1                  0         0         0      0     0   \n17590                 0                  0         0         0      0     0   \n28952                 0                  0         0         1      0     0   \n9474                  0                  0         0         0      0     0   \n\n       shelter  clothing  money  missing_people  refugees  death  other_aid  \\\nid                                                                            \n18441        0         0      0               0         0      1          0   \n21083        1         0      0               0         0      0          0   \n17590        0         0      0               0         0      0          0   \n28952        0         0      0               0         0      0          0   \n9474         0         0      0               0         0      0          0   \n\n       infrastructure_related  transport  buildings  electricity  tools  \\\nid                                                                        \n18441                       0          0          0            0      0   \n21083                       0          0          0            0      0   \n17590                       0          0          0            0      0   \n28952                       0          0          0            0      0   \n9474                        0          0          0            0      0   \n\n       hospitals  shops  aid_centers  other_infrastructure  weather_related  \\\nid                                                                            \n18441          0      0            0                     0                1   \n21083          0      0            0                     0                0   \n17590          0      0            0                     0                0   \n28952          0      0            0                     0                0   \n9474           0      0            0                     0                0   \n\n       floods  storm  fire  earthquake  cold  other_weather  direct_report  \\\nid                                                                           \n18441       1      1     0           0     0              0              0   \n21083       0      0     0           0     0              0              0   \n17590       0      0     0           0     0              0              0   \n28952       0      0     0           0     0              0              1   \n9474        0      0     0           0     0              0              0   \n\n      is_english translation  \\\nid                             \n18441       True         NaN   \n21083       True         NaN   \n17590       True         NaN   \n28952       True         NaN   \n9474        True         NaN   \n\n                                                                                                                                                                                               message_new  \nid                                                                                                                                                                                                          \n18441                        BEIJING, July 21 (AFP) - Some 250,000 people have been uprooted by pounding rains and devastating floods sweeping across China, as the death toll steadily climbed Wednesday.  \n21083  The launch of the vaccination campaign follows a tail-off in activity for the IOM medical team running the IOM/USAID triage tent for incoming wounded at Banda Aceh's Sultan Iskandar Muda Airbase.  \n17590                                                                                                                    * Planning for immediate, medium and long term rehabilitation and recovery action  \n28952      What has been gaining traction as a result is the largest extremist threat in the region's modern history: ISIS, self-proclaimed as the Islamic State, better known in the Arab world as Daesh.  \n9474                                                                                                                                               is canadian ambassy give students and touristic visa ?   ",
      "text/html": "<div>\n<style scoped>\n    .dataframe tbody tr th:only-of-type {\n        vertical-align: middle;\n    }\n\n    .dataframe tbody tr th {\n        vertical-align: top;\n    }\n\n    .dataframe thead th {\n        text-align: right;\n    }\n</style>\n<table border=\"1\" class=\"dataframe\">\n  <thead>\n    <tr style=\"text-align: right;\">\n      <th></th>\n      <th>message</th>\n      <th>genre</th>\n      <th>related</th>\n      <th>request</th>\n      <th>offer</th>\n      <th>aid_related</th>\n      <th>medical_help</th>\n      <th>medical_products</th>\n      <th>search_and_rescue</th>\n      <th>security</th>\n      <th>military</th>\n      <th>water</th>\n      <th>food</th>\n      <th>shelter</th>\n      <th>clothing</th>\n      <th>money</th>\n      <th>missing_people</th>\n      <th>refugees</th>\n      <th>death</th>\n      <th>other_aid</th>\n      <th>infrastructure_related</th>\n      <th>transport</th>\n      <th>buildings</th>\n      <th>electricity</th>\n      <th>tools</th>\n      <th>hospitals</th>\n      <th>shops</th>\n      <th>aid_centers</th>\n      <th>other_infrastructure</th>\n      <th>weather_related</th>\n      <th>floods</th>\n      <th>storm</th>\n      <th>fire</th>\n      <th>earthquake</th>\n      <th>cold</th>\n      <th>other_weather</th>\n      <th>direct_report</th>\n      <th>is_english</th>\n      <th>translation</th>\n      <th>message_new</th>\n    </tr>\n    <tr>\n      <th>id</th>\n      <th></th>\n      <th></th>\n      <th></th>\n      <th></th>\n      <th></th>\n      <th></th>\n      <th></th>\n      <th></th>\n      <th></th>\n      <th></th>\n      <th></th>\n      <th></th>\n      <th></th>\n      <th></th>\n      <th></th>\n      <th></th>\n      <th></th>\n      <th></th>\n      <th></th>\n      <th></th>\n      <th></th>\n      <th></th>\n      <th></th>\n      <th></th>\n      <th></th>\n      <th></th>\n      <th></th>\n      <th></th>\n      <th></th>\n      <th></th>\n      <th></th>\n      <th></th>\n      <th></th>\n      <th></th>\n      <th></th>\n      <th></th>\n      <th></th>\n      <th></th>\n      <th></th>\n      <th></th>\n    </tr>\n  </thead>\n  <tbody>\n    <tr>\n      <th>18441</th>\n      <td>BEIJING, July 21 (AFP) - Some 250,000 people have been uprooted by pounding rains and devastating floods sweeping across China, as the death toll steadily climbed Wednesday.</td>\n      <td>news</td>\n      <td>1</td>\n      <td>0</td>\n      <td>0</td>\n      <td>1</td>\n      <td>0</td>\n      <td>0</td>\n      <td>0</td>\n      <td>0</td>\n      <td>0</td>\n      <td>0</td>\n      <td>0</td>\n      <td>0</td>\n      <td>0</td>\n      <td>0</td>\n      <td>0</td>\n      <td>0</td>\n      <td>1</td>\n      <td>0</td>\n      <td>0</td>\n      <td>0</td>\n      <td>0</td>\n      <td>0</td>\n      <td>0</td>\n      <td>0</td>\n      <td>0</td>\n      <td>0</td>\n      <td>0</td>\n      <td>1</td>\n      <td>1</td>\n      <td>1</td>\n      <td>0</td>\n      <td>0</td>\n      <td>0</td>\n      <td>0</td>\n      <td>0</td>\n      <td>True</td>\n      <td>NaN</td>\n      <td>BEIJING, July 21 (AFP) - Some 250,000 people have been uprooted by pounding rains and devastating floods sweeping across China, as the death toll steadily climbed Wednesday.</td>\n    </tr>\n    <tr>\n      <th>21083</th>\n      <td>The launch of the vaccination campaign follows a tail-off in activity for the IOM medical team running the IOM/USAID triage tent for incoming wounded at Banda Aceh's Sultan Iskandar Muda Airbase.</td>\n      <td>news</td>\n      <td>1</td>\n      <td>0</td>\n      <td>0</td>\n      <td>1</td>\n      <td>1</td>\n      <td>1</td>\n      <td>0</td>\n      <td>0</td>\n      <td>0</td>\n      <td>0</td>\n      <td>0</td>\n      <td>1</td>\n      <td>0</td>\n      <td>0</td>\n      <td>0</td>\n      <td>0</td>\n      <td>0</td>\n      <td>0</td>\n      <td>0</td>\n      <td>0</td>\n      <td>0</td>\n      <td>0</td>\n      <td>0</td>\n      <td>0</td>\n      <td>0</td>\n      <td>0</td>\n      <td>0</td>\n      <td>0</td>\n      <td>0</td>\n      <td>0</td>\n      <td>0</td>\n      <td>0</td>\n      <td>0</td>\n      <td>0</td>\n      <td>0</td>\n      <td>True</td>\n      <td>NaN</td>\n      <td>The launch of the vaccination campaign follows a tail-off in activity for the IOM medical team running the IOM/USAID triage tent for incoming wounded at Banda Aceh's Sultan Iskandar Muda Airbase.</td>\n    </tr>\n    <tr>\n      <th>17590</th>\n      <td>* Planning for immediate, medium and long term rehabilitation and recovery action</td>\n      <td>news</td>\n      <td>0</td>\n      <td>0</td>\n      <td>0</td>\n      <td>0</td>\n      <td>0</td>\n      <td>0</td>\n      <td>0</td>\n      <td>0</td>\n      <td>0</td>\n      <td>0</td>\n      <td>0</td>\n      <td>0</td>\n      <td>0</td>\n      <td>0</td>\n      <td>0</td>\n      <td>0</td>\n      <td>0</td>\n      <td>0</td>\n      <td>0</td>\n      <td>0</td>\n      <td>0</td>\n      <td>0</td>\n      <td>0</td>\n      <td>0</td>\n      <td>0</td>\n      <td>0</td>\n      <td>0</td>\n      <td>0</td>\n      <td>0</td>\n      <td>0</td>\n      <td>0</td>\n      <td>0</td>\n      <td>0</td>\n      <td>0</td>\n      <td>0</td>\n      <td>True</td>\n      <td>NaN</td>\n      <td>* Planning for immediate, medium and long term rehabilitation and recovery action</td>\n    </tr>\n    <tr>\n      <th>28952</th>\n      <td>What has been gaining traction as a result is the largest extremist threat in the region's modern history: ISIS, self-proclaimed as the Islamic State, better known in the Arab world as Daesh.</td>\n      <td>news</td>\n      <td>1</td>\n      <td>0</td>\n      <td>0</td>\n      <td>1</td>\n      <td>0</td>\n      <td>0</td>\n      <td>0</td>\n      <td>0</td>\n      <td>1</td>\n      <td>0</td>\n      <td>0</td>\n      <td>0</td>\n      <td>0</td>\n      <td>0</td>\n      <td>0</td>\n      <td>0</td>\n      <td>0</td>\n      <td>0</td>\n      <td>0</td>\n      <td>0</td>\n      <td>0</td>\n      <td>0</td>\n      <td>0</td>\n      <td>0</td>\n      <td>0</td>\n      <td>0</td>\n      <td>0</td>\n      <td>0</td>\n      <td>0</td>\n      <td>0</td>\n      <td>0</td>\n      <td>0</td>\n      <td>0</td>\n      <td>0</td>\n      <td>1</td>\n      <td>True</td>\n      <td>NaN</td>\n      <td>What has been gaining traction as a result is the largest extremist threat in the region's modern history: ISIS, self-proclaimed as the Islamic State, better known in the Arab world as Daesh.</td>\n    </tr>\n    <tr>\n      <th>9474</th>\n      <td>is canadian ambassy give students and touristic visa ?</td>\n      <td>direct</td>\n      <td>0</td>\n      <td>0</td>\n      <td>0</td>\n      <td>0</td>\n      <td>0</td>\n      <td>0</td>\n      <td>0</td>\n      <td>0</td>\n      <td>0</td>\n      <td>0</td>\n      <td>0</td>\n      <td>0</td>\n      <td>0</td>\n      <td>0</td>\n      <td>0</td>\n      <td>0</td>\n      <td>0</td>\n      <td>0</td>\n      <td>0</td>\n      <td>0</td>\n      <td>0</td>\n      <td>0</td>\n      <td>0</td>\n      <td>0</td>\n      <td>0</td>\n      <td>0</td>\n      <td>0</td>\n      <td>0</td>\n      <td>0</td>\n      <td>0</td>\n      <td>0</td>\n      <td>0</td>\n      <td>0</td>\n      <td>0</td>\n      <td>0</td>\n      <td>True</td>\n      <td>NaN</td>\n      <td>is canadian ambassy give students and touristic visa ?</td>\n    </tr>\n  </tbody>\n</table>\n</div>"
     },
     "execution_count": 13,
     "metadata": {},
     "output_type": "execute_result"
    }
   ],
   "source": [
    "# make sure messages already in English are untouched\n",
    "df[df['is_english'] == True].sample(5)"
   ],
   "metadata": {
    "collapsed": false,
    "ExecuteTime": {
     "end_time": "2024-06-05T14:34:14.269038Z",
     "start_time": "2024-06-05T14:34:13.955174Z"
    }
   }
  },
  {
   "cell_type": "code",
   "execution_count": 14,
   "outputs": [
    {
     "data": {
      "text/plain": "                                                                                                                                                                          message  \\\nid                                                                                                                                                                                  \n176                                                                                                in what field would you need me to speak creole. French, half english, ( MW? )   \n342      Onere and some food. Thanks for your understanding. ( Translator's note : are we getting the full messages? Most of them appear to be bits of sentences, like this one )   \n383  K aTIS RAP CREOLE. CONTACT ME FAST. FAST VIA SMS OR CALL URGENT it is very very important because it today im gonna do wats I got to do over the bariers am allready waiting   \n399                                                                                                                  Don't know what to do about estaff touterene part at the end   \n508                                                                                             We are desperate for food and water. Our organization is Kole Zepol pou'n delivre   \n\n      genre  related  request  offer  aid_related  medical_help  \\\nid                                                                \n176  direct        0        0      0            0             0   \n342  direct        1        1      0            1             0   \n383  direct        0        0      0            0             0   \n399  direct        1        0      0            0             0   \n508  direct        1        1      0            1             0   \n\n     medical_products  search_and_rescue  security  military  water  food  \\\nid                                                                          \n176                 0                  0         0         0      0     0   \n342                 0                  0         0         0      0     1   \n383                 0                  0         0         0      0     0   \n399                 0                  0         0         0      0     0   \n508                 0                  0         0         0      1     1   \n\n     shelter  clothing  money  missing_people  refugees  death  other_aid  \\\nid                                                                          \n176        0         0      0               0         0      0          0   \n342        0         0      0               0         0      0          0   \n383        0         0      0               0         0      0          0   \n399        0         0      0               0         0      0          0   \n508        0         0      0               0         0      0          0   \n\n     infrastructure_related  transport  buildings  electricity  tools  \\\nid                                                                      \n176                       0          0          0            0      0   \n342                       0          0          0            0      0   \n383                       0          0          0            0      0   \n399                       0          0          0            0      0   \n508                       0          0          0            0      0   \n\n     hospitals  shops  aid_centers  other_infrastructure  weather_related  \\\nid                                                                          \n176          0      0            0                     0                0   \n342          0      0            0                     0                0   \n383          0      0            0                     0                0   \n399          0      0            0                     0                0   \n508          0      0            0                     0                0   \n\n     floods  storm  fire  earthquake  cold  other_weather  direct_report  \\\nid                                                                         \n176       0      0     0           0     0              0              0   \n342       0      0     0           0     0              0              1   \n383       0      0     0           0     0              0              0   \n399       0      0     0           0     0              0              0   \n508       0      0     0           0     0              0              0   \n\n    is_english  \\\nid               \n176      False   \n342      False   \n383      False   \n399      False   \n508      False   \n\n                                                                                                                                                                                       translation  \\\nid                                                                                                                                                                                                   \n176                                                                                                                         In what field would you need me to speak Creole, French, half English?   \n342                             I need some food. Thanks for your understanding. (Translator's note: are we getting the full messages? Most of them appear to be bits of sentences, like this one)   \n383  I need help in Creole. Contact me quickly, quickly via SMS or call, it's urgent. It is very important because today I'm going to do what I have to do over the barriers, I'm already waiting.   \n399                                                                                                                                  Don't know what to do about the staff routing part at the end   \n508                                                                                                                 We are desperate for food and water. Our organization is Kole Zepol to deliver   \n\n                                                                                                                                                                                       message_new  \nid                                                                                                                                                                                                  \n176                                                                                                                         In what field would you need me to speak Creole, French, half English?  \n342                             I need some food. Thanks for your understanding. (Translator's note: are we getting the full messages? Most of them appear to be bits of sentences, like this one)  \n383  I need help in Creole. Contact me quickly, quickly via SMS or call, it's urgent. It is very important because today I'm going to do what I have to do over the barriers, I'm already waiting.  \n399                                                                                                                                  Don't know what to do about the staff routing part at the end  \n508                                                                                                                 We are desperate for food and water. Our organization is Kole Zepol to deliver  ",
      "text/html": "<div>\n<style scoped>\n    .dataframe tbody tr th:only-of-type {\n        vertical-align: middle;\n    }\n\n    .dataframe tbody tr th {\n        vertical-align: top;\n    }\n\n    .dataframe thead th {\n        text-align: right;\n    }\n</style>\n<table border=\"1\" class=\"dataframe\">\n  <thead>\n    <tr style=\"text-align: right;\">\n      <th></th>\n      <th>message</th>\n      <th>genre</th>\n      <th>related</th>\n      <th>request</th>\n      <th>offer</th>\n      <th>aid_related</th>\n      <th>medical_help</th>\n      <th>medical_products</th>\n      <th>search_and_rescue</th>\n      <th>security</th>\n      <th>military</th>\n      <th>water</th>\n      <th>food</th>\n      <th>shelter</th>\n      <th>clothing</th>\n      <th>money</th>\n      <th>missing_people</th>\n      <th>refugees</th>\n      <th>death</th>\n      <th>other_aid</th>\n      <th>infrastructure_related</th>\n      <th>transport</th>\n      <th>buildings</th>\n      <th>electricity</th>\n      <th>tools</th>\n      <th>hospitals</th>\n      <th>shops</th>\n      <th>aid_centers</th>\n      <th>other_infrastructure</th>\n      <th>weather_related</th>\n      <th>floods</th>\n      <th>storm</th>\n      <th>fire</th>\n      <th>earthquake</th>\n      <th>cold</th>\n      <th>other_weather</th>\n      <th>direct_report</th>\n      <th>is_english</th>\n      <th>translation</th>\n      <th>message_new</th>\n    </tr>\n    <tr>\n      <th>id</th>\n      <th></th>\n      <th></th>\n      <th></th>\n      <th></th>\n      <th></th>\n      <th></th>\n      <th></th>\n      <th></th>\n      <th></th>\n      <th></th>\n      <th></th>\n      <th></th>\n      <th></th>\n      <th></th>\n      <th></th>\n      <th></th>\n      <th></th>\n      <th></th>\n      <th></th>\n      <th></th>\n      <th></th>\n      <th></th>\n      <th></th>\n      <th></th>\n      <th></th>\n      <th></th>\n      <th></th>\n      <th></th>\n      <th></th>\n      <th></th>\n      <th></th>\n      <th></th>\n      <th></th>\n      <th></th>\n      <th></th>\n      <th></th>\n      <th></th>\n      <th></th>\n      <th></th>\n      <th></th>\n    </tr>\n  </thead>\n  <tbody>\n    <tr>\n      <th>176</th>\n      <td>in what field would you need me to speak creole. French, half english, ( MW? )</td>\n      <td>direct</td>\n      <td>0</td>\n      <td>0</td>\n      <td>0</td>\n      <td>0</td>\n      <td>0</td>\n      <td>0</td>\n      <td>0</td>\n      <td>0</td>\n      <td>0</td>\n      <td>0</td>\n      <td>0</td>\n      <td>0</td>\n      <td>0</td>\n      <td>0</td>\n      <td>0</td>\n      <td>0</td>\n      <td>0</td>\n      <td>0</td>\n      <td>0</td>\n      <td>0</td>\n      <td>0</td>\n      <td>0</td>\n      <td>0</td>\n      <td>0</td>\n      <td>0</td>\n      <td>0</td>\n      <td>0</td>\n      <td>0</td>\n      <td>0</td>\n      <td>0</td>\n      <td>0</td>\n      <td>0</td>\n      <td>0</td>\n      <td>0</td>\n      <td>0</td>\n      <td>False</td>\n      <td>In what field would you need me to speak Creole, French, half English?</td>\n      <td>In what field would you need me to speak Creole, French, half English?</td>\n    </tr>\n    <tr>\n      <th>342</th>\n      <td>Onere and some food. Thanks for your understanding. ( Translator's note : are we getting the full messages? Most of them appear to be bits of sentences, like this one )</td>\n      <td>direct</td>\n      <td>1</td>\n      <td>1</td>\n      <td>0</td>\n      <td>1</td>\n      <td>0</td>\n      <td>0</td>\n      <td>0</td>\n      <td>0</td>\n      <td>0</td>\n      <td>0</td>\n      <td>1</td>\n      <td>0</td>\n      <td>0</td>\n      <td>0</td>\n      <td>0</td>\n      <td>0</td>\n      <td>0</td>\n      <td>0</td>\n      <td>0</td>\n      <td>0</td>\n      <td>0</td>\n      <td>0</td>\n      <td>0</td>\n      <td>0</td>\n      <td>0</td>\n      <td>0</td>\n      <td>0</td>\n      <td>0</td>\n      <td>0</td>\n      <td>0</td>\n      <td>0</td>\n      <td>0</td>\n      <td>0</td>\n      <td>0</td>\n      <td>1</td>\n      <td>False</td>\n      <td>I need some food. Thanks for your understanding. (Translator's note: are we getting the full messages? Most of them appear to be bits of sentences, like this one)</td>\n      <td>I need some food. Thanks for your understanding. (Translator's note: are we getting the full messages? Most of them appear to be bits of sentences, like this one)</td>\n    </tr>\n    <tr>\n      <th>383</th>\n      <td>K aTIS RAP CREOLE. CONTACT ME FAST. FAST VIA SMS OR CALL URGENT it is very very important because it today im gonna do wats I got to do over the bariers am allready waiting</td>\n      <td>direct</td>\n      <td>0</td>\n      <td>0</td>\n      <td>0</td>\n      <td>0</td>\n      <td>0</td>\n      <td>0</td>\n      <td>0</td>\n      <td>0</td>\n      <td>0</td>\n      <td>0</td>\n      <td>0</td>\n      <td>0</td>\n      <td>0</td>\n      <td>0</td>\n      <td>0</td>\n      <td>0</td>\n      <td>0</td>\n      <td>0</td>\n      <td>0</td>\n      <td>0</td>\n      <td>0</td>\n      <td>0</td>\n      <td>0</td>\n      <td>0</td>\n      <td>0</td>\n      <td>0</td>\n      <td>0</td>\n      <td>0</td>\n      <td>0</td>\n      <td>0</td>\n      <td>0</td>\n      <td>0</td>\n      <td>0</td>\n      <td>0</td>\n      <td>0</td>\n      <td>False</td>\n      <td>I need help in Creole. Contact me quickly, quickly via SMS or call, it's urgent. It is very important because today I'm going to do what I have to do over the barriers, I'm already waiting.</td>\n      <td>I need help in Creole. Contact me quickly, quickly via SMS or call, it's urgent. It is very important because today I'm going to do what I have to do over the barriers, I'm already waiting.</td>\n    </tr>\n    <tr>\n      <th>399</th>\n      <td>Don't know what to do about estaff touterene part at the end</td>\n      <td>direct</td>\n      <td>1</td>\n      <td>0</td>\n      <td>0</td>\n      <td>0</td>\n      <td>0</td>\n      <td>0</td>\n      <td>0</td>\n      <td>0</td>\n      <td>0</td>\n      <td>0</td>\n      <td>0</td>\n      <td>0</td>\n      <td>0</td>\n      <td>0</td>\n      <td>0</td>\n      <td>0</td>\n      <td>0</td>\n      <td>0</td>\n      <td>0</td>\n      <td>0</td>\n      <td>0</td>\n      <td>0</td>\n      <td>0</td>\n      <td>0</td>\n      <td>0</td>\n      <td>0</td>\n      <td>0</td>\n      <td>0</td>\n      <td>0</td>\n      <td>0</td>\n      <td>0</td>\n      <td>0</td>\n      <td>0</td>\n      <td>0</td>\n      <td>0</td>\n      <td>False</td>\n      <td>Don't know what to do about the staff routing part at the end</td>\n      <td>Don't know what to do about the staff routing part at the end</td>\n    </tr>\n    <tr>\n      <th>508</th>\n      <td>We are desperate for food and water. Our organization is Kole Zepol pou'n delivre</td>\n      <td>direct</td>\n      <td>1</td>\n      <td>1</td>\n      <td>0</td>\n      <td>1</td>\n      <td>0</td>\n      <td>0</td>\n      <td>0</td>\n      <td>0</td>\n      <td>0</td>\n      <td>1</td>\n      <td>1</td>\n      <td>0</td>\n      <td>0</td>\n      <td>0</td>\n      <td>0</td>\n      <td>0</td>\n      <td>0</td>\n      <td>0</td>\n      <td>0</td>\n      <td>0</td>\n      <td>0</td>\n      <td>0</td>\n      <td>0</td>\n      <td>0</td>\n      <td>0</td>\n      <td>0</td>\n      <td>0</td>\n      <td>0</td>\n      <td>0</td>\n      <td>0</td>\n      <td>0</td>\n      <td>0</td>\n      <td>0</td>\n      <td>0</td>\n      <td>0</td>\n      <td>False</td>\n      <td>We are desperate for food and water. Our organization is Kole Zepol to deliver</td>\n      <td>We are desperate for food and water. Our organization is Kole Zepol to deliver</td>\n    </tr>\n  </tbody>\n</table>\n</div>"
     },
     "execution_count": 14,
     "metadata": {},
     "output_type": "execute_result"
    }
   ],
   "source": [
    "# check that messages not in English were replaced\n",
    "df[df['is_english'] == False][:5]"
   ],
   "metadata": {
    "collapsed": false,
    "ExecuteTime": {
     "end_time": "2024-06-05T14:34:15.511271Z",
     "start_time": "2024-06-05T14:34:15.421480Z"
    }
   }
  },
  {
   "cell_type": "code",
   "execution_count": 15,
   "outputs": [
    {
     "data": {
      "text/plain": "<Figure size 640x480 with 1 Axes>",
      "image/png": "[encoded data removed]"
     },
     "metadata": {},
     "output_type": "display_data"
    }
   ],
   "source": [
    " # plot how categories are distributed\n",
    "df_sum = df.sum(numeric_only=True).sort_values(ascending=True)\n",
    "ax = sns.barplot(data=df_sum)\n",
    "\n",
    "# annotate\n",
    "for c in ax.containers:\n",
    "    # set the bar label based on the y-axis\n",
    "    ax.bar_label(c, padding=1, fontsize=8, rotation=90, weight='bold')\n",
    "        \n",
    "plt.xticks(rotation=90)\n",
    "\n",
    "plt.title('Distribution of categories')\n",
    "plt.ylabel('Number of records')\n",
    "plt.show()"
   ],
   "metadata": {
    "collapsed": false,
    "ExecuteTime": {
     "end_time": "2024-06-05T14:34:16.129165Z",
     "start_time": "2024-06-05T14:34:15.450289Z"
    }
   }
  },
  {
   "cell_type": "markdown",
   "source": [
    "## prepare data"
   ],
   "metadata": {
    "collapsed": false
   }
  },
  {
   "cell_type": "code",
   "execution_count": 16,
   "outputs": [
    {
     "data": {
      "text/plain": "                                                                                                 message  \\\nid                                                                                                         \n2                                     Weather update - a cold front from Cuba that could pass over Haiti   \n7                                                                Is the Hurricane over or is it not over   \n8                                                                        Looking for someone but no name   \n9   UN reports Leogane 80-90 destroyed. Only Hospital St. Croix functioning. Needs supplies desperately.   \n12                                       says: west side of Haiti, rest of the country today and tonight   \n\n     genre  related  request  offer  aid_related  medical_help  \\\nid                                                               \n2   direct        1        0      0            0             0   \n7   direct        1        0      0            1             0   \n8   direct        1        0      0            0             0   \n9   direct        1        1      0            1             0   \n12  direct        1        0      0            0             0   \n\n    medical_products  search_and_rescue  security  military  water  food  \\\nid                                                                         \n2                  0                  0         0         0      0     0   \n7                  0                  0         0         0      0     0   \n8                  0                  0         0         0      0     0   \n9                  1                  0         0         0      0     0   \n12                 0                  0         0         0      0     0   \n\n    shelter  clothing  money  missing_people  refugees  death  other_aid  \\\nid                                                                         \n2         0         0      0               0         0      0          0   \n7         0         0      0               0         0      0          1   \n8         0         0      0               0         0      0          0   \n9         0         0      0               0         0      0          1   \n12        0         0      0               0         0      0          0   \n\n    infrastructure_related  transport  buildings  electricity  tools  \\\nid                                                                     \n2                        0          0          0            0      0   \n7                        0          0          0            0      0   \n8                        0          0          0            0      0   \n9                        1          0          1            0      0   \n12                       0          0          0            0      0   \n\n    hospitals  shops  aid_centers  other_infrastructure  weather_related  \\\nid                                                                         \n2           0      0            0                     0                0   \n7           0      0            0                     0                1   \n8           0      0            0                     0                0   \n9           1      0            0                     0                0   \n12          0      0            0                     0                0   \n\n    floods  storm  fire  earthquake  cold  other_weather  direct_report  \\\nid                                                                        \n2        0      0     0           0     0              0              0   \n7        0      1     0           0     0              0              0   \n8        0      0     0           0     0              0              0   \n9        0      0     0           0     0              0              0   \n12       0      0     0           0     0              0              0   \n\n   is_english translation  \\\nid                          \n2        True               \n7        True               \n8        True               \n9        True               \n12       True               \n\n                                                                                             message_new  \nid                                                                                                        \n2                                     Weather update - a cold front from Cuba that could pass over Haiti  \n7                                                                Is the Hurricane over or is it not over  \n8                                                                        Looking for someone but no name  \n9   UN reports Leogane 80-90 destroyed. Only Hospital St. Croix functioning. Needs supplies desperately.  \n12                                       says: west side of Haiti, rest of the country today and tonight  ",
      "text/html": "<div>\n<style scoped>\n    .dataframe tbody tr th:only-of-type {\n        vertical-align: middle;\n    }\n\n    .dataframe tbody tr th {\n        vertical-align: top;\n    }\n\n    .dataframe thead th {\n        text-align: right;\n    }\n</style>\n<table border=\"1\" class=\"dataframe\">\n  <thead>\n    <tr style=\"text-align: right;\">\n      <th></th>\n      <th>message</th>\n      <th>genre</th>\n      <th>related</th>\n      <th>request</th>\n      <th>offer</th>\n      <th>aid_related</th>\n      <th>medical_help</th>\n      <th>medical_products</th>\n      <th>search_and_rescue</th>\n      <th>security</th>\n      <th>military</th>\n      <th>water</th>\n      <th>food</th>\n      <th>shelter</th>\n      <th>clothing</th>\n      <th>money</th>\n      <th>missing_people</th>\n      <th>refugees</th>\n      <th>death</th>\n      <th>other_aid</th>\n      <th>infrastructure_related</th>\n      <th>transport</th>\n      <th>buildings</th>\n      <th>electricity</th>\n      <th>tools</th>\n      <th>hospitals</th>\n      <th>shops</th>\n      <th>aid_centers</th>\n      <th>other_infrastructure</th>\n      <th>weather_related</th>\n      <th>floods</th>\n      <th>storm</th>\n      <th>fire</th>\n      <th>earthquake</th>\n      <th>cold</th>\n      <th>other_weather</th>\n      <th>direct_report</th>\n      <th>is_english</th>\n      <th>translation</th>\n      <th>message_new</th>\n    </tr>\n    <tr>\n      <th>id</th>\n      <th></th>\n      <th></th>\n      <th></th>\n      <th></th>\n      <th></th>\n      <th></th>\n      <th></th>\n      <th></th>\n      <th></th>\n      <th></th>\n      <th></th>\n      <th></th>\n      <th></th>\n      <th></th>\n      <th></th>\n      <th></th>\n      <th></th>\n      <th></th>\n      <th></th>\n      <th></th>\n      <th></th>\n      <th></th>\n      <th></th>\n      <th></th>\n      <th></th>\n      <th></th>\n      <th></th>\n      <th></th>\n      <th></th>\n      <th></th>\n      <th></th>\n      <th></th>\n      <th></th>\n      <th></th>\n      <th></th>\n      <th></th>\n      <th></th>\n      <th></th>\n      <th></th>\n      <th></th>\n    </tr>\n  </thead>\n  <tbody>\n    <tr>\n      <th>2</th>\n      <td>Weather update - a cold front from Cuba that could pass over Haiti</td>\n      <td>direct</td>\n      <td>1</td>\n      <td>0</td>\n      <td>0</td>\n      <td>0</td>\n      <td>0</td>\n      <td>0</td>\n      <td>0</td>\n      <td>0</td>\n      <td>0</td>\n      <td>0</td>\n      <td>0</td>\n      <td>0</td>\n      <td>0</td>\n      <td>0</td>\n      <td>0</td>\n      <td>0</td>\n      <td>0</td>\n      <td>0</td>\n      <td>0</td>\n      <td>0</td>\n      <td>0</td>\n      <td>0</td>\n      <td>0</td>\n      <td>0</td>\n      <td>0</td>\n      <td>0</td>\n      <td>0</td>\n      <td>0</td>\n      <td>0</td>\n      <td>0</td>\n      <td>0</td>\n      <td>0</td>\n      <td>0</td>\n      <td>0</td>\n      <td>0</td>\n      <td>True</td>\n      <td></td>\n      <td>Weather update - a cold front from Cuba that could pass over Haiti</td>\n    </tr>\n    <tr>\n      <th>7</th>\n      <td>Is the Hurricane over or is it not over</td>\n      <td>direct</td>\n      <td>1</td>\n      <td>0</td>\n      <td>0</td>\n      <td>1</td>\n      <td>0</td>\n      <td>0</td>\n      <td>0</td>\n      <td>0</td>\n      <td>0</td>\n      <td>0</td>\n      <td>0</td>\n      <td>0</td>\n      <td>0</td>\n      <td>0</td>\n      <td>0</td>\n      <td>0</td>\n      <td>0</td>\n      <td>1</td>\n      <td>0</td>\n      <td>0</td>\n      <td>0</td>\n      <td>0</td>\n      <td>0</td>\n      <td>0</td>\n      <td>0</td>\n      <td>0</td>\n      <td>0</td>\n      <td>1</td>\n      <td>0</td>\n      <td>1</td>\n      <td>0</td>\n      <td>0</td>\n      <td>0</td>\n      <td>0</td>\n      <td>0</td>\n      <td>True</td>\n      <td></td>\n      <td>Is the Hurricane over or is it not over</td>\n    </tr>\n    <tr>\n      <th>8</th>\n      <td>Looking for someone but no name</td>\n      <td>direct</td>\n      <td>1</td>\n      <td>0</td>\n      <td>0</td>\n      <td>0</td>\n      <td>0</td>\n      <td>0</td>\n      <td>0</td>\n      <td>0</td>\n      <td>0</td>\n      <td>0</td>\n      <td>0</td>\n      <td>0</td>\n      <td>0</td>\n      <td>0</td>\n      <td>0</td>\n      <td>0</td>\n      <td>0</td>\n      <td>0</td>\n      <td>0</td>\n      <td>0</td>\n      <td>0</td>\n      <td>0</td>\n      <td>0</td>\n      <td>0</td>\n      <td>0</td>\n      <td>0</td>\n      <td>0</td>\n      <td>0</td>\n      <td>0</td>\n      <td>0</td>\n      <td>0</td>\n      <td>0</td>\n      <td>0</td>\n      <td>0</td>\n      <td>0</td>\n      <td>True</td>\n      <td></td>\n      <td>Looking for someone but no name</td>\n    </tr>\n    <tr>\n      <th>9</th>\n      <td>UN reports Leogane 80-90 destroyed. Only Hospital St. Croix functioning. Needs supplies desperately.</td>\n      <td>direct</td>\n      <td>1</td>\n      <td>1</td>\n      <td>0</td>\n      <td>1</td>\n      <td>0</td>\n      <td>1</td>\n      <td>0</td>\n      <td>0</td>\n      <td>0</td>\n      <td>0</td>\n      <td>0</td>\n      <td>0</td>\n      <td>0</td>\n      <td>0</td>\n      <td>0</td>\n      <td>0</td>\n      <td>0</td>\n      <td>1</td>\n      <td>1</td>\n      <td>0</td>\n      <td>1</td>\n      <td>0</td>\n      <td>0</td>\n      <td>1</td>\n      <td>0</td>\n      <td>0</td>\n      <td>0</td>\n      <td>0</td>\n      <td>0</td>\n      <td>0</td>\n      <td>0</td>\n      <td>0</td>\n      <td>0</td>\n      <td>0</td>\n      <td>0</td>\n      <td>True</td>\n      <td></td>\n      <td>UN reports Leogane 80-90 destroyed. Only Hospital St. Croix functioning. Needs supplies desperately.</td>\n    </tr>\n    <tr>\n      <th>12</th>\n      <td>says: west side of Haiti, rest of the country today and tonight</td>\n      <td>direct</td>\n      <td>1</td>\n      <td>0</td>\n      <td>0</td>\n      <td>0</td>\n      <td>0</td>\n      <td>0</td>\n      <td>0</td>\n      <td>0</td>\n      <td>0</td>\n      <td>0</td>\n      <td>0</td>\n      <td>0</td>\n      <td>0</td>\n      <td>0</td>\n      <td>0</td>\n      <td>0</td>\n      <td>0</td>\n      <td>0</td>\n      <td>0</td>\n      <td>0</td>\n      <td>0</td>\n      <td>0</td>\n      <td>0</td>\n      <td>0</td>\n      <td>0</td>\n      <td>0</td>\n      <td>0</td>\n      <td>0</td>\n      <td>0</td>\n      <td>0</td>\n      <td>0</td>\n      <td>0</td>\n      <td>0</td>\n      <td>0</td>\n      <td>0</td>\n      <td>True</td>\n      <td></td>\n      <td>says: west side of Haiti, rest of the country today and tonight</td>\n    </tr>\n  </tbody>\n</table>\n</div>"
     },
     "execution_count": 16,
     "metadata": {},
     "output_type": "execute_result"
    }
   ],
   "source": [
    "df.head()"
   ],
   "metadata": {
    "collapsed": false,
    "ExecuteTime": {
     "end_time": "2024-06-05T14:34:16.370632Z",
     "start_time": "2024-06-05T14:34:16.335705Z"
    }
   }
  },
  {
   "cell_type": "code",
   "execution_count": 17,
   "metadata": {
    "ExecuteTime": {
     "end_time": "2024-06-05T14:34:16.371191Z",
     "start_time": "2024-06-05T14:34:16.343518Z"
    }
   },
   "outputs": [
    {
     "data": {
      "text/plain": "                                                                                             message_new  \\\nid                                                                                                         \n2                                     Weather update - a cold front from Cuba that could pass over Haiti   \n7                                                                Is the Hurricane over or is it not over   \n8                                                                        Looking for someone but no name   \n9   UN reports Leogane 80-90 destroyed. Only Hospital St. Croix functioning. Needs supplies desperately.   \n12                                       says: west side of Haiti, rest of the country today and tonight   \n\n     genre  \nid          \n2   direct  \n7   direct  \n8   direct  \n9   direct  \n12  direct  ",
      "text/html": "<div>\n<style scoped>\n    .dataframe tbody tr th:only-of-type {\n        vertical-align: middle;\n    }\n\n    .dataframe tbody tr th {\n        vertical-align: top;\n    }\n\n    .dataframe thead th {\n        text-align: right;\n    }\n</style>\n<table border=\"1\" class=\"dataframe\">\n  <thead>\n    <tr style=\"text-align: right;\">\n      <th></th>\n      <th>message_new</th>\n      <th>genre</th>\n    </tr>\n    <tr>\n      <th>id</th>\n      <th></th>\n      <th></th>\n    </tr>\n  </thead>\n  <tbody>\n    <tr>\n      <th>2</th>\n      <td>Weather update - a cold front from Cuba that could pass over Haiti</td>\n      <td>direct</td>\n    </tr>\n    <tr>\n      <th>7</th>\n      <td>Is the Hurricane over or is it not over</td>\n      <td>direct</td>\n    </tr>\n    <tr>\n      <th>8</th>\n      <td>Looking for someone but no name</td>\n      <td>direct</td>\n    </tr>\n    <tr>\n      <th>9</th>\n      <td>UN reports Leogane 80-90 destroyed. Only Hospital St. Croix functioning. Needs supplies desperately.</td>\n      <td>direct</td>\n    </tr>\n    <tr>\n      <th>12</th>\n      <td>says: west side of Haiti, rest of the country today and tonight</td>\n      <td>direct</td>\n    </tr>\n  </tbody>\n</table>\n</div>"
     },
     "execution_count": 17,
     "metadata": {},
     "output_type": "execute_result"
    }
   ],
   "source": [
    "X = df[['message_new', 'genre']].copy()\n",
    "X.head()"
   ]
  },
  {
   "cell_type": "code",
   "execution_count": 18,
   "metadata": {
    "ExecuteTime": {
     "end_time": "2024-06-05T14:34:16.811815Z",
     "start_time": "2024-06-05T14:34:16.387773Z"
    }
   },
   "outputs": [
    {
     "data": {
      "text/plain": "    related  request  offer  aid_related  medical_help  medical_products  \\\nid                                                                         \n2         1        0      0            0             0                 0   \n7         1        0      0            1             0                 0   \n8         1        0      0            0             0                 0   \n9         1        1      0            1             0                 1   \n12        1        0      0            0             0                 0   \n\n    search_and_rescue  security  military  water  food  shelter  clothing  \\\nid                                                                          \n2                   0         0         0      0     0        0         0   \n7                   0         0         0      0     0        0         0   \n8                   0         0         0      0     0        0         0   \n9                   0         0         0      0     0        0         0   \n12                  0         0         0      0     0        0         0   \n\n    money  missing_people  refugees  death  other_aid  infrastructure_related  \\\nid                                                                              \n2       0               0         0      0          0                       0   \n7       0               0         0      0          1                       0   \n8       0               0         0      0          0                       0   \n9       0               0         0      0          1                       1   \n12      0               0         0      0          0                       0   \n\n    transport  buildings  electricity  tools  hospitals  shops  aid_centers  \\\nid                                                                            \n2           0          0            0      0          0      0            0   \n7           0          0            0      0          0      0            0   \n8           0          0            0      0          0      0            0   \n9           0          1            0      0          1      0            0   \n12          0          0            0      0          0      0            0   \n\n    other_infrastructure  weather_related  floods  storm  fire  earthquake  \\\nid                                                                           \n2                      0                0       0      0     0           0   \n7                      0                1       0      1     0           0   \n8                      0                0       0      0     0           0   \n9                      0                0       0      0     0           0   \n12                     0                0       0      0     0           0   \n\n    cold  other_weather  direct_report  \nid                                      \n2      0              0              0  \n7      0              0              0  \n8      0              0              0  \n9      0              0              0  \n12     0              0              0  ",
      "text/html": "<div>\n<style scoped>\n    .dataframe tbody tr th:only-of-type {\n        vertical-align: middle;\n    }\n\n    .dataframe tbody tr th {\n        vertical-align: top;\n    }\n\n    .dataframe thead th {\n        text-align: right;\n    }\n</style>\n<table border=\"1\" class=\"dataframe\">\n  <thead>\n    <tr style=\"text-align: right;\">\n      <th></th>\n      <th>related</th>\n      <th>request</th>\n      <th>offer</th>\n      <th>aid_related</th>\n      <th>medical_help</th>\n      <th>medical_products</th>\n      <th>search_and_rescue</th>\n      <th>security</th>\n      <th>military</th>\n      <th>water</th>\n      <th>food</th>\n      <th>shelter</th>\n      <th>clothing</th>\n      <th>money</th>\n      <th>missing_people</th>\n      <th>refugees</th>\n      <th>death</th>\n      <th>other_aid</th>\n      <th>infrastructure_related</th>\n      <th>transport</th>\n      <th>buildings</th>\n      <th>electricity</th>\n      <th>tools</th>\n      <th>hospitals</th>\n      <th>shops</th>\n      <th>aid_centers</th>\n      <th>other_infrastructure</th>\n      <th>weather_related</th>\n      <th>floods</th>\n      <th>storm</th>\n      <th>fire</th>\n      <th>earthquake</th>\n      <th>cold</th>\n      <th>other_weather</th>\n      <th>direct_report</th>\n    </tr>\n    <tr>\n      <th>id</th>\n      <th></th>\n      <th></th>\n      <th></th>\n      <th></th>\n      <th></th>\n      <th></th>\n      <th></th>\n      <th></th>\n      <th></th>\n      <th></th>\n      <th></th>\n      <th></th>\n      <th></th>\n      <th></th>\n      <th></th>\n      <th></th>\n      <th></th>\n      <th></th>\n      <th></th>\n      <th></th>\n      <th></th>\n      <th></th>\n      <th></th>\n      <th></th>\n      <th></th>\n      <th></th>\n      <th></th>\n      <th></th>\n      <th></th>\n      <th></th>\n      <th></th>\n      <th></th>\n      <th></th>\n      <th></th>\n      <th></th>\n    </tr>\n  </thead>\n  <tbody>\n    <tr>\n      <th>2</th>\n      <td>1</td>\n      <td>0</td>\n      <td>0</td>\n      <td>0</td>\n      <td>0</td>\n      <td>0</td>\n      <td>0</td>\n      <td>0</td>\n      <td>0</td>\n      <td>0</td>\n      <td>0</td>\n      <td>0</td>\n      <td>0</td>\n      <td>0</td>\n      <td>0</td>\n      <td>0</td>\n      <td>0</td>\n      <td>0</td>\n      <td>0</td>\n      <td>0</td>\n      <td>0</td>\n      <td>0</td>\n      <td>0</td>\n      <td>0</td>\n      <td>0</td>\n      <td>0</td>\n      <td>0</td>\n      <td>0</td>\n      <td>0</td>\n      <td>0</td>\n      <td>0</td>\n      <td>0</td>\n      <td>0</td>\n      <td>0</td>\n      <td>0</td>\n    </tr>\n    <tr>\n      <th>7</th>\n      <td>1</td>\n      <td>0</td>\n      <td>0</td>\n      <td>1</td>\n      <td>0</td>\n      <td>0</td>\n      <td>0</td>\n      <td>0</td>\n      <td>0</td>\n      <td>0</td>\n      <td>0</td>\n      <td>0</td>\n      <td>0</td>\n      <td>0</td>\n      <td>0</td>\n      <td>0</td>\n      <td>0</td>\n      <td>1</td>\n      <td>0</td>\n      <td>0</td>\n      <td>0</td>\n      <td>0</td>\n      <td>0</td>\n      <td>0</td>\n      <td>0</td>\n      <td>0</td>\n      <td>0</td>\n      <td>1</td>\n      <td>0</td>\n      <td>1</td>\n      <td>0</td>\n      <td>0</td>\n      <td>0</td>\n      <td>0</td>\n      <td>0</td>\n    </tr>\n    <tr>\n      <th>8</th>\n      <td>1</td>\n      <td>0</td>\n      <td>0</td>\n      <td>0</td>\n      <td>0</td>\n      <td>0</td>\n      <td>0</td>\n      <td>0</td>\n      <td>0</td>\n      <td>0</td>\n      <td>0</td>\n      <td>0</td>\n      <td>0</td>\n      <td>0</td>\n      <td>0</td>\n      <td>0</td>\n      <td>0</td>\n      <td>0</td>\n      <td>0</td>\n      <td>0</td>\n      <td>0</td>\n      <td>0</td>\n      <td>0</td>\n      <td>0</td>\n      <td>0</td>\n      <td>0</td>\n      <td>0</td>\n      <td>0</td>\n      <td>0</td>\n      <td>0</td>\n      <td>0</td>\n      <td>0</td>\n      <td>0</td>\n      <td>0</td>\n      <td>0</td>\n    </tr>\n    <tr>\n      <th>9</th>\n      <td>1</td>\n      <td>1</td>\n      <td>0</td>\n      <td>1</td>\n      <td>0</td>\n      <td>1</td>\n      <td>0</td>\n      <td>0</td>\n      <td>0</td>\n      <td>0</td>\n      <td>0</td>\n      <td>0</td>\n      <td>0</td>\n      <td>0</td>\n      <td>0</td>\n      <td>0</td>\n      <td>0</td>\n      <td>1</td>\n      <td>1</td>\n      <td>0</td>\n      <td>1</td>\n      <td>0</td>\n      <td>0</td>\n      <td>1</td>\n      <td>0</td>\n      <td>0</td>\n      <td>0</td>\n      <td>0</td>\n      <td>0</td>\n      <td>0</td>\n      <td>0</td>\n      <td>0</td>\n      <td>0</td>\n      <td>0</td>\n      <td>0</td>\n    </tr>\n    <tr>\n      <th>12</th>\n      <td>1</td>\n      <td>0</td>\n      <td>0</td>\n      <td>0</td>\n      <td>0</td>\n      <td>0</td>\n      <td>0</td>\n      <td>0</td>\n      <td>0</td>\n      <td>0</td>\n      <td>0</td>\n      <td>0</td>\n      <td>0</td>\n      <td>0</td>\n      <td>0</td>\n      <td>0</td>\n      <td>0</td>\n      <td>0</td>\n      <td>0</td>\n      <td>0</td>\n      <td>0</td>\n      <td>0</td>\n      <td>0</td>\n      <td>0</td>\n      <td>0</td>\n      <td>0</td>\n      <td>0</td>\n      <td>0</td>\n      <td>0</td>\n      <td>0</td>\n      <td>0</td>\n      <td>0</td>\n      <td>0</td>\n      <td>0</td>\n      <td>0</td>\n    </tr>\n  </tbody>\n</table>\n</div>"
     },
     "execution_count": 18,
     "metadata": {},
     "output_type": "execute_result"
    }
   ],
   "source": [
    "y = df.iloc[:, 2:-3].copy()\n",
    "y.head()"
   ]
  },
  {
   "cell_type": "markdown",
   "metadata": {},
   "source": [
    "### 2. Write a tokenization function to process your text data"
   ]
  },
  {
   "cell_type": "code",
   "execution_count": 21,
   "outputs": [],
   "source": [
    "def tokenize(text):\n",
    "    \n",
    "    # print('Tokenizer triggered')\n",
    "    # logger.info('Tokenizer triggered')    \n",
    "    \n",
    "    # Does any URL exist in the text, like in our exercises?\n",
    "    url_regex = 'http[s]?://(?:[a-zA-Z]|[0-9]|[$-_@.&+]|[!*\\(\\),]|(?:%[0-9a-fA-F][0-9a-fA-F]))+'    \n",
    "    \n",
    "    # replace urls with a common keyword\n",
    "    detected_urls = re.findall(url_regex, text)\n",
    "    for url in detected_urls:\n",
    "        text = text.replace(url, 'urlplaceholder')\n",
    "        \n",
    "    # normalize text by removing punctuation, remove case and strip spaces\n",
    "    text = re.sub(r\"[^a-zA-Z0-9]\", \" \", text) \n",
    "    text = text.lower().strip()\n",
    "    \n",
    "#   split sentence into words\n",
    "    tokens = word_tokenize(text)\n",
    "    \n",
    "    # Remove stopwords, e.g. the, a, \n",
    "    # tokens = [w for w in tokens if w not in stopwords.words(\"english\")]    \n",
    "    \n",
    "    # take words to their core, e.g. children to child\n",
    "    lemmatizer = WordNetLemmatizer()\n",
    "    clean_tokens = []\n",
    "    for tok in tokens:\n",
    "        clean_tok = lemmatizer.lemmatize(tok)\n",
    "        clean_tokens.append(clean_tok) \n",
    "\n",
    "    return clean_tokens       "
   ],
   "metadata": {
    "collapsed": false,
    "ExecuteTime": {
     "end_time": "2024-06-05T14:38:11.316408Z",
     "start_time": "2024-06-05T14:38:11.276782Z"
    }
   }
  },
  {
   "cell_type": "code",
   "execution_count": 22,
   "outputs": [
    {
     "name": "stdout",
     "output_type": "stream",
     "text": [
      "Weather update - a cold front from Cuba that could pass over Haiti\n",
      "['weather', 'update', 'a', 'cold', 'front', 'from', 'cuba', 'that', 'could', 'pas', 'over', 'haiti'] \n",
      "\n",
      "Is the Hurricane over or is it not over\n",
      "['is', 'the', 'hurricane', 'over', 'or', 'is', 'it', 'not', 'over'] \n",
      "\n",
      "Looking for someone but no name\n",
      "['looking', 'for', 'someone', 'but', 'no', 'name'] \n"
     ]
    }
   ],
   "source": [
    "# testing tokenizer\n",
    "for message in X['message_new'][:3]:\n",
    "    print(message)\n",
    "    tokens = tokenize(message)\n",
    "    print(tokens, '\\n')"
   ],
   "metadata": {
    "collapsed": false,
    "ExecuteTime": {
     "end_time": "2024-06-05T14:38:12.565001Z",
     "start_time": "2024-06-05T14:38:12.469575Z"
    }
   }
  },
  {
   "cell_type": "code",
   "execution_count": 23,
   "outputs": [],
   "source": [
    "# Build a custom transformer which will extract the starting verb of a sentence\n",
    "class StartingVerbExtractor2(BaseEstimator, TransformerMixin):\n",
    "    \"\"\"\n",
    "    Starting Verb Extractor class\n",
    "\n",
    "    This class extract the starting verb of a sentence,\n",
    "    creating a new feature for the ML classifier\n",
    "    \"\"\"\n",
    "\n",
    "    def starting_verb(self, text):\n",
    "        sentence_list = nltk.sent_tokenize(text)\n",
    "\n",
    "        for sentence in sentence_list:\n",
    "            pos_tags = nltk.pos_tag(tokenize(sentence))\n",
    "            if len(pos_tags) > 0:\n",
    "                first_word, first_tag = pos_tags[0]\n",
    "                if first_tag in ['VB', 'VBP', 'VBN', 'VBG'] or first_word == 'RT':\n",
    "                    return True\n",
    "        return False\n",
    "\n",
    "    def fit(self, X, y=None):\n",
    "        # Given it is a transformer we can return the self \n",
    "        return self\n",
    "\n",
    "    def transform(self, X):\n",
    "        # apply starting_verb function to all values in X\n",
    "        X_tagged = pd.Series(X).apply(self.starting_verb)\n",
    "        return pd.DataFrame(X_tagged)\n",
    "    "
   ],
   "metadata": {
    "collapsed": false,
    "ExecuteTime": {
     "end_time": "2024-06-05T14:38:13.458130Z",
     "start_time": "2024-06-05T14:38:13.416270Z"
    }
   }
  },
  {
   "cell_type": "markdown",
   "metadata": {},
   "source": [
    "### 3. Build a machine learning pipeline\n",
    "This machine pipeline should take in the `message` column as input and output classification results on the other 36 categories in the dataset. You may find the [MultiOutputClassifier](http://scikit-learn.org/stable/modules/generated/sklearn.multioutput.MultiOutputClassifier.html) helpful for predicting multiple target variables."
   ]
  },
  {
   "cell_type": "code",
   "execution_count": 23,
   "outputs": [],
   "source": [],
   "metadata": {
    "collapsed": false,
    "ExecuteTime": {
     "end_time": "2024-06-05T14:38:15.657477Z",
     "start_time": "2024-06-05T14:38:15.562491Z"
    }
   }
  },
  {
   "cell_type": "code",
   "execution_count": 24,
   "outputs": [],
   "source": [
    "# pos = y_train_sub[y_train_sub == 1].count().sum()"
   ],
   "metadata": {
    "collapsed": false,
    "ExecuteTime": {
     "end_time": "2024-06-05T14:38:16.314065Z",
     "start_time": "2024-06-05T14:38:16.266067Z"
    }
   }
  },
  {
   "cell_type": "code",
   "execution_count": 25,
   "outputs": [],
   "source": [
    "# occ = neg / pos\n",
    "# occ"
   ],
   "metadata": {
    "collapsed": false,
    "ExecuteTime": {
     "end_time": "2024-06-05T14:38:16.743752Z",
     "start_time": "2024-06-05T14:38:16.682061Z"
    }
   }
  },
  {
   "cell_type": "markdown",
   "source": [],
   "metadata": {
    "collapsed": false
   }
  },
  {
   "cell_type": "markdown",
   "metadata": {},
   "source": [
    "### 4. Train pipeline\n",
    "- Split data into train and test sets\n",
    "- Train pipeline\n",
    "\n",
    "As the dataset is imbalanced we need to split the data in the same proportions as the actual labels\n",
    "We will use iterative stratification:\n",
    "  - as the labelsets are large, \n",
    "  - works well with binary relevance\n",
    "  - handles rare labels in a better way and most important, \n",
    "  - maintains the imbalance ratio of each label in each subset"
   ]
  },
  {
   "cell_type": "code",
   "execution_count": 26,
   "outputs": [],
   "source": [
    "# split data maintaining the original label proportions, making sure imbalanced data are present in both test and training datasets.\n",
    "# from skmultilearn.model_selection import IterativeStratification\n",
    "# split1 = IterativeStratification(n_splits=2, \n",
    "#                                  order=1,\n",
    "#                                  sample_distribution_per_fold=[0.70, 0.30],\n",
    "#                                  # shuffle=True,\n",
    "#                                  # random_state=88,\n",
    "#                                  )\n",
    "# \n",
    "# split2 = IterativeStratification(n_splits=2, \n",
    "#                                  order=1,\n",
    "#                                  sample_distribution_per_fold=[0.5, 0.5],\n",
    "#                                  # shuffle=True,\n",
    "#                                  # random_state=88,\n",
    "#                                  )\n",
    "# \n",
    "# # split into train and test datasets\n",
    "# for train_index, test_index in split1.split(X, y):\n",
    "#     X_train, y_train = X.iloc[train_index], y.iloc[train_index]  \n",
    "#     X_valid_test, y_val_test = X.iloc[test_index], y.iloc[test_index]\n",
    "#     \n",
    "# for test_index, valid_index in split2.split(X_valid_test, y_val_test):\n",
    "#     X_test, y_test = X_valid_test.iloc[test_index], y_val_test.iloc[test_index]  \n",
    "#     X_valid, y_val = X_valid_test.iloc[valid_index], y_val_test.iloc[valid_index]"
   ],
   "metadata": {
    "collapsed": false,
    "ExecuteTime": {
     "end_time": "2024-06-05T14:38:18.523698Z",
     "start_time": "2024-06-05T14:38:18.464824Z"
    }
   }
  },
  {
   "cell_type": "code",
   "execution_count": 27,
   "outputs": [
    {
     "data": {
      "text/plain": "((21659, 2), (4332, 2))"
     },
     "execution_count": 27,
     "metadata": {},
     "output_type": "execute_result"
    }
   ],
   "source": [
    "# The size of the test set will be 1/K (i.e. 1/n_splits), so you can tune that parameter to control the test size (e.g. n_splits=3 will have test split of size 1/3 = 33% of your data)\n",
    "\n",
    "# split data into training and testing dataset\n",
    "mskf_1 = MultilabelStratifiedKFold(n_splits=6, shuffle=True, random_state=0)\n",
    "\n",
    "# rmskf = RepeatedMultilabelStratifiedKFold(n_splits=2, n_repeats=2, random_state=0)\n",
    "\n",
    "for train_index, test_index in mskf_1.split(X, y):\n",
    "    X_train_val, y_train_val = X.iloc[train_index], y.iloc[train_index]  \n",
    "    X_test, y_test = X.iloc[test_index], y.iloc[test_index]\n",
    "\n",
    "X_train_val.shape, X_test.shape    \n"
   ],
   "metadata": {
    "collapsed": false,
    "ExecuteTime": {
     "end_time": "2024-06-05T14:38:19.932032Z",
     "start_time": "2024-06-05T14:38:19.014359Z"
    }
   }
  },
  {
   "cell_type": "code",
   "execution_count": 28,
   "outputs": [
    {
     "data": {
      "text/plain": "((17327, 2), (4332, 2))"
     },
     "execution_count": 28,
     "metadata": {},
     "output_type": "execute_result"
    }
   ],
   "source": [
    "# further split training dataset into train and validation datasets\n",
    "mskf_2 = MultilabelStratifiedKFold(n_splits=5, shuffle=True, random_state=0)\n",
    "for train_index, val_index in mskf_2.split(X_train_val, y_train_val):\n",
    "    X_train, y_train = X_train_val.iloc[train_index], y_train_val.iloc[train_index]  \n",
    "    X_val, y_val = X_train_val.iloc[val_index], y_train_val.iloc[val_index]  \n",
    "    \n",
    "X_train.shape, X_val.shape "
   ],
   "metadata": {
    "collapsed": false,
    "ExecuteTime": {
     "end_time": "2024-06-05T14:38:20.701211Z",
     "start_time": "2024-06-05T14:38:19.930872Z"
    }
   }
  },
  {
   "cell_type": "code",
   "execution_count": 29,
   "outputs": [
    {
     "data": {
      "text/plain": "<Figure size 1600x600 with 1 Axes>",
      "image/png": "[encoded data removed]"
     },
     "metadata": {},
     "output_type": "display_data"
    }
   ],
   "source": [
    "# make sure proportions are the same for original y, test and train datasets\n",
    "# y_train_prop = (y_train.sum() / y_train.shape[0]).sort_values().to_frame()\n",
    "# y_train_prop.columns = ['train_proportion']\n",
    "# y_test_prop = (y_test.sum() / y_test.shape[0]).sort_values().to_frame()\n",
    "# y_test_prop.columns = ['test_proportion']\n",
    "# y_prop = (y.sum() / y.shape[0]).sort_values().to_frame()\n",
    "# y_prop.columns = ['before_proportion']\n",
    "# all = y_train_prop.merge(y_test_prop, left_index=True, right_index=True)\n",
    "# all = all.merge(y_prop, left_index=True, right_index=True)\n",
    "# all_index = all.index\n",
    "\n",
    "# all.plot(kind='bar', width=0.6, sharey=True, sharex=True, stacked=False, figsize=(16,6))\n",
    "# plt.tight_layout()\n",
    "\n",
    "# make sure proportions are the same for original y, test and train datasets\n",
    "def print_proportions(y, y_train, y_test):\n",
    "    y_train_prop = (y_train.sum() / y_train.shape[0]).sort_values().to_frame()\n",
    "    y_train_prop.columns = ['train_proportion']\n",
    "    y_test_prop = (y_test.sum() / y_test.shape[0]).sort_values().to_frame()\n",
    "    y_test_prop.columns = ['test_proportion']\n",
    "    y_prop = (y.sum() / y.shape[0]).sort_values().to_frame()\n",
    "    y_prop.columns = ['before_proportion']\n",
    "    all = y_train_prop.merge(y_test_prop, left_index=True, right_index=True)\n",
    "    all = all.merge(y_prop, left_index=True, right_index=True)\n",
    "    all = all.reindex(y_prop.index)\n",
    "    all.plot(kind='bar', width=0.6, sharey=True, sharex=True, stacked=False, figsize=(16,6))\n",
    "    plt.tight_layout()\n",
    "\n",
    "print_proportions(y, y_train, y_test)"
   ],
   "metadata": {
    "collapsed": false,
    "ExecuteTime": {
     "end_time": "2024-06-05T14:38:22.389543Z",
     "start_time": "2024-06-05T14:38:20.694589Z"
    }
   }
  },
  {
   "cell_type": "markdown",
   "source": [
    "> Label were split in the same proportions between train, validation and test datasets"
   ],
   "metadata": {
    "collapsed": false
   }
  },
  {
   "cell_type": "code",
   "execution_count": 30,
   "outputs": [],
   "source": [
    "# TODO\n",
    "# now we need to oversample the minority classes"
   ],
   "metadata": {
    "collapsed": false,
    "ExecuteTime": {
     "end_time": "2024-06-05T14:38:22.393422Z",
     "start_time": "2024-06-05T14:38:22.386049Z"
    }
   }
  },
  {
   "cell_type": "code",
   "execution_count": 31,
   "outputs": [],
   "source": [
    "# # testing mlsmote, using nearest neighbors, does it make sense to use ?\n",
    "# pipeline2 = Pipeline([\n",
    "#     ('vect', CountVectorizer(tokenizer=tokenize)),\n",
    "#     ('tfidf', TfidfTransformer()),\n",
    "#     # ('oversampling', RandomOverSampler(sampling_strategy='minority', random_state=random_state)),\n",
    "#     ('oversampling', MLSMOTE(categorical_features=[0],\n",
    "#                              input_columns=X_train.columns.to_list(), \n",
    "#                              label_columns=y_train.columns,\n",
    "#                              random_state=77))   \n",
    "# ])\n",
    "# \n",
    "# X_train_transformed = pipeline2.fit_transform(X_train['message_new'])\n",
    "# test = pd.DataFrame(X_train_transformed.toarray())\n",
    "# \n",
    "# # Now lets over sample the minority classes\n",
    "# categorical_features = test.columns.to_list()\n",
    "# \n",
    "# # Create an instance of MLSMOTE\n",
    "# mlsmote = MLSMOTE(categorical_features=[0],\n",
    "#                   input_columns=test.columns.to_list(),\n",
    "#                   label_columns=y_train.columns,\n",
    "#                   random_state=random_state)\n",
    "# \n",
    "# mlsmote.fit(test, y_train) \n",
    "# X_sub, y_sub = mlsmote.transform(test, y_train)\n",
    "# \n",
    "# # Are there improvements in proportions ?\n",
    "# y_train_prop = (X_sub.sum() / X_sub.shape[0]).sort_values().to_frame()\n",
    "# y_train_prop.columns = ['train_proportion']\n",
    "# y_test_prop = (y_sub.sum() / y_sub.shape[0]).sort_values().to_frame()\n",
    "# y_test_prop.columns = ['test_proportion']\n",
    "# y_prop = (y.sum() / y.shape[0]).sort_values().to_frame()\n",
    "# y_prop.columns = ['before_proportion']\n",
    "# all = y_train_prop.merge(y_test_prop, left_index=True, right_index=True)\n",
    "# all = all.merge(y_prop, left_index=True, right_index=True)\n",
    "# \n",
    "# all.plot(kind='bar', width=0.6, sharey=True, sharex=True, stacked=False, figsize=(16,6))\n",
    "# plt.tight_layout()"
   ],
   "metadata": {
    "collapsed": false,
    "ExecuteTime": {
     "end_time": "2024-06-05T14:38:22.421022Z",
     "start_time": "2024-06-05T14:38:22.391971Z"
    }
   }
  },
  {
   "cell_type": "code",
   "execution_count": 32,
   "outputs": [],
   "source": [
    "def get_tail_label(y: pd.DataFrame) -> list:\n",
    "    \"\"\"\n",
    "    Find the underrepresented targets.\n",
    "    Underrepresented targets are those which are observed less than the median occurrence.\n",
    "    \"\"\"\n",
    "    # irlbl = y.sum(axis=0)\n",
    "    # irlbl = irlbl.max() / irlbl\n",
    "    # threshold_irlbl = irlbl.mean()\n",
    "    # tail_label = irlbl[irlbl > threshold_irlbl].index.tolist()\n",
    "    # print(tail_label)\n",
    "    # return tail_label\n",
    "   \n",
    "    # irlbl = y.sum(axis=0)\n",
    "    # print(irlbl)\n",
    "    # irlbl = irlbl.max() / irlbl\n",
    "    # threshold_irlbl = irlbl.mean()\n",
    "    # tail_label = irlbl[irlbl > threshold_irlbl].index.tolist()\n",
    "    # print(tail_label)\n",
    "    \n",
    "    grand_total = y.sum(axis=0).sum()\n",
    "    irlbl = y.sum(axis=0)/grand_total\n",
    "    # threshold_irlbl = irlbl.median()\n",
    "    threshold_irlbl = irlbl.quantile(0.25)\n",
    "    tail_label = irlbl[irlbl < threshold_irlbl].index.tolist()     \n",
    "    \n",
    "    return tail_label\n",
    "\n",
    "\n",
    "def get_minority_samples(X: pd.DataFrame, y: pd.DataFrame):\n",
    "    \"\"\"\n",
    "    Filter datasets containing records with imbalanced targets\n",
    "    \n",
    "    return\n",
    "    X_sub: pandas.DataFrame, the feature vector minority dataframe\n",
    "    y_sub: pandas.DataFrame, the target vector minority dataframe\n",
    "    \"\"\"\n",
    "    tail_labels = get_tail_label(y)\n",
    "    index = y[y[tail_labels].apply(lambda x: (x == 1).any(), axis=1)].index.tolist()\n",
    "    X_sub = X.loc[index]\n",
    "    y_sub = y.loc[index]\n",
    "    print('Imbalanced labels: {}'.format(tail_labels))\n",
    "    return X_sub, y_sub, tail_labels\n",
    "\n",
    "def get_sample_ratio(df: pd.DataFrame):\n",
    "    \"\"\"\n",
    "    Find the underrepresented targets.\n",
    "    Underrepresented targets are those which are observed less than the median occurrence.\n",
    "    Targets beyond a quantile limit are filtered.\n",
    "    \"\"\"\n",
    "    \n",
    "    tail_labels = get_tail_label(df)\n",
    "    full_count = df.sum(axis=0)    \n",
    "    ratio = np.where(full_count.index.isin(tail_labels), np.ceil((full_count.mean()) / full_count), 1)    \n",
    "    ratio = pd.Series(ratio, index=full_count.index)    \n",
    "    return ratio  \n",
    "\n",
    "def transform(X, y):\n",
    "  \n",
    "    # calculate the ratio each label should be duplicated to be balanced\n",
    "    counts = get_sample_ratio(y_train)\n",
    "\n",
    "    # filter datasets with rows that contain imbalanced features\n",
    "    X_sub, y_sub, tail_labels = get_minority_samples(X, y)   \n",
    "    print('Minority samples: {} {}'.format(X_sub.shape, y_sub.shape))\n",
    "    \n",
    "    # replace class binary indicator with it's ratio of duplication\n",
    "    y_sub_copy = y_sub.copy()\n",
    "    labels = y_sub.columns.to_list()\n",
    "    for label in labels:\n",
    "        # print(label, counts[label])\n",
    "        y_sub_copy[label] = y_sub_copy[label].apply(lambda x: x * counts[label])    \n",
    "    \n",
    "    X_list = []\n",
    "    y_list = []\n",
    "    for i in range(y_sub.shape[0]):\n",
    "        # for each row, get label with maximum ratio\n",
    "        max_label = y_sub_copy.iloc[i].idxmax()\n",
    "        # how many times should we copy this row ?\n",
    "        nr_copies = int(counts[max_label])\n",
    "        # get index of row to be copied\n",
    "        index = y_sub.iloc[i].name\n",
    "        # print(max_label, nr_copies, index)\n",
    "        # duplicate the rows according to ratio of imbalance\n",
    "        for _ in range(nr_copies):\n",
    "            y_list.append(y_sub.iloc[i])\n",
    "            X_list.append(X_sub.iloc[i])\n",
    "           \n",
    "    X_sub_new = pd.DataFrame(X_list, columns=X_train.columns.to_list())\n",
    "    y_sub_new = pd.DataFrame(y_list, columns=y_train.columns.to_list())\n",
    "    \n",
    "    X_sub_new = pd.concat([X, X_sub_new])\n",
    "    y_sub_new = pd.concat([y, y_sub_new])\n",
    "    \n",
    "    return X_sub_new, y_sub_new, tail_labels\n",
    "    "
   ],
   "metadata": {
    "collapsed": false,
    "ExecuteTime": {
     "end_time": "2024-06-05T14:38:22.609086Z",
     "start_time": "2024-06-05T14:38:22.406595Z"
    }
   }
  },
  {
   "cell_type": "code",
   "execution_count": 33,
   "outputs": [],
   "source": [
    "# get_sample_ratio(y_train)"
   ],
   "metadata": {
    "collapsed": false,
    "ExecuteTime": {
     "end_time": "2024-06-05T14:38:22.609528Z",
     "start_time": "2024-06-05T14:38:22.412785Z"
    }
   }
  },
  {
   "cell_type": "code",
   "execution_count": 34,
   "outputs": [
    {
     "name": "stdout",
     "output_type": "stream",
     "text": [
      "Training shapes before: (17327, 2) (17327, 35)\n",
      "Imbalanced labels: ['offer', 'security', 'clothing', 'missing_people', 'tools', 'hospitals', 'shops', 'aid_centers', 'fire']\n",
      "Minority samples: (1384, 2) (1384, 35)\n",
      "Duplicated samples: (30500, 2) (30500, 35)\n"
     ]
    }
   ],
   "source": [
    "print('Training shapes before: {} {}'.format(X_train.shape, y_train.shape)) \n",
    "X_train_sub, y_train_sub, imbalanced_labels = transform(X_train, y_train)\n",
    "print('Duplicated samples: {} {}'.format(X_train_sub.shape, y_train_sub.shape))    "
   ],
   "metadata": {
    "collapsed": false,
    "ExecuteTime": {
     "end_time": "2024-06-05T14:38:28.572469Z",
     "start_time": "2024-06-05T14:38:23.970736Z"
    }
   }
  },
  {
   "cell_type": "code",
   "execution_count": 35,
   "outputs": [
    {
     "data": {
      "text/plain": "<Figure size 1600x600 with 1 Axes>",
      "image/png": "[encoded data removed]"
     },
     "metadata": {},
     "output_type": "display_data"
    }
   ],
   "source": [
    "print_proportions(y, y_train_sub, y_test)"
   ],
   "metadata": {
    "collapsed": false,
    "ExecuteTime": {
     "end_time": "2024-06-05T14:38:29.321016Z",
     "start_time": "2024-06-05T14:38:28.568492Z"
    }
   }
  },
  {
   "cell_type": "code",
   "execution_count": 36,
   "outputs": [],
   "source": [
    "neg = y_train_sub[y_train_sub['offer'] == 0].count().sum()\n",
    "pos = y_train_sub[y_train_sub['offer'] == 1].count().sum()\n",
    "ratio = neg / pos"
   ],
   "metadata": {
    "collapsed": false,
    "ExecuteTime": {
     "end_time": "2024-06-05T14:38:29.340066Z",
     "start_time": "2024-06-05T14:38:29.319247Z"
    }
   }
  },
  {
   "cell_type": "code",
   "execution_count": 37,
   "outputs": [],
   "source": [
    "# cache transformers so they are only executed once, especially during gridsearch\n",
    "cachedir = mkdtemp()\n",
    "# memory = Memory(location=cachedir, verbose=1)\n",
    "\n",
    "params = {\n",
    "    'objective': 'binary:logistic',\n",
    "    'n_jobs': 4,\n",
    "    'max_depth': 6,\n",
    "    'min_child_weight': 1,\n",
    "    'gamma': 0,\n",
    "    'learning_rate': 0.1,\n",
    "    'eval_metric': 'auc',\n",
    "    # 'eval_metric': 'error',    \n",
    "    'booster': 'gbtree',\n",
    "    # 'random_state': random_state,\n",
    "    'n_estimators': 30,\n",
    "    'subsample': 0.9,\n",
    "    'colsample_bytree': 0.9,\n",
    "    'tree_method': 'hist',\n",
    "    'scale_pos_weight': ratio,\n",
    "    # 'device': 'gpu',\n",
    "    # 'early_stopping_rounds': 15,\n",
    "    'verbosity': 2,\n",
    "    'seed' : random_state,\n",
    "    'nthread': 4,\n",
    "    # 'enable_categorical': True,\n",
    "\n",
    "}\n",
    "\n",
    "text_pipe = Pipeline(steps=[\n",
    "    ('vect', CountVectorizer(tokenizer=tokenize, token_pattern=None)),    \n",
    "    ('tfidf', TfidfTransformer(sublinear_tf=True)),    \n",
    "    # ('scale', StandardScaler(with_mean=False)),\n",
    "    ],\n",
    "    verbose=True)\n",
    "\n",
    "# preprocessor for NLP\n",
    "preprocessor_text = ColumnTransformer(transformers=[\n",
    "    ('text_vect', text_pipe, 'message_new'),\n",
    "],\n",
    "    verbose_feature_names_out=False,\n",
    "    remainder='drop',\n",
    "    verbose=True,\n",
    ")\n",
    "\n",
    "# preprocessor for genre column to convert to binary\n",
    "preprocessor_bin = ColumnTransformer(transformers=[\n",
    "    ('one_hot', OneHotEncoder(), ['genre']),\n",
    "],\n",
    "    # verbose_feature_names_out=False,\n",
    "    remainder='drop',\n",
    "    verbose=True,\n",
    ")\n",
    "\n",
    "preprocessor = Pipeline([\n",
    "    ('feature_union', FeatureUnion([\n",
    "\n",
    "        ('text_processing', preprocessor_text),\n",
    "\n",
    "        ('one_hot', preprocessor_bin),\n",
    "\n",
    "    ],\n",
    "        verbose=True, \n",
    "    ))])\n",
    "\n",
    "\n",
    "full_pipeline = Pipeline([\n",
    "    ('preprocessor', preprocessor),\n",
    "    ('clf', MultiOutputClassifier(xgb.XGBClassifier(**params))),\n",
    "],\n",
    "    memory=cachedir,\n",
    "    verbose=True,\n",
    ")"
   ],
   "metadata": {
    "collapsed": false,
    "ExecuteTime": {
     "end_time": "2024-06-05T14:38:41.195836Z",
     "start_time": "2024-06-05T14:38:41.158015Z"
    }
   }
  },
  {
   "cell_type": "code",
   "execution_count": null,
   "outputs": [],
   "source": [
    "# train classifier\n",
    "full_pipeline.fit(X_train_sub, y_train_sub)\n",
    "rmtree(cachedir)"
   ],
   "metadata": {
    "collapsed": false
   }
  },
  {
   "cell_type": "markdown",
   "metadata": {},
   "source": [
    "### 5. Test your model\n",
    "Report the f1 score, precision and recall for each output category of the dataset. You can do this by iterating through the columns and calling sklearn's `classification_report` on each."
   ]
  },
  {
   "cell_type": "code",
   "execution_count": null,
   "outputs": [],
   "source": [
    "y_pred_val = evaluate(X_val, y_val, full_pipeline)"
   ],
   "metadata": {
    "collapsed": false
   }
  },
  {
   "cell_type": "code",
   "execution_count": null,
   "outputs": [],
   "source": [
    "auc = roc_auc_score(y_val,\n",
    "                    y_pred_val)\n",
    "print('AUC aggregate: {}'.format(auc))"
   ],
   "metadata": {
    "collapsed": false
   }
  },
  {
   "cell_type": "code",
   "execution_count": null,
   "outputs": [],
   "source": [],
   "metadata": {
    "collapsed": false
   }
  },
  {
   "cell_type": "markdown",
   "metadata": {},
   "source": [
    "### 6. Improve your model\n",
    "Use grid search to find better parameters. "
   ]
  },
  {
   "cell_type": "code",
   "execution_count": null,
   "outputs": [],
   "source": [
    "full_pipeline.get_params()"
   ],
   "metadata": {
    "collapsed": false
   }
  },
  {
   "cell_type": "code",
   "execution_count": null,
   "metadata": {},
   "outputs": [],
   "source": [
    "hyperparameters = {\n",
    "    'clf__estimator__max_depth' : [6, 8, 10],\n",
    "    'clf__estimator__min_child_weight': [1, 3, 5]\n",
    "    # 'clf__estimator__learning_rate': [0.1, 0.01, 0.05],\n",
    "    # 'clf__estimator__alpha': [0.1, 1, 10],\n",
    "    # 'clf__estimator__gamma': [0, 0.25, 1],\n",
    "    # 'clf__estimator__reg_lambda': [0, 1, 10],\n",
    "    # 'clf__estimator__n_estimators': [150,300],\n",
    "    # 'clf__estimator__subsample': [0.8, 1],\n",
    "    # 'clf__estimator__scale_pos_weight': [None, 1, 5],\n",
    "    # 'clf__estimator__tree_method': ['hist'],\n",
    "    # 'clf__estimator__colsample_bytree': [0.5, 0.8, 1],   \n",
    "}\n",
    "\n",
    "# labels = list(y_train_sub.columns)\n",
    "# mls = MultilabelStratifiedKFold(n_splits=2,\n",
    "#                                 shuffle=True,\n",
    "#                                 random_state=random_state)\n",
    "\n",
    "skf = StratifiedKFold(n_splits=2, shuffle=False)\n",
    "\n",
    "# create grid search object\n",
    "gsearch1 = GridSearchCV(full_pipeline,\n",
    "                  param_grid=hyperparameters,\n",
    "                  refit=True,\n",
    "                  return_train_score=True,\n",
    "                  # n_jobs=6,\n",
    "                  scoring='roc_auc',\n",
    "                  cv=MultilabelStratifiedKFold(n_splits=6, shuffle=True, random_state=0),\n",
    "                  verbose=3,\n",
    "                  )\n",
    "\n",
    "gsearch1.fit(X_train_sub, y_train_sub)\n",
    "rmtree(cachedir)"
   ]
  },
  {
   "cell_type": "markdown",
   "metadata": {},
   "source": [
    "### 7. Test your model\n",
    "Show the accuracy, precision, and recall of the tuned model.  \n",
    "\n",
    "Since this project focuses on code quality, process, and  pipelines, there is no minimum performance metric needed to pass. However, make sure to fine tune your models for accuracy, precision and recall to make your project stand out - especially for your portfolio!"
   ]
  },
  {
   "cell_type": "code",
   "execution_count": null,
   "metadata": {},
   "outputs": [],
   "source": [
    "# predict\n",
    "y_pred_val = gsearch1.predict(X_val)\n",
    "\n",
    "print(classification_report(y_val,\n",
    "                            y_pred_val,\n",
    "                            target_names=list(y.columns),\n",
    "                            zero_division=0))"
   ]
  },
  {
   "cell_type": "code",
   "execution_count": null,
   "outputs": [],
   "source": [
    "auc = roc_auc_score(y_val, y_pred_val)\n",
    "print('AUC aggregate: {}'.format(auc))\n",
    "print('Best score: {}'.format(gsearch1.best_score_))"
   ],
   "metadata": {
    "collapsed": false
   }
  },
  {
   "cell_type": "code",
   "execution_count": null,
   "outputs": [],
   "source": [],
   "metadata": {
    "collapsed": false
   }
  },
  {
   "cell_type": "code",
   "execution_count": null,
   "outputs": [],
   "source": [
    "print(\"\\nBest Parameters:\", gsearch1.best_params_)"
   ],
   "metadata": {
    "collapsed": false
   }
  },
  {
   "cell_type": "code",
   "execution_count": null,
   "outputs": [],
   "source": [
    "# clear cache\n",
    "hyperparameters = {\n",
    "    'clf__estimator__max_depth': [10],\n",
    "    'clf__estimator__min_child_weight': [0.1, 1, 2, 5, 10],\n",
    "    # 'clf__estimator__learning_rate': [0.1, 0.01, 0.05],\n",
    "    # 'clf__estimator__alpha': [0.1, 1, 10],\n",
    "    # 'clf__estimator__gamma': [0.1, 0, 1, 2, 3],\n",
    "    # 'clf__estimator__reg_lambda': [0, 1, 10],\n",
    "    # 'clf__estimator__n_estimators': [150,300],\n",
    "    # 'clf__estimator__subsample': [0.8, 1],\n",
    "    # 'clf__estimator__scale_pos_weight': [None, 1, 5],\n",
    "    # 'clf__estimator__tree_method': ['hist'],\n",
    "    # 'clf__estimator__colsample_bytree': [0.5, 0.8, 1],   \n",
    "}\n",
    "\n",
    "# create grid search object\n",
    "gsearch2 = GridSearchCV(full_pipeline,\n",
    "                        param_grid=hyperparameters,\n",
    "                        refit=True,\n",
    "                        return_train_score=True,\n",
    "                        # n_jobs=6,\n",
    "                        scoring='roc_auc',\n",
    "                        cv=MultilabelStratifiedKFold(n_splits=6, shuffle=True, random_state=0),\n",
    "                        verbose=3,\n",
    "                        )\n",
    "\n",
    "gsearch2.fit(X_train_sub, y_train_sub)\n",
    "rmtree(cachedir)"
   ],
   "metadata": {
    "collapsed": false
   }
  },
  {
   "cell_type": "code",
   "execution_count": null,
   "outputs": [],
   "source": [
    "# predict\n",
    "# def evaluate(X, y, model):\n",
    "# \n",
    "#     y_pred = model.predict(X)\n",
    "#     \n",
    "#     print(classification_report(y,\n",
    "#                                 y_pred,\n",
    "#                                 target_names=list(y.columns),\n",
    "#                                 zero_division=0))\n",
    "#     return y_pred\n",
    "\n",
    "y_pred_val = evaluate(X_val, y_val, gsearch2)"
   ],
   "metadata": {
    "collapsed": false
   }
  },
  {
   "cell_type": "code",
   "execution_count": null,
   "outputs": [],
   "source": [
    "# def print_results(y, y_pred, cv):\n",
    "# \n",
    "#     roc_auc = roc_auc_score(y, y_pred)\n",
    "#     print('AUC aggregate: {}'.format(roc_auc))\n",
    "#     print('\\nBest score: {}'.format(cv.best_score_))\n",
    "#     print(\"\\nBest Parameters:\", cv.best_params_)\n",
    "#     print(\"\\nScores: \\n\", cv.cv_results_)\n",
    "    \n",
    "print_results(y_val, y_pred_val, gsearch2)"
   ],
   "metadata": {
    "collapsed": false
   }
  },
  {
   "cell_type": "markdown",
   "source": [
    "## Step 3"
   ],
   "metadata": {
    "collapsed": false
   }
  },
  {
   "cell_type": "code",
   "execution_count": null,
   "outputs": [],
   "source": [
    "# cache transformers so they are only executed once, especially during gridsearch\n",
    "cachedir = mkdtemp()\n",
    "# memory = Memory(location=cachedir, verbose=1)\n",
    "\n",
    "params = {\n",
    "    'objective': 'binary:logistic',\n",
    "    'n_jobs': 4,\n",
    "    'max_depth': 10,\n",
    "    'min_child_weight': 1,\n",
    "    'gamma': 0,\n",
    "    'learning_rate': 0.1,\n",
    "    'eval_metric': 'auc',\n",
    "    # 'eval_metric': 'error',    \n",
    "    'booster': 'gbtree',\n",
    "    # 'random_state': random_state,\n",
    "    'n_estimators': 30,\n",
    "    'subsample': 0.9,\n",
    "    'colsample_bytree': 0.9,\n",
    "    'tree_method': 'hist',\n",
    "    'scale_pos_weight': ratio,\n",
    "    # 'device': 'gpu',\n",
    "    # 'early_stopping_rounds': 20,\n",
    "    'verbosity': 2,\n",
    "    'seed': random_state,\n",
    "    'nthread': 4,\n",
    "    # 'enable_categorical': True,\n",
    "\n",
    "}\n",
    "\n",
    "text_pipe = Pipeline(steps=[\n",
    "    # ('vect', CountVectorizer(tokenizer=tokenize, token_pattern=None, dtype=np.int16)),\n",
    "    ('vect', CountVectorizer(tokenizer=tokenize, token_pattern=None)),\n",
    "    # ('tfidf', TfidfTransformer(norm='l2')),\n",
    "    ('tfidf', TfidfTransformer(sublinear_tf=True)),\n",
    "    # ('scale', StandardScaler(with_mean=False)),\n",
    "],\n",
    "    verbose=True)\n",
    "\n",
    "# bin_pipe = Pipeline(steps=[\n",
    "#     ('one-hot', OneHotEncoder()),\n",
    "#     ],\n",
    "#     verbose=True)\n",
    "\n",
    "# preprocessor for NLP\n",
    "preprocessor_text = ColumnTransformer(transformers=[\n",
    "    ('text_vect', text_pipe, 'message_new'),\n",
    "],\n",
    "    verbose_feature_names_out=False,\n",
    "    remainder='drop',\n",
    ")\n",
    "\n",
    "# preprocessor for genre column to convert to binary\n",
    "preprocessor_bin = ColumnTransformer(transformers=[\n",
    "    ('one_hot', OneHotEncoder(), ['genre']),\n",
    "],\n",
    "    # verbose_feature_names_out=False,\n",
    "    remainder='drop',\n",
    "    verbose=True,\n",
    ")\n",
    "\n",
    "preprocessor = Pipeline([\n",
    "    ('feature_union', FeatureUnion([\n",
    "\n",
    "        ('text_processing', preprocessor_text),\n",
    "\n",
    "        ('one_hot', preprocessor_bin),\n",
    "\n",
    "    ],\n",
    "        verbose=True,\n",
    "    ))])\n",
    "\n",
    "full_pipeline = Pipeline([\n",
    "    ('preprocessor', preprocessor),\n",
    "    ('clf', MultiOutputClassifier(xgb.XGBClassifier(**params))),\n",
    "],\n",
    "    memory=cachedir,\n",
    "    verbose=True,\n",
    ")"
   ],
   "metadata": {
    "collapsed": false
   }
  },
  {
   "cell_type": "code",
   "execution_count": null,
   "outputs": [],
   "source": [
    "hyperparameters = {\n",
    "    # 'clf__estimator__max_depth': [10],\n",
    "    # 'clf__estimator__min_child_weight': [1],\n",
    "    # 'clf__estimator__learning_rate': [0.1, 0.01, 0.05],\n",
    "    # 'clf__estimator__alpha': [0.1, 1, 10],\n",
    "    'clf__estimator__gamma': [0.001, 0.1, 0, 1, 10, 100],\n",
    "    # 'clf__estimator__reg_lambda': [0, 1, 10],\n",
    "    # 'clf__estimator__n_estimators': [150,300],\n",
    "    # 'clf__estimator__subsample': [0.8, 1],\n",
    "    # 'clf__estimator__scale_pos_weight': [None, 1, 5],\n",
    "    # 'clf__estimator__tree_method': ['hist'],\n",
    "    # 'clf__estimator__colsample_bytree': [0.5, 0.8, 1],   \n",
    "}\n",
    "\n",
    "# create grid search object\n",
    "gsearch3 = GridSearchCV(full_pipeline,\n",
    "                        param_grid=hyperparameters,\n",
    "                        refit=True,\n",
    "                        return_train_score=True,\n",
    "                        # n_jobs=6,\n",
    "                        scoring='roc_auc',\n",
    "                        cv=MultilabelStratifiedKFold(n_splits=6, shuffle=True, random_state=0),\n",
    "                        verbose=3,\n",
    "                        )\n",
    "\n",
    "gsearch3.fit(X_train_sub, y_train_sub)\n",
    "rmtree(cachedir)"
   ],
   "metadata": {
    "collapsed": false
   }
  },
  {
   "cell_type": "code",
   "execution_count": null,
   "outputs": [],
   "source": [
    "y_pred_val = evaluate(X_val, y_val, gsearch3)"
   ],
   "metadata": {
    "collapsed": false
   }
  },
  {
   "cell_type": "code",
   "execution_count": null,
   "outputs": [],
   "source": [
    "print_results(y_val, y_pred_val, gsearch3)"
   ],
   "metadata": {
    "collapsed": false
   }
  },
  {
   "cell_type": "code",
   "execution_count": null,
   "outputs": [],
   "source": [
    "gsearch3.best_params_['clf__estimator__gamma']"
   ],
   "metadata": {
    "collapsed": false
   }
  },
  {
   "cell_type": "code",
   "execution_count": null,
   "outputs": [],
   "source": [
    "full_pipeline.set_params(clf__estimator__gamma=gsearch3.best_params_['clf__estimator__gamma'])"
   ],
   "metadata": {
    "collapsed": false
   }
  },
  {
   "cell_type": "markdown",
   "source": [
    "## Step 4\n",
    "\n",
    "Use GridSearchCV for hyper parameter training, however use the validation dataset for evaluation to avoid data leakage.\n",
    "\n",
    "Because the eval_set needs to be transformed first, I use PredinedSplit so that the validation dataset is transformed internally."
   ],
   "metadata": {
    "collapsed": false
   }
  },
  {
   "cell_type": "code",
   "execution_count": null,
   "outputs": [],
   "source": [
    "# X_train_transformed = full_pipeline[:-1].transform(X_train)\n",
    "# X_train_transformed.shape"
   ],
   "metadata": {
    "collapsed": false
   }
  },
  {
   "cell_type": "code",
   "execution_count": null,
   "outputs": [],
   "source": [
    "hyperparameters = {\n",
    "    # 'clf__estimator__max_depth': [10],\n",
    "    # 'clf__estimator__min_child_weight': [1],\n",
    "    # 'clf__estimator__learning_rate': [0.1, 0.01, 0.05],\n",
    "    # 'clf__estimator__alpha': [0.1, 1, 10],\n",
    "    'clf__estimator__gamma': [0, 10, 30, 35, 40, 45, 50, 60], \n",
    "    # 'clf__estimator__reg_lambda': [0, 1, 10],\n",
    "    # 'clf__estimator__n_estimators': [150,300],\n",
    "    # 'clf__estimator__subsample': [0.8, 1],\n",
    "    # 'clf__estimator__scale_pos_weight': [None, 1, 5],\n",
    "    # 'clf__estimator__tree_method': ['hist'],\n",
    "    # 'clf__estimator__colsample_bytree': [0.5, 0.8, 1],   \n",
    "}\n",
    "\n",
    "# Build a predefined split with validation set to be used for evaluation\n",
    "\n",
    "# Merge training and validation set back together\n",
    "X_train_val_sub = pd.concat([X_train_sub, X_val])\n",
    "y_train_val_sub = pd.concat([y_train_sub, y_val])\n",
    "\n",
    "# Create a list where train data indices are -1 and validation data indices are 0\n",
    "split_index = [0 if x in X_val.index else -1 for x in X_train_val_sub.index]\n",
    "pds = PredefinedSplit(test_fold=split_index)\n",
    "print('Number of splits: {}'.format(pds.get_n_splits()))\n",
    "\n",
    "# create grid search object\n",
    "gsearch4 = GridSearchCV(full_pipeline,\n",
    "                        param_grid=hyperparameters,\n",
    "                        refit=False,\n",
    "                        return_train_score=True,\n",
    "                        n_jobs=4,\n",
    "                        scoring='roc_auc',\n",
    "                        # cv=MultilabelStratifiedKFold(n_splits=2, shuffle=True, random_state=0),\n",
    "                        cv=pds,       \n",
    "                        verbose=3,\n",
    "                        )\n",
    "\n",
    "# compare results of both training and validation datasets\n",
    "# eval_set = [(X_train_val_sub, y_train_val_sub)]\n",
    "gsearch4.fit(X_train_val_sub, y_train_val_sub)\n",
    "\n",
    "print('\\nBest score: {}'.format(gsearch4.best_score_))\n",
    "print(\"\\nBest Parameters:\", gsearch4.best_params_)\n",
    "\n",
    "print(\"\\nScores: \\n\", gsearch4.cv_results_)\n",
    "keys = []\n",
    "shapes = []\n",
    "examples = []\n",
    "for key in list(cv.cv_results_.keys()):\n",
    "    keys.append(key)\n",
    "    shapes.append(len(cv.cv_results_.get(key)))\n",
    "    examples.append(cv.cv_results_.get(key)[0])\n",
    "\n",
    "df_results_info = pd.DataFrame({'size': shapes, 'example': examples}, index=keys)\n",
    "print(df_results_info)\n",
    "\n",
    "rmtree(cachedir)"
   ],
   "metadata": {
    "collapsed": false
   }
  },
  {
   "cell_type": "code",
   "execution_count": 38,
   "outputs": [],
   "source": [
    "def cv_predefined(X_train, y_train, X_val, y_val, pipeline, scoring='roc_auc', verbose=3):\n",
    "\n",
    "    hyperparameters = {\n",
    "        'clf__estimator__gamma': [0, 10, 30, 35, 40, 45, 50, 60], \n",
    "    }\n",
    "    \n",
    "    # Build a predefined split with validation set to be used for evaluation\n",
    "    \n",
    "    # Merge training and validation set back together\n",
    "    X_train_val = pd.concat([X_train, X_val])\n",
    "    y_train_val = pd.concat([y_train, y_val])\n",
    "    \n",
    "    # Create a list where train data indices are -1 and validation data indices are 0\n",
    "    split_index = [0 if x in X_val.index else -1 for x in X_train_val.index]\n",
    "    pds = PredefinedSplit(test_fold=split_index)\n",
    "    print('Number of training splits: {}'.format(pds.get_n_splits()))\n",
    "    \n",
    "    # create grid search object\n",
    "    gridsearch = GridSearchCV(pipeline,\n",
    "                      param_grid=hyperparameters,\n",
    "                      refit=False,\n",
    "                      return_train_score=True,\n",
    "                      # n_jobs=4,\n",
    "                      scoring=scoring,\n",
    "                      # cv=MultilabelStratifiedKFold(n_splits=2, shuffle=True, random_state=0),\n",
    "                      cv=pds,       \n",
    "                      verbose=verbose,\n",
    "                      error_score='raise'\n",
    "                      )\n",
    "    \n",
    "    # compare results of both training and validation datasets\n",
    "    gridsearch.fit(X_train_val, y_train_val)\n",
    "    \n",
    "    print('\\nBest score: {}'.format(gridsearch.best_score_))\n",
    "    print(\"\\nBest Parameters:\", gridsearch.best_params_)\n",
    "    \n",
    "    rmtree(cachedir)\n",
    "    \n",
    "    return gridsearch"
   ],
   "metadata": {
    "collapsed": false,
    "ExecuteTime": {
     "end_time": "2024-06-05T14:39:27.504032Z",
     "start_time": "2024-06-05T14:39:27.462242Z"
    }
   }
  },
  {
   "cell_type": "code",
   "execution_count": 39,
   "outputs": [
    {
     "name": "stdout",
     "output_type": "stream",
     "text": [
      "Number of training splits: 1\n",
      "Fitting 1 folds for each of 8 candidates, totalling 8 fits\n",
      "[Pipeline] .............. (step 1 of 2) Processing vect, total=   7.0s\n",
      "[Pipeline] ............. (step 2 of 2) Processing tfidf, total=   0.0s\n",
      "[ColumnTransformer] ..... (1 of 1) Processing text_vect, total=   7.0s\n",
      "[FeatureUnion]  (step 1 of 2) Processing text_processing, total=   7.0s\n",
      "[ColumnTransformer] ....... (1 of 1) Processing one_hot, total=   0.0s\n",
      "[FeatureUnion] ....... (step 2 of 2) Processing one_hot, total=   0.0s\n",
      "[Pipeline] ...... (step 1 of 2) Processing preprocessor, total=   7.1s\n",
      "[Pipeline] ............... (step 2 of 2) Processing clf, total= 1.6min\n",
      "[CV] END ............................clf__estimator__gamma=0; total time= 1.7min\n",
      "[Pipeline] ............... (step 2 of 2) Processing clf, total= 1.5min\n",
      "[CV] END ...........................clf__estimator__gamma=10; total time= 1.5min\n",
      "[Pipeline] ............... (step 2 of 2) Processing clf, total= 1.3min\n",
      "[CV] END ...........................clf__estimator__gamma=30; total time= 1.3min\n",
      "[Pipeline] ............... (step 2 of 2) Processing clf, total= 1.2min\n",
      "[CV] END ...........................clf__estimator__gamma=35; total time= 1.3min\n",
      "[Pipeline] ............... (step 2 of 2) Processing clf, total= 1.2min\n",
      "[CV] END ...........................clf__estimator__gamma=40; total time= 1.3min\n",
      "[Pipeline] ............... (step 2 of 2) Processing clf, total= 1.2min\n",
      "[CV] END ...........................clf__estimator__gamma=45; total time= 1.3min\n",
      "[Pipeline] ............... (step 2 of 2) Processing clf, total= 1.2min\n",
      "[CV] END ...........................clf__estimator__gamma=50; total time= 1.3min\n",
      "[Pipeline] ............... (step 2 of 2) Processing clf, total= 1.2min\n",
      "[CV] END ...........................clf__estimator__gamma=60; total time= 1.3min\n",
      "\n",
      "Best score: 0.7867828256234765\n",
      "\n",
      "Best Parameters: {'clf__estimator__gamma': 60}\n"
     ]
    }
   ],
   "source": [
    "gridsearch5 = cv_predefined(X_train_sub,\n",
    "                            y_train_sub,\n",
    "                            X_val,\n",
    "                            y_val,\n",
    "                            full_pipeline,\n",
    "                            scoring='roc_auc',\n",
    "                            verbose=3)"
   ],
   "metadata": {
    "collapsed": false,
    "ExecuteTime": {
     "end_time": "2024-06-05T14:51:28.373451Z",
     "start_time": "2024-06-05T14:39:29.082737Z"
    }
   }
  },
  {
   "cell_type": "code",
   "execution_count": 44,
   "outputs": [
    {
     "data": {
      "text/plain": "                             size  \\\nmean_fit_time                   8   \nstd_fit_time                    8   \nmean_score_time                 8   \nstd_score_time                  8   \nparam_clf__estimator__gamma     8   \nparams                          8   \nsplit0_test_score               8   \nmean_test_score                 8   \nstd_test_score                  8   \nrank_test_score                 8   \nsplit0_train_score              8   \nmean_train_score                8   \nstd_train_score                 8   \n\n                                                                             example  \nmean_fit_time                                                101.5028362274169921875  \nstd_fit_time                                                                     0.0  \nmean_score_time                                              1.428679943084716796875  \nstd_score_time                                                                   0.0  \nparam_clf__estimator__gamma                                                        0  \nparams                                                  {'clf__estimator__gamma': 0}  \nsplit0_test_score               0.78156282183464131918526618392206728458404541015625  \nmean_test_score                 0.78156282183464131918526618392206728458404541015625  \nstd_test_score                                                                   0.0  \nrank_test_score                                                                    7  \nsplit0_train_score           0.95554132365730815035220757636125199496746063232421875  \nmean_train_score             0.95554132365730815035220757636125199496746063232421875  \nstd_train_score                                                                  0.0  ",
      "text/html": "<div>\n<style scoped>\n    .dataframe tbody tr th:only-of-type {\n        vertical-align: middle;\n    }\n\n    .dataframe tbody tr th {\n        vertical-align: top;\n    }\n\n    .dataframe thead th {\n        text-align: right;\n    }\n</style>\n<table border=\"1\" class=\"dataframe\">\n  <thead>\n    <tr style=\"text-align: right;\">\n      <th></th>\n      <th>size</th>\n      <th>example</th>\n    </tr>\n  </thead>\n  <tbody>\n    <tr>\n      <th>mean_fit_time</th>\n      <td>8</td>\n      <td>101.5028362274169921875</td>\n    </tr>\n    <tr>\n      <th>std_fit_time</th>\n      <td>8</td>\n      <td>0.0</td>\n    </tr>\n    <tr>\n      <th>mean_score_time</th>\n      <td>8</td>\n      <td>1.428679943084716796875</td>\n    </tr>\n    <tr>\n      <th>std_score_time</th>\n      <td>8</td>\n      <td>0.0</td>\n    </tr>\n    <tr>\n      <th>param_clf__estimator__gamma</th>\n      <td>8</td>\n      <td>0</td>\n    </tr>\n    <tr>\n      <th>params</th>\n      <td>8</td>\n      <td>{'clf__estimator__gamma': 0}</td>\n    </tr>\n    <tr>\n      <th>split0_test_score</th>\n      <td>8</td>\n      <td>0.78156282183464131918526618392206728458404541015625</td>\n    </tr>\n    <tr>\n      <th>mean_test_score</th>\n      <td>8</td>\n      <td>0.78156282183464131918526618392206728458404541015625</td>\n    </tr>\n    <tr>\n      <th>std_test_score</th>\n      <td>8</td>\n      <td>0.0</td>\n    </tr>\n    <tr>\n      <th>rank_test_score</th>\n      <td>8</td>\n      <td>7</td>\n    </tr>\n    <tr>\n      <th>split0_train_score</th>\n      <td>8</td>\n      <td>0.95554132365730815035220757636125199496746063232421875</td>\n    </tr>\n    <tr>\n      <th>mean_train_score</th>\n      <td>8</td>\n      <td>0.95554132365730815035220757636125199496746063232421875</td>\n    </tr>\n    <tr>\n      <th>std_train_score</th>\n      <td>8</td>\n      <td>0.0</td>\n    </tr>\n  </tbody>\n</table>\n</div>"
     },
     "execution_count": 44,
     "metadata": {},
     "output_type": "execute_result"
    }
   ],
   "source": [
    "keys = []\n",
    "shapes = []\n",
    "examples = []\n",
    "for key in list(gridsearch5.cv_results_.keys()):\n",
    "    keys.append(key)\n",
    "    shapes.append(len(gridsearch5.cv_results_.get(key)))\n",
    "    examples.append(gridsearch5.cv_results_.get(key)[0])\n",
    "\n",
    "df_results_info = pd.DataFrame({'size': shapes, 'example': examples}, index=keys)\n",
    "df_results_info"
   ],
   "metadata": {
    "collapsed": false,
    "ExecuteTime": {
     "end_time": "2024-06-05T14:54:40.889354Z",
     "start_time": "2024-06-05T14:54:40.854105Z"
    }
   }
  },
  {
   "cell_type": "code",
   "execution_count": null,
   "outputs": [],
   "source": [],
   "metadata": {
    "collapsed": false
   }
  },
  {
   "cell_type": "code",
   "execution_count": 46,
   "outputs": [
    {
     "data": {
      "text/plain": "<Figure size 640x480 with 1 Axes>",
      "image/png": "[encoded data removed]"
     },
     "metadata": {},
     "output_type": "display_data"
    }
   ],
   "source": [
    "rows = len(gridsearch5.best_params_)\n",
    "fig, axes = plt.subplots(nrows = rows, ncols = 1, sharex = True, sharey = True)\n",
    "\n",
    "for i, ax in enumerate(fig.axes):\n",
    "\n",
    "    param = next(iter(gridsearch5.best_params_))\n",
    "    gammas = list(gridsearch5.cv_results_.get('param_' + param))\n",
    "    mean_test_scores = list(gridsearch5.cv_results_.get('mean_test_score'))\n",
    "    mean_train_scores = list(gridsearch5.cv_results_.get('mean_train_score'))\n",
    "    \n",
    "    sns.lineplot(x=gammas, y=mean_test_scores, color = 'green', label='Validation', ax=ax)\n",
    "    sns.lineplot(x=gammas, y=mean_train_scores, color=\"grey\", label='Train', ax=ax)\n",
    "    plt.ylabel('Mean Scores')\n",
    "    plt.xlabel(param)\n",
    "    plt.legend()\n",
    "    plt.title('Compare train and validation scores {}'.format(param))\n",
    "    plt.show()"
   ],
   "metadata": {
    "collapsed": false,
    "ExecuteTime": {
     "end_time": "2024-06-05T14:56:10.769118Z",
     "start_time": "2024-06-05T14:56:10.489615Z"
    }
   }
  },
  {
   "cell_type": "code",
   "execution_count": null,
   "outputs": [],
   "source": [
    "# Update model parameters and refit with training datasets\n",
    "full_pipeline.set_params(**gsearch4.best_params_)\n",
    "full_pipeline.fit(X_train_sub, y_train_sub)\n",
    "y_pred_val = evaluate(X_val, y_val, full_pipeline)\n",
    "print_results(y_val, y_pred_val, full_pipeline)"
   ],
   "metadata": {
    "collapsed": false
   }
  },
  {
   "cell_type": "code",
   "execution_count": null,
   "outputs": [],
   "source": [],
   "metadata": {
    "collapsed": false
   }
  },
  {
   "cell_type": "code",
   "execution_count": null,
   "outputs": [],
   "source": [],
   "metadata": {
    "collapsed": false
   }
  },
  {
   "cell_type": "markdown",
   "metadata": {},
   "source": [
    "### 8. Try improving your model further. Here are a few ideas:\n",
    "* try other machine learning algorithms\n",
    "* add other features besides the TF-IDF"
   ]
  },
  {
   "cell_type": "markdown",
   "source": [
    "## Let's try sagemaker"
   ],
   "metadata": {
    "collapsed": false
   }
  },
  {
   "cell_type": "code",
   "execution_count": null,
   "outputs": [],
   "source": [
    "from src.helper import *\n"
   ],
   "metadata": {
    "collapsed": false
   }
  },
  {
   "cell_type": "code",
   "execution_count": null,
   "outputs": [],
   "source": [
    "# preprocessor.set_output(transform=\"pandas\")"
   ],
   "metadata": {
    "collapsed": false
   }
  },
  {
   "cell_type": "code",
   "execution_count": null,
   "outputs": [],
   "source": [
    "X_train_transformed = preprocessor.fit_transform(X_train_sub)\n",
    "\n",
    "X_train_transformed = pd.DataFrame(\n",
    "    X_train_transformed.toarray(),\n",
    "    index=X_train_sub.index)\n",
    "\n",
    "X_train_transformed.shape"
   ],
   "metadata": {
    "collapsed": false
   }
  },
  {
   "cell_type": "code",
   "execution_count": null,
   "outputs": [],
   "source": [
    "X_val_transformed = preprocessor.transform(X_val)\n",
    "# X_val_transformed = X_val_transformed.astype('float32')\n",
    "print(X_val_transformed.shape)\n",
    "\n",
    "X_val_transformed = pd.DataFrame(\n",
    "    X_val_transformed.toarray(),\n",
    "    index=X_val.index)"
   ],
   "metadata": {
    "collapsed": false
   }
  },
  {
   "cell_type": "code",
   "execution_count": null,
   "outputs": [],
   "source": [],
   "metadata": {
    "collapsed": false
   }
  },
  {
   "cell_type": "code",
   "execution_count": null,
   "outputs": [],
   "source": [
    "X_val_transformed2 = X_val_transformed.add_suffix('_col')\n",
    "\n",
    "max_decimals = 0\n",
    "max_col = ''\n",
    "for col in list(X_val_transformed2.columns.values):\n",
    "    # print('Column {}'.format(col))\n",
    "    mycount = X_val_transformed2[col].astype('str').str.split('.', expand=True)[1].apply(lambda x: len(x))  \n",
    "    if mycount.max() > max_decimals:\n",
    "        max_col = col\n",
    "        max_decimals = mycount.max()\n",
    "        \n",
    "print('max decimals is: {}'.format(max_decimals))\n",
    "print('max col is: {}'.format(max_col))"
   ],
   "metadata": {
    "collapsed": false
   }
  },
  {
   "cell_type": "code",
   "execution_count": null,
   "outputs": [],
   "source": [
    "X_val_transformed2['2_col'].dtype"
   ],
   "metadata": {
    "collapsed": false
   }
  },
  {
   "cell_type": "code",
   "execution_count": null,
   "outputs": [],
   "source": [
    "X_val_transformed2 = X_val_transformed2.astype('float32')"
   ],
   "metadata": {
    "collapsed": false
   }
  },
  {
   "cell_type": "code",
   "execution_count": null,
   "outputs": [],
   "source": [
    "X_val_transformed2['2_col'].max()"
   ],
   "metadata": {
    "collapsed": false
   }
  },
  {
   "cell_type": "code",
   "execution_count": null,
   "outputs": [],
   "source": [],
   "metadata": {
    "collapsed": false
   }
  },
  {
   "cell_type": "code",
   "execution_count": null,
   "outputs": [],
   "source": [],
   "metadata": {
    "collapsed": false
   }
  },
  {
   "cell_type": "code",
   "execution_count": null,
   "outputs": [],
   "source": [],
   "metadata": {
    "collapsed": false
   }
  },
  {
   "cell_type": "code",
   "execution_count": null,
   "outputs": [],
   "source": [
    "train_location, df = make_train_csv(X=X_train_transformed, \n",
    "                                    y=y_train_sub.copy(), \n",
    "                                    prefix=prefix, \n",
    "                                    local_path=path_train, \n",
    "                                    filename=filename_train_csv,\n",
    "                                    sagemaker_session=sagemaker_session,\n",
    "                                    bucket=bucket)\n",
    "df.head()"
   ],
   "metadata": {
    "collapsed": false
   }
  },
  {
   "cell_type": "code",
   "execution_count": null,
   "outputs": [],
   "source": [
    "validation_location, df = make_train_csv(X=X_val_transformed, \n",
    "                                         y=y_val, \n",
    "                                         prefix=prefix, \n",
    "                                         local_path=path_validation, \n",
    "                                         filename=filename_validation_csv,\n",
    "                                         sagemaker_session=sagemaker_session,\n",
    "                                         bucket=bucket)                                         \n",
    "df.head()"
   ],
   "metadata": {
    "collapsed": false
   }
  },
  {
   "cell_type": "code",
   "execution_count": null,
   "outputs": [],
   "source": [
    "test_location = make_test_csv(X=X_val_transformed,\n",
    "                              prefix=prefix, \n",
    "                              local_path=path_validation_test, \n",
    "                              filename=filename_test_csv,\n",
    "                              sagemaker_session=sagemaker_session,\n",
    "                              bucket=bucket)\n",
    "\n",
    "test_location"
   ],
   "metadata": {
    "collapsed": false
   }
  },
  {
   "cell_type": "code",
   "execution_count": null,
   "outputs": [],
   "source": [
    "path_train"
   ],
   "metadata": {
    "collapsed": false
   }
  },
  {
   "cell_type": "code",
   "execution_count": null,
   "outputs": [],
   "source": [
    "path_validation"
   ],
   "metadata": {
    "collapsed": false
   }
  },
  {
   "cell_type": "code",
   "execution_count": null,
   "outputs": [],
   "source": [
    "# load training and testing files from locally stored csv files and store in DMatrix format\n",
    "# label_column specifies the index of the column containing the true label\n",
    "dtrain = xgb.DMatrix(os.path.join(path_train, 'train.csv?format=csv&label_column=0'))\n",
    "# dtest = xgb.DMatrix(os.path.join(path_validation, 'validation.csv?format=csv&label_column=0'))"
   ],
   "metadata": {
    "collapsed": false
   }
  },
  {
   "cell_type": "code",
   "execution_count": null,
   "outputs": [],
   "source": [
    "dtrain"
   ],
   "metadata": {
    "collapsed": false
   }
  },
  {
   "cell_type": "code",
   "execution_count": null,
   "outputs": [],
   "source": [
    "# load training and testing files from locally stored csv files and store in DMatrix format\n",
    "# label_column specifies the index of the column containing the true lab\n",
    "dtest = xgb.DMatrix(os.path.join(path_validation, 'validation.csv?format=csv&label_column=0'))"
   ],
   "metadata": {
    "collapsed": false
   }
  },
  {
   "cell_type": "code",
   "execution_count": null,
   "outputs": [],
   "source": [
    "X_val_transformed.info(show_counts=None)"
   ],
   "metadata": {
    "collapsed": false
   }
  },
  {
   "cell_type": "code",
   "execution_count": null,
   "outputs": [],
   "source": [],
   "metadata": {
    "collapsed": false
   }
  },
  {
   "cell_type": "code",
   "execution_count": null,
   "outputs": [],
   "source": [
    "np.any(np.isnan(X_val_transformed))"
   ],
   "metadata": {
    "collapsed": false
   }
  },
  {
   "cell_type": "code",
   "execution_count": null,
   "outputs": [],
   "source": [
    "np.any(np.isinf(X_val_transformed))"
   ],
   "metadata": {
    "collapsed": false
   }
  },
  {
   "cell_type": "code",
   "execution_count": null,
   "outputs": [],
   "source": [
    "np.all(np.isfinite(X_val_transformed))"
   ],
   "metadata": {
    "collapsed": false
   }
  },
  {
   "cell_type": "code",
   "execution_count": null,
   "outputs": [],
   "source": [
    "# Import required libraries \n",
    "\n",
    "# import pandas as pd \n",
    "# import numpy as np \n",
    "# \n",
    "# # Create dataframe using dictionary \n",
    "# data = {'Student ID': [10, 11, 12, 13, 14], \n",
    "# \t\t'Age': [23, 22, 24, 22, 25], \n",
    "# \t\t'Weight': [66, 72, np.inf, 68, -np.inf]} \n",
    "# \n",
    "# df = pd.DataFrame(data) \n",
    "# \n",
    "# display(df) \n",
    "# \n",
    "# # checking for infinity \n",
    "# print() \n",
    "# print(\"checking for infinity\") \n",
    "# \n",
    "# printing the count of infinity values \n",
    "print(\"\\nprinting the count of infinity values\") \n",
    "# \n",
    "count = np.isinf(X_val_transformed).values.sum() \n",
    "print(\"It contains \" + str(count) + \" infinite values\") \n",
    "\n",
    "# printing column name where infinity is present \n",
    "print(\"\\nprinting column name where infinity is present\") \n",
    "col_name = X_val_transformed.columns.to_series()[np.isinf(X_val_transformed).any()] \n",
    "print(col_name) \n",
    "# \n",
    "# # printing row index with infinity \n",
    "# print() \n",
    "# print(\"printing row index with infinity \") \n",
    "# \n",
    "# r = df.index[np.isinf(df).any(1)] \n",
    "# print(r) \n"
   ],
   "metadata": {
    "collapsed": false
   }
  },
  {
   "cell_type": "code",
   "execution_count": null,
   "outputs": [],
   "source": [
    "# X_val_transformed = X_val_transformed.replace([np.inf, -np.inf], np.nan)"
   ],
   "metadata": {
    "collapsed": false
   }
  },
  {
   "cell_type": "code",
   "execution_count": null,
   "outputs": [],
   "source": [
    "xgb.DMatrix(os.path.join(path_validation, 'validation.csv?format=csv&label_column=0'))"
   ],
   "metadata": {
    "collapsed": false
   }
  },
  {
   "cell_type": "code",
   "execution_count": null,
   "outputs": [],
   "source": [
    "params = {\n",
    "    'objective': 'binary:logistic',\n",
    "    'max_depth': 6,\n",
    "    'min_child_weight': 1,\n",
    "    'gamma': 0,\n",
    "    'eta': 0.1,  \n",
    "    'booster': 'gbtree',\n",
    "    # 'n_estimators': 200,\n",
    "    'subsample': 1,\n",
    "    'colsample_bytree': 1,\n",
    "    'tree_method': 'hist',\n",
    "    'scale_pos_weight': 17,\n",
    "    # 'device': 'gpu',\n",
    "    'early_stopping_rounds': 30,\n",
    "    'num_round': 100,\n",
    "    'seed' : random_state,\n",
    "    # 'enable_categorical': True,\n",
    "\n",
    "}\n",
    "\n",
    "# this line automatically looks for the XGBoost image URI and builds an XGBoost container.\n",
    "# specify the repo_version depending on your preference.\n",
    "# xgboost_container = sagemaker.image_uris.retrieve(\"xgboost\", region, \"1.3-1\")\n",
    "xgboost_container = sagemaker.image_uris.retrieve(\"xgboost\", region, \"1.7-1\")\n",
    "\n",
    "# construct a SageMaker estimator that calls the xgboost-container\n",
    "xgb_model = sagemaker.estimator.Estimator(image_uri=xgboost_container, \n",
    "                                          hyperparameters=params,\n",
    "                                          role=sagemaker_role,\n",
    "                                          instance_count=1, \n",
    "                                          instance_type='ml.m5.xlarge', \n",
    "                                          volume_size=20, # GB size\n",
    "                                          output_path=output_path,\n",
    "                                          # enable_categorical=True, \n",
    "                                          # use_label_encoder=False, \n",
    "                                          base_job_name=\"disaster-pipeline\",\n",
    "#                                           rules=rules,\n",
    "                                         )"
   ],
   "metadata": {
    "collapsed": false
   }
  },
  {
   "cell_type": "code",
   "execution_count": null,
   "outputs": [],
   "source": [
    "# Set hyperparameter ranges\n",
    "hyperparameter_ranges = {\n",
    "                        'eta': ContinuousParameter(0.1, 0.2),  \n",
    "                        'min_child_weight': ContinuousParameter(8,20),\n",
    "                        'max_depth': IntegerParameter(1, 3),\n",
    "                        'alpha': ContinuousParameter(300, 400), \n",
    "                        'lambda': ContinuousParameter(8, 40), # L2\n",
    "                        'gamma':ContinuousParameter(10, 40),  \n",
    "                        'max_delta_step': ContinuousParameter(8, 20), \n",
    "                        'colsample_bytree': ContinuousParameter(0.6, 0.8),\n",
    "                        }\n",
    "\n",
    "# set the metric\n",
    "objective_metric_name = 'validation:auc'\n",
    "\n",
    "# Define hyper parameter job\n",
    "xgb_hyperparameter_tuner = HyperparameterTuner(estimator=xgb_model,\n",
    "                                               objective_metric_name=objective_metric_name,\n",
    "                                               objective_type='Maximize',\n",
    "                                               hyperparameter_ranges=hyperparameter_ranges,\n",
    "                                               max_jobs = 12,\n",
    "                                               max_parallel_jobs = 3,\n",
    "                                               early_stopping_type = 'Auto')"
   ],
   "metadata": {
    "collapsed": false
   }
  },
  {
   "cell_type": "code",
   "execution_count": null,
   "outputs": [],
   "source": [
    "# define the data type and paths to the training and validation datasets in S3\n",
    "# content_type = \"application/x-parquet\"\n",
    "content_type = \"text/csv\"\n",
    "train_input = TrainingInput(train_location, content_type=content_type)\n",
    "validation_input = TrainingInput(validation_location, content_type=content_type)\n",
    "\n",
    "# execute the XGBoost training job\n",
    "xgb_model.fit({\"train\": train_input, \"validation\": validation_input}, wait=True)\n",
    "\n",
    "# execute the XGBoost hyper parameter tuning job\n",
    "# xgb_hyperparameter_tuner.fit({\"train\": train_input, \"validation\": validation_input}, wait=True)"
   ],
   "metadata": {
    "collapsed": false
   }
  },
  {
   "cell_type": "code",
   "execution_count": null,
   "outputs": [],
   "source": [
    "xgb_transformer = xgb_model.transformer(instance_count = 1, \n",
    "                                        instance_type = 'ml.m4.xlarge')"
   ],
   "metadata": {
    "collapsed": false
   }
  },
  {
   "cell_type": "code",
   "execution_count": null,
   "outputs": [],
   "source": [
    "xgb_transformer.transform(test_location, content_type=content_type, split_type='Line', wait=True)"
   ],
   "metadata": {
    "collapsed": false
   }
  },
  {
   "cell_type": "code",
   "execution_count": null,
   "outputs": [],
   "source": [
    "# copy the model prediction from S3 to local environment for easier further analysis\n",
    "!aws s3 cp --recursive $xgb_transformer.output_path $path_output"
   ],
   "metadata": {
    "collapsed": false
   }
  },
  {
   "cell_type": "code",
   "execution_count": null,
   "outputs": [],
   "source": [
    "def evaluate(path_output, y):\n",
    "       \n",
    "    # get predictions\n",
    "    y_pred = pd.read_csv(os.path.join(path_output, 'test.csv.out'), header=None) \n",
    "    \n",
    "    # round probability predictions to calculate the accuracy\n",
    "    predictions = [round(num) for num in y_pred.squeeze().values]\n",
    "    print('Accuracy: {}'.format(accuracy_score(y_validate.reset_index(drop=True), predictions)))\n",
    "    \n",
    "    # print confusion metrix\n",
    "    print('\\nConfusion matrix : \\n{}'.format(confusion_matrix(y_validate, predictions)))\n",
    "    \n",
    "    # ROC needs that we pass the probability\n",
    "    # https://stackoverflow.com/questions/62192616/strange-behavior-of-roc-auc-score-roc-auc-auc\n",
    "    print('\\nAUC: {}'.format(roc_auc_score(y, y_pred)))"
   ],
   "metadata": {
    "collapsed": false
   }
  },
  {
   "cell_type": "code",
   "execution_count": null,
   "outputs": [],
   "source": [
    "evaluate(path_output, y_val)"
   ],
   "metadata": {
    "collapsed": false
   }
  },
  {
   "cell_type": "code",
   "execution_count": null,
   "outputs": [],
   "source": [],
   "metadata": {
    "collapsed": false
   }
  },
  {
   "cell_type": "code",
   "execution_count": null,
   "outputs": [],
   "source": [],
   "metadata": {
    "collapsed": false
   }
  },
  {
   "cell_type": "code",
   "execution_count": null,
   "outputs": [],
   "source": [],
   "metadata": {
    "collapsed": false
   }
  },
  {
   "cell_type": "code",
   "execution_count": null,
   "outputs": [],
   "source": [
    "# add dummy variable\n",
    "\n",
    "pipeline = Pipeline([\n",
    "    ('features', FeatureUnion([\n",
    "\n",
    "        ('text_pipeline', Pipeline([\n",
    "            ('vect', CountVectorizer(tokenizer=tokenize, token_pattern=None)),\n",
    "            ('tfidf', TfidfTransformer()),\n",
    "\n",
    "        ])),\n",
    "\n",
    "        ('starting_verb', StartingVerbExtractor2())\n",
    "\n",
    "    ])),\n",
    "\n",
    "    ('clf', MultiOutputClassifier(xgb.XGBClassifier(**params))),\n",
    "],\n",
    "    memory=cachedir,\n",
    "    verbose=True,\n",
    ")"
   ],
   "metadata": {
    "collapsed": false
   }
  },
  {
   "cell_type": "code",
   "execution_count": null,
   "metadata": {},
   "outputs": [],
   "source": [
    "# XGBOOST have a multilabel predictor build, how does that perform ?\n",
    "\n",
    "# def fpreproc(dtrain, dtest, param):\n",
    "#     label = dtrain.get_label()\n",
    "#     ratio = float(np.sum(label == 0)) / np.sum(label == 1)\n",
    "#     param[\"scale_pos_weight\"] = ratio\n",
    "#     return (dtrain, dtest, param)\n",
    "\n",
    "\n",
    "# do cross validation, for each fold\n",
    "# the dtrain, dtest, param will be passed into fpreproc\n",
    "# then the return value of fpreproc will be used to generate\n",
    "# results of that fold\n",
    "# param = {\"max_depth\": 2, \"eta\": 1, \"objective\": \"binary:logistic\"}\n",
    "\n",
    "param = {\n",
    "    'max_depth' : [8, 12, 20], \n",
    "}\n",
    "num_round = 2\n",
    "\n",
    "res = xgb.cv(param,\n",
    "             X_train_sub['message_new'],\n",
    "             num_boost_round=2,\n",
    "             nfold=5,\n",
    "             metrics={\"auc\"},\n",
    "             seed=0,\n",
    "             scoring='f1_micro',\n",
    "             stratified=True,\n",
    "             callbacks=[\n",
    "                xgb.callback.EvaluationMonitor(show_stdv=False),\n",
    "                xgb.callback.EarlyStopping(3),\n",
    "                 ]\n",
    "             )\n"
   ]
  },
  {
   "cell_type": "code",
   "execution_count": null,
   "outputs": [],
   "source": [],
   "metadata": {
    "collapsed": false
   }
  },
  {
   "cell_type": "code",
   "execution_count": null,
   "outputs": [],
   "source": [],
   "metadata": {
    "collapsed": false
   }
  },
  {
   "cell_type": "markdown",
   "metadata": {},
   "source": [
    "### 9. Export your model as a pickle file"
   ]
  },
  {
   "cell_type": "code",
   "execution_count": null,
   "metadata": {},
   "outputs": [],
   "source": [
    "# delete the temporary cache before exiting\n",
    "rmtree(cachedir)"
   ]
  },
  {
   "cell_type": "markdown",
   "metadata": {},
   "source": [
    "### 10. Use this notebook to complete `train_classifier.py`\n",
    "Use the template file attached in the Resources folder to write a script that runs the steps above to create a database and export a model based on a new dataset specified by the user."
   ]
  },
  {
   "cell_type": "markdown",
   "source": [
    "https://cookbook.openai.com/examples/batch_processing"
   ],
   "metadata": {
    "collapsed": false
   }
  },
  {
   "cell_type": "markdown",
   "source": [
    "https://videolectures.net/ecmlpkdd2011_tsoumakas_stratification/?q=stratification%20multi%20label\n",
    "\n",
    "https://datascience.stackexchange.com/questions/45174/how-to-use-sklearn-train-test-split-to-stratify-data-for-multi-label-classificat\n",
    "\n",
    "https://www.kaggle.com/code/tolgadincer/upsampling-multilabel-data-with-mlsmote\n",
    "\n",
    "[Oversampling](https://www.kaggle.com/code/thedrcat/oversampling-for-multi-label-classification)\n",
    "\n",
    "[Creating Balanced Multi-Label Datasets for Model Training and Evaluation](https://medium.com/gumgum-tech/creating-balanced-multi-label-datasets-for-model-training-and-evaluation-16b6a3a2d912)\n",
    "\n",
    "\n",
    "[MLSMOTE for MoA](https://www.kaggle.com/code/yassinealouini/mlsmote-for-moa)\n",
    "\n",
    "[Creating balanced multilabel datasets comparing multiple libraries](https://medium.com/gumgum-tech/creating-balanced-multi-label-datasets-for-model-training-and-evaluation-16b6a3a2d912)\n",
    "\n",
    "[xgboost for LLMS](https://www.kaggle.com/code/vbmokin/llm-20-feature-xgboost-after-deobfuscation/notebook\n",
    "\n",
    "[How to use xgboost multi label](https://xgboost.readthedocs.io/en/latest/python/examples/multioutput_regression.html#sphx-glr-python-examples-multioutput-regression-py)\n",
    "\n",
    "[XGBOOST is all you need](https://www.kaggle.com/code/lucamassaron/easy-peasy-eda-xgboost-is-all-you-need/notebook)\n",
    "\n",
    "https://www.kaggle.com/code/tilii7/hyperparameter-grid-search-with-xgboost\n",
    "\n",
    "[Mastering XGBoost Parameters Tuning](https://www.analyticsvidhya.com/blog/2016/03/complete-guide-parameter-tuning-xgboost-with-codes-python/)\n",
    "\n",
    "[Nested pipelines](https://gist.github.com/amberjrivera/8c5c145516f5a2e894681e16a8095b5c)\n",
    "\n",
    "[Using predefined split during cross validation](https://stackoverflow.com/questions/31948879/using-explicit-predefined-validation-set-for-grid-search-with-sklearn)\n",
    "\n",
    "[Using GridSearchCV to validate against validation dataset](https://stackoverflow.com/questions/46815252/using-scikit-learn-gridsearchcv-for-cross-validation-with-predefinedsplit-susp)\n",
    "\n",
    "[Plotting training vs validation cross validation scores](https://www.kaggle.com/code/willcanniford/predicting-back-pain-with-sklearn-and-gridsearchcv)\n",
    "\n",
    "Sagemaker\n",
    "https://subscription.packtpub.com/book/data/9781801817950/2/ch02lvl1sec05/setting-up-amazon-sagemaker-on-your-local-machine"
   ],
   "metadata": {
    "collapsed": false
   }
  },
  {
   "cell_type": "code",
   "execution_count": null,
   "outputs": [],
   "source": [],
   "metadata": {
    "collapsed": false
   }
  }
 ],
 "metadata": {
  "kernelspec": {
   "name": "conda-env-disaster_pipeline-py",
   "language": "python",
   "display_name": "Python [conda env:disaster_pipeline] *"
  },
  "language_info": {
   "codemirror_mode": {
    "name": "ipython",
    "version": 3
   },
   "file_extension": ".py",
   "mimetype": "text/x-python",
   "name": "python",
   "nbconvert_exporter": "python",
   "pygments_lexer": "ipython3",
   "version": "3.9.19"
  }
 },
 "nbformat": 4,
 "nbformat_minor": 2
}
